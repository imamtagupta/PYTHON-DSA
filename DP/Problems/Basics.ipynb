{
 "cells": [
  {
   "cell_type": "markdown",
   "source": [
    "For all problems:\n",
    "1) Create recursive function (the recurrence relation found calles as OPTIMAL SUBSTRUCTURE)\n",
    "2) if OVERLAPPING SUBPROBLEMS occurred then go for Dynamic programming"
   ],
   "metadata": {
    "collapsed": false
   }
  },
  {
   "cell_type": "code",
   "execution_count": 1,
   "outputs": [],
   "source": [
    "import sys, math"
   ],
   "metadata": {
    "collapsed": false
   }
  },
  {
   "cell_type": "markdown",
   "source": [
    "## FIBONACCI NUMBER"
   ],
   "metadata": {
    "collapsed": false
   }
  },
  {
   "cell_type": "code",
   "execution_count": 24,
   "outputs": [
    {
     "name": "stdout",
     "output_type": "stream",
     "text": [
      "47.2 µs ± 2.34 µs per loop (mean ± std. dev. of 7 runs, 10000 loops each)\n"
     ]
    }
   ],
   "source": [
    "%%timeit\n",
    "\n",
    "def fibRecursive(n):\n",
    "    if n == 0 or n == 1:\n",
    "        return n\n",
    "    return fibRecursive(n - 1) + fibRecursive(n - 2)\n",
    "\n",
    "\n",
    "fibRecursive(10)"
   ],
   "metadata": {
    "collapsed": false
   }
  },
  {
   "cell_type": "code",
   "execution_count": 27,
   "outputs": [
    {
     "name": "stdout",
     "output_type": "stream",
     "text": [
      "9.75 µs ± 1.71 µs per loop (mean ± std. dev. of 7 runs, 100000 loops each)\n"
     ]
    }
   ],
   "source": [
    "%% timeit\n",
    "\n",
    "# DP OF FIBONACCI\n",
    "def fib(n, dp):\n",
    "    if n == 0 or n == 1:\n",
    "        return n\n",
    "    n1 = dp[n - 1] if dp[n - 1] else fib(n - 1, dp)\n",
    "    if not dp[n - 1]:\n",
    "        dp[n - 1] = n1\n",
    "    n2 = dp[n - 2] if dp[n - 2] else fib(n - 2, dp)\n",
    "    if not dp[n - 2]:\n",
    "        dp[n - 2] = n2\n",
    "\n",
    "    return n1 + n2\n",
    "\n",
    "\n",
    "n = 10\n",
    "fib(n, [None for x in range(n + 1)])"
   ],
   "metadata": {
    "collapsed": false
   }
  },
  {
   "cell_type": "code",
   "execution_count": 48,
   "outputs": [
    {
     "name": "stdout",
     "output_type": "stream",
     "text": [
      "4.8 µs ± 214 ns per loop (mean ± std. dev. of 7 runs, 100000 loops each)\n"
     ]
    }
   ],
   "source": [
    "% % timeit\n",
    "\n",
    "# Create the iterative process for DP\n",
    "def fibIterative(n):\n",
    "    dp = [0 for i in range(n + 1)]\n",
    "    dp[1] = 1\n",
    "    for i in range(2, n + 1):\n",
    "        dp[i] = dp[i - 1] + dp[i - 2]\n",
    "    return dp[n]\n",
    "\n",
    "\n",
    "fibIterative(10)"
   ],
   "metadata": {
    "collapsed": false
   }
  },
  {
   "cell_type": "markdown",
   "source": [
    "## MIN STEPS TO 1"
   ],
   "metadata": {
    "collapsed": false
   }
  },
  {
   "cell_type": "markdown",
   "source": [
    "for give number n reduce it to 1,"
   ],
   "metadata": {
    "collapsed": false
   }
  },
  {
   "cell_type": "code",
   "execution_count": 137,
   "outputs": [
    {
     "name": "stdout",
     "output_type": "stream",
     "text": [
      "82.5 µs ± 3.27 µs per loop (mean ± std. dev. of 7 runs, 10000 loops each)\n"
     ]
    }
   ],
   "source": [
    "% % timeit\n",
    "\n",
    "def minStep(n, count=0):\n",
    "    if n == 1:\n",
    "        return count\n",
    "    two = three = 999999\n",
    "    one = minStep(n - 1, count + 1)\n",
    "\n",
    "    if n % 2 == 0:\n",
    "        two = minStep(n // 2, count + 1)\n",
    "    if n % 3 == 0:\n",
    "        three = minStep(n // 3, count + 1)\n",
    "\n",
    "    return min(one, two, three)\n",
    "\n",
    "\n",
    "minStep(20)\n"
   ],
   "metadata": {
    "collapsed": false
   }
  },
  {
   "cell_type": "code",
   "execution_count": 139,
   "outputs": [
    {
     "name": "stdout",
     "output_type": "stream",
     "text": [
      "26.1 µs ± 1.46 µs per loop (mean ± std. dev. of 7 runs, 10000 loops each)\n"
     ]
    }
   ],
   "source": [
    "% % timeit\n",
    "\n",
    "## let's have DP approach for the same\n",
    "def countMinStepsToOne(n, dp):\n",
    "    if n == 1:\n",
    "        return 0\n",
    "    dp[0] = dp[1] = 0\n",
    "    two = three = 999999\n",
    "    if n % 3 == 0:\n",
    "        three = dp[n // 3] if dp[n // 3] != -1 else countMinStepsToOne(n // 3, dp)\n",
    "        if not dp[n // 3]:\n",
    "            dp[n // 3] = three\n",
    "\n",
    "    if n % 2 == 0:\n",
    "        two = dp[n // 2] if dp[n // 2] != -1 else countMinStepsToOne(n // 2, dp)\n",
    "        if not dp[n // 2]:\n",
    "            dp[n // 2] = two\n",
    "\n",
    "    one = dp[n - 1] if dp[n - 1] != -1 else countMinStepsToOne(n - 1, dp)\n",
    "    if not dp[n - 1]:\n",
    "        dp[n - 1] = one\n",
    "\n",
    "    return 1 + min(one, two, three)\n",
    "\n",
    "\n",
    "n = 10\n",
    "countMinStepsToOne(n, [-1 for x in range(n + 1)])"
   ],
   "metadata": {
    "collapsed": false
   }
  },
  {
   "cell_type": "code",
   "execution_count": 166,
   "outputs": [
    {
     "data": {
      "text/plain": "5"
     },
     "execution_count": 166,
     "metadata": {},
     "output_type": "execute_result"
    }
   ],
   "source": [
    "## Iterative approach\n",
    "\n",
    "## let's have DP approach for the same\n",
    "def countMinStepsToOne(n):\n",
    "    if n == 1:\n",
    "        return 0\n",
    "    dp = [0] * (n+1)\n",
    "\n",
    "    for i in range(n+1):\n",
    "        one = two = three = 999999\n",
    "        if i % 3 == 0:\n",
    "            three = dp[i//3]\n",
    "        if i % 2 == 0:\n",
    "            two = dp[i//2]\n",
    "        one = dp[i - 1]\n",
    "        dp[i] = 1+ min(one, two, three)\n",
    "    return dp[n]\n",
    "\n",
    "\n",
    "n = 10\n",
    "countMinStepsToOne(n)\n"
   ],
   "metadata": {
    "collapsed": false
   }
  },
  {
   "cell_type": "markdown",
   "source": [
    "## Minimum Number Of Squares"
   ],
   "metadata": {
    "collapsed": false
   }
  },
  {
   "cell_type": "code",
   "execution_count": 209,
   "outputs": [],
   "source": [
    "import math,sys"
   ],
   "metadata": {
    "collapsed": false
   }
  },
  {
   "cell_type": "code",
   "execution_count": 237,
   "outputs": [
    {
     "name": "stdout",
     "output_type": "stream",
     "text": [
      "2.97 s ± 66.5 ms per loop (mean ± std. dev. of 7 runs, 1 loop each)\n"
     ]
    }
   ],
   "source": [
    "%%timeit\n",
    "def minSquare(n):\n",
    "    if n==0:\n",
    "        return 0\n",
    "\n",
    "    ans = sys.maxsize\n",
    "    root = int(math.sqrt(n))\n",
    "    for i in range(1,root+1):\n",
    "        currAns = 1+ minSquare(n - (i**2))\n",
    "        ans = min(ans, currAns)\n",
    "    return ans\n",
    "\n",
    "\n",
    "minSquare(41)"
   ],
   "metadata": {
    "collapsed": false
   }
  },
  {
   "cell_type": "code",
   "execution_count": 256,
   "outputs": [
    {
     "name": "stdout",
     "output_type": "stream",
     "text": [
      "121 µs ± 1.54 µs per loop (mean ± std. dev. of 7 runs, 10000 loops each)\n"
     ]
    }
   ],
   "source": [
    "%%timeit\n",
    "\n",
    "## Memoization\n",
    "\n",
    "def minSquare(n, dp):\n",
    "    if n==0:\n",
    "        return 0\n",
    "\n",
    "    ans = sys.maxsize\n",
    "    root = int(math.sqrt(n))\n",
    "    for i in range(1,root+1):\n",
    "        iterable = n - (i**2)\n",
    "        if dp[iterable]:\n",
    "            currAns = dp[iterable]\n",
    "        else:\n",
    "            currAns = 1+ minSquare(iterable, dp)\n",
    "            dp[iterable] = currAns\n",
    "        ans = min(ans, currAns)\n",
    "    return ans\n",
    "\n",
    "\n",
    "n = 41\n",
    "dp = [0 for x in range(n)]\n",
    "minSquare(n, dp)\n"
   ],
   "metadata": {
    "collapsed": false
   }
  },
  {
   "cell_type": "code",
   "execution_count": 257,
   "outputs": [
    {
     "name": "stdout",
     "output_type": "stream",
     "text": [
      "90.5 µs ± 1.15 µs per loop (mean ± std. dev. of 7 runs, 10000 loops each)\n"
     ]
    }
   ],
   "source": [
    "%%timeit\n",
    "\n",
    "## iterative of the same\n",
    "def minSquareIterative(n):\n",
    "    dp = [1] * (n+1)\n",
    "    dp[0] = 0\n",
    "    for i in range(1,n+1):\n",
    "        ans = sys.maxsize\n",
    "        root = int(math.sqrt(i))\n",
    "        for j in range(root+1):\n",
    "            currAns = 1 + dp[i-(j*j)]\n",
    "            ans = min(currAns, ans)\n",
    "        dp[i] = ans\n",
    "    return dp[n]\n",
    "\n",
    "minSquareIterative(41)"
   ],
   "metadata": {
    "collapsed": false
   }
  },
  {
   "cell_type": "markdown",
   "source": [
    "## LONGEST INCREASING SUBSEQUENCE"
   ],
   "metadata": {
    "collapsed": false
   }
  },
  {
   "cell_type": "code",
   "execution_count": 37,
   "outputs": [
    {
     "name": "stdout",
     "output_type": "stream",
     "text": [
      "42.6 µs ± 5.3 µs per loop (mean ± std. dev. of 7 runs, 10000 loops each)\n"
     ]
    }
   ],
   "source": [
    "%%timeit\n",
    "import sys\n",
    "def lis(arr, i, n):\n",
    "    if i==n:\n",
    "        return 0, 0\n",
    "    # let's get the max ⬆ sequence using current element\n",
    "    # including 'i' means you have to give the overall max from i to n\n",
    "    # first time while initializing I've added as 1 because first element it's 1\n",
    "    includingMax = 1\n",
    "    for j in range(i+1, n):\n",
    "        if arr[i] <= arr[j]:\n",
    "            count = 1 + lis(arr, j, n)[0]\n",
    "            includingMax = max(count, includingMax)\n",
    "    excludingMax = lis(arr, i+1, n)[1]\n",
    "    # once both includingSum and excludingSum you get it return the overall sum\n",
    "    overallMax = max(includingMax, excludingMax)\n",
    "    return includingMax, overallMax\n",
    "\n",
    "\n",
    "ls = [6, 3, 1, 2, 0, 7, 9]\n",
    "lis(ls,0, 7)[1]\n"
   ],
   "metadata": {
    "collapsed": false
   }
  },
  {
   "cell_type": "code",
   "execution_count": 38,
   "outputs": [
    {
     "name": "stdout",
     "output_type": "stream",
     "text": [
      "44.8 µs ± 558 ns per loop (mean ± std. dev. of 7 runs, 10000 loops each)\n"
     ]
    }
   ],
   "source": [
    "%%timeit\n",
    "# let's try memoization for the same\n",
    "\n",
    "def lis(arr, i, n):\n",
    "    if i==n:\n",
    "        return 0, 0\n",
    "    # let's get the max ⬆ sequence using current element\n",
    "    # including 'i' means you have to give the overall max from i to n\n",
    "    # first time while initializing I've added as 1 because first element it's 1\n",
    "    includingMax = 1\n",
    "    for j in range(i+1, n):\n",
    "        if arr[i] <= arr[j]:\n",
    "            if dp[j]:\n",
    "                count = 1 + dp[j][0]\n",
    "            else:\n",
    "                count = 1 + lis(arr, j, n)[0]\n",
    "            includingMax = max(count, includingMax)\n",
    "    excludingMax = dp[i+1] if dp[i+1] else lis(arr, i+1, n)\n",
    "    # once both includingSum and excludingSum you get it return the overall sum\n",
    "    overallMax = max(includingMax, excludingMax[1])\n",
    "    return includingMax, overallMax\n",
    "\n",
    "\n",
    "n = 7\n",
    "dp = [0]*(n+1)\n",
    "arr = [6, 3, 1, 2, 0, 7, 9]\n",
    "lis(arr, 0, n)[1]"
   ],
   "metadata": {
    "collapsed": false
   }
  },
  {
   "cell_type": "code",
   "execution_count": 45,
   "outputs": [
    {
     "name": "stdout",
     "output_type": "stream",
     "text": [
      "7.93 µs ± 925 ns per loop (mean ± std. dev. of 7 runs, 100000 loops each)\n"
     ]
    }
   ],
   "source": [
    "%%timeit\n",
    "# final iterative process\n",
    "def lis(arr,n):\n",
    "    dp = [0]*n\n",
    "    dp[0] = 1\n",
    "    overallMax = 1\n",
    "    for i in range(1,n):\n",
    "        includingMax = 1\n",
    "        for j in range(i-1, -1, -1):\n",
    "            if arr[i] < arr[j]:\n",
    "                count = 1+ dp[j]\n",
    "                includingMax = max(count, includingMax)\n",
    "        dp[i] = includingMax\n",
    "\n",
    "        if includingMax > overallMax:\n",
    "            overallMax = includingMax\n",
    "    return overallMax\n",
    "\n",
    "ls = [6, 3, 1, 2, 0, 7, 9]\n",
    "lis(ls,7)"
   ],
   "metadata": {
    "collapsed": false
   }
  },
  {
   "cell_type": "markdown",
   "source": [
    "## MIN COST PATH PROBLEM"
   ],
   "metadata": {
    "collapsed": false
   }
  },
  {
   "cell_type": "code",
   "execution_count": 126,
   "outputs": [
    {
     "data": {
      "text/plain": "18"
     },
     "execution_count": 126,
     "metadata": {},
     "output_type": "execute_result"
    }
   ],
   "source": [
    "\n",
    "MAX_VALUE = 2147483647\n",
    "\n",
    "####### RECURSIVE APPROACH\n",
    "\n",
    "def minCostPath(input, rows, cols, i=0, j=0) :\n",
    "    if i == rows-1 and j == cols-1:\n",
    "        return input[i][j]\n",
    "    if i==rows-1:\n",
    "        minCost = input[i][j] + minCostPath(input, rows, cols, i, j+1)\n",
    "    elif j == cols-1:\n",
    "        minCost = input[i][j] + minCostPath(input, rows, cols, i+1, j)\n",
    "    else:\n",
    "        minCost = input[i][j] + min(\n",
    "            minCostPath(input, rows, cols, i+1, j),\n",
    "            minCostPath(input, rows, cols, i+1, j+1),\n",
    "            minCostPath(input, rows, cols, i, j+1)\n",
    "        )\n",
    "    return minCost\n",
    "\n",
    "######### TOP-DOWN APPROACH\n",
    "\n",
    "def minCostPath(arr,rows, cols):\n",
    "    dp = [[MAX_VALUE]*(cols+1) for row in range(rows+1)]\n",
    "\n",
    "    for i in range(rows):\n",
    "        for j in range(cols):\n",
    "            if i==0 and j==0:\n",
    "                dp[i][j] = arr[i][j]\n",
    "            else:\n",
    "                dp[i][j] = arr[i][j] + min(dp[i-1][j], dp[i][j-1], dp[i-1][j-1])\n",
    "    return dp[rows-1][cols-1]\n",
    "\n",
    "########### BOTTOM-UP APPROACH\n",
    "\n",
    "def minCostPath(input, rows, cols) :\n",
    "    dp = [[MAX_VALUE]*(cols+1) for row in range(rows+1)]\n",
    "\n",
    "    for i in range(rows-1, -1, -1):\n",
    "        for j in range(cols-1, -1, -1):\n",
    "            if i == rows-1 and j == cols-1:\n",
    "                dp[i][j] = input[i][j]\n",
    "            else:\n",
    "                dp[i][j] = input[i][j] + min(dp[i+1][j], dp[i][j+1], dp[i+1][j+1])\n",
    "\n",
    "\n",
    "    return dp[0][0]\n",
    "\n",
    "\n",
    "#main\n",
    "minCost = 2147483647\n",
    "# minCostPath([[2, 3],[4,5]], 2,2)\n",
    "minCostPath([[5, 7, 2, 4], [1, 8, 1, 3], [6, 2, 9, 5]], 3, 4)"
   ],
   "metadata": {
    "collapsed": false
   }
  },
  {
   "cell_type": "markdown",
   "source": [
    ":: Formatted Recursion a bit ::"
   ],
   "metadata": {
    "collapsed": false
   }
  },
  {
   "cell_type": "code",
   "execution_count": 127,
   "outputs": [
    {
     "name": "stdout",
     "output_type": "stream",
     "text": [
      "45.7 µs ± 286 ns per loop (mean ± std. dev. of 7 runs, 10000 loops each)\n"
     ]
    }
   ],
   "source": [
    "%%timeit\n",
    "def minCostPath(input, rows, cols, i=0, j=0) :\n",
    "\n",
    "    if i == rows-1 and j == cols-1:\n",
    "        return input[i][j]\n",
    "\n",
    "    if i >= rows or j >= cols:\n",
    "        return sys.maxsize\n",
    "\n",
    "    ans1 = minCostPath(input, rows, cols, i+1, j)\n",
    "    ans2 = minCostPath(input, rows, cols, i+1, j+1)\n",
    "    ans3 = minCostPath(input, rows, cols, i, j+1)\n",
    "    minCost = input[i][j] + min(ans1, ans2, ans3)\n",
    "    return minCost\n",
    "\n",
    "\n",
    "#main\n",
    "minCost = 2147483647\n",
    "minCostPath([[5, 7, 2, 4], [1, 8, 1, 3], [6, 2, 9, 5]], 3, 4)"
   ],
   "metadata": {
    "collapsed": false
   }
  },
  {
   "cell_type": "markdown",
   "source": [],
   "metadata": {
    "collapsed": false
   }
  },
  {
   "cell_type": "markdown",
   "source": [
    "## LONGEST COMMON SUBSEQUENCE"
   ],
   "metadata": {
    "collapsed": false
   }
  },
  {
   "cell_type": "code",
   "execution_count": 130,
   "outputs": [
    {
     "name": "stdout",
     "output_type": "stream",
     "text": [
      "118 µs ± 28.6 µs per loop (mean ± std. dev. of 7 runs, 10000 loops each)\n"
     ]
    }
   ],
   "source": [
    "%%timeit\n",
    "\n",
    "## RECURSION\n",
    "\n",
    "def longestCommonSubsequence(s1, s2, i=0, j=0):\n",
    "    if i>=len(s1) or j>=len(s2):\n",
    "        return 0\n",
    "    if s1[i] == s2[j]:\n",
    "        return 1+longestCommonSubsequence(s1, s2, i+1, j+1)\n",
    "    return max(longestCommonSubsequence(s1, s2, i, j+1), longestCommonSubsequence(s1, s2, i+1, j))\n",
    "\n",
    "\n",
    "longestCommonSubsequence(\"adebc\", \"dcadb\")"
   ],
   "metadata": {
    "collapsed": false
   }
  },
  {
   "cell_type": "code",
   "execution_count": 33,
   "outputs": [
    {
     "name": "stdout",
     "output_type": "stream",
     "text": [
      "45 µs ± 1.57 µs per loop (mean ± std. dev. of 7 runs, 10000 loops each)\n"
     ]
    }
   ],
   "source": [
    "%%timeit\n",
    "## MEMOIZATION\n",
    "\n",
    "def longestCommonSubsequence(s1, s2, i=0, j=0):\n",
    "    if i==len(s1) or j==len(s2):\n",
    "        return 0\n",
    "    if s1[i] == s2[j]:\n",
    "        if not dp[i+1][j+1]:\n",
    "            dp[i+1][j+1] = longestCommonSubsequence(s1, s2, i+1, j+1)\n",
    "        return 1 + dp[i+1][j+1]\n",
    "    if not dp[i+1][j]:\n",
    "        dp[i+1][j] = longestCommonSubsequence(s1, s2, i+1, j)\n",
    "    if not dp[i][j+1]:\n",
    "        dp[i][j+1] = longestCommonSubsequence(s1, s2, i, j+1)\n",
    "\n",
    "    return max(dp[i+1][j], dp[i][j+1])\n",
    "\n",
    "\n",
    "s1 = \"adebc\"\n",
    "s2 = \"dcadb\"\n",
    "m, n = len(s1), len(s2)\n",
    "dp=[[0] * (m + 1) for i in range((n + 1))]\n",
    "longestCommonSubsequence(s1, s2)"
   ],
   "metadata": {
    "collapsed": false
   }
  },
  {
   "cell_type": "code",
   "execution_count": 132,
   "outputs": [
    {
     "name": "stdout",
     "output_type": "stream",
     "text": [
      "38.3 µs ± 3.91 µs per loop (mean ± std. dev. of 7 runs, 10000 loops each)\n"
     ]
    }
   ],
   "source": [
    "%%timeit\n",
    "## BOTTOM UP APPROACH\n",
    "\n",
    "def lcs(s, t) :\n",
    "    n = len(s)\n",
    "    m = len(t)\n",
    "    dp = [[0] * (m+1) for x in range(n+1)]\n",
    "    for i in range(n-1, -1, -1):\n",
    "        for j in range(m-1, -1, -1):\n",
    "            if s[i] == t[j]:\n",
    "                dp[i][j] = 1 + dp[i+1][j+1]\n",
    "            else:\n",
    "                dp[i][j] = max(dp[i+1][j], dp[i][j+1])\n",
    "    return dp[0][0]\n",
    "\n",
    "\n",
    "s, t = \"adebc\", \"dcadb\"\n",
    "s, t = \"abcdb\", \"bcacdhb\"\n",
    "lcs(s, t)\n"
   ],
   "metadata": {
    "collapsed": false
   }
  },
  {
   "cell_type": "code",
   "execution_count": 134,
   "outputs": [
    {
     "name": "stdout",
     "output_type": "stream",
     "text": [
      "40.8 µs ± 4.72 µs per loop (mean ± std. dev. of 7 runs, 10000 loops each)\n"
     ]
    }
   ],
   "source": [
    "%%timeit\n",
    "## TOP DOWS APPROACH\n",
    "\n",
    "def lcs(s, t) :\n",
    "    n = len(s)\n",
    "    m = len(t)\n",
    "    dp =  [[0] * (m + 1) for i in range((n + 1))]#[[0] * (m+1)]*(n+1)\n",
    "    for i in range(1, n+1):\n",
    "        for j in range(1, m+1):\n",
    "            if s[n-i] == t[m-j]:\n",
    "                dp[i][j] = 1 + dp[i-1][j-1]\n",
    "            else:\n",
    "                dp[i][j] = max(dp[i-1][j], dp[i][j-1])\n",
    "\n",
    "    return dp[n][m]\n",
    "\n",
    "\n",
    "s, t = \"abcdb\", \"bcacdhb\"\n",
    "lcs(s, t)\n"
   ],
   "metadata": {
    "collapsed": false
   }
  },
  {
   "cell_type": "code",
   "execution_count": null,
   "outputs": [],
   "source": [
    "#########  RECURSIVE  #############\n",
    "\n",
    "def lcs(s1, s2, i=0, j=0):\n",
    "    if i >= len(s1) or j>= len(s2):\n",
    "        return 0\n",
    "    if s1[i] == s2[j]:\n",
    "        return 1+lcs(s1, s2, i+1, j+1)\n",
    "    return max(lcs(s1, s2, i+1, j), lcs(s1, s2, i, j+1))\n",
    "\n",
    "#########  TOP DOWN APPROACH  #############\n",
    "\n",
    "def lcs(s1, s2):\n",
    "    n = len(s1)\n",
    "    m = len(s2)\n",
    "    dp = [[0]* (m+1) for x in range(n+1)]\n",
    "    for i in range(1, n+1):\n",
    "        for j in range(1, m+1):\n",
    "            if s1[i-1] == s2[j-1]:\n",
    "                dp[i][j] = 1 + dp[i-1][j-1]\n",
    "            else:\n",
    "                dp[i][j] = max(dp[i-1][j] , dp[i][j-1])\n",
    "    return dp[n][m]\n",
    "\n",
    "#########  BOTTOM UP APPROACH  #############\n",
    "\n",
    "def lcs(s, t) :\n",
    "    n = len(s)\n",
    "    m = len(t)\n",
    "    dp = [[0] * (m+1) for x in range(n+1)]\n",
    "    for i in range(n-1, -1, -1):\n",
    "        for j in range(m-1, -1, -1):\n",
    "            if s[i] == t[j]:\n",
    "                dp[i][j] = 1 + dp[i+1][j+1]\n",
    "            else:\n",
    "                dp[i][j] = max(dp[i+1][j], dp[i][j+1])\n",
    "    return dp[0][0]\n",
    "\n"
   ],
   "metadata": {
    "collapsed": false
   }
  },
  {
   "cell_type": "markdown",
   "source": [
    "## 0 1 KNAPSACK"
   ],
   "metadata": {
    "collapsed": false
   }
  },
  {
   "cell_type": "code",
   "execution_count": 46,
   "outputs": [
    {
     "data": {
      "text/plain": "500"
     },
     "execution_count": 46,
     "metadata": {},
     "output_type": "execute_result"
    }
   ],
   "source": [
    "def knapsack(wt, val, n, W, i=0):\n",
    "    if i == n:\n",
    "        return 0\n",
    "\n",
    "    if wt[i] > W:\n",
    "        return knapsack(wt, val, n, W, i+1)\n",
    "    # including i th weight and adding its value to return\n",
    "    ans1 = val[i] + knapsack(wt, val, n, W-wt[i], i+1)\n",
    "    # excluding i th weight\n",
    "    ans2 = knapsack(wt, val, n, W, i+1)\n",
    "    return max(ans1, ans2)\n",
    "\n",
    "W = 50\n",
    "val = [200, 300, 100]\n",
    "wt = [20, 25, 30]\n",
    "n = len(val)\n",
    "knapsack(wt, val, n, W)"
   ],
   "metadata": {
    "collapsed": false
   }
  },
  {
   "cell_type": "markdown",
   "source": [
    "## MATRIX CHAIN MULTIPLICATION"
   ],
   "metadata": {
    "collapsed": false
   }
  },
  {
   "cell_type": "code",
   "execution_count": 46,
   "outputs": [],
   "source": [
    "def mcm(p,n,i,j):\n",
    "\n",
    "    minVal = sys.maxsize\n",
    "\n",
    "    if i == j:\n",
    "        return 0\n",
    "\n",
    "\n",
    "    for k in range(i,j):\n",
    "        ans1 = mcm(p,n,  i, k)\n",
    "        ans2 = mcm(p,n, k+1, j)\n",
    "\n",
    "        mCost = p[i-1] * p[k] * p[j]\n",
    "        currVal = ans1 + ans2 + mCost\n",
    "        minVal = min(minVal, currVal)\n",
    "    return minVal\n"
   ],
   "metadata": {
    "collapsed": false
   }
  },
  {
   "cell_type": "code",
   "execution_count": 48,
   "outputs": [
    {
     "name": "stdout",
     "output_type": "stream",
     "text": [
      "918\n"
     ]
    }
   ],
   "source": [
    "##  MEMOIZATION\n",
    "\n",
    "\n",
    "import sys\n",
    "def mcm(p,n,i,j,dp):\n",
    "\n",
    "    minVal = sys.maxsize\n",
    "\n",
    "    if i == j:\n",
    "        return 0\n",
    "\n",
    "\n",
    "    for k in range(i,j):\n",
    "        if dp[i][k] == -1:\n",
    "            ans1 = mcm(p,n,  i, k,dp)\n",
    "            dp[i][k] = ans1\n",
    "        else:\n",
    "            ans1 = dp[i][k]\n",
    "\n",
    "        if dp[k+1][j] == -1:\n",
    "            ans2 = mcm(p,n, k+1, j,dp)\n",
    "            dp[k+1][j] = ans2\n",
    "        else:\n",
    "            ans2 = dp[k+1][j]\n",
    "\n",
    "        mCost = p[i-1] * p[k] * p[j]\n",
    "        currVal = ans1 + ans2 + mCost\n",
    "        minVal = min(minVal, currVal)\n",
    "    return minVal\n",
    "\n",
    "\n",
    "p=[2, 4, 6, 12, 11, 21]\n",
    "n = len(p)-1\n",
    "dp = [[-1 ] * (n+1) for x in range(n+1)]\n",
    "print(mcm(p,n,1,n,dp))\n",
    "\n",
    "\n",
    "# 5\n",
    "# 2 4 6 12 11 21"
   ],
   "metadata": {
    "collapsed": false
   }
  },
  {
   "cell_type": "code",
   "execution_count": null,
   "outputs": [],
   "source": [],
   "metadata": {
    "collapsed": false
   }
  }
 ],
 "metadata": {
  "kernelspec": {
   "display_name": "Python 3",
   "language": "python",
   "name": "python3"
  },
  "language_info": {
   "codemirror_mode": {
    "name": "ipython",
    "version": 2
   },
   "file_extension": ".py",
   "mimetype": "text/x-python",
   "name": "python",
   "nbconvert_exporter": "python",
   "pygments_lexer": "ipython2",
   "version": "2.7.6"
  }
 },
 "nbformat": 4,
 "nbformat_minor": 0
}
