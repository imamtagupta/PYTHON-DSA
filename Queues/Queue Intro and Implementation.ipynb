{
 "cells": [
  {
   "cell_type": "code",
   "execution_count": 9,
   "metadata": {},
   "outputs": [
    {
     "name": "stdout",
     "output_type": "stream",
     "text": [
      "1\n",
      "2\n",
      "3\n",
      "4\n"
     ]
    }
   ],
   "source": [
    "from queue import Queue\n",
    "\n",
    "q1 = Queue()\n",
    "q1.put(1)\n",
    "q1.put(2)\n",
    "q1.put(3)\n",
    "q1.put(4)\n",
    "\n",
    "\n",
    "def displayQueue(q):\n",
    "    while not q.empty():\n",
    "        print(q.get())\n",
    "\n",
    "\n",
    "displayQueue(q1)"
   ]
  },
  {
   "cell_type": "markdown",
   "metadata": {},
   "source": [
    "### 1) Reverse queue-1"
   ]
  },
  {
   "cell_type": "code",
   "execution_count": 10,
   "metadata": {},
   "outputs": [
    {
     "name": "stdout",
     "output_type": "stream",
     "text": [
      "4\n",
      "3\n",
      "2\n",
      "1\n"
     ]
    }
   ],
   "source": [
    "def reverseQueue(q):\n",
    "    if q.empty():\n",
    "        return\n",
    "    data = q.get()\n",
    "    reverseQueue(q)\n",
    "    print(data)\n",
    "\n",
    "\n",
    "q1 = Queue()\n",
    "q1.put(1)\n",
    "q1.put(2)\n",
    "q1.put(3)\n",
    "q1.put(4)\n",
    "reverseQueue(q1)"
   ]
  },
  {
   "cell_type": "markdown",
   "metadata": {},
   "source": [
    "### 2) Inplace Reverse queue-1"
   ]
  },
  {
   "cell_type": "code",
   "execution_count": null,
   "metadata": {},
   "outputs": [],
   "source": [
    "def reverse(q):\n",
    "    if not q:\n",
    "        return\n",
    "    data = q.get()\n",
    "    reverse(q)\n",
    "    q.put(data)\n",
    "\n",
    "\n",
    "q1 = Queue()\n",
    "q1.put(1)\n",
    "q1.put(2)\n",
    "q1.put(3)\n",
    "q1.put(4)\n",
    "reverse(q1)"
   ]
  },
  {
   "cell_type": "markdown",
   "metadata": {},
   "source": [
    "### 3) Reverse queue-2 (Using stack)"
   ]
  },
  {
   "cell_type": "code",
   "execution_count": 2,
   "metadata": {},
   "outputs": [
    {
     "name": "stdout",
     "output_type": "stream",
     "text": [
      "3\n",
      "2\n",
      "1\n"
     ]
    }
   ],
   "source": [
    "def reverseQueue1(q):\n",
    "    stck = []\n",
    "    while not q.empty():\n",
    "        stck.append(q.get())\n",
    "\n",
    "    while stck:\n",
    "        print(stck.pop())\n",
    "\n",
    "\n",
    "q1 = Queue()\n",
    "q1.put(1)\n",
    "q1.put(2)\n",
    "q1.put(3)\n",
    "reverseQueue1(q1)"
   ]
  },
  {
   "cell_type": "markdown",
   "metadata": {},
   "source": [
    "### 4) Reverse specific elements in queue"
   ]
  },
  {
   "cell_type": "code",
   "execution_count": 4,
   "metadata": {},
   "outputs": [
    {
     "name": "stdout",
     "output_type": "stream",
     "text": [
      "2\n",
      "1\n",
      "3\n",
      "4\n"
     ]
    }
   ],
   "source": [
    "def reverseWithLimit(q, limit, n):\n",
    "    def reverse(q, limit):\n",
    "        if limit == 0:\n",
    "            return\n",
    "        temp = q.get()\n",
    "        reverse(q, limit - 1)\n",
    "        q.put(temp)\n",
    "\n",
    "    reverse(q, limit)\n",
    "    while n - limit > 0:\n",
    "        data = q.get()\n",
    "        q.put(data)\n",
    "        n -= 1\n",
    "\n",
    "    displayQueue(q)\n",
    "\n",
    "\n",
    "q1 = Queue()\n",
    "q1.put(1)\n",
    "q1.put(2)\n",
    "q1.put(3)\n",
    "q1.put(4)\n",
    "reverseWithLimit(q1, 2, 4)"
   ]
  },
  {
   "cell_type": "markdown",
   "metadata": {},
   "source": [
    "## Implemented a class for queue using array"
   ]
  },
  {
   "cell_type": "code",
   "execution_count": 5,
   "metadata": {},
   "outputs": [],
   "source": [
    "class QueueUsingArray:\n",
    "    def __init__(self):\n",
    "        self.__arr = []\n",
    "        self.__front = 0\n",
    "        self.__size = 0\n",
    "\n",
    "    def enqueue(self, value):\n",
    "        self.__arr.append(value)\n",
    "        self.__size += 1\n",
    "\n",
    "    def dequeue(self):\n",
    "        if not self.isEmpty():\n",
    "            element = self.__arr[self.__front]\n",
    "            self.__size -= 1\n",
    "            self.__front += 1\n",
    "            return element\n",
    "\n",
    "    def front(self):\n",
    "        if self.__size > 0:\n",
    "            return self.__arr[self.__front]\n",
    "\n",
    "    def size(self):\n",
    "        return self.__size\n",
    "\n",
    "    def isEmpty(self):\n",
    "        return self.__size == 0\n",
    "\n"
   ]
  },
  {
   "cell_type": "code",
   "execution_count": 6,
   "metadata": {},
   "outputs": [
    {
     "name": "stdout",
     "output_type": "stream",
     "text": [
      "empty: True\n",
      "empty: False\n",
      "front: 1\n",
      "size: 5\n",
      "front: 2\n",
      "front: 3\n"
     ]
    }
   ],
   "source": [
    "queue1 = QueueUsingArray()\n",
    "\n",
    "print(f'empty: {queue1.isEmpty()}')\n",
    "queue1.enqueue(1)\n",
    "queue1.enqueue(2)\n",
    "queue1.enqueue(3)\n",
    "queue1.enqueue(4)\n",
    "queue1.enqueue(5)\n",
    "\n",
    "print(f'empty: {queue1.isEmpty()}')\n",
    "print(f'front: {queue1.front()}')\n",
    "print(f'size: {queue1.size()}')\n",
    "\n",
    "queue1.dequeue()\n",
    "print(f'front: {queue1.front()}')\n",
    "queue1.dequeue()\n",
    "print(f'front: {queue1.front()}')\n"
   ]
  },
  {
   "cell_type": "markdown",
   "metadata": {},
   "source": [
    "## QUEUE IMPLEMENTATION USING 2 STATCKS"
   ]
  },
  {
   "cell_type": "code",
   "execution_count": 7,
   "metadata": {},
   "outputs": [],
   "source": [
    "class QueueUsing2Stacks:\n",
    "    def __init__(self):\n",
    "        self.s1 = []\n",
    "        self.s2 = []\n",
    "        self.__front = 0\n",
    "        self.__size = 0\n",
    "\n",
    "    def enqueue(self, value):\n",
    "        while self.s1:\n",
    "            self.s2.append(self.s1.pop())\n",
    "        self.s1.append(value)\n",
    "        while self.s2:\n",
    "            self.s1.append(self.s2.pop())\n",
    "        self.__size += 1\n",
    "\n",
    "    def dequeue(self):\n",
    "        if not self.isEmpty():\n",
    "            element = self.s1.pop()\n",
    "            self.__size -= 1\n",
    "            self.__front -= 1\n",
    "            return element\n",
    "\n",
    "    def front(self):\n",
    "        if self.__size > 0:\n",
    "            return self.s1[-1]\n",
    "\n",
    "    def size(self):\n",
    "        return self.__size\n",
    "\n",
    "    def isEmpty(self):\n",
    "        return self.__size == 0\n",
    "\n"
   ]
  },
  {
   "cell_type": "code",
   "execution_count": 8,
   "metadata": {},
   "outputs": [
    {
     "name": "stdout",
     "output_type": "stream",
     "text": [
      "empty: True\n",
      "empty: False\n",
      "front: 1\n",
      "size: 5\n",
      "front: 2\n",
      "front: 3\n"
     ]
    }
   ],
   "source": [
    "queue2 = QueueUsing2Stacks()\n",
    "\n",
    "print(f'empty: {queue2.isEmpty()}')\n",
    "queue2.enqueue(1)\n",
    "queue2.enqueue(2)\n",
    "queue2.enqueue(3)\n",
    "queue2.enqueue(4)\n",
    "queue2.enqueue(5)\n",
    "\n",
    "print(f'empty: {queue2.isEmpty()}')\n",
    "print(f'front: {queue2.front()}')\n",
    "print(f'size: {queue2.size()}')\n",
    "\n",
    "queue2.dequeue()\n",
    "print(f'front: {queue2.front()}')\n",
    "queue2.dequeue()\n",
    "print(f'front: {queue2.front()}')"
   ]
  },
  {
   "cell_type": "code",
   "execution_count": null,
   "metadata": {},
   "outputs": [],
   "source": []
  },
  {
   "cell_type": "markdown",
   "metadata": {},
   "source": [
    "### Create class and perform operation based on given choices!"
   ]
  },
  {
   "cell_type": "code",
   "execution_count": null,
   "metadata": {},
   "outputs": [],
   "source": [
    "from os import *\n",
    "from sys import *\n",
    "from collections import *\n",
    "from math import *\n",
    "\n",
    "\n",
    "class QueueDequeue:\n",
    "    def __init__(self):\n",
    "        self.queue = []\n",
    "        self.size = 0\n",
    "        self.front = 0\n",
    "        self.rear = -1\n",
    "\n",
    "    def insertFront(self, value):\n",
    "        self.queue.insert(0, value)\n",
    "        self.size += 1\n",
    "        return\n",
    "\n",
    "    def insertRear(self, value):\n",
    "        self.queue.append(value)\n",
    "        self.size += 1\n",
    "        return\n",
    "\n",
    "    def deleteFront(self):\n",
    "        if self.isEmpty():\n",
    "            return -1\n",
    "        self.size -= 1\n",
    "        return self.queue.pop(0)\n",
    "\n",
    "    def deleteRear(self):\n",
    "        if self.isEmpty():\n",
    "            return -1\n",
    "        self.size -= 1\n",
    "        return self.queue.pop()\n",
    "\n",
    "    def isEmpty(self):\n",
    "        return self.size == 0\n",
    "\n",
    "    def getFront(self):\n",
    "        if self.isEmpty():\n",
    "            return -1\n",
    "        return self.queue[self.front]\n",
    "\n",
    "    def getRear(self):\n",
    "        if self.isEmpty():\n",
    "            return -1\n",
    "        return self.queue[self.rear]\n",
    "\n",
    "\n",
    "## Read input as specified in the question.\n",
    "## Print output as specified in the question.\n",
    "# main\n",
    "q = stdin.readline().strip().split(\" \")\n",
    "print(q)\n",
    "qu = QueueDequeue()\n",
    "\n",
    "i = 0\n",
    "while i < len(q):\n",
    "\n",
    "    choice = int(q[i])\n",
    "    print(\"choice\", choice)\n",
    "    if choice == 1:\n",
    "        data = int(q[i + 1])\n",
    "        qu.insertFront(data)\n",
    "        i += 1\n",
    "    elif choice == 2:\n",
    "        data = int(q[i + 1])\n",
    "        qu.insertRear(data)\n",
    "        i += 1\n",
    "    elif choice == 3:\n",
    "        print(qu.deleteFront())\n",
    "    elif choice == 4:\n",
    "        print(qu.deleteRear())\n",
    "    elif choice == 5:\n",
    "        print(qu.getFront())\n",
    "    elif choice == 6:\n",
    "        print(qu.getRear())\n",
    "    else:\n",
    "        print(-1)\n",
    "    i += 1"
   ]
  }
 ],
 "metadata": {
  "kernelspec": {
   "display_name": "Python 3",
   "language": "python",
   "name": "python3"
  },
  "language_info": {
   "codemirror_mode": {
    "name": "ipython",
    "version": 3
   },
   "file_extension": ".py",
   "mimetype": "text/x-python",
   "name": "python",
   "nbconvert_exporter": "python",
   "pygments_lexer": "ipython3",
   "version": "3.6.3"
  }
 },
 "nbformat": 4,
 "nbformat_minor": 2
}
