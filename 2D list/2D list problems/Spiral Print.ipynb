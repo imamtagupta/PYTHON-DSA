{
 "cells": [
  {
   "cell_type": "markdown",
   "metadata": {},
   "source": [
    "<p style=\"color: grey;font-size:17px; line-height:25px\">\n",
    "    Print a spiral format such as\n",
    "    \n",
    "    1  2  3  4 \n",
    "    12 13 14 5\n",
    "    11 16 15 6\n",
    "    10 9  8  7\n",
    " \n",
    "</p>\n",
    "    <strong>1 2 3 4 5 6 7 8 9 10 11 12 13 14 15 16<strong>\n",
    "\n",
    "<br>"
   ]
  },
  {
   "cell_type": "code",
   "execution_count": 119,
   "metadata": {},
   "outputs": [],
   "source": [
    "def spiralPrint(mat,n,m):\n",
    "    i= j=0\n",
    "    k= 1\n",
    "    if n ==0 and m ==0:\n",
    "        return\n",
    "    while k <= n//2:\n",
    "        while j<m-k:\n",
    "            print(mat[i][j], end=\" \")\n",
    "            j +=1 \n",
    "        while i<n-k:\n",
    "            print(mat[i][j], end=\" \")\n",
    "            i += 1\n",
    "        while j>k-1:\n",
    "            print(mat[i][j], end=\" \")\n",
    "            j -=1\n",
    "        while i>k:\n",
    "            print(mat[i][j], end=\" \")\n",
    "            i -= 1\n",
    "        k += 1\n",
    "\n",
    "    if n>m:\n",
    "        while(i<=n-k+1):\n",
    "            print(mat[i][j], end=\" \")\n",
    "            i += 1\n",
    "    else:\n",
    "        while(j<m-k+1):\n",
    "            print(mat[i][j], end=\" \")\n",
    "            j += 1   \n",
    "        "
   ]
  },
  {
   "cell_type": "code",
   "execution_count": 120,
   "metadata": {},
   "outputs": [],
   "source": [
    "arr = [[1,2,3,4],[12,13,14,5],[11,16,15,6],[10,9,8,7]]"
   ]
  },
  {
   "cell_type": "code",
   "execution_count": 121,
   "metadata": {},
   "outputs": [
    {
     "name": "stdout",
     "output_type": "stream",
     "text": [
      "1 2 3 4 5 6 7 8 9 10 11 12 13 14 15 16 "
     ]
    }
   ],
   "source": [
    "spiralPrint(arr, 4,4)"
   ]
  },
  {
   "cell_type": "code",
   "execution_count": 122,
   "metadata": {},
   "outputs": [
    {
     "name": "stdout",
     "output_type": "stream",
     "text": [
      "1 2 3 6 9 8 7 4 5 "
     ]
    }
   ],
   "source": [
    "spiralPrint([[1,2,3],[4,5,6],[7,8,9]], 3,3)"
   ]
  },
  {
   "cell_type": "code",
   "execution_count": 123,
   "metadata": {},
   "outputs": [],
   "source": [
    "arr = [[1,2,3,4],[14,15,16,5],[13,20,7,6],[12,19,18,7],[11,10,9,8]]"
   ]
  },
  {
   "cell_type": "code",
   "execution_count": 124,
   "metadata": {},
   "outputs": [
    {
     "name": "stdout",
     "output_type": "stream",
     "text": [
      "1 2 3 4 5 6 7 8 9 10 11 12 13 14 15 16 7 18 19 20 "
     ]
    }
   ],
   "source": [
    "spiralPrint(arr, 5, 4)"
   ]
  },
  {
   "cell_type": "code",
   "execution_count": 125,
   "metadata": {},
   "outputs": [
    {
     "name": "stdout",
     "output_type": "stream",
     "text": [
      "1 2 3 4 8 12 11 10 9 5 6 7 "
     ]
    }
   ],
   "source": [
    "spiralPrint([[1,2,3,4],[5,6,7,8],[9,10,11,12]], 3, 4)"
   ]
  },
  {
   "cell_type": "code",
   "execution_count": null,
   "metadata": {},
   "outputs": [],
   "source": []
  }
 ],
 "metadata": {
  "kernelspec": {
   "display_name": "Python 3",
   "language": "python",
   "name": "python3"
  },
  "language_info": {
   "codemirror_mode": {
    "name": "ipython",
    "version": 3
   },
   "file_extension": ".py",
   "mimetype": "text/x-python",
   "name": "python",
   "nbconvert_exporter": "python",
   "pygments_lexer": "ipython3",
   "version": "3.6.3"
  }
 },
 "nbformat": 4,
 "nbformat_minor": 2
}
