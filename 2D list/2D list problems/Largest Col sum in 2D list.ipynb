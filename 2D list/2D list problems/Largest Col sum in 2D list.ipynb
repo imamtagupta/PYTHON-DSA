{
 "cells": [
  {
   "cell_type": "code",
   "execution_count": 4,
   "metadata": {},
   "outputs": [],
   "source": [
    "def largsetColSum(li):\n",
    "    max_i = 0\n",
    "    max_sum = 0\n",
    "    for i in range(len(li[0])):\n",
    "        sum = 0\n",
    "        for ele in li:\n",
    "            sum += ele[i]\n",
    "        if max_sum < sum:\n",
    "            max_sum = sum\n",
    "            max_i = i\n",
    "    print(f'max_sum: {max_sum} at {max_i} row')"
   ]
  },
  {
   "cell_type": "code",
   "execution_count": 5,
   "metadata": {},
   "outputs": [],
   "source": [
    "arr = [[1,2,3,4],[2,3,4,5],[4,5,6,7]]"
   ]
  },
  {
   "cell_type": "code",
   "execution_count": 6,
   "metadata": {},
   "outputs": [
    {
     "name": "stdout",
     "output_type": "stream",
     "text": [
      "max_sum: 16 at 3 row\n"
     ]
    }
   ],
   "source": [
    "largsetColSum(arr)"
   ]
  },
  {
   "cell_type": "code",
   "execution_count": null,
   "metadata": {},
   "outputs": [],
   "source": []
  }
 ],
 "metadata": {
  "kernelspec": {
   "display_name": "Python 3",
   "language": "python",
   "name": "python3"
  },
  "language_info": {
   "codemirror_mode": {
    "name": "ipython",
    "version": 3
   },
   "file_extension": ".py",
   "mimetype": "text/x-python",
   "name": "python",
   "nbconvert_exporter": "python",
   "pygments_lexer": "ipython3",
   "version": "3.6.3"
  }
 },
 "nbformat": 4,
 "nbformat_minor": 2
}
