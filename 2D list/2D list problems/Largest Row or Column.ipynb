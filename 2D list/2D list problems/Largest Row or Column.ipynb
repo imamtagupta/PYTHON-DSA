{
 "cells": [
  {
   "cell_type": "markdown",
   "metadata": {},
   "source": [
    "<p style=\"color: grey;font-size:17px; line-height:25px\">\n",
    "    For a given two-dimensional integer array/list of size (N x M), you need to find out which row or column has the largest sum(sum of all the elements in a row/column) amongst all the rows and columns.\n",
    "</p>\n",
    "<br>"
   ]
  },
  {
   "cell_type": "code",
   "execution_count": 31,
   "metadata": {},
   "outputs": [],
   "source": [
    "def findLargest(arr, nRows, mCols):\n",
    "    def largestColSum():\n",
    "        max_i = 0\n",
    "        max_sum = 0\n",
    "        for i in range(mCols):\n",
    "            sum = 0\n",
    "            for ele in arr:\n",
    "                sum += ele[i]\n",
    "            if max_sum < sum:\n",
    "                max_sum = sum\n",
    "                max_i = i\n",
    "        return [max_i, max_sum]\n",
    "    \n",
    "    def largsetRowSum():\n",
    "        max_i = 0\n",
    "        max_sum = 0\n",
    "        for i in range(nRows):\n",
    "            sum = 0\n",
    "            for ele in arr[i]:\n",
    "                sum += ele\n",
    "            if max_sum < sum:\n",
    "                max_sum = sum\n",
    "                max_i = i\n",
    "            \n",
    "        return [max_i, max_sum]\n",
    "    \n",
    "    max_row = largsetRowSum()\n",
    "    max_col = largestColSum()\n",
    "    if max_row[1] == 0:\n",
    "        max_row[1] = -2147483648\n",
    "    if max_col[1] == 0:\n",
    "        max_col[1] = -2147483648\n",
    "        \n",
    "    if max_row[1] < max_col[1]:\n",
    "        print(\"column\", max_col[0], max_col[1])\n",
    "    else:\n",
    "        print(\"row\", max_row[0], max_row[1])\n"
   ]
  },
  {
   "cell_type": "code",
   "execution_count": 32,
   "metadata": {},
   "outputs": [],
   "source": [
    "arr = [[1,2,3,4],[2,3,4,5],[4,5,6,7]]"
   ]
  },
  {
   "cell_type": "code",
   "execution_count": 33,
   "metadata": {},
   "outputs": [
    {
     "name": "stdout",
     "output_type": "stream",
     "text": [
      "row 2 22\n"
     ]
    }
   ],
   "source": [
    "findLargest(arr, 3, 4)"
   ]
  },
  {
   "cell_type": "code",
   "execution_count": 34,
   "metadata": {},
   "outputs": [
    {
     "name": "stdout",
     "output_type": "stream",
     "text": [
      "row 0 2\n"
     ]
    }
   ],
   "source": [
    "findLargest([[1,1],[1,1]], 2, 2)"
   ]
  },
  {
   "cell_type": "code",
   "execution_count": null,
   "metadata": {},
   "outputs": [],
   "source": []
  }
 ],
 "metadata": {
  "kernelspec": {
   "display_name": "Python 3",
   "language": "python",
   "name": "python3"
  },
  "language_info": {
   "codemirror_mode": {
    "name": "ipython",
    "version": 3
   },
   "file_extension": ".py",
   "mimetype": "text/x-python",
   "name": "python",
   "nbconvert_exporter": "python",
   "pygments_lexer": "ipython3",
   "version": "3.6.3"
  }
 },
 "nbformat": 4,
 "nbformat_minor": 2
}
