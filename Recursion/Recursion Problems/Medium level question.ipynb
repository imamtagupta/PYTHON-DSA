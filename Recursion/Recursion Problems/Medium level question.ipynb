{
 "cells": [
  {
   "cell_type": "code",
   "execution_count": null,
   "metadata": {
    "collapsed": true
   },
   "outputs": [],
   "source": [
    "#    Some recursion practice here....   ########\n",
    "import time\n"
   ]
  },
  {
   "cell_type": "markdown",
   "source": [
    "\n",
    "#   -----------------------------------\n",
    "#   ------ Array using recursion ______\n",
    "#   -----------------------------------"
   ],
   "metadata": {
    "collapsed": false
   }
  },
  {
   "cell_type": "code",
   "execution_count": null,
   "outputs": [],
   "source": [
    "\n",
    "def fibonacci(n):\n",
    "    if n < 2:\n",
    "        return n\n",
    "    return fibonacci(n - 1) + fibonacci(n - 2)\n",
    "\n",
    "\n",
    "print(fibonacci(3))"
   ],
   "metadata": {
    "collapsed": false
   }
  },
  {
   "cell_type": "code",
   "execution_count": null,
   "outputs": [],
   "source": [
    "\n",
    "\n",
    "def linearSearch(arr: list, k: int) -> bool:\n",
    "    if not arr:\n",
    "        return False\n",
    "    if arr[0] == k:\n",
    "        return True\n",
    "    return linearSearch(arr[1:], k)\n",
    "\n",
    "\n",
    "print(linearSearch([1, 2, 3, 4, 5], 3))\n"
   ],
   "metadata": {
    "collapsed": false
   }
  },
  {
   "cell_type": "code",
   "execution_count": null,
   "outputs": [],
   "source": [
    "\n",
    "def binarySearch(arr: list, k: int) -> bool:\n",
    "    def recursiveBS(l: int, h: int) -> bool:\n",
    "        if l > h:\n",
    "            return False\n",
    "        mid = (l + h) // 2\n",
    "        if k == arr[mid]:\n",
    "            return True\n",
    "        if k < arr[mid]:\n",
    "            return recursiveBS(l, mid - 1)\n",
    "        return recursiveBS(mid + 1, h)\n",
    "\n",
    "    return recursiveBS(0, len(arr) - 1)\n",
    "\n",
    "\n",
    "start = time.time()\n",
    "print(binarySearch([1, 2, 3, 4, 5], 1))\n",
    "end = time.time()\n",
    "print(f'Runtime: {end - start}')\n",
    "\n",
    "\n",
    "# *Output:*\n",
    "# True\n",
    "# Runtime: 0.0\n"
   ],
   "metadata": {
    "collapsed": false
   }
  },
  {
   "cell_type": "code",
   "execution_count": null,
   "outputs": [],
   "source": [
    "\n",
    "def rotatedBinarySearch(arr: list, k: int) -> bool:\n",
    "    def recursiveRBS(l: int, h: int) -> bool:\n",
    "        if l > h:\n",
    "            return False\n",
    "        mid = (l + h) // 2\n",
    "        if k == arr[mid]:\n",
    "            return True\n",
    "        if arr[l] <= arr[mid]:\n",
    "            if arr[mid] > k >= arr[l]:\n",
    "                return recursiveRBS(l, mid - 1)\n",
    "            return recursiveRBS(mid + 1, h)\n",
    "        else:\n",
    "            if arr[mid] < k <= arr[h]:\n",
    "                return recursiveRBS(l, mid - 1)\n",
    "            return recursiveRBS(mid + 1, h)\n",
    "\n",
    "    return recursiveRBS(0, len(arr) - 1)\n",
    "\n",
    "\n",
    "start = time.time()\n",
    "print(rotatedBinarySearch([3, 4, 5, 1, 2], 4))\n",
    "end = time.time()\n",
    "print(f'Runtime: {end - start}')\n",
    "\n",
    "\n",
    "# *Output:*\n",
    "# True\n",
    "# Runtime: 0.0\n"
   ],
   "metadata": {
    "collapsed": false
   }
  },
  {
   "cell_type": "markdown",
   "source": [
    "\n",
    "#   ---------------------------------------\n",
    "#   ------ Patterns using recursion ______\n",
    "#   ---------------------------------------"
   ],
   "metadata": {
    "collapsed": false
   }
  },
  {
   "cell_type": "code",
   "execution_count": null,
   "outputs": [],
   "source": [
    "\n",
    "\n",
    "def pattern1(i, j=0):\n",
    "    if i < 1:\n",
    "        return\n",
    "    print(\"*\", end=\" \")\n",
    "    if j >= i - 1:\n",
    "        print()\n",
    "        pattern1(i - 1, 0)\n",
    "    else:\n",
    "        pattern1(i, j + 1)\n",
    "\n",
    "\n",
    "# pattern1(5)\n",
    "#\n",
    "# Output:\n",
    "# * * * * *\n",
    "# * * * *\n",
    "# * * *\n",
    "# * *\n",
    "# *"
   ],
   "metadata": {
    "collapsed": false
   }
  },
  {
   "cell_type": "code",
   "execution_count": null,
   "outputs": [],
   "source": [
    "\n",
    "\n",
    "def pattern2(i, j=0):\n",
    "    if i == 0:\n",
    "        return\n",
    "\n",
    "    if j >= i:\n",
    "        pattern2(i - 1, 0)\n",
    "        print()\n",
    "    else:\n",
    "        pattern2(i, j + 1)\n",
    "        print(\"*\", end=\" \")\n",
    "\n",
    "\n",
    "# pattern2(5)\n",
    "#\n",
    "# Output:\n",
    "# * * * * *\n",
    "# * * * *\n",
    "# * * *\n",
    "# * *\n",
    "# *\n"
   ],
   "metadata": {
    "collapsed": false
   }
  },
  {
   "cell_type": "code",
   "execution_count": null,
   "outputs": [],
   "source": [
    "\n",
    "def bubbleSort(arr, n, row=0):\n",
    "    if n <= 1:\n",
    "        return arr\n",
    "    if row >= n:\n",
    "        return bubbleSort(arr, n - 1, 0)\n",
    "    if arr[row] > arr[n]:\n",
    "        arr[row], arr[n] = arr[n], arr[row]\n",
    "    return bubbleSort(arr, n, row + 1)\n",
    "\n",
    "\n",
    "unsortedArr = [5, 4, 3, 2, 1]\n",
    "print(bubbleSort(unsortedArr, 4))\n"
   ],
   "metadata": {
    "collapsed": false
   }
  },
  {
   "cell_type": "code",
   "execution_count": null,
   "outputs": [],
   "source": [
    "\n",
    "def selectionSort(arr, n, row=0):\n",
    "    if row >= n:\n",
    "        return arr\n",
    "    if row < n:\n",
    "        maxSmall = arr.index(max(arr[:n - row + 1]))\n",
    "        arr[n - row], arr[maxSmall] = arr[maxSmall], arr[n - row]\n",
    "        return selectionSort(arr, n, row + 1)\n",
    "\n",
    "\n",
    "unsortedArr1 = [7, 9, 10, 2, 3, 1]\n",
    "print(selectionSort(unsortedArr1, 5))\n"
   ],
   "metadata": {
    "collapsed": false
   }
  },
  {
   "cell_type": "code",
   "execution_count": null,
   "outputs": [],
   "source": [
    "\n",
    "def insertionSort(arr, n):\n",
    "    for i in range(1, n):\n",
    "        for j in range(i + 1, 0, -1):\n",
    "            if arr[j] < arr[j - 1]:\n",
    "                arr[j], arr[j - 1] = arr[j - 1], arr[j]\n",
    "    return arr\n",
    "\n",
    "\n",
    "unsortedArr2 = [7, 9, 10, 2, 1]\n",
    "print(insertionSort(unsortedArr2, 4))\n"
   ],
   "metadata": {
    "collapsed": false
   }
  },
  {
   "cell_type": "code",
   "execution_count": null,
   "outputs": [],
   "source": [
    "\n",
    "def mergeSort(arr):\n",
    "\n",
    "    def merge(a, b, res=[]):\n",
    "        if not a and not b:\n",
    "            return res\n",
    "        if not a:\n",
    "            res.extend(b)\n",
    "            return res\n",
    "        if not b:\n",
    "            res.extend(a)\n",
    "            return res\n",
    "        if a[0] < b[0]:\n",
    "            res.append(a[0])\n",
    "            return merge(a[1:], b, res)\n",
    "        else:\n",
    "            res.append(b[0])\n",
    "            return merge(a, b[1:], res)\n",
    "\n",
    "    if not arr:\n",
    "        return None\n",
    "    if len(arr) == 1:\n",
    "        return arr\n",
    "    mid = len(arr) // 2\n",
    "    s1 = mergeSort(arr[:mid])\n",
    "    s2 = mergeSort(arr[mid:])\n",
    "    return merge(s1, s2)\n",
    "\n",
    "\n",
    "unsortedArr3 = [7, 9, 10, 2, 1]\n",
    "print(mergeSort(unsortedArr3))"
   ],
   "metadata": {
    "collapsed": false
   }
  },
  {
   "cell_type": "code",
   "execution_count": null,
   "outputs": [],
   "source": [
    "\n",
    "def mergeSortInPlace(arr, s=0, e=0):\n",
    "    def merge(arr, s, m, e):\n",
    "        mix = []\n",
    "        i, j = s, m\n",
    "        while i < m and j < e:\n",
    "            if arr[i] < arr[j]:\n",
    "                mix.append(arr[i])\n",
    "                i += 1\n",
    "            else:\n",
    "                mix.append(arr[j])\n",
    "                j += 1\n",
    "        while i < m:\n",
    "            mix.append(arr[i])\n",
    "            i += 1\n",
    "        while j < e:\n",
    "            mix.append(arr[j])\n",
    "            j += 1\n",
    "        print(mix)\n",
    "        for l in range(len(mix)):\n",
    "            arr[s + l] = mix[l]\n",
    "\n",
    "    if e - s == 1:\n",
    "        return\n",
    "    if len(arr) == 1:\n",
    "        return arr\n",
    "    mid = s + (e - s) // 2\n",
    "    mergeSortInPlace(arr, s, mid)\n",
    "    mergeSortInPlace(arr, mid, e)\n",
    "    return merge(arr, s, mid, e)\n",
    "\n",
    "\n",
    "unsortedArr3 = [7, 9, 10, 2, 1]\n",
    "mergeSortInPlace(unsortedArr3, e=len(unsortedArr3))\n",
    "print(unsortedArr3)\n"
   ],
   "metadata": {
    "collapsed": false
   }
  },
  {
   "cell_type": "code",
   "execution_count": null,
   "outputs": [],
   "source": [
    "\n",
    "def quickSort(arr, n):\n",
    "    \"\"\"\n",
    "    arr: An unsorted list\n",
    "    n: length of list\n",
    "    return: sorted list\n",
    "\n",
    "    LOGIC:\n",
    "    1) Pivot : any position in the list which is going to have all smaller than it to left and greater to\n",
    "               it's right after 1 pass. Means you are putting at it's correct position\n",
    "    2) Pivot Position : worst case : corners, best case: middle element\n",
    "\n",
    "    \"\"\"\n",
    "\n",
    "    def quick(low, high):\n",
    "        if low >= high:\n",
    "            return\n",
    "        s, e = low, high\n",
    "        m = s + (e - s) // 2\n",
    "        pivot = arr[m]\n",
    "        while s < e:\n",
    "            while arr[s] < pivot:\n",
    "                s += 1\n",
    "            while arr[e] > pivot:\n",
    "                e -= 1\n",
    "            if s <= e:\n",
    "                arr[s], arr[e] = arr[e], arr[s]\n",
    "                s += 1\n",
    "                e -= 1\n",
    "\n",
    "        quick(low, e)\n",
    "        quick(s, high)\n",
    "\n",
    "    # if not arr or len(arr) == 1:\n",
    "    #     return arr\n",
    "    quick(0, n - 1)\n",
    "    return arr\n",
    "\n",
    "\n",
    "unsortedArr4 = [7, 9, 3, 1, 2]\n",
    "print(quickSort(unsortedArr4, 5))\n",
    "\n"
   ],
   "metadata": {
    "collapsed": false
   }
  }
 ],
 "metadata": {
  "kernelspec": {
   "display_name": "Python 3",
   "language": "python",
   "name": "python3"
  },
  "language_info": {
   "codemirror_mode": {
    "name": "ipython",
    "version": 2
   },
   "file_extension": ".py",
   "mimetype": "text/x-python",
   "name": "python",
   "nbconvert_exporter": "python",
   "pygments_lexer": "ipython2",
   "version": "2.7.6"
  }
 },
 "nbformat": 4,
 "nbformat_minor": 0
}
