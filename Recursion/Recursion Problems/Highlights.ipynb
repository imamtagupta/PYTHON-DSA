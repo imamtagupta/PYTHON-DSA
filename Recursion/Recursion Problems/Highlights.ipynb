{
 "cells": [
  {
   "cell_type": "markdown",
   "source": [
    "## Print subsequences"
   ],
   "metadata": {
    "collapsed": false
   }
  },
  {
   "cell_type": "code",
   "execution_count": 3,
   "outputs": [
    {
     "name": "stdout",
     "output_type": "stream",
     "text": [
      "abc\n",
      "ab\n",
      "ac\n",
      "a\n",
      "bc\n",
      "b\n",
      "c\n",
      "\n"
     ]
    }
   ],
   "source": [
    "def printSubsequences(s, p = str()):\n",
    "    if s == \"\":\n",
    "        print(p)\n",
    "        return\n",
    "    printSubsequences(s[1:], p+s[0])\n",
    "    printSubsequences(s[1:], p)\n",
    "\n",
    "printSubsequences('abc')"
   ],
   "metadata": {
    "collapsed": false
   }
  },
  {
   "cell_type": "markdown",
   "source": [
    "## Return subsequences"
   ],
   "metadata": {
    "collapsed": false
   }
  },
  {
   "cell_type": "code",
   "execution_count": 5,
   "metadata": {
    "collapsed": true
   },
   "outputs": [
    {
     "data": {
      "text/plain": "['abc', 'ab', 'ac', 'a', 'bc', 'b', 'c', '']"
     },
     "execution_count": 5,
     "metadata": {},
     "output_type": "execute_result"
    }
   ],
   "source": [
    "def subsequences(s, p = str()):\n",
    "    if s == \"\":\n",
    "        return [p]\n",
    "    return subsequences(s[1:], p+s[0]) + subsequences(s[1:], p)\n",
    "\n",
    "subsequences(\"abc\")"
   ]
  },
  {
   "cell_type": "markdown",
   "source": [
    "## Return Keypad"
   ],
   "metadata": {
    "collapsed": false
   }
  },
  {
   "cell_type": "code",
   "execution_count": 46,
   "outputs": [
    {
     "data": {
      "text/plain": "['ad', 'ae', 'af', 'bd', 'be', 'bf', 'cd', 'ce', 'cf']"
     },
     "execution_count": 46,
     "metadata": {},
     "output_type": "execute_result"
    }
   ],
   "source": [
    "\n",
    "def letterCombinations(digits: str):\n",
    "\n",
    "    def letterCombinations(digits, p=''):\n",
    "        lst = []\n",
    "        if digits == '':\n",
    "            return [p]\n",
    "\n",
    "        digit = int(digits[0])\n",
    "        if digit == 7:\n",
    "            i = (digit-2)*3\n",
    "            n = ((digit-1) * 3) + 1\n",
    "        elif digit == 8:\n",
    "            i = (digit-2)*3 +1\n",
    "            n = ((digit-1) * 3) + 1\n",
    "        elif digit == 9:\n",
    "            i = (digit-2)*3 + 1\n",
    "            n = ((digit-1) * 3) + 2\n",
    "        else:\n",
    "            n = (digit-1) * 3\n",
    "            i = (digit-2)*3\n",
    "        while i < n:\n",
    "            ch = chr(ord('a')+i)\n",
    "            lst += letterCombinations(digits[1:], p+ch)\n",
    "            i += 1\n",
    "\n",
    "        return lst\n",
    "\n",
    "\n",
    "    if digits == '':\n",
    "        return []\n",
    "    return letterCombinations(digits)\n",
    "\n",
    "letterCombinations(\"23\")"
   ],
   "metadata": {
    "collapsed": false
   }
  },
  {
   "cell_type": "code",
   "execution_count": 47,
   "outputs": [
    {
     "data": {
      "text/plain": "['ad', 'ae', 'af', 'bd', 'be', 'bf', 'cd', 'ce', 'cf']"
     },
     "execution_count": 47,
     "metadata": {},
     "output_type": "execute_result"
    }
   ],
   "source": [
    "## USE DICTIONARY TO SAVE YOUR TIME\n",
    "\n",
    "def letterCombinations(digits:str, p=\"\", ans=[]):\n",
    "    options = [\"\", \"\", \"abc\", \"def\", \"ghi\", \"jkl\", \"mno\", \"pqrs\", \"tuv\", \"wxyz\"]\n",
    "    if digits == \"\":\n",
    "        ans.append(p)\n",
    "        return\n",
    "    opt = options[int(digits[0])]\n",
    "    m = len(opt)\n",
    "    for j in range(m):\n",
    "        letterCombinations(digits[1:], p+opt[j], ans)\n",
    "    return ans\n",
    "\n",
    "letterCombinations(\"23\")"
   ],
   "metadata": {
    "collapsed": false
   }
  },
  {
   "cell_type": "markdown",
   "source": [
    "## Print keypad"
   ],
   "metadata": {
    "collapsed": false
   }
  },
  {
   "cell_type": "code",
   "execution_count": 50,
   "outputs": [
    {
     "name": "stdout",
     "output_type": "stream",
     "text": [
      "ad\n",
      "ae\n",
      "af\n",
      "bd\n",
      "be\n",
      "bf\n",
      "cd\n",
      "ce\n",
      "cf\n"
     ]
    }
   ],
   "source": [
    "## USE DICTIONARY TO SAVE YOUR TIME\n",
    "\n",
    "def keypad(digits: int, p=\"\"):\n",
    "    options = [\"\", \"\", \"abc\", \"def\", \"ghi\", \"jkl\", \"mno\", \"pqrs\", \"tuv\", \"wxyz\"]\n",
    "    if digits == \"\":\n",
    "        print(p)\n",
    "        return\n",
    "    opt = options[int(digits[0])]\n",
    "    m = len(opt)\n",
    "    for j in range(m):\n",
    "        keypad(digits[1:], p + opt[j])\n",
    "\n",
    "num = 23\n",
    "keypad(str(n))"
   ],
   "metadata": {
    "collapsed": false
   }
  },
  {
   "cell_type": "markdown",
   "source": [
    "## Print permutation of string"
   ],
   "metadata": {
    "collapsed": false
   }
  },
  {
   "cell_type": "code",
   "execution_count": 64,
   "outputs": [
    {
     "name": "stdout",
     "output_type": "stream",
     "text": [
      "cba\n",
      "bca\n",
      "bac\n",
      "cab\n",
      "acb\n",
      "abc\n"
     ]
    }
   ],
   "source": [
    "def printPermutations(un, p=\"\"):\n",
    "    # print(un, p)\n",
    "    if un == \"\":\n",
    "        print(p)\n",
    "        return\n",
    "\n",
    "    for i in range(len(p)+1):\n",
    "        f = p[:i]\n",
    "        s = p[i:]\n",
    "\n",
    "        printPermutations(un[1:], f+un[0]+s)\n",
    "\n",
    "printPermutations(\"abc\")"
   ],
   "metadata": {
    "collapsed": false
   }
  },
  {
   "cell_type": "code",
   "execution_count": 76,
   "outputs": [
    {
     "data": {
      "text/plain": "['rac', 'arc', 'acr', 'rca', 'cra', 'car']"
     },
     "execution_count": 76,
     "metadata": {},
     "output_type": "execute_result"
    }
   ],
   "source": [
    "def permutation(un, p=\"\"):\n",
    "    global op\n",
    "\n",
    "    if un == \"\":\n",
    "        op.append(p)\n",
    "        return\n",
    "\n",
    "    for i in range(len(p)+1):\n",
    "        f = p[:i]\n",
    "        s = p[i:]\n",
    "        permutation(un[1:], f+un[0]+s)\n",
    "    return op\n",
    "\n",
    "op = []\n",
    "permutation(\"car\")"
   ],
   "metadata": {
    "collapsed": false
   }
  },
  {
   "cell_type": "markdown",
   "source": [
    "## Print Subsets of Array"
   ],
   "metadata": {
    "collapsed": false
   }
  },
  {
   "cell_type": "code",
   "execution_count": 97,
   "outputs": [
    {
     "name": "stdout",
     "output_type": "stream",
     "text": [
      "[]\n",
      "[9]\n",
      "[5]\n",
      "[5, 9]\n",
      "[3]\n",
      "[3, 9]\n",
      "[3, 5]\n",
      "[3, 5, 9]\n"
     ]
    }
   ],
   "source": [
    "def subset(arr, p=[], out=[]):\n",
    "    if not arr:\n",
    "        print(p)\n",
    "        return\n",
    "    subset(arr[1:], p)\n",
    "    newP = p.copy()\n",
    "    newP.append(arr[0])\n",
    "    subset(arr[1:], newP)\n",
    "\n",
    "subset([3,5,9])\n"
   ],
   "metadata": {
    "collapsed": false
   }
  },
  {
   "cell_type": "markdown",
   "source": [
    "## Return subset of an array"
   ],
   "metadata": {
    "collapsed": false
   }
  },
  {
   "cell_type": "code",
   "execution_count": 112,
   "outputs": [
    {
     "data": {
      "text/plain": "[[], [1], [2], [2, 1], [3], [3, 1], [3, 2], [3, 2, 1]]"
     },
     "execution_count": 112,
     "metadata": {},
     "output_type": "execute_result"
    }
   ],
   "source": [
    "def subset(arr, p=[]):\n",
    "    if not arr:\n",
    "        out.append(p)\n",
    "        return\n",
    "    subset(arr[1:], p)\n",
    "    newP = p.copy()\n",
    "    newP.append(arr[0])\n",
    "    subset(arr[1:], newP)\n",
    "    return out\n",
    "\n",
    "out = []\n",
    "subset([3,2,1])\n",
    "# out = []\n",
    "# subset([0])\n"
   ],
   "metadata": {
    "collapsed": false
   }
  },
  {
   "cell_type": "markdown",
   "source": [
    "## Print Subset Sum to K"
   ],
   "metadata": {
    "collapsed": false
   }
  },
  {
   "cell_type": "code",
   "execution_count": 115,
   "outputs": [
    {
     "data": {
      "text/plain": "[[3], [1, 2]]"
     },
     "execution_count": 115,
     "metadata": {},
     "output_type": "execute_result"
    }
   ],
   "source": [
    "def printSubsetMain(arr, k, p=[]):\n",
    "    if not arr:\n",
    "        if sum(p) == k:\n",
    "            out.append(p)\n",
    "        return\n",
    "    printSubsetMain(arr[1:], k, p)\n",
    "    newP = p.copy()\n",
    "    newP.append(arr[0])\n",
    "    printSubsetMain(arr[1:], k,newP)\n",
    "    return out\n",
    "\n",
    "out = []\n",
    "printSubsetMain([1,2,3],3)"
   ],
   "metadata": {
    "collapsed": false
   }
  },
  {
   "cell_type": "code",
   "execution_count": null,
   "outputs": [],
   "source": [],
   "metadata": {
    "collapsed": false
   }
  }
 ],
 "metadata": {
  "kernelspec": {
   "display_name": "Python 3",
   "language": "python",
   "name": "python3"
  },
  "language_info": {
   "codemirror_mode": {
    "name": "ipython",
    "version": 2
   },
   "file_extension": ".py",
   "mimetype": "text/x-python",
   "name": "python",
   "nbconvert_exporter": "python",
   "pygments_lexer": "ipython2",
   "version": "2.7.6"
  }
 },
 "nbformat": 4,
 "nbformat_minor": 0
}
