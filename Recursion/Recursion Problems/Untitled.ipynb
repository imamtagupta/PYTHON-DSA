{
 "cells": [
  {
   "cell_type": "code",
   "execution_count": 1,
   "metadata": {},
   "outputs": [],
   "source": [
    "def split(arr,i,sum):\n",
    "    def findSplitPoint(arr, n) :\n",
    "        leftSum = sum(arr)\n",
    "        rightSum = 0\n",
    "        for i in range(n-1, -1, -1) :\n",
    "            rightSum += arr[i]\n",
    "            leftSum -= arr[i] \n",
    "            print(leftSum, rightSum)\n",
    "            if (rightSum == leftSum) :\n",
    "                return True \n",
    "        return False"
   ]
  },
  {
   "cell_type": "code",
   "execution_count": null,
   "metadata": {},
   "outputs": [],
   "source": [
    "split([])"
   ]
  },
  {
   "cell_type": "code",
   "execution_count": null,
   "metadata": {},
   "outputs": [],
   "source": []
  },
  {
   "cell_type": "code",
   "execution_count": null,
   "metadata": {},
   "outputs": [],
   "source": []
  },
  {
   "cell_type": "code",
   "execution_count": null,
   "metadata": {},
   "outputs": [],
   "source": [
    "Maximum Profit on App\n",
    "Send Feedback\n",
    "You have made a smartphone app and want to set its subscription price such that the profit earned is maximised. There are certain users who will subscribe to your app only if their budget is greater than or equal to your price.\n",
    "You will be provided with a list of size N having budgets of subscribers and you need to return the maximum profit that you can earn.\n",
    "Lets say you decide that price of your app is Rs. x and there are N number of subscribers. So maximum profit you can earn is :\n",
    " m * x\n",
    "where m is total number of subscribers whose budget is greater than or equal to x.\n",
    "Input format :\n",
    "Line 1 : N (No. of subscribers)\n",
    "Line 2 : Budget of subscribers (separated by space)\n",
    "Output Format :\n",
    " Maximum profit\n",
    "Constraints :\n",
    "1 <= N <= 10^6\n",
    "1 <=budget[i]<=9999\n",
    "Sample Input 1 :\n",
    "4\n",
    "30 20 53 14\n",
    "Sample Output 1 :\n",
    "60\n",
    "Sample Output 1 Explanation :\n",
    "Price of your app should be Rs. 20 or Rs. 30. For both prices, you can get the profit Rs. 60.\n",
    "Sample Input 2 :\n",
    "5\n",
    "34 78 90 15 67\n",
    "Sample Output 2 :\n",
    "201\n",
    "Sample Output 2 Explanation :\n",
    "Price of your app should be Rs. 67. You can get the profit Rs. 201 (i.e. 3 * 67)."
   ]
  },
  {
   "cell_type": "code",
   "execution_count": null,
   "metadata": {},
   "outputs": [],
   "source": []
  },
  {
   "cell_type": "code",
   "execution_count": null,
   "metadata": {},
   "outputs": [],
   "source": [
    "Split Array\n",
    "Send Feedback\n",
    "Given an integer array A of size N, check if the input array can be splitted in two parts such that -\n",
    "- Sum of both parts is equal\n",
    "- All elements in the input, which are divisible by 5 should be in same group.\n",
    "- All elements in the input, which are divisible by 3 (but not divisible by 5) should be in other group.\n",
    "- Elements which are neither divisible by 5 nor by 3, can be put in any group.\n",
    "Groups can be made with any set of elements, i.e. elements need not to be continuous. And you need to consider each and every element of input array in some group.\n",
    "Return true, if array can be split according to the above rules, else return false.\n",
    "Note : You will get marks only if all the test cases are passed.\n",
    "Input Format :\n",
    "Line 1 : Integer N (size of array)\n",
    "Line 2 : Array A elements (separated by space)\n",
    "Output Format :\n",
    "true or false\n",
    "Constraints :\n",
    "1 <= N <= 50\n",
    "Sample Input 1 :\n",
    "2\n",
    "1 2\n",
    "Sample Output 1 :\n",
    "false\n",
    "Sample Input 2 :\n",
    "3\n",
    "1 4 3\n",
    "Sample Output 2 :\n",
    "true"
   ]
  }
 ],
 "metadata": {
  "kernelspec": {
   "display_name": "Python 3",
   "language": "python",
   "name": "python3"
  },
  "language_info": {
   "codemirror_mode": {
    "name": "ipython",
    "version": 3
   },
   "file_extension": ".py",
   "mimetype": "text/x-python",
   "name": "python",
   "nbconvert_exporter": "python",
   "pygments_lexer": "ipython3",
   "version": "3.6.3"
  }
 },
 "nbformat": 4,
 "nbformat_minor": 2
}
