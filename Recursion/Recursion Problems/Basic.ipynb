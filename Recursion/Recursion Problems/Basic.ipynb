{
 "cells": [
  {
   "cell_type": "markdown",
   "source": [
    "## Print factorial"
   ],
   "metadata": {
    "collapsed": false
   }
  },
  {
   "cell_type": "code",
   "execution_count": 19,
   "metadata": {
    "collapsed": true
   },
   "outputs": [
    {
     "name": "stdout",
     "output_type": "stream",
     "text": [
      "120\n"
     ]
    }
   ],
   "source": [
    "def printFact(n, ans=1):\n",
    "    if n == 0:\n",
    "        print(ans)\n",
    "        return\n",
    "\n",
    "    ans=ans * n\n",
    "    return printFact(n-1, ans)\n",
    "\n",
    "printFact(5)"
   ]
  },
  {
   "cell_type": "markdown",
   "source": [
    "## Print ArrayMin"
   ],
   "metadata": {
    "collapsed": false
   }
  },
  {
   "cell_type": "code",
   "execution_count": 40,
   "outputs": [
    {
     "name": "stdout",
     "output_type": "stream",
     "text": [
      "5\n",
      "5\n"
     ]
    }
   ],
   "source": [
    "## Returning the min array is following the bottom up approach\n",
    "\n",
    "def minList(l):\n",
    "    if len(l) == 1:\n",
    "        return l[0]\n",
    "    mini = 0\n",
    "    s = minList(l[1:])\n",
    "    newMin = min(l[mini], s)\n",
    "    return newMin\n",
    "\n",
    "print(minList([8, 7, 6, 5, 10]))\n",
    "\n",
    "## Whereas, while printing the same we should follow top-down approach\n",
    "\n",
    "def minList1(l, ans=238999):\n",
    "    if not l:\n",
    "        print(ans)\n",
    "        return\n",
    "\n",
    "    ans = min(ans, l[0])\n",
    "    minList1(l[1:], ans)\n",
    "\n",
    "minList1([8, 7, 6, 5, 10])\n"
   ],
   "metadata": {
    "collapsed": false
   }
  },
  {
   "cell_type": "code",
   "execution_count": null,
   "outputs": [],
   "source": [],
   "metadata": {
    "collapsed": false
   }
  }
 ],
 "metadata": {
  "kernelspec": {
   "display_name": "Python 3",
   "language": "python",
   "name": "python3"
  },
  "language_info": {
   "codemirror_mode": {
    "name": "ipython",
    "version": 2
   },
   "file_extension": ".py",
   "mimetype": "text/x-python",
   "name": "python",
   "nbconvert_exporter": "python",
   "pygments_lexer": "ipython2",
   "version": "2.7.6"
  }
 },
 "nbformat": 4,
 "nbformat_minor": 0
}
