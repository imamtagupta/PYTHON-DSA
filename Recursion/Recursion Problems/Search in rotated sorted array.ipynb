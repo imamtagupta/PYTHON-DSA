{
 "cells": [
  {
   "cell_type": "code",
   "execution_count": 63,
   "metadata": {},
   "outputs": [],
   "source": [
    "def findElements(arr, target, s, e):\n",
    "    if s>e:\n",
    "        return -1\n",
    "    m = (s + (e-s)) //2\n",
    "    if s==e and target != arr[s]:\n",
    "        return -1\n",
    "    if arr[m] == target:\n",
    "        return m\n",
    "    if arr[s] <= arr[m]:\n",
    "        if arr[s] <= target <= arr[m]:\n",
    "            return findElements(arr,target,s,m-1)\n",
    "        else:\n",
    "            return findElements(arr,target,m+1,e)\n",
    "    if arr[m] <= target <= arr[e]:\n",
    "        return findElements(arr,target,m+1,e)\n",
    "    return findElements(arr,target,s,m-1)\n",
    "        \n",
    "        \n",
    "            "
   ]
  },
  {
   "cell_type": "code",
   "execution_count": 64,
   "metadata": {},
   "outputs": [],
   "source": [
    "from jovian.pythondsa import evaluate_test_cases"
   ]
  },
  {
   "cell_type": "code",
   "execution_count": 65,
   "metadata": {},
   "outputs": [],
   "source": [
    "test_cases = [\n",
    "    {\n",
    "        'input': {\n",
    "            'arr':[5,6,7,8,9,1,2,3],\n",
    "            'target' : 5,\n",
    "            's' : 0,\n",
    "            'e' : 7\n",
    "        },\n",
    "        'output': 0\n",
    "    },\n",
    "    {\n",
    "        'input': {\n",
    "            'arr':[1,2,3,4,5],\n",
    "            'target' : 3,\n",
    "            's' : 0,\n",
    "            'e' : 4\n",
    "        },\n",
    "        'output': 2\n",
    "    },\n",
    "    {\n",
    "        'input': {\n",
    "            'arr':[2,2,3,4,5],\n",
    "            'target' : 0,\n",
    "            's' : 0,\n",
    "            'e' : 4\n",
    "\n",
    "        },\n",
    "        'output': -1\n",
    "    },\n",
    "      {\n",
    "        'input': {\n",
    "            'arr':[11,2,3,4,5],\n",
    "            'target' : 12,\n",
    "            's' : 0,\n",
    "            'e' : 4\n",
    "\n",
    "        },\n",
    "        'output': -1\n",
    "    },\n",
    "     {\n",
    "        'input': {\n",
    "            'arr':[1,2,3,6,5],\n",
    "            'target' : 11,\n",
    "            's' : 0,\n",
    "            'e' : 4\n",
    "        },\n",
    "        'output': -1\n",
    "    },\n",
    "]\n",
    "  "
   ]
  },
  {
   "cell_type": "code",
   "execution_count": 66,
   "metadata": {},
   "outputs": [
    {
     "name": "stdout",
     "output_type": "stream",
     "text": [
      "\n",
      "\u001b[1mTEST CASE #0\u001b[0m\n",
      "\n",
      "Input:\n",
      "{'arr': [5, 6, 7, 8, 9, 1, 2, 3], 'target': 5, 's': 0, 'e': 7}\n",
      "\n",
      "Expected Output:\n",
      "0\n",
      "\n",
      "\n",
      "Actual Output:\n",
      "0\n",
      "\n",
      "Execution Time:\n",
      "0.008 ms\n",
      "\n",
      "Test Result:\n",
      "\u001b[92mPASSED\u001b[0m\n",
      "\n",
      "\n",
      "\u001b[1mTEST CASE #1\u001b[0m\n",
      "\n",
      "Input:\n",
      "{'arr': [1, 2, 3, 4, 5], 'target': 3, 's': 0, 'e': 4}\n",
      "\n",
      "Expected Output:\n",
      "2\n",
      "\n",
      "\n",
      "Actual Output:\n",
      "2\n",
      "\n",
      "Execution Time:\n",
      "0.006 ms\n",
      "\n",
      "Test Result:\n",
      "\u001b[92mPASSED\u001b[0m\n",
      "\n",
      "\n",
      "\u001b[1mTEST CASE #2\u001b[0m\n",
      "\n",
      "Input:\n",
      "{'arr': [2, 2, 3, 4, 5], 'target': 0, 's': 0, 'e': 4}\n",
      "\n",
      "Expected Output:\n",
      "-1\n",
      "\n",
      "\n",
      "Actual Output:\n",
      "-1\n",
      "\n",
      "Execution Time:\n",
      "0.009 ms\n",
      "\n",
      "Test Result:\n",
      "\u001b[92mPASSED\u001b[0m\n",
      "\n",
      "\n",
      "\u001b[1mTEST CASE #3\u001b[0m\n",
      "\n",
      "Input:\n",
      "{'arr': [11, 2, 3, 4, 5], 'target': 12, 's': 0, 'e': 4}\n",
      "\n",
      "Expected Output:\n",
      "-1\n",
      "\n",
      "\n",
      "Actual Output:\n",
      "-1\n",
      "\n",
      "Execution Time:\n",
      "0.013 ms\n",
      "\n",
      "Test Result:\n",
      "\u001b[92mPASSED\u001b[0m\n",
      "\n",
      "\n",
      "\u001b[1mTEST CASE #4\u001b[0m\n",
      "\n",
      "Input:\n",
      "{'arr': [1, 2, 3, 6, 5], 'target': 11, 's': 0, 'e': 4}\n",
      "\n",
      "Expected Output:\n",
      "-1\n",
      "\n",
      "\n",
      "Actual Output:\n",
      "-1\n",
      "\n",
      "Execution Time:\n",
      "0.015 ms\n",
      "\n",
      "Test Result:\n",
      "\u001b[92mPASSED\u001b[0m\n",
      "\n",
      "\n",
      "\u001b[1mSUMMARY\u001b[0m\n",
      "\n",
      "TOTAL: 5, \u001b[92mPASSED\u001b[0m: 5, \u001b[91mFAILED\u001b[0m: 0\n"
     ]
    },
    {
     "data": {
      "text/plain": [
       "[(0, True, 0.008),\n",
       " (2, True, 0.006),\n",
       " (-1, True, 0.009),\n",
       " (-1, True, 0.013),\n",
       " (-1, True, 0.015)]"
      ]
     },
     "execution_count": 66,
     "metadata": {},
     "output_type": "execute_result"
    }
   ],
   "source": [
    "evaluate_test_cases(findElements, test_cases)"
   ]
  },
  {
   "cell_type": "code",
   "execution_count": 67,
   "metadata": {},
   "outputs": [
    {
     "data": {
      "text/plain": [
       "-1"
      ]
     },
     "execution_count": 67,
     "metadata": {},
     "output_type": "execute_result"
    }
   ],
   "source": [
    "findElements([11,2,3,4,5],12,0,4)"
   ]
  },
  {
   "cell_type": "code",
   "execution_count": null,
   "metadata": {},
   "outputs": [],
   "source": []
  },
  {
   "cell_type": "code",
   "execution_count": null,
   "metadata": {},
   "outputs": [],
   "source": []
  },
  {
   "cell_type": "code",
   "execution_count": null,
   "metadata": {},
   "outputs": [],
   "source": []
  }
 ],
 "metadata": {
  "kernelspec": {
   "display_name": "Python 3",
   "language": "python",
   "name": "python3"
  },
  "language_info": {
   "codemirror_mode": {
    "name": "ipython",
    "version": 3
   },
   "file_extension": ".py",
   "mimetype": "text/x-python",
   "name": "python",
   "nbconvert_exporter": "python",
   "pygments_lexer": "ipython3",
   "version": "3.6.3"
  }
 },
 "nbformat": 4,
 "nbformat_minor": 2
}
