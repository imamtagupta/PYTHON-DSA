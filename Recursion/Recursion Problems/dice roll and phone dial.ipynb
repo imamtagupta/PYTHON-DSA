{
 "cells": [
  {
   "cell_type": "markdown",
   "source": [
    "\n",
    "### 1) Letter Combination of a phone number(considering all 1-9 will have only 3 alphabets)\n"
   ],
   "metadata": {
    "collapsed": false
   }
  },
  {
   "cell_type": "code",
   "execution_count": null,
   "outputs": [],
   "source": [
    "\n",
    "def phoneDial(dialedNumber, processedString=\"\"):\n",
    "    dialedNumber = dialedNumber.replace('0', '')\n",
    "    if not dialedNumber:\n",
    "        print(processedString)\n",
    "        return\n",
    "    num = int(dialedNumber[0])\n",
    "    start = 3 * (num - 1)\n",
    "    end = start + 3\n",
    "    for chars in range(start, end):\n",
    "        ch = chr(97 + chars)\n",
    "        phoneDial(dialedNumber[1:], processedString + ch)\n",
    "\n",
    "\n",
    "phoneDial('101')"
   ],
   "metadata": {
    "collapsed": false
   }
  },
  {
   "cell_type": "markdown",
   "source": [
    "\n",
    "\n",
    "### 2) Number of dice rolls with target sum"
   ],
   "metadata": {
    "collapsed": false
   },
   "execution_count": 1
  },
  {
   "cell_type": "code",
   "execution_count": null,
   "outputs": [],
   "source": [
    "\n",
    "def diceRollTargetSum(un, p=\"\"):\n",
    "    if un == 0:\n",
    "        print(p)\n",
    "        return\n",
    "    for div in range(1, 6):\n",
    "        if div <= un:\n",
    "            diceRollTargetSum(un - div, p + str(div))\n",
    "\n",
    "\n",
    "diceRollTargetSum(5)\n"
   ],
   "metadata": {
    "collapsed": false
   }
  }
 ],
 "metadata": {
  "kernelspec": {
   "display_name": "Python 3",
   "language": "python",
   "name": "python3"
  },
  "language_info": {
   "codemirror_mode": {
    "name": "ipython",
    "version": 2
   },
   "file_extension": ".py",
   "mimetype": "text/x-python",
   "name": "python",
   "nbconvert_exporter": "python",
   "pygments_lexer": "ipython2",
   "version": "2.7.6"
  }
 },
 "nbformat": 4,
 "nbformat_minor": 0
}
