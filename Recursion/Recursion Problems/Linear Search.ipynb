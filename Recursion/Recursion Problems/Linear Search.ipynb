{
 "cells": [
  {
   "cell_type": "code",
   "execution_count": 7,
   "metadata": {},
   "outputs": [],
   "source": [
    "def findElements(arr, target, index):\n",
    "    if index == len(arr)-1:\n",
    "        return -1\n",
    "    if arr[index] == target:\n",
    "        return True\n",
    "    else:\n",
    "        return findElements(arr, target, index+1)"
   ]
  },
  {
   "cell_type": "code",
   "execution_count": 8,
   "metadata": {},
   "outputs": [],
   "source": [
    "from jovian.pythondsa import evaluate_test_cases"
   ]
  },
  {
   "cell_type": "code",
   "execution_count": 9,
   "metadata": {},
   "outputs": [],
   "source": [
    "test_cases = [\n",
    "    {\n",
    "        'input': {\n",
    "            'arr':[1,2,3,4,5],\n",
    "            'target' : 3,\n",
    "            'index' : 0\n",
    "        },\n",
    "        'output': True\n",
    "    },\n",
    "    {\n",
    "        'input': {\n",
    "            'arr':[2,2,3,4,5],\n",
    "            'target' : 2,\n",
    "            'index' : 0\n",
    "\n",
    "        },\n",
    "        'output': True\n",
    "    },\n",
    "      {\n",
    "        'input': {\n",
    "            'arr':[11,2,3,4,5],\n",
    "            'target' : 12,\n",
    "            'index' : 0\n",
    "\n",
    "        },\n",
    "        'output': -1\n",
    "    },\n",
    "     {\n",
    "        'input': {\n",
    "            'arr':[1,2,3,6,5],\n",
    "            'target' : 11,\n",
    "            'index' : 0\n",
    "        },\n",
    "        'output': -1\n",
    "    },\n",
    "]\n",
    "  "
   ]
  },
  {
   "cell_type": "code",
   "execution_count": 10,
   "metadata": {},
   "outputs": [
    {
     "name": "stdout",
     "output_type": "stream",
     "text": [
      "\n",
      "\u001b[1mTEST CASE #0\u001b[0m\n",
      "\n",
      "Input:\n",
      "{'arr': [1, 2, 3, 4, 5], 'target': 3, 'index': 0}\n",
      "\n",
      "Expected Output:\n",
      "True\n",
      "\n",
      "\n",
      "Actual Output:\n",
      "True\n",
      "\n",
      "Execution Time:\n",
      "0.008 ms\n",
      "\n",
      "Test Result:\n",
      "\u001b[92mPASSED\u001b[0m\n",
      "\n",
      "\n",
      "\u001b[1mTEST CASE #1\u001b[0m\n",
      "\n",
      "Input:\n",
      "{'arr': [2, 2, 3, 4, 5], 'target': 2, 'index': 0}\n",
      "\n",
      "Expected Output:\n",
      "True\n",
      "\n",
      "\n",
      "Actual Output:\n",
      "True\n",
      "\n",
      "Execution Time:\n",
      "0.004 ms\n",
      "\n",
      "Test Result:\n",
      "\u001b[92mPASSED\u001b[0m\n",
      "\n",
      "\n",
      "\u001b[1mTEST CASE #2\u001b[0m\n",
      "\n",
      "Input:\n",
      "{'arr': [11, 2, 3, 4, 5], 'target': 12, 'index': 0}\n",
      "\n",
      "Expected Output:\n",
      "-1\n",
      "\n",
      "\n",
      "Actual Output:\n",
      "-1\n",
      "\n",
      "Execution Time:\n",
      "0.005 ms\n",
      "\n",
      "Test Result:\n",
      "\u001b[92mPASSED\u001b[0m\n",
      "\n",
      "\n",
      "\u001b[1mTEST CASE #3\u001b[0m\n",
      "\n",
      "Input:\n",
      "{'arr': [1, 2, 3, 6, 5], 'target': 11, 'index': 0}\n",
      "\n",
      "Expected Output:\n",
      "-1\n",
      "\n",
      "\n",
      "Actual Output:\n",
      "-1\n",
      "\n",
      "Execution Time:\n",
      "0.005 ms\n",
      "\n",
      "Test Result:\n",
      "\u001b[92mPASSED\u001b[0m\n",
      "\n",
      "\n",
      "\u001b[1mSUMMARY\u001b[0m\n",
      "\n",
      "TOTAL: 4, \u001b[92mPASSED\u001b[0m: 4, \u001b[91mFAILED\u001b[0m: 0\n"
     ]
    },
    {
     "data": {
      "text/plain": [
       "[(True, True, 0.008),\n",
       " (True, True, 0.004),\n",
       " (-1, True, 0.005),\n",
       " (-1, True, 0.005)]"
      ]
     },
     "execution_count": 10,
     "metadata": {},
     "output_type": "execute_result"
    }
   ],
   "source": [
    "evaluate_test_cases(findElements, test_cases)"
   ]
  },
  {
   "cell_type": "code",
   "execution_count": null,
   "metadata": {},
   "outputs": [],
   "source": []
  },
  {
   "cell_type": "code",
   "execution_count": null,
   "metadata": {},
   "outputs": [],
   "source": []
  },
  {
   "cell_type": "code",
   "execution_count": null,
   "metadata": {},
   "outputs": [],
   "source": []
  },
  {
   "cell_type": "code",
   "execution_count": null,
   "metadata": {},
   "outputs": [],
   "source": []
  }
 ],
 "metadata": {
  "kernelspec": {
   "display_name": "Python 3",
   "language": "python",
   "name": "python3"
  },
  "language_info": {
   "codemirror_mode": {
    "name": "ipython",
    "version": 3
   },
   "file_extension": ".py",
   "mimetype": "text/x-python",
   "name": "python",
   "nbconvert_exporter": "python",
   "pygments_lexer": "ipython3",
   "version": "3.6.3"
  }
 },
 "nbformat": 4,
 "nbformat_minor": 2
}
