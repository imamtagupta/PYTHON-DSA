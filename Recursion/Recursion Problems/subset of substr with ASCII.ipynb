{
 "cells": [
  {
   "cell_type": "code",
   "execution_count": 3,
   "metadata": {},
   "outputs": [],
   "source": [
    "def subseq(p, un):\n",
    "    if un == '':\n",
    "        return [p]\n",
    "    return subseq(p+un[0],un[1:]) + subseq(p,un[1:]) + subseq(p+str(ord(un[0])), un[1:])    "
   ]
  },
  {
   "cell_type": "code",
   "execution_count": 5,
   "metadata": {},
   "outputs": [
    {
     "data": {
      "text/plain": [
       "['abc',\n",
       " 'ab',\n",
       " 'ab99',\n",
       " 'ac',\n",
       " 'a',\n",
       " 'a99',\n",
       " 'a98c',\n",
       " 'a98',\n",
       " 'a9899',\n",
       " 'bc',\n",
       " 'b',\n",
       " 'b99',\n",
       " 'c',\n",
       " '',\n",
       " '99',\n",
       " '98c',\n",
       " '98',\n",
       " '9899',\n",
       " '97bc',\n",
       " '97b',\n",
       " '97b99',\n",
       " '97c',\n",
       " '97',\n",
       " '9799',\n",
       " '9798c',\n",
       " '9798',\n",
       " '979899']"
      ]
     },
     "execution_count": 5,
     "metadata": {},
     "output_type": "execute_result"
    }
   ],
   "source": [
    "subseq('','abc')"
   ]
  },
  {
   "cell_type": "code",
   "execution_count": 1,
   "metadata": {},
   "outputs": [
    {
     "data": {
      "text/plain": [
       "97"
      ]
     },
     "execution_count": 1,
     "metadata": {},
     "output_type": "execute_result"
    }
   ],
   "source": [
    "ord('a')"
   ]
  },
  {
   "cell_type": "code",
   "execution_count": 2,
   "metadata": {},
   "outputs": [
    {
     "data": {
      "text/plain": [
       "'a'"
      ]
     },
     "execution_count": 2,
     "metadata": {},
     "output_type": "execute_result"
    }
   ],
   "source": [
    "chr(97)"
   ]
  },
  {
   "cell_type": "code",
   "execution_count": null,
   "metadata": {},
   "outputs": [],
   "source": []
  }
 ],
 "metadata": {
  "kernelspec": {
   "display_name": "Python 3",
   "language": "python",
   "name": "python3"
  },
  "language_info": {
   "codemirror_mode": {
    "name": "ipython",
    "version": 3
   },
   "file_extension": ".py",
   "mimetype": "text/x-python",
   "name": "python",
   "nbconvert_exporter": "python",
   "pygments_lexer": "ipython3",
   "version": "3.6.3"
  }
 },
 "nbformat": 4,
 "nbformat_minor": 2
}
