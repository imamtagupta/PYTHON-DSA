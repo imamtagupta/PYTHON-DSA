{
 "cells": [
  {
   "cell_type": "code",
   "execution_count": 3,
   "metadata": {
    "collapsed": true
   },
   "outputs": [],
   "source": [
    "class TreeNode:\n",
    "    def __init__(self, data):\n",
    "        self.data: int = data\n",
    "        self.children: list = []"
   ]
  },
  {
   "cell_type": "code",
   "execution_count": 4,
   "outputs": [],
   "source": [
    "## NAIVE WAY TO CREATE GENERIC TREE\n",
    " #     5\n",
    " #  / / \\ \\\n",
    " # 2 9  8  7\n",
    " #  / \\\n",
    " # 15  1\n",
    "\n",
    "n1 = TreeNode(5)\n",
    "n2 = TreeNode(1)\n",
    "n3 = TreeNode(8)\n",
    "n4 = TreeNode(9)\n",
    "n5 = TreeNode(7)\n",
    "n6 = TreeNode(15)\n",
    "n7 = TreeNode(2)\n",
    "\n",
    "n1.children.append(n7)\n",
    "n1.children.append(n4)\n",
    "n1.children.append(n3)\n",
    "n1.children.append(n5)\n",
    "\n",
    "n4.children.append(n6)\n",
    "n4.children.append(n2)\n"
   ],
   "metadata": {
    "collapsed": false
   }
  },
  {
   "cell_type": "markdown",
   "source": [
    "## Print Tree"
   ],
   "metadata": {
    "collapsed": false
   }
  },
  {
   "cell_type": "code",
   "execution_count": 5,
   "outputs": [
    {
     "name": "stdout",
     "output_type": "stream",
     "text": [
      "5 2 9 15 1 8 7 "
     ]
    }
   ],
   "source": [
    "def printTree(root):\n",
    "    print(root.data, end = \" \")\n",
    "    for child in root.children:\n",
    "        printTree(child)\n",
    "\n",
    "printTree(n1)"
   ],
   "metadata": {
    "collapsed": false
   }
  },
  {
   "cell_type": "markdown",
   "source": [
    "## Print Tree - 2"
   ],
   "metadata": {
    "collapsed": false
   }
  },
  {
   "cell_type": "code",
   "execution_count": 15,
   "outputs": [
    {
     "name": "stdout",
     "output_type": "stream",
     "text": [
      "5 : 2,9,8,7,\n",
      "2 : \n",
      "9 : 15,1,\n",
      "15 : \n",
      "1 : \n",
      "8 : \n",
      "7 : \n"
     ]
    }
   ],
   "source": [
    "def printTree(root):\n",
    "    # not base case, just an edge cases\n",
    "    if not root:\n",
    "        return\n",
    "    print(root.data, end=\" : \")\n",
    "    for child in root.children:\n",
    "        print(child.data, end=\",\")\n",
    "    print()\n",
    "    for child in root.children:\n",
    "        printTree(child)\n",
    "\n",
    "printTree(n1)"
   ],
   "metadata": {
    "collapsed": false
   }
  },
  {
   "cell_type": "markdown",
   "source": [
    "## Print levelwise"
   ],
   "metadata": {
    "collapsed": false
   }
  },
  {
   "cell_type": "code",
   "execution_count": 93,
   "outputs": [
    {
     "name": "stdout",
     "output_type": "stream",
     "text": [
      "1:2,3,4\n",
      "2:\n",
      "3:\n",
      "4:\n"
     ]
    }
   ],
   "source": [
    "def printLevelWiseTree(tree):\n",
    "    if not tree:\n",
    "        return\n",
    "    q = queue.Queue()\n",
    "    q.put(tree)\n",
    "    while not q.empty():\n",
    "        data = q.get()\n",
    "        print(data.data, end=\":\")\n",
    "        n = len(data.children)\n",
    "        if n > 0:\n",
    "            for i in range(n-1):\n",
    "                print(data.children[i].data, end=\",\")\n",
    "                q.put(data.children[i])\n",
    "            print(data.children[n-1].data, end=\"\")\n",
    "            q.put(data.children[n-1])\n",
    "        print()\n",
    "\n",
    "printLevelWiseTree(gt)"
   ],
   "metadata": {
    "collapsed": false
   }
  },
  {
   "cell_type": "code",
   "execution_count": 39,
   "outputs": [],
   "source": [
    "def takeInput():\n",
    "    data = int(input())\n",
    "    if data == -1:\n",
    "        return\n",
    "    root = TreeNode(data)\n",
    "    n = int(input(\"how many children \"+str(data)+\" have\"))\n",
    "    for i in range(n):\n",
    "        child = takeInput()\n",
    "        root.children.append(child)\n",
    "    return root\n"
   ],
   "metadata": {
    "collapsed": false
   }
  },
  {
   "cell_type": "code",
   "execution_count": 40,
   "outputs": [
    {
     "name": "stdout",
     "output_type": "stream",
     "text": [
      "1 : 2,3,4,\n",
      "2 : \n",
      "3 : \n",
      "4 : \n"
     ]
    }
   ],
   "source": [
    "gt = takeInput()\n",
    "printTree(gt)"
   ],
   "metadata": {
    "collapsed": false
   }
  },
  {
   "cell_type": "markdown",
   "source": [
    "## Number of nodes in tree"
   ],
   "metadata": {
    "collapsed": false
   }
  },
  {
   "cell_type": "code",
   "execution_count": 45,
   "outputs": [
    {
     "data": {
      "text/plain": "4"
     },
     "execution_count": 45,
     "metadata": {},
     "output_type": "execute_result"
    }
   ],
   "source": [
    "# version 1\n",
    "def count(root):\n",
    "    if not root:\n",
    "        return 0\n",
    "    return 1 + sum([count(child) for child in root.children])\n",
    "\n",
    "\n",
    "count(gt)"
   ],
   "metadata": {
    "collapsed": false
   }
  },
  {
   "cell_type": "code",
   "execution_count": 47,
   "outputs": [
    {
     "data": {
      "text/plain": "4"
     },
     "execution_count": 47,
     "metadata": {},
     "output_type": "execute_result"
    }
   ],
   "source": [
    "# version 2\n",
    "def count1(root):\n",
    "    total = 0\n",
    "    for child in root.children:\n",
    "        total += count1(child)\n",
    "    return total\n",
    "\n",
    "count(gt)"
   ],
   "metadata": {
    "collapsed": false
   }
  },
  {
   "cell_type": "markdown",
   "source": [
    "## Height of tree"
   ],
   "metadata": {
    "collapsed": false
   }
  },
  {
   "cell_type": "code",
   "execution_count": 49,
   "outputs": [
    {
     "data": {
      "text/plain": "2"
     },
     "execution_count": 49,
     "metadata": {},
     "output_type": "execute_result"
    }
   ],
   "source": [
    "def height(root):\n",
    "    if not root:\n",
    "        return 0\n",
    "    return 1 + max([height(child) for child in root.children])\n",
    "\n",
    "height(gt)"
   ],
   "metadata": {
    "collapsed": false
   }
  },
  {
   "cell_type": "code",
   "execution_count": 50,
   "outputs": [
    {
     "name": "stdout",
     "output_type": "stream",
     "text": [
      "1 : 2,3,\n",
      "2 : \n",
      "3 : 4,\n",
      "4 : 5,6,\n",
      "5 : \n",
      "6 : 7,\n",
      "7 : \n"
     ]
    },
    {
     "data": {
      "text/plain": "6"
     },
     "execution_count": 50,
     "metadata": {},
     "output_type": "execute_result"
    }
   ],
   "source": [
    "gt2 = takeInput()\n",
    "printTree(gt2)\n",
    "height(gt2)"
   ],
   "metadata": {
    "collapsed": false
   }
  },
  {
   "cell_type": "markdown",
   "source": [
    "## take input levelwise"
   ],
   "metadata": {
    "collapsed": false
   }
  },
  {
   "cell_type": "code",
   "execution_count": 52,
   "outputs": [],
   "source": [
    "def inputLevelWise(li) :\n",
    "    i = 0\n",
    "    data = li[i]\n",
    "    i += 1\n",
    "    if data == -1 :\n",
    "        return None\n",
    "    root = TreeNode(data)\n",
    "    q = queue.Queue()\n",
    "    q.put(root)\n",
    "    while (not q.empty()) :\n",
    "        frontNode = q.get()\n",
    "        noOfChildren = li[i]\n",
    "        i += 1\n",
    "        childrenArray = li[i : i+noOfChildren]\n",
    "        for childData in childrenArray :\n",
    "            childNode = TreeNode(childData)\n",
    "            frontNode.children.append(childNode)\n",
    "            q.put(childNode)\n",
    "        i = i+noOfChildren\n",
    "    return root"
   ],
   "metadata": {
    "collapsed": false
   }
  },
  {
   "cell_type": "markdown",
   "source": [
    "\n",
    "## Node with largest data"
   ],
   "metadata": {
    "collapsed": false
   }
  },
  {
   "cell_type": "code",
   "execution_count": 79,
   "outputs": [
    {
     "data": {
      "text/plain": "4"
     },
     "execution_count": 79,
     "metadata": {},
     "output_type": "execute_result"
    }
   ],
   "source": [
    "def maxData(tree):\n",
    "    if not tree:\n",
    "        return 0\n",
    "\n",
    "    maxElements = [maxData(child) for child in tree.children]\n",
    "    if maxElements:\n",
    "        return max(tree.data, max(maxElements))\n",
    "    return tree.data\n",
    "\n",
    "\n",
    "maxData(gt)"
   ],
   "metadata": {
    "collapsed": false
   }
  },
  {
   "cell_type": "code",
   "execution_count": 80,
   "outputs": [
    {
     "name": "stdout",
     "output_type": "stream",
     "text": [
      "1 : 2,3,4,\n",
      "2 : \n",
      "3 : \n",
      "4 : \n"
     ]
    }
   ],
   "source": [
    "printTree(gt)"
   ],
   "metadata": {
    "collapsed": false
   }
  },
  {
   "cell_type": "code",
   "execution_count": 85,
   "outputs": [
    {
     "data": {
      "text/plain": "4"
     },
     "execution_count": 85,
     "metadata": {},
     "output_type": "execute_result"
    }
   ],
   "source": [
    "maximum = None\n",
    "def maxDataNode(tree):\n",
    "    global maximum\n",
    "\n",
    "    if not tree:\n",
    "        return\n",
    "    if not maximum:\n",
    "        maximum = tree\n",
    "    if tree.data > maximum.data:\n",
    "        maximum = tree\n",
    "\n",
    "    for child in tree.children:\n",
    "        maxDataNode(child)\n",
    "    return maximum\n",
    "\n",
    "\n",
    "\n",
    "maxDataNode(gt).data"
   ],
   "metadata": {
    "collapsed": false
   }
  },
  {
   "cell_type": "markdown",
   "source": [
    "10 3 20 30 40 2 40 50 0 0 0 0"
   ],
   "metadata": {
    "collapsed": false
   }
  },
  {
   "cell_type": "markdown",
   "source": [
    "## Get input levelwise and print height"
   ],
   "metadata": {
    "collapsed": false
   }
  },
  {
   "cell_type": "code",
   "execution_count": 90,
   "outputs": [
    {
     "name": "stdout",
     "output_type": "stream",
     "text": [
      "3\n"
     ]
    }
   ],
   "source": [
    "import sys\n",
    "import queue\n",
    "\n",
    "\n",
    "#main\n",
    "sys.setrecursionlimit(10**6)\n",
    "## Read input as specified in the question.\n",
    "## Print output as specified in the question.\n",
    "class TreeNode:\n",
    "    def __init__(self, data):\n",
    "        self.data = data\n",
    "        self.children = []\n",
    "def inputLevelWise(li) :\n",
    "    i = 0\n",
    "    data = li[i]\n",
    "    i += 1\n",
    "    if data == -1 :\n",
    "        return None\n",
    "    root = TreeNode(data)\n",
    "    q = queue.Queue()\n",
    "    q.put(root)\n",
    "    while (not q.empty()) :\n",
    "        frontNode = q.get()\n",
    "        noOfChildren = li[i]\n",
    "        i += 1\n",
    "        childrenArray = li[i : i+noOfChildren]\n",
    "        for childData in childrenArray :\n",
    "            childNode = TreeNode(childData)\n",
    "            frontNode.children.append(childNode)\n",
    "            q.put(childNode)\n",
    "        i = i+noOfChildren\n",
    "    return root\n",
    "\n",
    "def height(root):\n",
    "    if not root:\n",
    "        return 0\n",
    "    ls = [height(child) for child in root.children]\n",
    "    if ls:\n",
    "        return 1 + max(ls)\n",
    "    return 1\n",
    "\n",
    "\n",
    "inputList = [int(x) for x in input().split()]\n",
    "root = inputLevelWise(inputList)\n",
    "print(height(root))"
   ],
   "metadata": {
    "collapsed": false
   }
  },
  {
   "cell_type": "markdown",
   "source": [
    "## contains x"
   ],
   "metadata": {
    "collapsed": false
   }
  },
  {
   "cell_type": "code",
   "execution_count": 97,
   "outputs": [
    {
     "name": "stdout",
     "output_type": "stream",
     "text": [
      "1 3\n",
      "2 3\n",
      "3 3\n"
     ]
    },
    {
     "data": {
      "text/plain": "True"
     },
     "execution_count": 97,
     "metadata": {},
     "output_type": "execute_result"
    }
   ],
   "source": [
    "def containsX(tree, x):\n",
    "    if not tree:\n",
    "        return\n",
    "    print(tree.data, x)\n",
    "    if tree.data == x:\n",
    "        return True\n",
    "    for child in tree.children:\n",
    "        if containsX(child, x):\n",
    "            return True\n",
    "    return False\n",
    "\n",
    "\n",
    "containsX(gt, 3)"
   ],
   "metadata": {
    "collapsed": false
   }
  },
  {
   "cell_type": "code",
   "execution_count": 100,
   "outputs": [
    {
     "data": {
      "text/plain": "3"
     },
     "execution_count": 100,
     "metadata": {},
     "output_type": "execute_result"
    }
   ],
   "source": [
    "def leafNodeCount(tree):\n",
    "    if not tree:\n",
    "        return 0\n",
    "    if not tree.children:\n",
    "        return 1\n",
    "    return sum([leafNodeCount(child) for child in tree.children])\n",
    "\n",
    "\n",
    "leafNodeCount(gt)"
   ],
   "metadata": {
    "collapsed": false
   }
  },
  {
   "cell_type": "code",
   "execution_count": 203,
   "outputs": [
    {
     "data": {
      "text/plain": "11"
     },
     "execution_count": 203,
     "metadata": {},
     "output_type": "execute_result"
    }
   ],
   "source": [
    "## Node with maximum child sum\n",
    "maxSum=None\n",
    "maxNode=None\n",
    "def maxSumNode(tree):\n",
    "    global maxNode,maxSum\n",
    "    if not tree:\n",
    "        return\n",
    "    if not maxSum:\n",
    "        maxNode = maxSum = tree.data\n",
    "    if maxSum < sum([child.data for child in tree.children]):\n",
    "        maxSum = sum([child.data for child in tree.children])\n",
    "        maxNode = tree.data\n",
    "    for child in tree.children:\n",
    "        maxSumNode(child)\n",
    "    return maxSum\n",
    "\n",
    "maxSumNode(gt2)"
   ],
   "metadata": {
    "collapsed": false
   }
  },
  {
   "cell_type": "code",
   "execution_count": 204,
   "outputs": [
    {
     "name": "stdout",
     "output_type": "stream",
     "text": [
      "1 : 2,3,\n",
      "2 : \n",
      "3 : 4,\n",
      "4 : 5,6,\n",
      "5 : \n",
      "6 : 7,\n",
      "7 : \n"
     ]
    }
   ],
   "source": [
    "printTree(gt2)"
   ],
   "metadata": {
    "collapsed": false
   }
  },
  {
   "cell_type": "markdown",
   "source": [
    "    #############################\n",
    "    # STRUCTURALLY IDENTICALS   #\n",
    "    #############################"
   ],
   "metadata": {
    "collapsed": false
   }
  },
  {
   "cell_type": "code",
   "execution_count": 205,
   "outputs": [],
   "source": [
    "## Structurally identical"
   ],
   "metadata": {
    "collapsed": false
   }
  },
  {
   "cell_type": "code",
   "execution_count": 228,
   "outputs": [],
   "source": [
    "def isIdentical(tree1, tree2):\n",
    "    # this is edge case where lenght may vary or one doesn't even exist\n",
    "    if not tree1:\n",
    "        if not tree2:\n",
    "            return True\n",
    "        return False\n",
    "    if tree1.data != tree2.data and len(tree1.children) != len(tree2.children):\n",
    "        return False\n",
    "    for c1, c2 in zip(tree1.children, tree2.children):\n",
    "        if not isIdentical(c1, c2):\n",
    "            return False\n",
    "    return True"
   ],
   "metadata": {
    "collapsed": false
   }
  },
  {
   "cell_type": "code",
   "execution_count": 229,
   "outputs": [
    {
     "name": "stdout",
     "output_type": "stream",
     "text": [
      "10 : 20,30,40,\n",
      "20 : 40,50,\n",
      "40 : \n",
      "50 : \n",
      "30 : \n",
      "40 : \n",
      "---------------\n",
      "10 : 20,30,40,\n",
      "20 : 40,50,\n",
      "40 : \n",
      "50 : \n",
      "30 : \n",
      "40 : \n"
     ]
    },
    {
     "data": {
      "text/plain": "True"
     },
     "execution_count": 229,
     "metadata": {},
     "output_type": "execute_result"
    }
   ],
   "source": [
    "a = inputLevelWise([10, 3, 20, 30, 40, 2, 40, 50, 0, 0, 0, 0])\n",
    "b = inputLevelWise([10, 3, 20, 30, 40, 2, 40, 50, 0, 0, 0, 0])\n",
    "printTree(a)\n",
    "print(\"---------------\")\n",
    "printTree(b)\n",
    "isIdentical(a,b)\n"
   ],
   "metadata": {
    "collapsed": false
   }
  },
  {
   "cell_type": "code",
   "execution_count": 212,
   "outputs": [
    {
     "name": "stdout",
     "output_type": "stream",
     "text": [
      "1 : 2,3,\n",
      "2 : \n",
      "3 : \n",
      "1 : 3,2,\n",
      "3 : \n",
      "2 : \n"
     ]
    },
    {
     "data": {
      "text/plain": "True"
     },
     "execution_count": 212,
     "metadata": {},
     "output_type": "execute_result"
    }
   ],
   "source": [
    "a = takeInput()\n",
    "b = takeInput()\n",
    "printTree(a)\n",
    "printTree(b)\n",
    "isIdentical(a, b)"
   ],
   "metadata": {
    "collapsed": false
   }
  },
  {
   "cell_type": "markdown",
   "source": [
    "## Next Largest to node n"
   ],
   "metadata": {
    "collapsed": false
   }
  },
  {
   "cell_type": "markdown",
   "source": [
    "Given a generic tree and an integer n. Find and return the node with next larger element in the tree i.e. find a node with value just greater than n.\n",
    "Note: Return NULL if no node is present with the value greater than n."
   ],
   "metadata": {
    "collapsed": false
   }
  },
  {
   "cell_type": "code",
   "execution_count": 239,
   "outputs": [],
   "source": [
    "\n",
    "def nextLargest(tree, n):\n",
    "    if not tree:\n",
    "        return\n",
    "    if tree.data > n:\n",
    "        return tree.data\n",
    "    for child in tree.children:\n",
    "        data = nextLargest(child, n)\n",
    "        if data:\n",
    "            return data\n",
    "\n",
    "\n",
    "nextLargest(gt2, 15)"
   ],
   "metadata": {
    "collapsed": false
   }
  },
  {
   "cell_type": "markdown",
   "source": [
    "## Replace with depth"
   ],
   "metadata": {
    "collapsed": false
   }
  },
  {
   "cell_type": "code",
   "execution_count": 243,
   "outputs": [
    {
     "data": {
      "text/plain": "<__main__.TreeNode at 0x13f9970>"
     },
     "execution_count": 243,
     "metadata": {},
     "output_type": "execute_result"
    }
   ],
   "source": [
    "def replacewithDepth(tree, size=0):\n",
    "    if not tree:\n",
    "        return\n",
    "    if tree.data:\n",
    "        tree.data = size\n",
    "    for child in tree.children:\n",
    "        replacewithDepth(child, size+1)\n",
    "    return tree\n",
    "\n",
    "replacewithDepth(gt)"
   ],
   "metadata": {
    "collapsed": false
   }
  },
  {
   "cell_type": "code",
   "execution_count": 244,
   "outputs": [
    {
     "name": "stdout",
     "output_type": "stream",
     "text": [
      "0 : 1,1,1,\n",
      "1 : \n",
      "1 : \n",
      "1 : \n"
     ]
    }
   ],
   "source": [
    "printTree(gt)"
   ],
   "metadata": {
    "collapsed": false
   }
  },
  {
   "cell_type": "markdown",
   "source": [
    "## Remove Leaf nodes"
   ],
   "metadata": {
    "collapsed": false
   }
  },
  {
   "cell_type": "code",
   "execution_count": 246,
   "outputs": [],
   "source": [
    "def removeLeafNodes(root):\n",
    "    if(root==None): return None #if root is None return None\n",
    "    if(len(root.children)==0):return None #if root itself is leaf return None\n",
    "    # if root.children is a leaf node\n",
    "    # then delete it from children vector\n",
    "    i = 0\n",
    "    while i < len(root.children):\n",
    "        child = root.children[i]\n",
    "\n",
    "        # if it is  a leaf\n",
    "        if (len(child.children) == 0):\n",
    "\n",
    "            # shifting the vector to left\n",
    "            # after the point i\n",
    "            for j in range(i, len(root.children) - 1):\n",
    "                root.children[j] = root.children[j + 1]\n",
    "\n",
    "            # delete the last element\n",
    "            root.children.pop()\n",
    "            i -= 1\n",
    "        i += 1\n",
    "\n",
    "    # Remove all leaf node\n",
    "    # of children of root\n",
    "    for i in range(len(root.children)):\n",
    "\n",
    "        # call function for root.children\n",
    "        root.children[i]=removeLeafNodes(root.children[i])\n",
    "    return root"
   ],
   "metadata": {
    "collapsed": false
   }
  },
  {
   "cell_type": "code",
   "execution_count": null,
   "outputs": [],
   "source": [],
   "metadata": {
    "collapsed": false
   }
  }
 ],
 "metadata": {
  "kernelspec": {
   "display_name": "Python 3",
   "language": "python",
   "name": "python3"
  },
  "language_info": {
   "codemirror_mode": {
    "name": "ipython",
    "version": 2
   },
   "file_extension": ".py",
   "mimetype": "text/x-python",
   "name": "python",
   "nbconvert_exporter": "python",
   "pygments_lexer": "ipython2",
   "version": "2.7.6"
  }
 },
 "nbformat": 4,
 "nbformat_minor": 0
}
