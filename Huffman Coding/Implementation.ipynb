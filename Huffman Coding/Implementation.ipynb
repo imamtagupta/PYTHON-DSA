{
 "cells": [
  {
   "cell_type": "code",
   "execution_count": 1,
   "outputs": [],
   "source": [
    "import heapq"
   ],
   "metadata": {
    "collapsed": false
   }
  },
  {
   "cell_type": "code",
   "execution_count": 41,
   "outputs": [],
   "source": [
    "class BinaryTreeNode:\n",
    "    def __init__(self, value, frequency):\n",
    "        self.value = value\n",
    "        self.frequency = frequency\n",
    "        self.left = None\n",
    "        self.right = None\n",
    "\n",
    "    # Overriding the method of heap as the push and pop should happen based on frequency value\n",
    "\n",
    "    def __lt__(self, other):\n",
    "        return self.frequency < other.frequency\n",
    "\n",
    "    def __eq__(self, other):\n",
    "        return self.frequency == other.frequency"
   ],
   "metadata": {
    "collapsed": false
   }
  },
  {
   "cell_type": "code",
   "execution_count": 58,
   "metadata": {
    "collapsed": true
   },
   "outputs": [],
   "source": [
    "class HuffmanCoding:\n",
    "\n",
    "    def __init__(self, path):\n",
    "        self.path = path\n",
    "        self.heap = []\n",
    "        self.codes = {}\n",
    "\n",
    "    def __makeFrequencyDictionary(self, content):\n",
    "        freq = {}\n",
    "        for ele in content:\n",
    "            freq[ele] = freq.get(ele, 0) + 1\n",
    "        return freq\n",
    "\n",
    "    def __buildHeap(self, freq:dict):\n",
    "        for x in freq:\n",
    "            newNode = BinaryTreeNode(x, freq[x])\n",
    "            heapq.heappush(self.heap, newNode)\n",
    "\n",
    "    def __buildTree(self):\n",
    "        while len(self.heap) > 1:\n",
    "            n1, n2 = heapq.heappop(self.heap), heapq.heappop(self.heap)\n",
    "            sumFrequency = n1.frequency + n2.frequency\n",
    "            newNode = BinaryTreeNode(\"\", sumFrequency)\n",
    "            newNode.left = n1\n",
    "            newNode.right = n2\n",
    "            heapq.heappush(self.heap, newNode)\n",
    "        return\n",
    "\n",
    "    def __buildCodeHelper(self, root, curr_bits):\n",
    "        if not root:\n",
    "            return\n",
    "        if root.value:\n",
    "            self.codes[root.value] = curr_bits\n",
    "            return\n",
    "        self.__buildCodeHelper(root.left, curr_bits + \"0\")\n",
    "        self.__buildCodeHelper(root.right, curr_bits + \"1\")\n",
    "\n",
    "    def __buildCode(self):\n",
    "        root = heapq.heappop(self.heap)\n",
    "        self.__buildCodeHelper(root, \"\")\n",
    "\n",
    "    def __encodedText(self, text):\n",
    "        encodedText = \"\"\n",
    "        for char in text:\n",
    "            encodedText += self.codes[char]\n",
    "        return encodedText\n",
    "\n",
    "    def __paddedEncodedText(self, encodedText):\n",
    "        paddingAmount = 8 - (len(encodedText) % 8)\n",
    "        encodedText += '0'*paddingAmount\n",
    "\n",
    "        paddingInfo = \"{0:08b}\".format(paddingAmount)\n",
    "        paddedEncodedText = paddingInfo + encodedText\n",
    "        return paddedEncodedText\n",
    "\n",
    "    def __getByteArray(self, paddedEncode):\n",
    "        final = []\n",
    "        for i in range(0, len(paddedEncode), 8):\n",
    "            byte = paddedEncode[i:i+8]\n",
    "            final.append(int(byte, 2))\n",
    "        return final\n",
    "\n",
    "    def compress(self):\n",
    "\n",
    "        # Get file from given path\n",
    "        filePath = self.path\n",
    "\n",
    "        # Read content of file\n",
    "        fileContent = []\n",
    "        with open(filePath, encoding='utf8') as f:\n",
    "            for ln in f:\n",
    "                fileContent += ln.split()\n",
    "        fileContent = \"ababddgh\"\n",
    "        # Make frequency dictionary using the text\n",
    "        freq = self.__makeFrequencyDictionary(fileContent)\n",
    "\n",
    "        # Construct heap from frequency dict\n",
    "        self.__buildHeap(freq)\n",
    "\n",
    "        # Construct binary tree from heap\n",
    "        self.__buildTree()\n",
    "\n",
    "        # Construct codes from Binary tree\n",
    "        self.__buildCode()\n",
    "\n",
    "        # Create encoded text and put in file\n",
    "        encodedText = self.__encodedText(fileContent)\n",
    "        paddedEncodedText = self.__paddedEncodedText(encodedText)\n",
    "\n",
    "        # Return the file as output\n",
    "        byteArr = self.__getByteArray(paddedEncodedText)\n",
    "        return byteArr\n",
    "\n",
    "    def decompress(self):\n",
    "        pass\n",
    "\n"
   ]
  },
  {
   "cell_type": "code",
   "execution_count": 59,
   "outputs": [
    {
     "data": {
      "text/plain": "[6, 102, 13, 192]"
     },
     "execution_count": 59,
     "metadata": {},
     "output_type": "execute_result"
    }
   ],
   "source": [
    "h = HuffmanCoding(\"./demoTextFile.txt\")\n",
    "h.compress()"
   ],
   "metadata": {
    "collapsed": false
   }
  },
  {
   "cell_type": "code",
   "execution_count": 8,
   "outputs": [
    {
     "ename": "TypeError",
     "evalue": "heap argument must be a list",
     "output_type": "error",
     "traceback": [
      "\u001B[1;31m---------------------------------------------------------------------------\u001B[0m",
      "\u001B[1;31mTypeError\u001B[0m                                 Traceback (most recent call last)",
      "\u001B[1;32m<ipython-input-8-a0720d380b27>\u001B[0m in \u001B[0;36m<module>\u001B[1;34m\u001B[0m\n\u001B[1;32m----> 1\u001B[1;33m \u001B[0mheapq\u001B[0m\u001B[1;33m.\u001B[0m\u001B[0mheappush\u001B[0m\u001B[1;33m(\u001B[0m\u001B[0mh\u001B[0m\u001B[1;33m,\u001B[0m \u001B[1;36m2\u001B[0m\u001B[1;33m)\u001B[0m\u001B[1;33m\u001B[0m\u001B[0m\n\u001B[0m\u001B[0;32m      2\u001B[0m \u001B[0mh\u001B[0m\u001B[1;33m\u001B[0m\u001B[0m\n",
      "\u001B[1;31mTypeError\u001B[0m: heap argument must be a list"
     ]
    }
   ],
   "source": [
    "heapq.heappush(h, 2)\n",
    "h"
   ],
   "metadata": {
    "collapsed": false
   }
  },
  {
   "cell_type": "code",
   "execution_count": 10,
   "outputs": [
    {
     "data": {
      "text/plain": "__main__.HuffmanCoding"
     },
     "execution_count": 10,
     "metadata": {},
     "output_type": "execute_result"
    }
   ],
   "source": [
    "type(h)"
   ],
   "metadata": {
    "collapsed": false
   }
  },
  {
   "cell_type": "code",
   "execution_count": 37,
   "outputs": [
    {
     "name": "stdout",
     "output_type": "stream",
     "text": [
      "['a', 'b', 'c', 'x', 'a', 'd', 'z']\n"
     ]
    }
   ],
   "source": [
    "with open('demoTextFile.txt', encoding='utf8') as f:\n",
    "    for line in f:\n",
    "        print(line.split())"
   ],
   "metadata": {
    "collapsed": false
   }
  },
  {
   "cell_type": "code",
   "execution_count": null,
   "outputs": [],
   "source": [],
   "metadata": {
    "collapsed": false
   }
  }
 ],
 "metadata": {
  "kernelspec": {
   "display_name": "Python 3",
   "language": "python",
   "name": "python3"
  },
  "language_info": {
   "codemirror_mode": {
    "name": "ipython",
    "version": 2
   },
   "file_extension": ".py",
   "mimetype": "text/x-python",
   "name": "python",
   "nbconvert_exporter": "python",
   "pygments_lexer": "ipython2",
   "version": "2.7.6"
  }
 },
 "nbformat": 4,
 "nbformat_minor": 0
}
