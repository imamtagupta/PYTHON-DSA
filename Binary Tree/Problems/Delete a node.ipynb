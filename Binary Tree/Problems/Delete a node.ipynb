{
 "cells": [
  {
   "cell_type": "markdown",
   "metadata": {},
   "source": [
    "###  Delete node in BST"
   ]
  },
  {
   "cell_type": "code",
   "execution_count": 27,
   "metadata": {},
   "outputs": [],
   "source": [
    "class TreeNode:\n",
    "    def __init__(self, val):\n",
    "        self.val = val\n",
    "        self.left = None\n",
    "        self.right = None\n",
    "        \n",
    "    def add_element(self, element):\n",
    "        if self.val  == element:\n",
    "            return\n",
    "        elif self.val > element:\n",
    "            # insert into left subtree\n",
    "            if self.left:\n",
    "                return self.left.add_element(element)\n",
    "            self.left = TreeNode(element)\n",
    "            \n",
    "        elif self.val < element:\n",
    "            # insert into right subtree\n",
    "            if self.right:\n",
    "                return self.right.add_element(element)\n",
    "            self.right = TreeNode(element)\n",
    "            \n",
    "    def traverse_in_order(self):\n",
    "        if self is None:\n",
    "            return []\n",
    "        return TreeNode.traverse_in_order(self.left)+[self.val]+ TreeNode.traverse_in_order(self.right)\n",
    "    \n",
    "def buildTree(listOfElements):\n",
    "    elements = TreeNode(listOfElements[0])\n",
    "    for i in listOfElements:\n",
    "         elements.add_element(i)\n",
    "    return elements\n",
    "\n",
    "elmentsList = [5,3,6,2,4,7]"
   ]
  },
  {
   "cell_type": "code",
   "execution_count": 28,
   "metadata": {},
   "outputs": [
    {
     "data": {
      "text/plain": [
       "[2, 3, 4, 5, 6, 7]"
      ]
     },
     "execution_count": 28,
     "metadata": {},
     "output_type": "execute_result"
    }
   ],
   "source": [
    "data = buildTree(elmentsList)\n",
    "data.traverse_in_order()"
   ]
  },
  {
   "cell_type": "code",
   "execution_count": 37,
   "metadata": {},
   "outputs": [],
   "source": [
    "\n",
    "def findMin(root):\n",
    "    if root.left is None:\n",
    "        return root.val\n",
    "    return findMin(root.left)\n",
    "    \n",
    "def deleteNode(root, key):\n",
    "    if root is None:\n",
    "        return None\n",
    "    if key == root.val:\n",
    "        # found matching node with 0 children\n",
    "        if root.left is None and root.right is None:\n",
    "            return None\n",
    "        if root.left is None:\n",
    "            return root.right \n",
    "        if root.right is None:\n",
    "            return root.left \n",
    "\n",
    "        minVal = findMin(root.right)\n",
    "        root.val = minVal\n",
    "        root.right = deleteNode(root.right, minVal)\n",
    "\n",
    "    if key < root.val:\n",
    "        if root.left:\n",
    "            root.left = deleteNode(root.left, key)\n",
    "    if key > root.val:\n",
    "        if root.right:\n",
    "            root.right = deleteNode(root.right, key)\n",
    "    return root"
   ]
  },
  {
   "cell_type": "code",
   "execution_count": 38,
   "metadata": {},
   "outputs": [
    {
     "data": {
      "text/plain": [
       "<__main__.TreeNode at 0xb138f0>"
      ]
     },
     "execution_count": 38,
     "metadata": {},
     "output_type": "execute_result"
    }
   ],
   "source": [
    "deleteNode(data, 3)"
   ]
  },
  {
   "cell_type": "code",
   "execution_count": 39,
   "metadata": {},
   "outputs": [
    {
     "data": {
      "text/plain": [
       "[2, 4, 5, 6, 7]"
      ]
     },
     "execution_count": 39,
     "metadata": {},
     "output_type": "execute_result"
    }
   ],
   "source": [
    "data.traverse_in_order()"
   ]
  },
  {
   "cell_type": "code",
   "execution_count": null,
   "metadata": {},
   "outputs": [],
   "source": []
  }
 ],
 "metadata": {
  "kernelspec": {
   "display_name": "Python 3",
   "language": "python",
   "name": "python3"
  },
  "language_info": {
   "codemirror_mode": {
    "name": "ipython",
    "version": 3
   },
   "file_extension": ".py",
   "mimetype": "text/x-python",
   "name": "python",
   "nbconvert_exporter": "python",
   "pygments_lexer": "ipython3",
   "version": "3.6.3"
  }
 },
 "nbformat": 4,
 "nbformat_minor": 2
}
