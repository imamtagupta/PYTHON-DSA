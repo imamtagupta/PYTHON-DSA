{
 "cells": [
  {
   "cell_type": "code",
   "execution_count": 1,
   "metadata": {
    "collapsed": true
   },
   "outputs": [
    {
     "name": "stdout",
     "output_type": "stream",
     "text": [
      "1 L :  2 R :  6 \n",
      "2 L :  4 R :  5 \n",
      "4 \n",
      "5 \n",
      "6 L :  7 R :  8 \n",
      "7 \n",
      "8 \n"
     ]
    }
   ],
   "source": [
    "class Node:\n",
    "    def __init__(self, data):\n",
    "        self.data = data\n",
    "        self.left = None\n",
    "        self.right = None\n",
    "\n",
    "\n",
    "def BTthroughInput():\n",
    "    data = int(input())\n",
    "    if data == -1:\n",
    "        return None\n",
    "    root = Node(data)\n",
    "    leftTree = BTthroughInput()\n",
    "    rightTree = BTthroughInput()\n",
    "    root.left = leftTree\n",
    "    root.right = rightTree\n",
    "    return root\n",
    "\n",
    "\n",
    "def displayBT(root):\n",
    "    if not root:\n",
    "        return None\n",
    "    print(root.data, end=\" \")\n",
    "    if root.left:\n",
    "        print(\"L : \", root.left.data, end=\" \")\n",
    "\n",
    "    if root.right:\n",
    "        print(\"R : \", root.right.data, end=\" \")\n",
    "    print()\n",
    "    displayBT(root.left)\n",
    "    displayBT(root.right)\n",
    "\n",
    "\n",
    "bt = BTthroughInput()\n",
    "displayBT(bt)"
   ]
  },
  {
   "cell_type": "code",
   "execution_count": 26,
   "outputs": [],
   "source": [
    "def removeLeafNodes(root):\n",
    "    if not root:\n",
    "        return None\n",
    "    if not root.left and not root.right:\n",
    "        return\n",
    "    root.left = removeLeafNodes(root.left)\n",
    "    root.right = removeLeafNodes(root.right)\n",
    "    return root\n"
   ],
   "metadata": {
    "collapsed": false
   }
  },
  {
   "cell_type": "code",
   "execution_count": 33,
   "outputs": [
    {
     "data": {
      "text/plain": "<__main__.Node at 0x14397790>"
     },
     "execution_count": 33,
     "metadata": {},
     "output_type": "execute_result"
    }
   ],
   "source": [
    "# 1\n",
    "# 2 4\n",
    "# 3\n",
    "bt = BTthroughInput()\n",
    "removeLeafNodes(bt)"
   ],
   "metadata": {
    "collapsed": false
   }
  },
  {
   "cell_type": "code",
   "execution_count": 34,
   "outputs": [
    {
     "name": "stdout",
     "output_type": "stream",
     "text": [
      "1 L :  2 \n",
      "2 \n"
     ]
    }
   ],
   "source": [
    "displayBT(bt)"
   ],
   "metadata": {
    "collapsed": false
   }
  },
  {
   "cell_type": "markdown",
   "source": [
    "# Mirror binary tree"
   ],
   "metadata": {
    "collapsed": false
   }
  },
  {
   "cell_type": "code",
   "execution_count": 46,
   "outputs": [],
   "source": [
    "\n",
    "def mirrorBinaryTree(root) :\n",
    "    if not root:\n",
    "        return\n",
    "\n",
    "    mirrorBinaryTree(root.left)\n",
    "    mirrorBinaryTree(root.right)\n",
    "\n",
    "    if root.left and root.right:\n",
    "        root.left, root.right = root.right, root.left\n",
    "        return"
   ],
   "metadata": {
    "collapsed": false
   }
  },
  {
   "cell_type": "code",
   "execution_count": 47,
   "outputs": [
    {
     "name": "stdout",
     "output_type": "stream",
     "text": [
      "1 L :  2 R :  5 \n",
      "2 L :  3 R :  4 \n",
      "3 \n",
      "4 \n",
      "5 \n"
     ]
    }
   ],
   "source": [
    "bt = BTthroughInput()\n",
    "displayBT(bt)"
   ],
   "metadata": {
    "collapsed": false
   }
  },
  {
   "cell_type": "code",
   "execution_count": 51,
   "outputs": [],
   "source": [
    "bt1 = bt"
   ],
   "metadata": {
    "collapsed": false
   }
  },
  {
   "cell_type": "code",
   "execution_count": 52,
   "outputs": [
    {
     "name": "stdout",
     "output_type": "stream",
     "text": [
      "1 L :  5 R :  2 \n",
      "5 \n",
      "2 L :  4 R :  3 \n",
      "4 \n",
      "3 \n"
     ]
    }
   ],
   "source": [
    "mirrorBinaryTree(bt)\n",
    "displayBT(bt)"
   ],
   "metadata": {
    "collapsed": false
   }
  },
  {
   "cell_type": "markdown",
   "source": [
    "# Check if BT is Balanced or not?"
   ],
   "metadata": {
    "collapsed": false
   }
  },
  {
   "cell_type": "code",
   "execution_count": 67,
   "outputs": [],
   "source": [
    "def height(root):\n",
    "    if not root:\n",
    "        return 0\n",
    "    return 1+max(height(root.left), height(root.right))\n",
    "\n",
    "def isBalanced(root):\n",
    "    if not root:\n",
    "        return True\n",
    "    l = height(root.left)\n",
    "    r = height(root.right)\n",
    "    if l - r > 1 or r - l > 1:\n",
    "        return False\n",
    "    if isBalanced(root.left) and isBalanced(root.right):\n",
    "        return True\n",
    "    return False"
   ],
   "metadata": {
    "collapsed": false
   }
  },
  {
   "cell_type": "code",
   "execution_count": 68,
   "outputs": [
    {
     "name": "stdout",
     "output_type": "stream",
     "text": [
      "1 L :  5 R :  2 \n",
      "5 \n",
      "2 L :  4 R :  3 \n",
      "4 \n",
      "3 \n"
     ]
    }
   ],
   "source": [
    "displayBT(bt)"
   ],
   "metadata": {
    "collapsed": false
   }
  },
  {
   "cell_type": "code",
   "execution_count": 69,
   "outputs": [
    {
     "data": {
      "text/plain": "True"
     },
     "execution_count": 69,
     "metadata": {},
     "output_type": "execute_result"
    }
   ],
   "source": [
    "isBalanced(bt)"
   ],
   "metadata": {
    "collapsed": false
   }
  },
  {
   "cell_type": "markdown",
   "source": [
    "Time Complexit : skew tree ie worst case O(n^2)\n",
    "                 balanced i.e best case O(nlogn)"
   ],
   "metadata": {
    "collapsed": false
   }
  },
  {
   "cell_type": "markdown",
   "source": [
    "Optimised way of doing the same!"
   ],
   "metadata": {
    "collapsed": false
   }
  },
  {
   "cell_type": "code",
   "execution_count": 72,
   "outputs": [],
   "source": [
    "def isBalanced(root, h=0):\n",
    "    if not root:\n",
    "        return 0, True\n",
    "    lh, leftBalance = isBalanced(root.left)\n",
    "    rh, rightBalance = isBalanced(root.right)\n",
    "    h = 1 + max(lh, rh)\n",
    "    if lh - rh > 1 or rh-lh > 1:\n",
    "        return h, False\n",
    "    if leftBalance and rightBalance:\n",
    "        return h, True\n",
    "    return h, False"
   ],
   "metadata": {
    "collapsed": false
   }
  },
  {
   "cell_type": "code",
   "execution_count": 73,
   "outputs": [
    {
     "data": {
      "text/plain": "(3, True)"
     },
     "execution_count": 73,
     "metadata": {},
     "output_type": "execute_result"
    }
   ],
   "source": [
    "isBalanced(bt)"
   ],
   "metadata": {
    "collapsed": false
   }
  },
  {
   "cell_type": "markdown",
   "source": [
    "# Diameter of BT\n",
    "#### is defined as distance between two farthest nodes"
   ],
   "metadata": {
    "collapsed": false
   }
  },
  {
   "cell_type": "code",
   "execution_count": 99,
   "outputs": [],
   "source": [
    "def diameterOfBinaryTree(root):\n",
    "    if root is None:\n",
    "        return 0\n",
    "    lh = height(root.left)\n",
    "    rh = height(root.right)\n",
    "\n",
    "    ld = diameterOfBinaryTree(root.left)\n",
    "    rd = diameterOfBinaryTree(root.right)\n",
    "    return max(lh + rh + 1, max(ld, rd))"
   ],
   "metadata": {
    "collapsed": false
   }
  },
  {
   "cell_type": "code",
   "execution_count": 100,
   "outputs": [
    {
     "data": {
      "text/plain": "4"
     },
     "execution_count": 100,
     "metadata": {},
     "output_type": "execute_result"
    }
   ],
   "source": [
    "diameterOfBinaryTree(bt)"
   ],
   "metadata": {
    "collapsed": false
   }
  },
  {
   "cell_type": "code",
   "execution_count": 98,
   "outputs": [
    {
     "name": "stdout",
     "output_type": "stream",
     "text": [
      "1 L :  5 R :  2 \n",
      "5 \n",
      "2 L :  4 R :  3 \n",
      "4 \n",
      "3 \n"
     ]
    }
   ],
   "source": [
    "displayBT(bt)"
   ],
   "metadata": {
    "collapsed": false
   }
  },
  {
   "cell_type": "markdown",
   "source": [
    "## Delete a node"
   ],
   "metadata": {
    "collapsed": false
   },
   "execution_count": 1
  },
  {
   "cell_type": "code",
   "execution_count": 2,
   "outputs": [],
   "source": [
    "\n",
    "def findMin(root):\n",
    "    if root.left is None:\n",
    "        return root.val\n",
    "    return findMin(root.left)\n",
    "\n",
    "def deleteNode(root, key):\n",
    "    if root is None:\n",
    "        return None\n",
    "    if key == root.val:\n",
    "        # found matching node with 0 children\n",
    "        if root.left is None and root.right is None:\n",
    "            return None\n",
    "        if root.left is None:\n",
    "            return root.right\n",
    "        if root.right is None:\n",
    "            return root.left\n",
    "\n",
    "        minVal = findMin(root.right)\n",
    "        root.val = minVal\n",
    "        root.right = deleteNode(root.right, minVal)\n",
    "\n",
    "    if key < root.val:\n",
    "        if root.left:\n",
    "            root.left = deleteNode(root.left, key)\n",
    "    if key > root.val:\n",
    "        if root.right:\n",
    "            root.right = deleteNode(root.right, key)\n",
    "    return root"
   ],
   "metadata": {
    "collapsed": false
   }
  },
  {
   "cell_type": "code",
   "execution_count": null,
   "outputs": [],
   "source": [],
   "metadata": {
    "collapsed": false
   }
  }
 ],
 "metadata": {
  "kernelspec": {
   "display_name": "Python 3",
   "language": "python",
   "name": "python3"
  },
  "language_info": {
   "codemirror_mode": {
    "name": "ipython",
    "version": 2
   },
   "file_extension": ".py",
   "mimetype": "text/x-python",
   "name": "python",
   "nbconvert_exporter": "python",
   "pygments_lexer": "ipython2",
   "version": "2.7.6"
  }
 },
 "nbformat": 4,
 "nbformat_minor": 0
}
