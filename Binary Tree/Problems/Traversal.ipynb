{
 "cells": [
  {
   "cell_type": "code",
   "execution_count": 6,
   "metadata": {
    "collapsed": true
   },
   "outputs": [
    {
     "name": "stdout",
     "output_type": "stream",
     "text": [
      "1 L :  2 R :  3 \n",
      "2 L :  4 R :  5 \n",
      "4 \n",
      "5 \n",
      "3 \n"
     ]
    }
   ],
   "source": [
    "class Node:\n",
    "    def __init__(self, data):\n",
    "        self.data = data\n",
    "        self.left = None\n",
    "        self.right = None\n",
    "\n",
    "\n",
    "def BTthroughInput():\n",
    "    data = int(input())\n",
    "    if data == -1:\n",
    "        return None\n",
    "    root = Node(data)\n",
    "    leftTree = BTthroughInput()\n",
    "    rightTree = BTthroughInput()\n",
    "    root.left = leftTree\n",
    "    root.right = rightTree\n",
    "    return root\n",
    "\n",
    "\n",
    "def displayBT(root):\n",
    "    if not root:\n",
    "        return None\n",
    "    print(root.data, end=\" \")\n",
    "    if root.left:\n",
    "        print(\"L : \", root.left.data, end=\" \")\n",
    "\n",
    "    if root.right:\n",
    "        print(\"R : \", root.right.data, end=\" \")\n",
    "    print()\n",
    "    displayBT(root.left)\n",
    "    displayBT(root.right)\n",
    "\n",
    "\n",
    "bt = BTthroughInput()\n",
    "displayBT(bt)"
   ]
  },
  {
   "cell_type": "code",
   "execution_count": 7,
   "outputs": [
    {
     "name": "stdout",
     "output_type": "stream",
     "text": [
      "Inorder Traversal: [4, 2, 5, 1, 3]\n",
      "Preorder Traversal: [1, 2, 4, 5, 3]\n",
      "Postorder Traversal: [4, 5, 2, 3, 1]\n"
     ]
    }
   ],
   "source": [
    "def traversal(root):\n",
    "    def inorder(root):\n",
    "        if not root:\n",
    "            return []\n",
    "        return inorder(root.left) + [root.data] + inorder(root.right)\n",
    "\n",
    "    def preorder(root):\n",
    "        if not root:\n",
    "            return []\n",
    "        return [root.data] + preorder(root.left) + preorder(root.right)\n",
    "\n",
    "    def postorder(root):\n",
    "        if not root:\n",
    "            return []\n",
    "        return postorder(root.left) + postorder(root.right) + [root.data]\n",
    "\n",
    "    print(f\"Inorder Traversal: {inorder(root)}\")\n",
    "    print(f\"Preorder Traversal: {preorder(root)}\")\n",
    "    print(f\"Postorder Traversal: {postorder(root)}\")\n",
    "\n",
    "\n",
    "\n",
    "traversal(bt)"
   ],
   "metadata": {
    "collapsed": false
   }
  },
  {
   "cell_type": "markdown",
   "source": [
    "#### Time Complexity: O(N)\n",
    "Auxiliary Space: If we don’t consider the size of the stack for function calls then O(1) otherwise O(h) where h is the height of the tree.\n",
    "\n",
    "Note: The height of the skewed tree is n (no. of elements) so the worst space complexity is O(N) and the height is (Log N) for the balanced tree so the best space\n",
    "complexity is O(Log N).\n",
    "\n",
    "Let us see different corner cases:\n",
    "\n",
    "Complexity function T(n) — for all problems where tree traversal is involved — can be defined as: T(n) = T(k) + T(n – k – 1) + c\n",
    "Where k is the number of nodes on one side of the root and n-k-1 on the other side."
   ],
   "metadata": {
    "collapsed": false
   }
  },
  {
   "cell_type": "markdown",
   "source": [
    "## Print Levelwise"
   ],
   "metadata": {
    "collapsed": false
   },
   "execution_count": 1
  },
  {
   "cell_type": "code",
   "execution_count": 8,
   "outputs": [
    {
     "name": "stdout",
     "output_type": "stream",
     "text": [
      "1:L:2,R:3\n",
      "2:L:4,R:5\n",
      "3:L:-1,R:-1\n",
      "4:L:-1,R:-1\n",
      "5:L:-1,R:-1\n"
     ]
    }
   ],
   "source": [
    "import queue\n",
    "\n",
    "\n",
    "def printLevelWise(root):\n",
    "    q = queue.Queue()\n",
    "    q.put(root)\n",
    "    while not q.empty():\n",
    "        data = q.get()\n",
    "        print(str(data.data), end=\":\")\n",
    "        if data.left:\n",
    "            print(\"L:\" + str(data.left.data), end=\",\")\n",
    "            q.put(data.left)\n",
    "        else:\n",
    "            print(\"L:-1\", end=\",\")\n",
    "        if data.right:\n",
    "            print(\"R:\" + str(data.right.data))\n",
    "            q.put(data.right)\n",
    "        else:\n",
    "            print(\"R:-1\")\n",
    "printLevelWise(bt)"
   ],
   "metadata": {
    "collapsed": false
   }
  },
  {
   "cell_type": "markdown",
   "source": [
    "## Construct Tree using Inorder and preorder"
   ],
   "metadata": {
    "collapsed": false
   }
  },
  {
   "cell_type": "markdown",
   "source": [
    "Inorder Traversal: [2, 1, 3]\n",
    "Preorder Traversal: [1, 2, 3]\n",
    "\n",
    "STEPS to work on\n",
    "1- root from pre\n",
    "2- find inorder of both left and right subtree\n",
    "3- find preorder of both left and right subtree\n",
    "4- use recursion\n"
   ],
   "metadata": {
    "collapsed": false
   }
  },
  {
   "cell_type": "code",
   "execution_count": 9,
   "outputs": [
    {
     "name": "stdout",
     "output_type": "stream",
     "text": [
      "1 L :  2 R :  3 \n",
      "2 L :  4 R :  5 \n",
      "4 \n",
      "5 \n",
      "3 \n"
     ]
    }
   ],
   "source": [
    "def treeFromInorderAndPreorder(inord: list, pre: list):\n",
    "    if not inord and not pre:\n",
    "        return\n",
    "    node = pre[0]\n",
    "    ll = len(inord[:inord.index(node)])\n",
    "    leftIn = inord[:ll]\n",
    "    rightIn = inord[ll + 1:]\n",
    "    leftPre = pre[1:ll + 1]\n",
    "    rightPre = pre[ll + 1:]\n",
    "    root = Node(node)\n",
    "    root.left = treeFromInorderAndPreorder(leftIn, leftPre)\n",
    "    root.right = treeFromInorderAndPreorder(rightIn, rightPre)\n",
    "    return root\n",
    "\n",
    "newTree = treeFromInorderAndPreorder([4, 2, 5, 1, 3], [1, 2, 4, 5, 3])\n",
    "displayBT(newTree)"
   ],
   "metadata": {
    "collapsed": false
   }
  },
  {
   "cell_type": "code",
   "execution_count": 10,
   "outputs": [
    {
     "name": "stdout",
     "output_type": "stream",
     "text": [
      "1 L :  2 R :  3 \n",
      "2 \n",
      "3 \n"
     ]
    }
   ],
   "source": [
    "newTree = treeFromInorderAndPreorder([2, 1, 3], [1, 2, 3])\n",
    "displayBT(newTree)"
   ],
   "metadata": {
    "collapsed": false
   }
  },
  {
   "cell_type": "markdown",
   "source": [
    "## Construct Tree using Postorder and preorder"
   ],
   "metadata": {
    "collapsed": false
   }
  },
  {
   "cell_type": "code",
   "execution_count": 11,
   "outputs": [
    {
     "name": "stdout",
     "output_type": "stream",
     "text": [
      "1 L :  2 R :  3 \n",
      "2 L :  4 R :  5 \n",
      "4 \n",
      "5 \n",
      "3 \n"
     ]
    }
   ],
   "source": [
    "def buildTree(postOrder, inOrder, n=0):\n",
    "    if not postOrder and not inOrder:\n",
    "        return\n",
    "    node = postOrder[-1]\n",
    "    ll = len(inOrder[:(inOrder.index(node))])\n",
    "    leftPost = postOrder[:ll]\n",
    "    rightPost = postOrder[ll:-1]\n",
    "    leftIn = inOrder[:ll]\n",
    "    rightIn = inOrder[ll + 1:]\n",
    "    root = Node(node)\n",
    "    root.left = buildTree(leftPost, leftIn)\n",
    "    root.right = buildTree(rightPost, rightIn)\n",
    "    return root\n",
    "\n",
    "\n",
    "displayBT(buildTree([4, 5, 2, 3, 1], [4, 2, 5, 1, 3]))"
   ],
   "metadata": {
    "collapsed": false
   }
  },
  {
   "cell_type": "markdown",
   "source": [
    "## Level Order Traversal"
   ],
   "metadata": {
    "collapsed": false
   }
  },
  {
   "cell_type": "code",
   "execution_count": 12,
   "outputs": [
    {
     "name": "stdout",
     "output_type": "stream",
     "text": [
      "1 2 3 4 5 "
     ]
    }
   ],
   "source": [
    "def BFS(root):\n",
    "    q = queue.Queue()\n",
    "    q.put(root)\n",
    "    while not q.empty():\n",
    "        data = q.get()\n",
    "        print(data.data, end=\" \")\n",
    "        if data.left:\n",
    "            q.put(data.left)\n",
    "        if data.right:\n",
    "            q.put(data.right)\n",
    "\n",
    "BFS(bt)"
   ],
   "metadata": {
    "collapsed": false
   }
  },
  {
   "cell_type": "markdown",
   "source": [
    "## Create & Insert Duplicate Node"
   ],
   "metadata": {
    "collapsed": false
   }
  },
  {
   "cell_type": "code",
   "execution_count": 13,
   "outputs": [],
   "source": [
    "def insertDuplicateNode(root):\n",
    "    if not root:\n",
    "    \treturn\n",
    "    node = Node(root.data)\n",
    "    rootLeft = root.left\n",
    "    root.left = node\n",
    "    node.left = rootLeft\n",
    "    insertDuplicateNode(rootLeft)\n",
    "    insertDuplicateNode(root.right)\n",
    "    return\n"
   ],
   "metadata": {
    "collapsed": false
   }
  },
  {
   "cell_type": "markdown",
   "source": [],
   "metadata": {
    "collapsed": false
   }
  },
  {
   "cell_type": "code",
   "execution_count": 14,
   "outputs": [
    {
     "name": "stdout",
     "output_type": "stream",
     "text": [
      "1 L :  1 R :  3 \n",
      "1 L :  2 \n",
      "2 L :  2 \n",
      "2 \n",
      "3 L :  3 \n",
      "3 \n"
     ]
    }
   ],
   "source": [
    "bt1 = BTthroughInput()\n",
    "insertDuplicateNode(bt1)\n",
    "displayBT(bt1)\n"
   ],
   "metadata": {
    "collapsed": false
   }
  },
  {
   "cell_type": "markdown",
   "source": [
    "## Min and max in Binary Tree"
   ],
   "metadata": {
    "collapsed": false
   }
  },
  {
   "cell_type": "code",
   "execution_count": 15,
   "outputs": [],
   "source": [
    "MIN_VALUE = -9999999999\n",
    "MAX_VALUE = 9999999999\n",
    "\n",
    "#Representation of the Pair Class\n",
    "class Pair :\n",
    "\n",
    "    def __init__(self, minimum, maximum) :\n",
    "        self.minimum = minimum\n",
    "        self.maximum = maximum\n",
    "\n",
    "\n",
    "\n",
    "def getMinAndMax(root) :\n",
    "    if root is None:\n",
    "        return Pair(MAX_VALUE, MIN_VALUE)\n",
    "\n",
    "    leftPair = getMinAndMax(root.left)\n",
    "    rightPair = getMinAndMax(root.right)\n",
    "\n",
    "    minimum = min(root.data, leftPair.minimum, rightPair.minimum)\n",
    "    maximum = max(root.data, leftPair.maximum, rightPair.maximum)\n",
    "\n",
    "    return Pair(minimum, maximum)"
   ],
   "metadata": {
    "collapsed": false
   }
  },
  {
   "cell_type": "markdown",
   "source": [
    "## BFS Traversal (levelwise)"
   ],
   "metadata": {
    "collapsed": false
   }
  },
  {
   "cell_type": "code",
   "execution_count": 16,
   "outputs": [
    {
     "name": "stdout",
     "output_type": "stream",
     "text": [
      "1 \n",
      "2 3 \n",
      "4 5 \n"
     ]
    }
   ],
   "source": [
    "def printLevelWise(root):\n",
    "    if not root:\n",
    "        return\n",
    "    q = queue.Queue()\n",
    "    q.put(root)\n",
    "    while not q.empty():\n",
    "        count = q.qsize()\n",
    "        while count > 0:\n",
    "            data = q.get()\n",
    "            print(data.data, end=\" \")\n",
    "            if data.left:\n",
    "                q.put(data.left)\n",
    "            if data.right:\n",
    "                q.put(data.right)\n",
    "            count -= 1\n",
    "        print()\n",
    "\n",
    "printLevelWise(bt)"
   ],
   "metadata": {
    "collapsed": false
   }
  },
  {
   "cell_type": "markdown",
   "source": [
    "## Print Postorder traversal from given Inorder and Preorder traversals"
   ],
   "metadata": {
    "collapsed": false
   }
  },
  {
   "cell_type": "code",
   "execution_count": 17,
   "outputs": [
    {
     "name": "stdout",
     "output_type": "stream",
     "text": [
      "2 3 1 "
     ]
    }
   ],
   "source": [
    "def printPostorder(inOrder, preOrder, n):\n",
    "    root = inOrder.index(preOrder[0])\n",
    "    # if left subtree exist:\n",
    "    if root != 0:\n",
    "        printPostorder(inOrder, preOrder[1:], root)\n",
    "\n",
    "    # if right subtree exist:\n",
    "    if root != n-1:\n",
    "        printPostorder(inOrder[root+1:n], preOrder[root+1:n], n-root-1)\n",
    "\n",
    "    print(preOrder[0], end=\" \")\n",
    "\n",
    "printPostorder([2, 1, 3], [1, 2, 3], 3)\n"
   ],
   "metadata": {
    "collapsed": false
   }
  },
  {
   "cell_type": "code",
   "execution_count": 18,
   "outputs": [
    {
     "name": "stdout",
     "output_type": "stream",
     "text": [
      "2 3 1 "
     ]
    }
   ],
   "source": [
    "def printPostorder(inOrder, preOrder, n):\n",
    "    root = inOrder.index(preOrder[0])\n",
    "    # if left subtree exist:\n",
    "    if root != 0:\n",
    "        printPostorder(inOrder, preOrder[1:], root)\n",
    "\n",
    "    # if right subtree exist:\n",
    "    if root != n-1:\n",
    "        printPostorder(inOrder[root+1:n], preOrder[root+1:n], n-root-1)\n",
    "\n",
    "    print(preOrder[0], end=\" \")\n",
    "\n",
    "printPostorder([2, 1, 3], [1, 2, 3], 3)\n"
   ],
   "metadata": {
    "collapsed": false
   }
  },
  {
   "cell_type": "markdown",
   "source": [
    "## Replace each node in binary tree with the sum of its inorder predecessor and successor :: returned list"
   ],
   "metadata": {
    "collapsed": false
   }
  },
  {
   "cell_type": "code",
   "execution_count": 19,
   "outputs": [
    {
     "name": "stdout",
     "output_type": "stream",
     "text": [
      "1 L :  2 R :  3 \n",
      "2 L :  4 R :  5 \n",
      "4 \n",
      "5 \n",
      "3 \n",
      "None\n"
     ]
    },
    {
     "data": {
      "text/plain": "[2, 9, 3, 8, 1]"
     },
     "execution_count": 19,
     "metadata": {},
     "output_type": "execute_result"
    }
   ],
   "source": [
    "def getInorder(root):\n",
    "    if not root:\n",
    "        return []\n",
    "    return getInorder(root.left) + [root.data] + getInorder(root.right)\n",
    "\n",
    "def sumOfPredecessorAndSuccessor(root):\n",
    "    inorder = getInorder(root)\n",
    "    n = len(inorder)\n",
    "    newSum = [0]*n\n",
    "    for i in range(n):\n",
    "        if i==0:\n",
    "            newSum[i] = inorder[i+1]\n",
    "        elif i==n-1:\n",
    "            newSum[i] = inorder[i-1]\n",
    "        else:\n",
    "            newSum[i] = inorder[i-1] + inorder[i+1]\n",
    "    return newSum\n",
    "\n",
    "print(displayBT(bt))\n",
    "sumOfPredecessorAndSuccessor(bt)"
   ],
   "metadata": {
    "collapsed": false
   }
  },
  {
   "cell_type": "markdown",
   "source": [
    "## Populate Inorder Successor for all nodes"
   ],
   "metadata": {
    "collapsed": false
   }
  },
  {
   "cell_type": "code",
   "execution_count": 20,
   "outputs": [],
   "source": [
    "def populateInorderSuccessor(root):\n",
    "    def inorderSuccessor(root):\n",
    "        if not root:\n",
    "            return []\n",
    "        return inorderSuccessor(root.left) + [root.data] + inorderSuccessor(root.right)\n",
    "\n",
    "    ls = inorderSuccessor(root)\n",
    "    i = 0\n",
    "    while i < len(ls)-1:\n",
    "        print(ls[i], \"->\", ls[i+1])\n",
    "        i += 1\n",
    "\n",
    "    print(ls[i],\"->\",-1)\n"
   ],
   "metadata": {
    "collapsed": false
   }
  },
  {
   "cell_type": "code",
   "execution_count": 34,
   "outputs": [
    {
     "name": "stdout",
     "output_type": "stream",
     "text": [
      "3 L :  1 R :  2 \n",
      "1 \n",
      "2 \n"
     ]
    }
   ],
   "source": [
    "bt1 = BTthroughInput()\n",
    "displayBT(bt1)"
   ],
   "metadata": {
    "collapsed": false
   }
  },
  {
   "cell_type": "code",
   "execution_count": 35,
   "outputs": [
    {
     "name": "stdout",
     "output_type": "stream",
     "text": [
      "1 -> 3\n",
      "3 -> 2\n",
      "2 -> -1\n"
     ]
    }
   ],
   "source": [
    "populateInorderSuccessor(bt1)"
   ],
   "metadata": {
    "collapsed": false
   }
  },
  {
   "cell_type": "code",
   "execution_count": 23,
   "outputs": [
    {
     "name": "stdout",
     "output_type": "stream",
     "text": [
      "1 L :  2 R :  5 \n",
      "2 L :  3 R :  4 \n",
      "3 \n",
      "4 \n",
      "5 L :  6 R :  7 \n",
      "6 \n",
      "7 \n"
     ]
    }
   ],
   "source": [
    "bt2 = BTthroughInput()\n",
    "displayBT(bt2)"
   ],
   "metadata": {
    "collapsed": false
   }
  },
  {
   "cell_type": "code",
   "execution_count": 24,
   "outputs": [
    {
     "name": "stdout",
     "output_type": "stream",
     "text": [
      "3 -> 2\n",
      "2 -> 4\n",
      "4 -> 1\n",
      "1 -> 6\n",
      "6 -> 5\n",
      "5 -> 7\n",
      "7 -> -1\n"
     ]
    }
   ],
   "source": [
    "populateInorderSuccessor(bt2)"
   ],
   "metadata": {
    "collapsed": false
   }
  },
  {
   "cell_type": "markdown",
   "source": [
    "## Find n-th node of inorder traversal"
   ],
   "metadata": {
    "collapsed": false
   }
  },
  {
   "cell_type": "code",
   "execution_count": 25,
   "outputs": [
    {
     "name": "stdout",
     "output_type": "stream",
     "text": [
      "3\n"
     ]
    }
   ],
   "source": [
    "def nthInorder(root, n, count = [0]):\n",
    "    if not root:\n",
    "        return\n",
    "    nthInorder(root.left, n, count)\n",
    "    count[0] += 1\n",
    "    if count[0] == n:\n",
    "        print(root.data)\n",
    "    nthInorder(root.right, n, count)\n",
    "\n",
    "nthInorder(bt1, 3)"
   ],
   "metadata": {
    "collapsed": false
   }
  },
  {
   "cell_type": "markdown",
   "source": [
    "## Find n-th node in Postorder traversal of a Binary Tree"
   ],
   "metadata": {
    "collapsed": false
   }
  },
  {
   "cell_type": "code",
   "execution_count": 26,
   "outputs": [
    {
     "name": "stdout",
     "output_type": "stream",
     "text": [
      "1\n"
     ]
    }
   ],
   "source": [
    "def nthPostorder(root, n, count = [0]):\n",
    "    if not root:\n",
    "        return\n",
    "    nthPostorder(root.left, n, count)\n",
    "    nthPostorder(root.right, n, count)\n",
    "    count[0] += 1\n",
    "    if count[0] == n:\n",
    "        print(root.data)\n",
    "\n",
    "\n",
    "nthPostorder(bt1,3)"
   ],
   "metadata": {
    "collapsed": false
   }
  },
  {
   "cell_type": "markdown",
   "source": [
    "## Level Order Traversal"
   ],
   "metadata": {
    "collapsed": false
   }
  },
  {
   "cell_type": "code",
   "execution_count": 27,
   "outputs": [],
   "source": [
    "def levelOrder(root):\n",
    "    if not root:\n",
    "        return\n",
    "    q = queue.Queue()\n",
    "    q.put(root)\n",
    "    while not q.empty():\n",
    "        count = q.qsize()\n",
    "        while count > 0:\n",
    "            data = q.get()\n",
    "            print(data.data, end=\" \")\n",
    "            if data.left:\n",
    "                q.put(data.left)\n",
    "            if data.right:\n",
    "                q.put(data.right)\n",
    "            count -= 1\n",
    "        print()\n"
   ],
   "metadata": {
    "collapsed": false
   }
  },
  {
   "cell_type": "code",
   "execution_count": 28,
   "outputs": [
    {
     "name": "stdout",
     "output_type": "stream",
     "text": [
      "1 L :  2 R :  3 \n",
      "2 L :  4 R :  5 \n",
      "4 \n",
      "5 \n",
      "3 \n"
     ]
    }
   ],
   "source": [
    "displayBT(bt)"
   ],
   "metadata": {
    "collapsed": false
   }
  },
  {
   "cell_type": "code",
   "execution_count": 30,
   "outputs": [
    {
     "name": "stdout",
     "output_type": "stream",
     "text": [
      "1 \n",
      "2 5 \n",
      "3 4 6 7 \n"
     ]
    }
   ],
   "source": [
    "levelOrder(bt2)"
   ],
   "metadata": {
    "collapsed": false
   }
  },
  {
   "cell_type": "markdown",
   "source": [
    "## Root Equals Sum of Children"
   ],
   "metadata": {
    "collapsed": false
   }
  },
  {
   "cell_type": "code",
   "execution_count": 38,
   "outputs": [
    {
     "data": {
      "text/plain": "True"
     },
     "execution_count": 38,
     "metadata": {},
     "output_type": "execute_result"
    }
   ],
   "source": [
    "def checkTree(root):\n",
    "    if root.data == root.left.data + root.right.data:\n",
    "        return True\n",
    "    return False\n",
    "checkTree(bt1)"
   ],
   "metadata": {
    "collapsed": false
   }
  },
  {
   "cell_type": "markdown",
   "source": [
    "## maximum depth of BT"
   ],
   "metadata": {
    "collapsed": false
   }
  },
  {
   "cell_type": "code",
   "execution_count": 49,
   "outputs": [],
   "source": [
    "def maxDepth(root):\n",
    "    if not root:\n",
    "        return 0\n",
    "    return 1+ max(maxDepth(root.left), maxDepth(root.right))"
   ],
   "metadata": {
    "collapsed": false
   }
  },
  {
   "cell_type": "code",
   "execution_count": 51,
   "outputs": [
    {
     "data": {
      "text/plain": "3"
     },
     "execution_count": 51,
     "metadata": {},
     "output_type": "execute_result"
    }
   ],
   "source": [
    "maxDepth(bt)"
   ],
   "metadata": {
    "collapsed": false
   }
  },
  {
   "cell_type": "markdown",
   "source": [
    "## maximum and minumum depth of BT"
   ],
   "metadata": {
    "collapsed": false
   }
  },
  {
   "cell_type": "code",
   "execution_count": 56,
   "outputs": [],
   "source": [
    "def depthOfBT(root):\n",
    "    if not root:\n",
    "        return 0, 0\n",
    "    leftmin, leftmax = depthOfBT(root.left)\n",
    "    rightmin, rightmax = depthOfBT(root.right)\n",
    "    return 1+min(leftmin, rightmin), 1+max(leftmax, rightmax)"
   ],
   "metadata": {
    "collapsed": false
   }
  },
  {
   "cell_type": "code",
   "execution_count": 57,
   "outputs": [
    {
     "data": {
      "text/plain": "(2, 3)"
     },
     "execution_count": 57,
     "metadata": {},
     "output_type": "execute_result"
    }
   ],
   "source": [
    "depthOfBT(bt)"
   ],
   "metadata": {
    "collapsed": false
   }
  },
  {
   "cell_type": "code",
   "execution_count": null,
   "outputs": [],
   "source": [],
   "metadata": {
    "collapsed": false
   }
  }
 ],
 "metadata": {
  "kernelspec": {
   "display_name": "Python 3",
   "language": "python",
   "name": "python3"
  },
  "language_info": {
   "codemirror_mode": {
    "name": "ipython",
    "version": 2
   },
   "file_extension": ".py",
   "mimetype": "text/x-python",
   "name": "python",
   "nbconvert_exporter": "python",
   "pygments_lexer": "ipython2",
   "version": "2.7.6"
  }
 },
 "nbformat": 4,
 "nbformat_minor": 0
}
