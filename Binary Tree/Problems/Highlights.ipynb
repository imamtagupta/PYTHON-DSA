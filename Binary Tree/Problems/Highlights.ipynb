{
 "cells": [
  {
   "cell_type": "code",
   "execution_count": 1,
   "metadata": {
    "collapsed": true
   },
   "outputs": [
    {
     "ename": "ValueError",
     "evalue": "invalid literal for int() with base 10: ''",
     "output_type": "error",
     "traceback": [
      "\u001B[1;31m---------------------------------------------------------------------------\u001B[0m",
      "\u001B[1;31mValueError\u001B[0m                                Traceback (most recent call last)",
      "\u001B[1;32m<ipython-input-1-8f790678d82b>\u001B[0m in \u001B[0;36m<module>\u001B[1;34m()\u001B[0m\n\u001B[0;32m     32\u001B[0m \u001B[1;33m\u001B[0m\u001B[0m\n\u001B[0;32m     33\u001B[0m \u001B[1;33m\u001B[0m\u001B[0m\n\u001B[1;32m---> 34\u001B[1;33m \u001B[0mbt\u001B[0m \u001B[1;33m=\u001B[0m \u001B[0mBTthroughInput\u001B[0m\u001B[1;33m(\u001B[0m\u001B[1;33m)\u001B[0m\u001B[1;33m\u001B[0m\u001B[0m\n\u001B[0m\u001B[0;32m     35\u001B[0m \u001B[0mdisplayBT\u001B[0m\u001B[1;33m(\u001B[0m\u001B[0mbt\u001B[0m\u001B[1;33m)\u001B[0m\u001B[1;33m\u001B[0m\u001B[0m\n",
      "\u001B[1;32m<ipython-input-1-8f790678d82b>\u001B[0m in \u001B[0;36mBTthroughInput\u001B[1;34m()\u001B[0m\n\u001B[0;32m      7\u001B[0m \u001B[1;33m\u001B[0m\u001B[0m\n\u001B[0;32m      8\u001B[0m \u001B[1;32mdef\u001B[0m \u001B[0mBTthroughInput\u001B[0m\u001B[1;33m(\u001B[0m\u001B[1;33m)\u001B[0m\u001B[1;33m:\u001B[0m\u001B[1;33m\u001B[0m\u001B[0m\n\u001B[1;32m----> 9\u001B[1;33m     \u001B[0mdata\u001B[0m \u001B[1;33m=\u001B[0m \u001B[0mint\u001B[0m\u001B[1;33m(\u001B[0m\u001B[0minput\u001B[0m\u001B[1;33m(\u001B[0m\u001B[1;33m)\u001B[0m\u001B[1;33m)\u001B[0m\u001B[1;33m\u001B[0m\u001B[0m\n\u001B[0m\u001B[0;32m     10\u001B[0m     \u001B[1;32mif\u001B[0m \u001B[0mdata\u001B[0m \u001B[1;33m==\u001B[0m \u001B[1;33m-\u001B[0m\u001B[1;36m1\u001B[0m\u001B[1;33m:\u001B[0m\u001B[1;33m\u001B[0m\u001B[0m\n\u001B[0;32m     11\u001B[0m         \u001B[1;32mreturn\u001B[0m \u001B[1;32mNone\u001B[0m\u001B[1;33m\u001B[0m\u001B[0m\n",
      "\u001B[1;31mValueError\u001B[0m: invalid literal for int() with base 10: ''"
     ]
    }
   ],
   "source": [
    "class Node:\n",
    "    def __init__(self, data):\n",
    "        self.data = data\n",
    "        self.left = None\n",
    "        self.right = None\n",
    "\n",
    "\n",
    "def BTthroughInput():\n",
    "    data = int(input())\n",
    "    if data == -1:\n",
    "        return None\n",
    "    root = Node(data)\n",
    "    leftTree = BTthroughInput()\n",
    "    rightTree = BTthroughInput()\n",
    "    root.left = leftTree\n",
    "    root.right = rightTree\n",
    "    return root\n",
    "\n",
    "\n",
    "def displayBT(root):\n",
    "    if not root:\n",
    "        return None\n",
    "    print(root.data, end=\" \")\n",
    "    if root.left:\n",
    "        print(\"L : \", root.left.data, end=\" \")\n",
    "\n",
    "    if root.right:\n",
    "        print(\"R : \", root.right.data, end=\" \")\n",
    "    print()\n",
    "    displayBT(root.left)\n",
    "    displayBT(root.right)\n",
    "\n",
    "\n",
    "bt = BTthroughInput()\n",
    "displayBT(bt)"
   ]
  },
  {
   "cell_type": "code",
   "execution_count": 7,
   "outputs": [
    {
     "name": "stdout",
     "output_type": "stream",
     "text": [
      "2 L :  3 R :  4 \n",
      "3 \n",
      "4 \n"
     ]
    }
   ],
   "source": [
    "bt1 = BTthroughInput()\n",
    "displayBT(bt1)"
   ],
   "metadata": {
    "collapsed": false
   }
  },
  {
   "cell_type": "code",
   "execution_count": 4,
   "outputs": [
    {
     "name": "stdout",
     "output_type": "stream",
     "text": [
      "3\n"
     ]
    }
   ],
   "source": [
    "## Height of binary tree\n",
    "def heightBT(root):\n",
    "    if not root:\n",
    "        return 0\n",
    "    return 1 + max(heightBT(root.left), heightBT(root.right))\n",
    "\n",
    "print(heightBT(bt))"
   ],
   "metadata": {
    "collapsed": false
   }
  },
  {
   "cell_type": "code",
   "execution_count": 8,
   "outputs": [
    {
     "name": "stdout",
     "output_type": "stream",
     "text": [
      "True\n",
      "False\n"
     ]
    }
   ],
   "source": [
    "## Determine if two trees are identical\n",
    "def isIdentical(root1, root2):\n",
    "    if not root1 and not root2:\n",
    "        return True\n",
    "    if root1.data != root2.data:\n",
    "        return False\n",
    "    leftpair = isIdentical(root1.left, root2.left)\n",
    "    rightpair = isIdentical(root1.right, root2.right)\n",
    "    return leftpair and rightpair\n",
    "\n",
    "print(isIdentical(bt,bt))\n",
    "print(isIdentical(bt,bt1))\n"
   ],
   "metadata": {
    "collapsed": false
   }
  },
  {
   "cell_type": "code",
   "execution_count": 9,
   "outputs": [
    {
     "name": "stdout",
     "output_type": "stream",
     "text": [
      "2 L :  3 R :  4 \n",
      "3 \n",
      "4 \n",
      "2 L :  4 R :  3 \n",
      "4 \n",
      "3 \n"
     ]
    }
   ],
   "source": [
    "## swap tree\n",
    "def swapTree(root):\n",
    "    if not root:\n",
    "        return\n",
    "    root.left, root.right = root.right, root.left\n",
    "    swapTree(root.left)\n",
    "    swapTree(root.right)\n",
    "\n",
    "displayBT(bt1)\n",
    "swapTree(bt1)\n",
    "displayBT(bt1)"
   ],
   "metadata": {
    "collapsed": false
   }
  },
  {
   "cell_type": "code",
   "execution_count": 14,
   "outputs": [
    {
     "name": "stdout",
     "output_type": "stream",
     "text": [
      "True\n"
     ]
    }
   ],
   "source": [
    "## Symmetric Tree : Check whether its a mirror of itself\n",
    "##      1\n",
    "##    /   \\\n",
    "##   2     2\n",
    "##  / \\   / \\\n",
    "## 3   4 4   3\n",
    "def isMirror(root1, root2):\n",
    "    if not root1 and not root2:\n",
    "        return True\n",
    "    if root1.data == root2.data:\n",
    "        return isMirror(root1.left, root2.right) and isMirror(root1.right, root2.left)\n",
    "    return False\n",
    "\n",
    "bt2 = BTthroughInput()\n",
    "print(isMirror(bt2, bt2))\n",
    "\n",
    "displayBT(bt2)"
   ],
   "metadata": {
    "collapsed": false
   }
  },
  {
   "cell_type": "code",
   "execution_count": 26,
   "outputs": [
    {
     "data": {
      "text/plain": "5"
     },
     "execution_count": 26,
     "metadata": {},
     "output_type": "execute_result"
    }
   ],
   "source": [
    "## Diameter of tree\n",
    "def diameterOfBinaryTree(root):\n",
    "    if root is None:\n",
    "        return 0\n",
    "    lh = heightBT(root.left)\n",
    "    rh = heightBT(root.right)\n",
    "\n",
    "    ld = diameterOfBinaryTree(root.left)\n",
    "    rd = diameterOfBinaryTree(root.right)\n",
    "    return max(lh + rh + 1, max(ld, rd))\n",
    "\n",
    "diameterOfBinaryTree(bt)"
   ],
   "metadata": {
    "collapsed": false
   }
  },
  {
   "cell_type": "code",
   "execution_count": 33,
   "outputs": [
    {
     "data": {
      "text/plain": "5"
     },
     "execution_count": 33,
     "metadata": {},
     "output_type": "execute_result"
    }
   ],
   "source": [
    "## diameter optimised\n",
    "class Height:\n",
    "    def __init__(self):\n",
    "        self.h = 0\n",
    "\n",
    "def diameterHelper(root, height):\n",
    "    lh = rh = Height()\n",
    "    if not root:\n",
    "        height.h = 0\n",
    "        return 0\n",
    "\n",
    "    ld = diameterHelper(root.left, lh)\n",
    "    rd = diameterHelper(root.right, rh)\n",
    "\n",
    "    height.h = 1 + max(lh.h, rh.h)\n",
    "\n",
    "    return max(1+lh.h+ rh.h, max(ld, rd))\n",
    "\n",
    "def diameterOfBinaryTree(root):\n",
    "    return diameterHelper(root, Height())\n",
    "\n",
    "diameterOfBinaryTree(bt)"
   ],
   "metadata": {
    "collapsed": false
   }
  },
  {
   "cell_type": "code",
   "execution_count": 37,
   "outputs": [
    {
     "data": {
      "text/plain": "True"
     },
     "execution_count": 37,
     "metadata": {},
     "output_type": "execute_result"
    }
   ],
   "source": [
    "## Check is balanced?\n",
    "def isBalanced(root):\n",
    "    if not root:\n",
    "        return True\n",
    "    lh = heightBT(root.left)\n",
    "    rh = heightBT(root.right)\n",
    "    if lh-rh > 1 or rh-lh > 1:\n",
    "        return False\n",
    "    return isBalanced(root.left) and isBalanced(root.right)\n",
    "\n",
    "isBalanced(bt)"
   ],
   "metadata": {
    "collapsed": false
   }
  },
  {
   "cell_type": "code",
   "execution_count": 76,
   "outputs": [
    {
     "name": "stdout",
     "output_type": "stream",
     "text": [
      "1 2 4 \n",
      "1 2 4 \n"
     ]
    }
   ],
   "source": [
    "## Path Sum root to leaf: give all path whose equal to k\n",
    "# --------------------------------------------------------\n",
    "# DESCRIPTION:\n",
    "# For a given Binary Tree of type integer and a number K, print out all root-to-leaf paths where the sum of all the node data along the path is equal to K.\n",
    "# --------------------------------------------------------\n",
    "\n",
    "def rootToLeafPathSum(root, k, path='', currSum=0):\n",
    "    if root is None :\n",
    "        return\n",
    "\n",
    "    if (root.left is None) and (root.right is None) :\n",
    "        currSum += root.data\n",
    "\n",
    "        if currSum == k :\n",
    "            print(str(path + str(root.data) + \" \").lstrip())\n",
    "        return\n",
    "\n",
    "\n",
    "    rootToLeafPathSum(root.left, k, str(path + str(root.data) + \" \"), (currSum + root.data))\n",
    "    rootToLeafPathSum(root.right, k, str(path + str(root.data) + \" \"), (currSum + root.data))\n",
    "\n",
    "rootToLeafPathSum(bt2, 7)"
   ],
   "metadata": {
    "collapsed": false
   }
  },
  {
   "cell_type": "code",
   "execution_count": 78,
   "outputs": [
    {
     "name": "stdout",
     "output_type": "stream",
     "text": [
      "3\n"
     ]
    },
    {
     "data": {
      "text/plain": "2"
     },
     "execution_count": 78,
     "metadata": {},
     "output_type": "execute_result"
    }
   ],
   "source": [
    "## print nodes at distance k from node\n",
    "def getallNodes(root, k):\n",
    "    if not root:\n",
    "        return\n",
    "    if k==0:\n",
    "        print(root.data)\n",
    "        return\n",
    "    getallNodes(root.left, k-1)\n",
    "    getallNodes(root.right, k-1)\n",
    "\n",
    "\n",
    "def nodesAtDistanceK(root, node, k):\n",
    "    if not root:\n",
    "        return -1\n",
    "\n",
    "    if root.data == node:\n",
    "        getallNodes(root,k)\n",
    "        return 0\n",
    "    leftDist = nodesAtDistanceK(root.left, node, k)\n",
    "    if leftDist != -1:\n",
    "        if leftDist + 1 == k:\n",
    "            print(root.data)\n",
    "        else:\n",
    "            getallNodes(root.right, k-leftDist-2)\n",
    "        return 1+leftDist\n",
    "\n",
    "    rightDist = nodesAtDistanceK(root.right, node, k)\n",
    "    if rightDist != -1:\n",
    "        if rightDist + 1 == k:\n",
    "            print(root.data)\n",
    "        else:\n",
    "            getallNodes(root.left, k-rightDist-2)\n",
    "        return 1+rightDist\n",
    "\n",
    "    return -1\n",
    "\n",
    "\n",
    "nodesAtDistanceK(bt, 6,1)"
   ],
   "metadata": {
    "collapsed": false
   }
  },
  {
   "cell_type": "code",
   "execution_count": 74,
   "outputs": [
    {
     "name": "stdout",
     "output_type": "stream",
     "text": [
      "1 L :  2 R :  2 \n",
      "2 L :  3 R :  4 \n",
      "3 \n",
      "4 \n",
      "2 L :  4 R :  3 \n",
      "4 \n",
      "3 \n"
     ]
    }
   ],
   "source": [
    "displayBT(bt2)"
   ],
   "metadata": {
    "collapsed": false
   }
  },
  {
   "cell_type": "markdown",
   "source": [
    "## Check cousins"
   ],
   "metadata": {
    "collapsed": false
   }
  },
  {
   "cell_type": "code",
   "execution_count": null,
   "outputs": [],
   "source": [
    "def isCousin(root, a, b):\n",
    "\n",
    "    if root == None:\n",
    "        return False\n",
    "\n",
    "    # To store parent of node a.\n",
    "    parA = None\n",
    "\n",
    "    # To store parent of node b.\n",
    "    parB = None\n",
    "\n",
    "    # queue to perform level order\n",
    "    # traversal. Each element of queue\n",
    "    # is a pair of node and its parent.\n",
    "    q = []\n",
    "\n",
    "    # Dummy node to act like\n",
    "    # parent of root node.\n",
    "    tmp = BinaryTreeNode(-1)\n",
    "\n",
    "    # Push root to queue.\n",
    "    q.append((root, tmp))\n",
    "\n",
    "    while len(q) > 0:\n",
    "\n",
    "        # find number of elements in\n",
    "        # current level.\n",
    "        levSize = len(q)\n",
    "        while levSize:\n",
    "\n",
    "            ele = q.pop(0)\n",
    "\n",
    "            # check if current node is\n",
    "            # node a or node b or not.\n",
    "            if ele[0].data == a:\n",
    "                parA = ele[1]\n",
    "\n",
    "            if ele[0].data == b:\n",
    "                parB = ele[1]\n",
    "\n",
    "            # push children of\n",
    "            # current node to queue.\n",
    "            if ele[0].left:\n",
    "                q.append((ele[0].left, ele[0]))\n",
    "\n",
    "            if ele[0].right:\n",
    "                q.append((ele[0].right, ele[0]))\n",
    "            levSize -= 1\n",
    "\n",
    "            # If both nodes are found in\n",
    "            # current level then no need\n",
    "            # to traverse current level further.\n",
    "            if parA and parB:\n",
    "                break\n",
    "\n",
    "        # Check if both nodes\n",
    "        # are siblings or not.\n",
    "        if parA and parB:\n",
    "            return parA != parB\n",
    "\n",
    "        # If one node is found in current level\n",
    "        # and another is not found, then\n",
    "        # both nodes are not cousins.\n",
    "        if (parA and not parB) or (parB and not parA):\n",
    "            return False\n",
    "\n",
    "    return False"
   ],
   "metadata": {
    "collapsed": false
   }
  },
  {
   "cell_type": "markdown",
   "source": [
    "## LONGEST ROOT TO LEAF PATH"
   ],
   "metadata": {
    "collapsed": false
   }
  },
  {
   "cell_type": "code",
   "execution_count": null,
   "outputs": [],
   "source": [
    "def longestPath(root):\n",
    "    if (root == None):\n",
    "        return []\n",
    "\n",
    "    # Recursive call on root.right\n",
    "    rightvect = longestPath(root.right)\n",
    "\n",
    "    # Recursive call on root.left\n",
    "    leftvect = longestPath(root.left)\n",
    "\n",
    "    # Compare the size of the two vectors\n",
    "    # and insert current node accordingly\n",
    "    if (len(leftvect) > len(rightvect)):\n",
    "        leftvect.append(root.data)\n",
    "    else:\n",
    "        rightvect.append(root.data)\n",
    "\n",
    "    # Return the appropriate vector\n",
    "    if len(leftvect) > len(rightvect):\n",
    "        return leftvect\n",
    "\n",
    "    return rightvect"
   ],
   "metadata": {
    "collapsed": false
   }
  }
 ],
 "metadata": {
  "kernelspec": {
   "display_name": "Python 3",
   "language": "python",
   "name": "python3"
  },
  "language_info": {
   "codemirror_mode": {
    "name": "ipython",
    "version": 2
   },
   "file_extension": ".py",
   "mimetype": "text/x-python",
   "name": "python",
   "nbconvert_exporter": "python",
   "pygments_lexer": "ipython2",
   "version": "2.7.6"
  }
 },
 "nbformat": 4,
 "nbformat_minor": 0
}
