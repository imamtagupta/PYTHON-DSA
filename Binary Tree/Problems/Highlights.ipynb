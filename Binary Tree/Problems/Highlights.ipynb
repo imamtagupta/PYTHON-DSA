{
 "cells": [
  {
   "cell_type": "code",
   "execution_count": 2,
   "metadata": {
    "collapsed": true
   },
   "outputs": [
    {
     "name": "stdout",
     "output_type": "stream",
     "text": [
      "1 L :  2 R :  3 \n",
      "2 L :  4 R :  5 \n",
      "4 \n",
      "5 \n",
      "3 L :  6 R :  7 \n",
      "6 \n",
      "7 \n"
     ]
    }
   ],
   "source": [
    "class Node:\n",
    "    def __init__(self, data):\n",
    "        self.data = data\n",
    "        self.left = None\n",
    "        self.right = None\n",
    "\n",
    "\n",
    "def BTthroughInput():\n",
    "    data = int(input())\n",
    "    if data == -1:\n",
    "        return None\n",
    "    root = Node(data)\n",
    "    leftTree = BTthroughInput()\n",
    "    rightTree = BTthroughInput()\n",
    "    root.left = leftTree\n",
    "    root.right = rightTree\n",
    "    return root\n",
    "\n",
    "\n",
    "def displayBT(root):\n",
    "    if not root:\n",
    "        return None\n",
    "    print(root.data, end=\" \")\n",
    "    if root.left:\n",
    "        print(\"L : \", root.left.data, end=\" \")\n",
    "\n",
    "    if root.right:\n",
    "        print(\"R : \", root.right.data, end=\" \")\n",
    "    print()\n",
    "    displayBT(root.left)\n",
    "    displayBT(root.right)\n",
    "\n",
    "\n",
    "bt = BTthroughInput()\n",
    "displayBT(bt)"
   ]
  },
  {
   "cell_type": "code",
   "execution_count": 7,
   "outputs": [
    {
     "name": "stdout",
     "output_type": "stream",
     "text": [
      "2 L :  3 R :  4 \n",
      "3 \n",
      "4 \n"
     ]
    }
   ],
   "source": [
    "bt1 = BTthroughInput()\n",
    "displayBT(bt1)"
   ],
   "metadata": {
    "collapsed": false
   }
  },
  {
   "cell_type": "code",
   "execution_count": 4,
   "outputs": [
    {
     "name": "stdout",
     "output_type": "stream",
     "text": [
      "3\n"
     ]
    }
   ],
   "source": [
    "## Height of binary tree\n",
    "def heightBT(root):\n",
    "    if not root:\n",
    "        return 0\n",
    "    return 1 + max(heightBT(root.left), heightBT(root.right))\n",
    "\n",
    "print(heightBT(bt))"
   ],
   "metadata": {
    "collapsed": false
   }
  },
  {
   "cell_type": "code",
   "execution_count": 8,
   "outputs": [
    {
     "name": "stdout",
     "output_type": "stream",
     "text": [
      "True\n",
      "False\n"
     ]
    }
   ],
   "source": [
    "## Determine if two trees are identical\n",
    "def isIdentical(root1, root2):\n",
    "    if not root1 and not root2:\n",
    "        return True\n",
    "    if root1.data != root2.data:\n",
    "        return False\n",
    "    leftpair = isIdentical(root1.left, root2.left)\n",
    "    rightpair = isIdentical(root1.right, root2.right)\n",
    "    return leftpair and rightpair\n",
    "\n",
    "print(isIdentical(bt,bt))\n",
    "print(isIdentical(bt,bt1))\n"
   ],
   "metadata": {
    "collapsed": false
   }
  },
  {
   "cell_type": "code",
   "execution_count": 9,
   "outputs": [
    {
     "name": "stdout",
     "output_type": "stream",
     "text": [
      "2 L :  3 R :  4 \n",
      "3 \n",
      "4 \n",
      "2 L :  4 R :  3 \n",
      "4 \n",
      "3 \n"
     ]
    }
   ],
   "source": [
    "## swap tree\n",
    "def swapTree(root):\n",
    "    if not root:\n",
    "        return\n",
    "    root.left, root.right = root.right, root.left\n",
    "    swapTree(root.left)\n",
    "    swapTree(root.right)\n",
    "\n",
    "displayBT(bt1)\n",
    "swapTree(bt1)\n",
    "displayBT(bt1)"
   ],
   "metadata": {
    "collapsed": false
   }
  },
  {
   "cell_type": "code",
   "execution_count": 14,
   "outputs": [
    {
     "name": "stdout",
     "output_type": "stream",
     "text": [
      "True\n"
     ]
    }
   ],
   "source": [
    "## Symmetric Tree : Check whether its a mirror of itself\n",
    "##      1\n",
    "##    /   \\\n",
    "##   2     2\n",
    "##  / \\   / \\\n",
    "## 3   4 4   3\n",
    "def isMirror(root1, root2):\n",
    "    if not root1 and not root2:\n",
    "        return True\n",
    "    if root1.data == root2.data:\n",
    "        return isMirror(root1.left, root2.right) and isMirror(root1.right, root2.left)\n",
    "    return False\n",
    "\n",
    "bt2 = BTthroughInput()\n",
    "print(isMirror(bt2, bt2))\n",
    "\n",
    "displayBT(bt2)"
   ],
   "metadata": {
    "collapsed": false
   }
  },
  {
   "cell_type": "code",
   "execution_count": 26,
   "outputs": [
    {
     "data": {
      "text/plain": "5"
     },
     "execution_count": 26,
     "metadata": {},
     "output_type": "execute_result"
    }
   ],
   "source": [
    "## Diameter of tree\n",
    "def diameterOfBinaryTree(root):\n",
    "    if root is None:\n",
    "        return 0\n",
    "    lh = heightBT(root.left)\n",
    "    rh = heightBT(root.right)\n",
    "\n",
    "    ld = diameterOfBinaryTree(root.left)\n",
    "    rd = diameterOfBinaryTree(root.right)\n",
    "    return max(lh + rh + 1, max(ld, rd))\n",
    "\n",
    "diameterOfBinaryTree(bt)"
   ],
   "metadata": {
    "collapsed": false
   }
  },
  {
   "cell_type": "code",
   "execution_count": 33,
   "outputs": [
    {
     "data": {
      "text/plain": "5"
     },
     "execution_count": 33,
     "metadata": {},
     "output_type": "execute_result"
    }
   ],
   "source": [
    "## diameter optimised\n",
    "class Height:\n",
    "    def __init__(self):\n",
    "        self.h = 0\n",
    "\n",
    "def diameterHelper(root, height):\n",
    "    lh = rh = Height()\n",
    "    if not root:\n",
    "        height.h = 0\n",
    "        return 0\n",
    "\n",
    "    ld = diameterHelper(root.left, lh)\n",
    "    rd = diameterHelper(root.right, rh)\n",
    "\n",
    "    height.h = 1 + max(lh.h, rh.h)\n",
    "\n",
    "    return max(1+lh.h+ rh.h, max(ld, rd))\n",
    "\n",
    "def diameterOfBinaryTree(root):\n",
    "    return diameterHelper(root, Height())\n",
    "\n",
    "diameterOfBinaryTree(bt)"
   ],
   "metadata": {
    "collapsed": false
   }
  },
  {
   "cell_type": "code",
   "execution_count": 37,
   "outputs": [
    {
     "data": {
      "text/plain": "True"
     },
     "execution_count": 37,
     "metadata": {},
     "output_type": "execute_result"
    }
   ],
   "source": [
    "## Check is balanced?\n",
    "def isBalanced(root):\n",
    "    if not root:\n",
    "        return True\n",
    "    lh = heightBT(root.left)\n",
    "    rh = heightBT(root.right)\n",
    "    if lh-rh > 1 or rh-lh > 1:\n",
    "        return False\n",
    "    return isBalanced(root.left) and isBalanced(root.right)\n",
    "\n",
    "isBalanced(bt)"
   ],
   "metadata": {
    "collapsed": false
   }
  },
  {
   "cell_type": "code",
   "execution_count": 76,
   "outputs": [
    {
     "name": "stdout",
     "output_type": "stream",
     "text": [
      "1 2 4 \n",
      "1 2 4 \n"
     ]
    }
   ],
   "source": [
    "## Path Sum root to leaf: give all path whose equal to k\n",
    "# --------------------------------------------------------\n",
    "# DESCRIPTION:\n",
    "# For a given Binary Tree of type integer and a number K, print out all root-to-leaf paths where the sum of all the node data along the path is equal to K.\n",
    "# --------------------------------------------------------\n",
    "\n",
    "def rootToLeafPathSum(root, k, path='', currSum=0):\n",
    "    if root is None :\n",
    "        return\n",
    "\n",
    "    if (root.left is None) and (root.right is None) :\n",
    "        currSum += root.data\n",
    "\n",
    "        if currSum == k :\n",
    "            print(str(path + str(root.data) + \" \").lstrip())\n",
    "        return\n",
    "\n",
    "\n",
    "    rootToLeafPathSum(root.left, k, str(path + str(root.data) + \" \"), (currSum + root.data))\n",
    "    rootToLeafPathSum(root.right, k, str(path + str(root.data) + \" \"), (currSum + root.data))\n",
    "\n",
    "rootToLeafPathSum(bt2, 7)"
   ],
   "metadata": {
    "collapsed": false
   }
  },
  {
   "cell_type": "code",
   "execution_count": 78,
   "outputs": [
    {
     "name": "stdout",
     "output_type": "stream",
     "text": [
      "3\n"
     ]
    },
    {
     "data": {
      "text/plain": "2"
     },
     "execution_count": 78,
     "metadata": {},
     "output_type": "execute_result"
    }
   ],
   "source": [
    "## print nodes at distance k from node\n",
    "def getallNodes(root, k):\n",
    "    if not root:\n",
    "        return\n",
    "    if k==0:\n",
    "        print(root.data)\n",
    "        return\n",
    "    getallNodes(root.left, k-1)\n",
    "    getallNodes(root.right, k-1)\n",
    "\n",
    "\n",
    "def nodesAtDistanceK(root, node, k):\n",
    "    if not root:\n",
    "        return -1\n",
    "\n",
    "    if root.data == node:\n",
    "        getallNodes(root,k)\n",
    "        return 0\n",
    "    leftDist = nodesAtDistanceK(root.left, node, k)\n",
    "    if leftDist != -1:\n",
    "        if leftDist + 1 == k:\n",
    "            print(root.data)\n",
    "        else:\n",
    "            getallNodes(root.right, k-leftDist-2)\n",
    "        return 1+leftDist\n",
    "\n",
    "    rightDist = nodesAtDistanceK(root.right, node, k)\n",
    "    if rightDist != -1:\n",
    "        if rightDist + 1 == k:\n",
    "            print(root.data)\n",
    "        else:\n",
    "            getallNodes(root.left, k-rightDist-2)\n",
    "        return 1+rightDist\n",
    "\n",
    "    return -1\n",
    "\n",
    "\n",
    "nodesAtDistanceK(bt, 6,1)"
   ],
   "metadata": {
    "collapsed": false
   }
  },
  {
   "cell_type": "code",
   "execution_count": 74,
   "outputs": [
    {
     "name": "stdout",
     "output_type": "stream",
     "text": [
      "1 L :  2 R :  2 \n",
      "2 L :  3 R :  4 \n",
      "3 \n",
      "4 \n",
      "2 L :  4 R :  3 \n",
      "4 \n",
      "3 \n"
     ]
    }
   ],
   "source": [
    "displayBT(bt2)"
   ],
   "metadata": {
    "collapsed": false
   }
  },
  {
   "cell_type": "code",
   "execution_count": null,
   "outputs": [],
   "source": [],
   "metadata": {
    "collapsed": false
   }
  }
 ],
 "metadata": {
  "kernelspec": {
   "display_name": "Python 3",
   "language": "python",
   "name": "python3"
  },
  "language_info": {
   "codemirror_mode": {
    "name": "ipython",
    "version": 2
   },
   "file_extension": ".py",
   "mimetype": "text/x-python",
   "name": "python",
   "nbconvert_exporter": "python",
   "pygments_lexer": "ipython2",
   "version": "2.7.6"
  }
 },
 "nbformat": 4,
 "nbformat_minor": 0
}
