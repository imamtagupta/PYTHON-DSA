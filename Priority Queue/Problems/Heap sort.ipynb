{
 "cells": [
  {
   "cell_type": "markdown",
   "source": [
    "## Heap Sort"
   ],
   "metadata": {
    "collapsed": false
   }
  },
  {
   "cell_type": "markdown",
   "source": [
    "Basic understanding is - inserting in min-heap and then deleting them one by one\\\n",
    "provides us elements from least to most priority in an ordered.\n",
    "\n",
    "Thus what we can do is we can insert and delete and return the array as sorted array\n",
    "TC = O(nlogn) [Deleting takes logn times and it will be done for all n elements]\n",
    "SC = O(n) [To insert and delete we will maintain a heap which will be at max of size n ]"
   ],
   "metadata": {
    "collapsed": false
   }
  },
  {
   "cell_type": "markdown",
   "source": [
    "One of the way to optimize is do in-place insert and delete"
   ],
   "metadata": {
    "collapsed": false
   }
  },
  {
   "cell_type": "code",
   "execution_count": 134,
   "metadata": {
    "collapsed": true
   },
   "outputs": [
    {
     "data": {
      "text/plain": "[3, 10, 18, 20]"
     },
     "execution_count": 134,
     "metadata": {},
     "output_type": "execute_result"
    }
   ],
   "source": [
    "def heapSort(arr):\n",
    "    # insert O(nlongn)\n",
    "    n = len(arr)\n",
    "    for i in range(n):\n",
    "        child = i\n",
    "        while child > 0:\n",
    "            parent = (child-1) // 2\n",
    "            if arr[parent] < arr[child]:\n",
    "                arr[parent], arr[child] = arr[child], arr[parent]\n",
    "                child = parent\n",
    "            else:\n",
    "                break\n",
    "\n",
    "    # delete O(nlongn)\n",
    "    for j in range(n-1,-1,-1):\n",
    "        arr[j], arr[0] = arr[0], arr[j]\n",
    "        parent = 0\n",
    "        c1, c2 = (2*parent + 1), (2*parent + 2)\n",
    "        while c1 < j:\n",
    "            minIndex = parent\n",
    "            if arr[minIndex] < arr[c1]:\n",
    "                minIndex = c1\n",
    "            if c2 < j and arr[minIndex] < arr[c2]:\n",
    "                minIndex = c2\n",
    "            if minIndex == parent:\n",
    "                break\n",
    "            arr[minIndex], arr[parent] = arr[parent], arr[minIndex]\n",
    "            parent = minIndex\n",
    "            c1, c2 = (2*parent + 1), (2*parent + 2)\n",
    "\n",
    "\n",
    "    return arr\n",
    "\n",
    "heapSort([10,20,18,3])\n"
   ]
  },
  {
   "cell_type": "markdown",
   "source": [
    "TC = O(nlogn)\n",
    "SC = O(1)"
   ],
   "metadata": {
    "collapsed": false
   }
  },
  {
   "cell_type": "markdown",
   "source": [],
   "metadata": {
    "collapsed": false
   }
  },
  {
   "cell_type": "markdown",
   "source": [
    "Prettify and optimized into lesser lines"
   ],
   "metadata": {
    "collapsed": false
   }
  },
  {
   "cell_type": "code",
   "execution_count": 129,
   "outputs": [
    {
     "data": {
      "text/plain": "[3, 6, 7, 10, 18, 20]"
     },
     "execution_count": 129,
     "metadata": {},
     "output_type": "execute_result"
    }
   ],
   "source": [
    "def down_heapify(arr, i, n):\n",
    "    parent = i\n",
    "    c1, c2 = (2*parent + 1), (2*parent + 2)\n",
    "    while c1 < n:\n",
    "        minIndex = parent\n",
    "        if arr[minIndex] < arr[c1]:\n",
    "            minIndex = c1\n",
    "        if c2 < n and arr[minIndex] < arr[c2]:\n",
    "            minIndex = c2\n",
    "        if minIndex == parent:\n",
    "            return\n",
    "        arr[minIndex], arr[parent] = arr[parent], arr[minIndex]\n",
    "        parent = minIndex\n",
    "        c1, c2 = (2*parent + 1), (2*parent + 2)\n",
    "\n",
    "def heapSort(arr):\n",
    "    n = len(arr)\n",
    "    for i in range(n//2-1,-1,-1):\n",
    "        down_heapify(arr,i,n)\n",
    "\n",
    "    for i in range(n-1,0,-1):\n",
    "        arr[i],arr[0] = arr[0],arr[i]\n",
    "        down_heapify(arr,0,i)\n",
    "    return arr\n",
    "\n",
    "heapSort([10,20,18,3, 7, 6])"
   ],
   "metadata": {
    "collapsed": false
   }
  },
  {
   "cell_type": "code",
   "execution_count": null,
   "outputs": [],
   "source": [
    "TC = O(nlogn)\n",
    "SC = O(1)"
   ],
   "metadata": {
    "collapsed": false
   }
  },
  {
   "cell_type": "code",
   "execution_count": null,
   "outputs": [],
   "source": [],
   "metadata": {
    "collapsed": false
   }
  }
 ],
 "metadata": {
  "kernelspec": {
   "display_name": "Python 3",
   "language": "python",
   "name": "python3"
  },
  "language_info": {
   "codemirror_mode": {
    "name": "ipython",
    "version": 2
   },
   "file_extension": ".py",
   "mimetype": "text/x-python",
   "name": "python",
   "nbconvert_exporter": "python",
   "pygments_lexer": "ipython2",
   "version": "2.7.6"
  }
 },
 "nbformat": 4,
 "nbformat_minor": 0
}
