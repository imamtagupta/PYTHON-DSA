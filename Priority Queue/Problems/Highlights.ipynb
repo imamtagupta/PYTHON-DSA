{
 "cells": [
  {
   "cell_type": "code",
   "execution_count": 1,
   "outputs": [],
   "source": [
    "import heapq"
   ],
   "metadata": {
    "collapsed": false
   }
  },
  {
   "cell_type": "markdown",
   "source": [
    "## K smallest elements from array"
   ],
   "metadata": {
    "collapsed": false
   }
  },
  {
   "cell_type": "code",
   "execution_count": 23,
   "outputs": [
    {
     "name": "stdout",
     "output_type": "stream",
     "text": [
      "1 2 3 5 "
     ]
    }
   ],
   "source": [
    "import heapq\n",
    "\n",
    "def kSmallest(lst, k):\n",
    "    if k == 0:\n",
    "        return\n",
    "    lst1 = lst[:k]\n",
    "    heapq._heapify_max(lst1)\n",
    "    for i in range(k,len(lst)):\n",
    "        if lst1[0] > lst[i]:\n",
    "            heapq._heapreplace_max(lst1, lst[i])\n",
    "    return lst1\n",
    "\n",
    "# Main\n",
    "n=int(input()) # 13\n",
    "lst=list(int(i) for i in input().strip().split(' ')) #2 12 9 16 10 5 3 20 25 11 1 8 6\n",
    "k=int(input()) #4\n",
    "ans=kSmallest(lst, k)\n",
    "ans.sort()\n",
    "print(*ans, sep=' ',end=\" \")"
   ],
   "metadata": {
    "collapsed": false
   }
  },
  {
   "cell_type": "markdown",
   "source": [
    "## K largest element in an array"
   ],
   "metadata": {
    "collapsed": false
   }
  },
  {
   "cell_type": "code",
   "execution_count": 32,
   "outputs": [
    {
     "data": {
      "text/plain": "[18, 35, 44]"
     },
     "execution_count": 32,
     "metadata": {},
     "output_type": "execute_result"
    }
   ],
   "source": [
    "def kLargest(lst, k):\n",
    "    if k == 0:\n",
    "        return\n",
    "    lst1 = lst[:k]\n",
    "    heapq.heapify(lst1)\n",
    "    for i in range(k,len(lst)):\n",
    "        if lst1[0] < lst[i]:\n",
    "            heapq.heapreplace(lst1, lst[i])\n",
    "    return lst1\n",
    "\n",
    "kLargest([4,6,8,2,18,44,12,35], 3)"
   ],
   "metadata": {
    "collapsed": false
   }
  },
  {
   "cell_type": "markdown",
   "source": [
    "## Check Max-Heap"
   ],
   "metadata": {
    "collapsed": false
   }
  },
  {
   "cell_type": "code",
   "execution_count": null,
   "outputs": [],
   "source": [
    "def checkMaxHeap(lst):\n",
    "    # temp = lst[:]\n",
    "    # heapq._heapify_max(lst)\n",
    "    # if temp == lst:\n",
    "    #     return True\n",
    "    # return False\n",
    "\n",
    "    n = len(lst)\n",
    "    for i in range(n):\n",
    "        parent = i\n",
    "        c1, c2 = (2*parent +1), (2*parent + 2)\n",
    "        maxIndex = parent\n",
    "        if c1<n and lst[maxIndex] < lst[c1]:\n",
    "            maxIndex  = c1\n",
    "        if c2<n and lst[maxIndex] < lst[c2]:\n",
    "            maxIndex = c2\n",
    "        if maxIndex != parent:\n",
    "            return False\n",
    "    return True"
   ],
   "metadata": {
    "collapsed": false
   }
  },
  {
   "cell_type": "markdown",
   "source": [
    "## kth largest element"
   ],
   "metadata": {
    "collapsed": false
   }
  },
  {
   "cell_type": "code",
   "execution_count": 37,
   "outputs": [
    {
     "name": "stdout",
     "output_type": "stream",
     "text": [
      "4921\n"
     ]
    }
   ],
   "source": [
    "import heapq\n",
    "def kthLargest(lst, k):\n",
    "    if k == 0:\n",
    "        return\n",
    "    lst1 = lst[:k]\n",
    "    heapq.heapify(lst1)\n",
    "    for i in range(k,len(lst)):\n",
    "        if lst1[0] < lst[i]:\n",
    "            heapq.heapreplace(lst1, lst[i])\n",
    "    return lst1[0]\n",
    "\n",
    "# Main\n",
    "# 4\n",
    "# 10101 565 4921 60\n",
    "# 2\n",
    "n=int(input())\n",
    "lst=list(int(i) for i in input().strip().split(' '))\n",
    "k=int(input())\n",
    "ans=kthLargest(lst, k)\n",
    "print(ans)"
   ],
   "metadata": {
    "collapsed": false
   }
  }
 ],
 "metadata": {
  "kernelspec": {
   "display_name": "Python 3",
   "language": "python",
   "name": "python3"
  },
  "language_info": {
   "codemirror_mode": {
    "name": "ipython",
    "version": 2
   },
   "file_extension": ".py",
   "mimetype": "text/x-python",
   "name": "python",
   "nbconvert_exporter": "python",
   "pygments_lexer": "ipython2",
   "version": "2.7.6"
  }
 },
 "nbformat": 4,
 "nbformat_minor": 0
}
