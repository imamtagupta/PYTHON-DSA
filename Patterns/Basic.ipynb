{
 "cells": [
  {
   "cell_type": "markdown",
   "metadata": {},
   "source": [
    "1.  *\n",
    "    * *\n",
    "    * * *\n",
    "    * * * *\n",
    "\n",
    "2.  * * * * \n",
    "    * * * \n",
    "    * * \n",
    "    * \n",
    "\n",
    "3.  1\n",
    "    1 2\n",
    "    1 2 3\n",
    "    1 2 3 4\n",
    "    1 2 3 4 5\n",
    "\n",
    "4.  *\n",
    "    * *\n",
    "    * * *\n",
    "    * * * *\n",
    "    * * * * *\n",
    "    * * * * \n",
    "    * * * \n",
    "    * * \n",
    "    * \n"
   ]
  },
  {
   "cell_type": "code",
   "execution_count": 7,
   "metadata": {},
   "outputs": [
    {
     "name": "stdout",
     "output_type": "stream",
     "text": [
      "* \n",
      "* * \n",
      "* * * \n",
      "* * * * \n"
     ]
    }
   ],
   "source": [
    "for i in range(4):\n",
    "    for j in range(i+1):\n",
    "        print(\"*\", end=\" \")\n",
    "    print()"
   ]
  },
  {
   "cell_type": "code",
   "execution_count": 4,
   "metadata": {},
   "outputs": [
    {
     "name": "stdout",
     "output_type": "stream",
     "text": [
      "* \n",
      "* * \n",
      "* * * \n",
      "* * * * \n"
     ]
    }
   ],
   "source": [
    "def pattern1(n):\n",
    "    for i in range(n):\n",
    "        print(\"* \"*(i+1))\n",
    "\n",
    "pattern1(4)"
   ]
  },
  {
   "cell_type": "code",
   "execution_count": 6,
   "metadata": {},
   "outputs": [
    {
     "name": "stdout",
     "output_type": "stream",
     "text": [
      "* * * * \n",
      "* * * \n",
      "* * \n",
      "* \n"
     ]
    }
   ],
   "source": [
    "def pattern2(n):\n",
    "    for i in range(n):\n",
    "        print(\"* \"*(n-i))\n",
    "\n",
    "pattern2(4)"
   ]
  },
  {
   "cell_type": "code",
   "execution_count": 16,
   "metadata": {},
   "outputs": [
    {
     "name": "stdout",
     "output_type": "stream",
     "text": [
      "1 \n",
      "1 2 \n",
      "1 2 3 \n",
      "1 2 3 4 \n",
      "1 2 3 4 5 \n"
     ]
    }
   ],
   "source": [
    "def pattern3(n):\n",
    "    for i in range(n):\n",
    "        [print(j, end=\" \") for j in range(1, i+2)]\n",
    "        print()\n",
    "\n",
    "\n",
    "pattern3(5)"
   ]
  },
  {
   "cell_type": "code",
   "execution_count": 18,
   "metadata": {},
   "outputs": [
    {
     "name": "stdout",
     "output_type": "stream",
     "text": [
      "* \n",
      "* * \n",
      "* * * \n",
      "* * * * \n",
      "* * * * * \n",
      "* * * * \n",
      "* * * \n",
      "* * \n",
      "* \n"
     ]
    }
   ],
   "source": [
    "def pattern4(n):\n",
    "    for i in range(n+1):\n",
    "        [print(\"* \", end=\"\") for j in range(i+1)]\n",
    "        print()\n",
    "    for i in range(n):\n",
    "        [print(\"* \", end=\"\") for j in range(n-i)]\n",
    "        print()\n",
    "\n",
    "    \n",
    "        \n",
    "pattern4(4)"
   ]
  },
  {
   "cell_type": "markdown",
   "metadata": {},
   "source": [
    "Better version for pattern 4"
   ]
  },
  {
   "cell_type": "code",
   "execution_count": 21,
   "metadata": {},
   "outputs": [
    {
     "name": "stdout",
     "output_type": "stream",
     "text": [
      "* \n",
      "* * \n",
      "* * * \n",
      "* * * * \n",
      "* * * * * \n",
      "* * * * \n",
      "* * * \n",
      "* * \n",
      "* \n"
     ]
    }
   ],
   "source": [
    "def pattern4(n):\n",
    "    # Print the upper half of the pattern\n",
    "    for i in range(1, n + 2):\n",
    "        print(\"* \" * i)\n",
    "\n",
    "    # Print the lower half of the pattern\n",
    "    for i in range(n, 0, -1):\n",
    "        print(\"* \" * i)\n",
    "\n",
    "pattern4(4)\n"
   ]
  },
  {
   "cell_type": "code",
   "execution_count": 30,
   "metadata": {},
   "outputs": [
    {
     "name": "stdout",
     "output_type": "stream",
     "text": [
      "* \n",
      "* * \n",
      "* * * \n",
      "* * * * \n",
      "* * * \n",
      "* * \n",
      "* \n"
     ]
    }
   ],
   "source": [
    "def pattern4(n):\n",
    "    for i in range(1, 2*n):\n",
    "        j = i if (i < n) else 2*n-i\n",
    "        print(\"* \"* j, end=\"\")\n",
    "        print()\n",
    "\n",
    "\n",
    "pattern4(4)\n"
   ]
  },
  {
   "cell_type": "code",
   "execution_count": 31,
   "metadata": {},
   "outputs": [
    {
     "name": "stdout",
     "output_type": "stream",
     "text": [
      "   * \n",
      "  * * \n",
      " * * * \n",
      "* * * * \n",
      " * * * \n",
      "  * * \n",
      "   * \n"
     ]
    }
   ],
   "source": [
    "def pattern5(n):\n",
    "    for i in range(1, 2*n):\n",
    "        spaces = n-i if i < n else i-n\n",
    "        stars = i if (i < n) else 2*n-i\n",
    "        print(\" \"* spaces, end=\"\")\n",
    "        print(\"* \"* stars, end=\"\")\n",
    "        print()\n",
    "\n",
    "\n",
    "pattern5(4)"
   ]
  },
  {
   "cell_type": "code",
   "execution_count": null,
   "metadata": {},
   "outputs": [],
   "source": []
  }
 ],
 "metadata": {
  "kernelspec": {
   "display_name": "easy-email-env-EuOdUTam-py3.11",
   "language": "python",
   "name": "python3"
  },
  "language_info": {
   "codemirror_mode": {
    "name": "ipython",
    "version": 3
   },
   "file_extension": ".py",
   "mimetype": "text/x-python",
   "name": "python",
   "nbconvert_exporter": "python",
   "pygments_lexer": "ipython3",
   "version": "3.11.4"
  }
 },
 "nbformat": 4,
 "nbformat_minor": 2
}
