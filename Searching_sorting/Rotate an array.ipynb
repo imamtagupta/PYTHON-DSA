{
 "cells": [
  {
   "cell_type": "code",
   "execution_count": 33,
   "metadata": {},
   "outputs": [],
   "source": [
    "def rotate(arr, n, d):\n",
    "    return arr[d:]+arr[:d]\n",
    "\n",
    "# TC = O(n) but we are create new array , so\n",
    "# SC = O(n)"
   ]
  },
  {
   "cell_type": "code",
   "execution_count": 44,
   "metadata": {},
   "outputs": [],
   "source": [
    "def rotate(arr, n , d):\n",
    "    p = 1\n",
    "    while(p <= d):\n",
    "        last = arr[0]\n",
    "        for i in range (n - 1):\n",
    "            arr[i] = arr[i + 1]\n",
    "        arr[n - 1] = last\n",
    "        p = p + 1\n",
    "    return arr\n",
    "\n",
    "\n",
    "# TC = O(n^2)\n",
    "# SC = O(1)"
   ]
  },
  {
   "cell_type": "code",
   "execution_count": 75,
   "metadata": {},
   "outputs": [],
   "source": [
    "# We have to give output in TC = O(n) without extra space.\n",
    "# i.e. SC = O(1)\n",
    "\n",
    "def rotate(arr, n , d):\n",
    "    \n",
    "    for i in range(d//2):\n",
    "        arr[i], arr[d-i-1] = arr[d-i-1], arr[i]\n",
    "    m = (n-d)//2\n",
    "    for i in range(m):\n",
    "        arr[d+i], arr[n-i-1] = arr[n-i-1], arr[d+i]\n",
    "    for i in range(n//2):\n",
    "        arr[i], arr[n-i-1] = arr[n-i-1], arr[i]\n",
    "    return arr\n",
    "\n",
    "\n",
    "# TC = O(n)\n",
    "# SC = O(1)"
   ]
  },
  {
   "cell_type": "markdown",
   "metadata": {},
   "source": [
    "### A small trick is first rotate array of part d-1 then rotated the remaining array and finally rotate entire array"
   ]
  },
  {
   "cell_type": "code",
   "execution_count": 76,
   "metadata": {},
   "outputs": [
    {
     "data": {
      "text/plain": [
       "[3, 4, 5, 1, 2]"
      ]
     },
     "execution_count": 76,
     "metadata": {},
     "output_type": "execute_result"
    }
   ],
   "source": [
    "rotate([1,2,3,4,5],5,2)"
   ]
  },
  {
   "cell_type": "code",
   "execution_count": 77,
   "metadata": {},
   "outputs": [
    {
     "data": {
      "text/plain": [
       "[3, 5, 6, 7, 8, 9, 0, 10, 12, 14, 2]"
      ]
     },
     "execution_count": 77,
     "metadata": {},
     "output_type": "execute_result"
    }
   ],
   "source": [
    "rotate([2,3,5,6,7,8,9,0,10,12,14],11,1)"
   ]
  },
  {
   "cell_type": "code",
   "execution_count": 40,
   "metadata": {},
   "outputs": [
    {
     "data": {
      "text/plain": [
       "1"
      ]
     },
     "execution_count": 40,
     "metadata": {},
     "output_type": "execute_result"
    }
   ],
   "source": [
    "arr = [1,2,3,4,5]\n",
    "arr.index(2)"
   ]
  },
  {
   "cell_type": "code",
   "execution_count": 36,
   "metadata": {},
   "outputs": [],
   "source": [
    "from jovian.pythondsa import evaluate_test_case, evaluate_test_cases"
   ]
  },
  {
   "cell_type": "code",
   "execution_count": 37,
   "metadata": {},
   "outputs": [],
   "source": [
    "test1 ={\n",
    "        'input':{\n",
    "            'arr': [1,2,3,4,5,6],\n",
    "            'n' : 6,\n",
    "            'd' : 2\n",
    "        },\n",
    "        'output': [3,4,5,6,1,2]\n",
    "}"
   ]
  },
  {
   "cell_type": "code",
   "execution_count": 38,
   "metadata": {},
   "outputs": [],
   "source": [
    "test2 = {\n",
    "        'input':{\n",
    "            'arr': [5,0,7,4,8,1,3,0,7,2,0] ,\n",
    "            'n' : 11,\n",
    "            'd' : 1\n",
    "        },\n",
    "        'output': [0,7,4,8,1,3,0,7,2,0,5]\n",
    "    }"
   ]
  },
  {
   "cell_type": "code",
   "execution_count": 39,
   "metadata": {},
   "outputs": [
    {
     "name": "stdout",
     "output_type": "stream",
     "text": [
      "\n",
      "Input:\n",
      "{'arr': [1, 2, 3, 4, 5, 6], 'n': 6, 'd': 2}\n",
      "\n",
      "Expected Output:\n",
      "[3, 4, 5, 6, 1, 2]\n",
      "\n",
      "\n",
      "Actual Output:\n",
      "[3, 4, 5, 6, 1, 2]\n",
      "\n",
      "Execution Time:\n",
      "0.002 ms\n",
      "\n",
      "Test Result:\n",
      "\u001b[92mPASSED\u001b[0m\n",
      "\n",
      "\n",
      "Input:\n",
      "{'arr': [5, 0, 7, 4, 8, 1, 3, 0, 7, 2, 0], 'n': 11, 'd': 1}\n",
      "\n",
      "Expected Output:\n",
      "[0, 7, 4, 8, 1, 3, 0, 7, 2, 0, 5]\n",
      "\n",
      "\n",
      "Actual Output:\n",
      "[0, 7, 4, 8, 1, 3, 0, 7, 2, 0, 5]\n",
      "\n",
      "Execution Time:\n",
      "0.002 ms\n",
      "\n",
      "Test Result:\n",
      "\u001b[92mPASSED\u001b[0m\n",
      "\n"
     ]
    },
    {
     "data": {
      "text/plain": [
       "([0, 7, 4, 8, 1, 3, 0, 7, 2, 0, 5], True, 0.002)"
      ]
     },
     "execution_count": 39,
     "metadata": {},
     "output_type": "execute_result"
    }
   ],
   "source": [
    "evaluate_test_case(rotate, test1)\n",
    "evaluate_test_case(rotate, test2)"
   ]
  },
  {
   "cell_type": "code",
   "execution_count": 19,
   "metadata": {},
   "outputs": [
    {
     "name": "stdout",
     "output_type": "stream",
     "text": [
      "0 1\n",
      "1 2\n",
      "2 3\n",
      "3 4\n",
      "4 5\n",
      "5 6\n"
     ]
    },
    {
     "data": {
      "text/plain": [
       "[0, 7, 4, 8, 1, 3, 5, 0, 7, 2, 0]"
      ]
     },
     "execution_count": 19,
     "metadata": {},
     "output_type": "execute_result"
    }
   ],
   "source": []
  },
  {
   "cell_type": "code",
   "execution_count": null,
   "metadata": {},
   "outputs": [],
   "source": []
  }
 ],
 "metadata": {
  "kernelspec": {
   "display_name": "Python 3",
   "language": "python",
   "name": "python3"
  },
  "language_info": {
   "codemirror_mode": {
    "name": "ipython",
    "version": 3
   },
   "file_extension": ".py",
   "mimetype": "text/x-python",
   "name": "python",
   "nbconvert_exporter": "python",
   "pygments_lexer": "ipython3",
   "version": "3.6.3"
  }
 },
 "nbformat": 4,
 "nbformat_minor": 2
}
