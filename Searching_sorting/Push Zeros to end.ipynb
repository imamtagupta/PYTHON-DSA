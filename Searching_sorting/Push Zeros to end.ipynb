{
 "cells": [
  {
   "cell_type": "code",
   "execution_count": 33,
   "metadata": {},
   "outputs": [],
   "source": [
    "def PushZeroToEnd(arr, n):\n",
    "    count = 0\n",
    "    for i in range(n):\n",
    "        if arr[i] != 0:\n",
    "            arr[count] = arr[i]\n",
    "            count += 1\n",
    "    while count < n:\n",
    "        arr[count] = 0\n",
    "        count += 1\n",
    "    return arr"
   ]
  },
  {
   "cell_type": "code",
   "execution_count": 34,
   "metadata": {},
   "outputs": [],
   "source": [
    "from jovian.pythondsa import evaluate_test_case, evaluate_test_cases"
   ]
  },
  {
   "cell_type": "code",
   "execution_count": 35,
   "metadata": {},
   "outputs": [],
   "source": [
    "test = [\n",
    "    {\n",
    "    'input':{\n",
    "        'arr': [2,0,0,1,3,0],\n",
    "        'n' : 6\n",
    "    },\n",
    "    'output': [2,1,3,0,0,0]\n",
    "    },\n",
    "    {\n",
    "        'input':{\n",
    "            'arr': [5,0,7,4,8,1,3,0,7,2,0] ,\n",
    "            'n' : 11\n",
    "        },\n",
    "        'output': [5,7,4,8,1,3,7,2,0,0,0]\n",
    "    }\n",
    "]"
   ]
  },
  {
   "cell_type": "code",
   "execution_count": 36,
   "metadata": {},
   "outputs": [
    {
     "name": "stdout",
     "output_type": "stream",
     "text": [
      "\n",
      "\u001b[1mTEST CASE #0\u001b[0m\n",
      "\n",
      "Input:\n",
      "{'arr': [2, 1, 3, 0, 0, 0], 'n': 6}\n",
      "\n",
      "Expected Output:\n",
      "[2, 1, 3, 0, 0, 0]\n",
      "\n",
      "\n",
      "Actual Output:\n",
      "[2, 1, 3, 0, 0, 0]\n",
      "\n",
      "Execution Time:\n",
      "0.006 ms\n",
      "\n",
      "Test Result:\n",
      "\u001b[92mPASSED\u001b[0m\n",
      "\n",
      "\n",
      "\u001b[1mTEST CASE #1\u001b[0m\n",
      "\n",
      "Input:\n",
      "{'arr': [5, 7, 4, 8, 1, 3, 7, 2, 0, 0, 0], 'n': 11}\n",
      "\n",
      "Expected Output:\n",
      "[5, 7, 4, 8, 1, 3, 7, 2, 0, 0, 0]\n",
      "\n",
      "\n",
      "Actual Output:\n",
      "[5, 7, 4, 8, 1, 3, 7, 2, 0, 0, 0]\n",
      "\n",
      "Execution Time:\n",
      "0.004 ms\n",
      "\n",
      "Test Result:\n",
      "\u001b[92mPASSED\u001b[0m\n",
      "\n",
      "\n",
      "\u001b[1mSUMMARY\u001b[0m\n",
      "\n",
      "TOTAL: 2, \u001b[92mPASSED\u001b[0m: 2, \u001b[91mFAILED\u001b[0m: 0\n"
     ]
    },
    {
     "data": {
      "text/plain": [
       "[([2, 1, 3, 0, 0, 0], True, 0.006),\n",
       " ([5, 7, 4, 8, 1, 3, 7, 2, 0, 0, 0], True, 0.004)]"
      ]
     },
     "execution_count": 36,
     "metadata": {},
     "output_type": "execute_result"
    }
   ],
   "source": [
    "evaluate_test_cases(PushZeroToEnd, test)"
   ]
  },
  {
   "cell_type": "code",
   "execution_count": null,
   "metadata": {},
   "outputs": [],
   "source": []
  }
 ],
 "metadata": {
  "kernelspec": {
   "display_name": "Python 3",
   "language": "python",
   "name": "python3"
  },
  "language_info": {
   "codemirror_mode": {
    "name": "ipython",
    "version": 3
   },
   "file_extension": ".py",
   "mimetype": "text/x-python",
   "name": "python",
   "nbconvert_exporter": "python",
   "pygments_lexer": "ipython3",
   "version": "3.6.3"
  }
 },
 "nbformat": 4,
 "nbformat_minor": 2
}
