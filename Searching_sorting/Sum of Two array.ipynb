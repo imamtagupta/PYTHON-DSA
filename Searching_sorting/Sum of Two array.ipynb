{
 "cells": [
  {
   "cell_type": "code",
   "execution_count": 93,
   "metadata": {},
   "outputs": [],
   "source": [
    "def sumOfTwoArray(arr1, n, arr2, m):\n",
    "    op = []\n",
    "    p = max(n,m)\n",
    "    a = [str(i) for i in arr1]\n",
    "    b = [str(i) for i in arr2]\n",
    "    if m>0 and n>0:\n",
    "        ar1 = int(\"\".join(a))\n",
    "        ar2 = int(\"\".join(b))\n",
    "        total = ar1+ar2\n",
    "    elif m>0:\n",
    "        ar2 = int(\"\".join(b))\n",
    "        total = ar2\n",
    "    elif n>0:\n",
    "        ar1 = int(\"\".join(a))\n",
    "        total = ar1\n",
    "    else:\n",
    "        total = 0\n",
    "    count = 0\n",
    "    while total>0:\n",
    "        op.append(total%10)\n",
    "        total //= 10\n",
    "        count +=1\n",
    "    while count < p+1:\n",
    "        op.append(0)\n",
    "        count += 1\n",
    "    return op[::-1]"
   ]
  },
  {
   "cell_type": "code",
   "execution_count": 94,
   "metadata": {},
   "outputs": [],
   "source": [
    "from jovian.pythondsa import evaluate_test_cases"
   ]
  },
  {
   "cell_type": "code",
   "execution_count": 95,
   "metadata": {},
   "outputs": [],
   "source": [
    "tests = [\n",
    "    {\n",
    "        'input':{\n",
    "            'arr1': [1,2,3],\n",
    "            'n' : 3,\n",
    "            'arr2': [1,2,3],\n",
    "            'm' : 3\n",
    "        },\n",
    "        'output':[0, 2, 4, 6]\n",
    "    },\n",
    "    {\n",
    "        'input':{\n",
    "            'arr1': [6,2,4],\n",
    "            'n' : 3,\n",
    "            'arr2': [7,5,6],\n",
    "            'm' : 3\n",
    "        },\n",
    "        'output':[1,3,8,0]\n",
    "    },\n",
    "    {\n",
    "        'input':{\n",
    "            'arr1': [8,5,2],\n",
    "            'n' : 3,\n",
    "            'arr2': [1,3],\n",
    "            'm' : 2\n",
    "        },\n",
    "        'output':[0,8,6,5]\n",
    "    },\n",
    "    {\n",
    "        'input':{\n",
    "            'arr1': [9,7,6,1],\n",
    "            'n' : 4,\n",
    "            'arr2': [4,5,9],\n",
    "            'm' : 3\n",
    "        },\n",
    "        'output':[1,0,2,2,0]\n",
    "    },\n",
    "    {\n",
    "        'input':{\n",
    "            'arr1': [6,9,8,5],\n",
    "            'n' : 4,\n",
    "            'arr2': [],\n",
    "            'm' : 0\n",
    "        },\n",
    "        'output':[0,6,9,8,5]\n",
    "    }\n",
    "]"
   ]
  },
  {
   "cell_type": "code",
   "execution_count": 96,
   "metadata": {},
   "outputs": [
    {
     "name": "stdout",
     "output_type": "stream",
     "text": [
      "\n",
      "\u001b[1mTEST CASE #0\u001b[0m\n",
      "\n",
      "Input:\n",
      "{'arr1': [1, 2, 3], 'n': 3, 'arr2': [1, 2, 3], 'm': 3}\n",
      "\n",
      "Expected Output:\n",
      "[0, 2, 4, 6]\n",
      "\n",
      "\n",
      "Actual Output:\n",
      "[0, 2, 4, 6]\n",
      "\n",
      "Execution Time:\n",
      "0.012 ms\n",
      "\n",
      "Test Result:\n",
      "\u001b[92mPASSED\u001b[0m\n",
      "\n",
      "\n",
      "\u001b[1mTEST CASE #1\u001b[0m\n",
      "\n",
      "Input:\n",
      "{'arr1': [6, 2, 4], 'n': 3, 'arr2': [7, 5, 6], 'm': 3}\n",
      "\n",
      "Expected Output:\n",
      "[1, 3, 8, 0]\n",
      "\n",
      "\n",
      "Actual Output:\n",
      "[1, 3, 8, 0]\n",
      "\n",
      "Execution Time:\n",
      "0.007 ms\n",
      "\n",
      "Test Result:\n",
      "\u001b[92mPASSED\u001b[0m\n",
      "\n",
      "\n",
      "\u001b[1mTEST CASE #2\u001b[0m\n",
      "\n",
      "Input:\n",
      "{'arr1': [8, 5, 2], 'n': 3, 'arr2': [1, 3], 'm': 2}\n",
      "\n",
      "Expected Output:\n",
      "[0, 8, 6, 5]\n",
      "\n",
      "\n",
      "Actual Output:\n",
      "[0, 8, 6, 5]\n",
      "\n",
      "Execution Time:\n",
      "0.006 ms\n",
      "\n",
      "Test Result:\n",
      "\u001b[92mPASSED\u001b[0m\n",
      "\n",
      "\n",
      "\u001b[1mTEST CASE #3\u001b[0m\n",
      "\n",
      "Input:\n",
      "{'arr1': [9, 7, 6, 1], 'n': 4, 'arr2': [4, 5, 9], 'm': 3}\n",
      "\n",
      "Expected Output:\n",
      "[1, 0, 2, 2, 0]\n",
      "\n",
      "\n",
      "Actual Output:\n",
      "[1, 0, 2, 2, 0]\n",
      "\n",
      "Execution Time:\n",
      "0.006 ms\n",
      "\n",
      "Test Result:\n",
      "\u001b[92mPASSED\u001b[0m\n",
      "\n",
      "\n",
      "\u001b[1mTEST CASE #4\u001b[0m\n",
      "\n",
      "Input:\n",
      "{'arr1': [6, 9, 8, 5], 'n': 4, 'arr2': [], 'm': 0}\n",
      "\n",
      "Expected Output:\n",
      "[0, 6, 9, 8, 5]\n",
      "\n",
      "\n",
      "Actual Output:\n",
      "[0, 6, 9, 8, 5]\n",
      "\n",
      "Execution Time:\n",
      "0.021 ms\n",
      "\n",
      "Test Result:\n",
      "\u001b[92mPASSED\u001b[0m\n",
      "\n",
      "\n",
      "\u001b[1mSUMMARY\u001b[0m\n",
      "\n",
      "TOTAL: 5, \u001b[92mPASSED\u001b[0m: 5, \u001b[91mFAILED\u001b[0m: 0\n"
     ]
    },
    {
     "data": {
      "text/plain": [
       "[([0, 2, 4, 6], True, 0.012),\n",
       " ([1, 3, 8, 0], True, 0.007),\n",
       " ([0, 8, 6, 5], True, 0.006),\n",
       " ([1, 0, 2, 2, 0], True, 0.006),\n",
       " ([0, 6, 9, 8, 5], True, 0.021)]"
      ]
     },
     "execution_count": 96,
     "metadata": {},
     "output_type": "execute_result"
    }
   ],
   "source": [
    "evaluate_test_cases(sumOfTwoArray, tests)"
   ]
  },
  {
   "cell_type": "code",
   "execution_count": 66,
   "metadata": {},
   "outputs": [],
   "source": []
  },
  {
   "cell_type": "code",
   "execution_count": 91,
   "metadata": {},
   "outputs": [],
   "source": [
    "arr2 = []"
   ]
  },
  {
   "cell_type": "code",
   "execution_count": 90,
   "metadata": {},
   "outputs": [
    {
     "ename": "SyntaxError",
     "evalue": "invalid syntax (<ipython-input-90-4af80d69db7d>, line 1)",
     "output_type": "error",
     "traceback": [
      "\u001b[1;36m  File \u001b[1;32m\"<ipython-input-90-4af80d69db7d>\"\u001b[1;36m, line \u001b[1;32m1\u001b[0m\n\u001b[1;33m    ar2 = int(''.join([str(i) for i in arr2 if m>0 else '0']))\u001b[0m\n\u001b[1;37m                                                      ^\u001b[0m\n\u001b[1;31mSyntaxError\u001b[0m\u001b[1;31m:\u001b[0m invalid syntax\n"
     ]
    }
   ],
   "source": [
    "ar2 = int(''.join([str(i) for i in arr2 if m>0 else '0']))"
   ]
  },
  {
   "cell_type": "code",
   "execution_count": 92,
   "metadata": {},
   "outputs": [
    {
     "data": {
      "text/plain": [
       "''"
      ]
     },
     "execution_count": 92,
     "metadata": {},
     "output_type": "execute_result"
    }
   ],
   "source": [
    "''.join([str(i) for i in arr2])"
   ]
  },
  {
   "cell_type": "code",
   "execution_count": 89,
   "metadata": {},
   "outputs": [
    {
     "data": {
      "text/plain": [
       "'0'"
      ]
     },
     "execution_count": 89,
     "metadata": {},
     "output_type": "execute_result"
    }
   ],
   "source": [
    "''.join(['0'])"
   ]
  },
  {
   "cell_type": "code",
   "execution_count": null,
   "metadata": {},
   "outputs": [],
   "source": []
  }
 ],
 "metadata": {
  "kernelspec": {
   "display_name": "Python 3",
   "language": "python",
   "name": "python3"
  },
  "language_info": {
   "codemirror_mode": {
    "name": "ipython",
    "version": 3
   },
   "file_extension": ".py",
   "mimetype": "text/x-python",
   "name": "python",
   "nbconvert_exporter": "python",
   "pygments_lexer": "ipython3",
   "version": "3.6.3"
  }
 },
 "nbformat": 4,
 "nbformat_minor": 2
}
