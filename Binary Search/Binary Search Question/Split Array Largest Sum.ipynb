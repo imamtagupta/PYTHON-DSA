{
 "cells": [
  {
   "cell_type": "code",
   "execution_count": 62,
   "metadata": {},
   "outputs": [],
   "source": [
    "def splitArrayLargestSum(nums, pcs):\n",
    "    start = max(nums)\n",
    "    end = sum(nums)\n",
    "    while start < end:\n",
    "        mid = (start+end) // 2\n",
    "        ans = 0\n",
    "        pieces = 1\n",
    "        for i in nums:\n",
    "            if (ans + i) > mid:\n",
    "                # means you cannot add in this sum array so create new array because sum is exceeded\n",
    "                ans = i\n",
    "                pieces += 1\n",
    "            else:\n",
    "                ans += i\n",
    "            \n",
    "        if pieces > pcs:\n",
    "            start = mid + 1\n",
    "        else:\n",
    "            end = mid          \n",
    "    return end"
   ]
  },
  {
   "cell_type": "code",
   "execution_count": 46,
   "metadata": {},
   "outputs": [],
   "source": [
    "# splitArrayLargestSum([2,4,6,8,9])"
   ]
  },
  {
   "cell_type": "code",
   "execution_count": 72,
   "metadata": {},
   "outputs": [],
   "source": [
    "test_cases = [\n",
    "    {\n",
    "        'input':{\n",
    "            'nums': [7,2,5,10,8],\n",
    "            'pcs' : 2\n",
    "        },\n",
    "        'output' : 18\n",
    "    },\n",
    "    {\n",
    "        'input':{\n",
    "            'nums': [1,2,3,4,5],\n",
    "            'pcs' : 2\n",
    "        },\n",
    "        'output' : 9\n",
    "    },\n",
    "    {\n",
    "        'input':{\n",
    "            'nums': [1,4,4],\n",
    "            'pcs' : 3\n",
    "        },\n",
    "        'output' : 4\n",
    "    }\n",
    "]"
   ]
  },
  {
   "cell_type": "code",
   "execution_count": 73,
   "metadata": {},
   "outputs": [],
   "source": [
    "from jovian.pythondsa import evaluate_test_cases"
   ]
  },
  {
   "cell_type": "code",
   "execution_count": 74,
   "metadata": {
    "scrolled": true
   },
   "outputs": [
    {
     "name": "stdout",
     "output_type": "stream",
     "text": [
      "\n",
      "\u001b[1mTEST CASE #0\u001b[0m\n",
      "start 10 end 32 mid21 ans0 pieces1\n",
      "start 10 end 21 mid15 ans0 pieces1\n",
      "start 10 end 21 mid15 ans8 pieces3\n",
      "start 16 end 21 mid18 ans0 pieces1\n",
      "start 16 end 18 mid17 ans0 pieces1\n",
      "start 16 end 18 mid17 ans8 pieces3\n",
      "\n",
      "Input:\n",
      "{'nums': [7, 2, 5, 10, 8], 'pcs': 2}\n",
      "\n",
      "Expected Output:\n",
      "18\n",
      "\n",
      "\n",
      "Actual Output:\n",
      "18\n",
      "\n",
      "Execution Time:\n",
      "0.151 ms\n",
      "\n",
      "Test Result:\n",
      "\u001b[92mPASSED\u001b[0m\n",
      "\n",
      "\n",
      "\u001b[1mTEST CASE #1\u001b[0m\n",
      "start 5 end 15 mid10 ans0 pieces1\n",
      "start 5 end 10 mid7 ans0 pieces1\n",
      "start 5 end 10 mid7 ans5 pieces3\n",
      "start 8 end 10 mid9 ans0 pieces1\n",
      "start 8 end 9 mid8 ans0 pieces1\n",
      "start 8 end 9 mid8 ans5 pieces3\n",
      "\n",
      "Input:\n",
      "{'nums': [1, 2, 3, 4, 5], 'pcs': 2}\n",
      "\n",
      "Expected Output:\n",
      "9\n",
      "\n",
      "\n",
      "Actual Output:\n",
      "9\n",
      "\n",
      "Execution Time:\n",
      "0.141 ms\n",
      "\n",
      "Test Result:\n",
      "\u001b[92mPASSED\u001b[0m\n",
      "\n",
      "\n",
      "\u001b[1mTEST CASE #2\u001b[0m\n",
      "start 4 end 9 mid6 ans0 pieces1\n",
      "start 4 end 6 mid5 ans0 pieces1\n",
      "start 4 end 5 mid4 ans0 pieces1\n",
      "\n",
      "Input:\n",
      "{'nums': [1, 4, 4], 'pcs': 3}\n",
      "\n",
      "Expected Output:\n",
      "4\n",
      "\n",
      "\n",
      "Actual Output:\n",
      "4\n",
      "\n",
      "Execution Time:\n",
      "0.071 ms\n",
      "\n",
      "Test Result:\n",
      "\u001b[92mPASSED\u001b[0m\n",
      "\n",
      "\n",
      "\u001b[1mSUMMARY\u001b[0m\n",
      "\n",
      "TOTAL: 3, \u001b[92mPASSED\u001b[0m: 3, \u001b[91mFAILED\u001b[0m: 0\n"
     ]
    },
    {
     "data": {
      "text/plain": [
       "[(18, True, 0.151), (9, True, 0.141), (4, True, 0.071)]"
      ]
     },
     "execution_count": 74,
     "metadata": {},
     "output_type": "execute_result"
    }
   ],
   "source": [
    "evaluate_test_cases(splitArrayLargestSum, test_cases)"
   ]
  },
  {
   "cell_type": "code",
   "execution_count": null,
   "metadata": {},
   "outputs": [],
   "source": []
  }
 ],
 "metadata": {
  "kernelspec": {
   "display_name": "Python 3",
   "language": "python",
   "name": "python3"
  },
  "language_info": {
   "codemirror_mode": {
    "name": "ipython",
    "version": 3
   },
   "file_extension": ".py",
   "mimetype": "text/x-python",
   "name": "python",
   "nbconvert_exporter": "python",
   "pygments_lexer": "ipython3",
   "version": "3.6.3"
  }
 },
 "nbformat": 4,
 "nbformat_minor": 2
}
