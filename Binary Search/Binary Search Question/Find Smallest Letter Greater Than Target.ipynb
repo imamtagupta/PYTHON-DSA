{
 "cells": [
  {
   "cell_type": "code",
   "execution_count": 3,
   "metadata": {},
   "outputs": [],
   "source": [
    "def minGreaterThanTarget(nums, target):\n",
    "    low = 0\n",
    "    high = len(nums)-1\n",
    "    if len(nums) > 0:\n",
    "        while low <= high and nums[high] >= target:\n",
    "            mid = (low+high) // 2\n",
    "            if nums[mid] > target and nums[mid-1]<=target:\n",
    "                return nums[mid]\n",
    "            elif nums[mid] > target:\n",
    "                high = mid - 1\n",
    "            else:\n",
    "                low = mid + 1\n",
    "        return nums[low]\n",
    "    return -1"
   ]
  },
  {
   "cell_type": "code",
   "execution_count": 14,
   "metadata": {},
   "outputs": [],
   "source": [
    "test_cases = [\n",
    "    #0) target >= is in left of mid\n",
    "    {\n",
    "        'input': {\n",
    "            'nums':['a','b','c','d'],\n",
    "            'target': 'b'\n",
    "        },\n",
    "        'output': 'c'\n",
    "    },\n",
    "    #0) target >= is in right of mid\n",
    "    {\n",
    "        'input': {\n",
    "            'nums':['c', 'f', 'j'],\n",
    "            'target':'c'\n",
    "        },\n",
    "        'output': 'f'\n",
    "    },\n",
    "]"
   ]
  },
  {
   "cell_type": "code",
   "execution_count": 15,
   "metadata": {},
   "outputs": [],
   "source": [
    "from jovian.pythondsa import evaluate_test_cases"
   ]
  },
  {
   "cell_type": "code",
   "execution_count": 16,
   "metadata": {},
   "outputs": [
    {
     "name": "stdout",
     "output_type": "stream",
     "text": [
      "\n",
      "\u001b[1mTEST CASE #0\u001b[0m\n",
      "\n",
      "Input:\n",
      "{'nums': ['a', 'b', 'c', 'd'], 'target': 'b'}\n",
      "\n",
      "Expected Output:\n",
      "c\n",
      "\n",
      "\n",
      "Actual Output:\n",
      "c\n",
      "\n",
      "Execution Time:\n",
      "0.008 ms\n",
      "\n",
      "Test Result:\n",
      "\u001b[92mPASSED\u001b[0m\n",
      "\n",
      "\n",
      "\u001b[1mTEST CASE #1\u001b[0m\n",
      "\n",
      "Input:\n",
      "{'nums': ['c', 'f', 'j'], 'target': 'c'}\n",
      "\n",
      "Expected Output:\n",
      "f\n",
      "\n",
      "\n",
      "Actual Output:\n",
      "f\n",
      "\n",
      "Execution Time:\n",
      "0.005 ms\n",
      "\n",
      "Test Result:\n",
      "\u001b[92mPASSED\u001b[0m\n",
      "\n",
      "\n",
      "\u001b[1mSUMMARY\u001b[0m\n",
      "\n",
      "TOTAL: 2, \u001b[92mPASSED\u001b[0m: 2, \u001b[91mFAILED\u001b[0m: 0\n"
     ]
    },
    {
     "data": {
      "text/plain": [
       "[('c', True, 0.008), ('f', True, 0.005)]"
      ]
     },
     "execution_count": 16,
     "metadata": {},
     "output_type": "execute_result"
    }
   ],
   "source": [
    "evaluate_test_cases(minGreaterThanTarget, test_cases)"
   ]
  },
  {
   "cell_type": "code",
   "execution_count": null,
   "metadata": {},
   "outputs": [],
   "source": []
  }
 ],
 "metadata": {
  "kernelspec": {
   "display_name": "Python 3",
   "language": "python",
   "name": "python3"
  },
  "language_info": {
   "codemirror_mode": {
    "name": "ipython",
    "version": 3
   },
   "file_extension": ".py",
   "mimetype": "text/x-python",
   "name": "python",
   "nbconvert_exporter": "python",
   "pygments_lexer": "ipython3",
   "version": "3.6.3"
  }
 },
 "nbformat": 4,
 "nbformat_minor": 2
}
