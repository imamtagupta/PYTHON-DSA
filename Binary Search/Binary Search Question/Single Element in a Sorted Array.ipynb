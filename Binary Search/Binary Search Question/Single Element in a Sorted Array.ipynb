{
 "cells": [
  {
   "cell_type": "markdown",
   "metadata": {},
   "source": [
    "Trying to work with a recursive way:"
   ]
  },
  {
   "cell_type": "code",
   "execution_count": 40,
   "metadata": {},
   "outputs": [],
   "source": [
    "def singleElementSortedArray(nums):\n",
    "    n = len(nums)\n",
    "    s = 0\n",
    "    e = n-2\n",
    "    if n==1:\n",
    "        return nums[0]\n",
    "    while s<=e:\n",
    "        mid = (s+e) // 2\n",
    "        if mid % 2 == 0:\n",
    "            if nums[mid+1] == nums[mid]:\n",
    "                s = mid + 1\n",
    "            else:\n",
    "                e = mid - 1\n",
    "        else:\n",
    "            if nums[mid-1] == nums[mid]:\n",
    "                s = mid + 1\n",
    "            else:\n",
    "                e = mid - 1\n",
    "    return nums[s]\n",
    "                "
   ]
  },
  {
   "cell_type": "code",
   "execution_count": 41,
   "metadata": {},
   "outputs": [],
   "source": [
    "from jovian.pythondsa import evaluate_test_cases, evaluate_test_case"
   ]
  },
  {
   "cell_type": "code",
   "execution_count": 42,
   "metadata": {},
   "outputs": [
    {
     "data": {
      "text/plain": [
       "[{'input': {'nums': [1, 1, 2, 3, 3, 4, 4, 8, 8]}, 'output': 2},\n",
       " {'input': {'nums': [2, 3, 3, 4, 4, 8, 8]}, 'output': 2},\n",
       " {'input': {'nums': [3, 3, 4, 4, 8, 8, 9]}, 'output': 9}]"
      ]
     },
     "execution_count": 42,
     "metadata": {},
     "output_type": "execute_result"
    }
   ],
   "source": [
    "test_cases = [\n",
    "    {\n",
    "        'input': {\n",
    "            'nums': [1,1,2,3,3,4,4,8,8]\n",
    "        },\n",
    "        'output': 2 \n",
    "    },\n",
    "    {\n",
    "        'input': {\n",
    "            'nums': [2,3,3,4,4,8,8]\n",
    "        },\n",
    "        'output': 2 \n",
    "    },\n",
    "    {\n",
    "        'input': {\n",
    "            'nums': [3,3,4,4,8,8,9]\n",
    "        },\n",
    "        'output': 9\n",
    "    },\n",
    "    \n",
    "]\n",
    "\n",
    "test_cases"
   ]
  },
  {
   "cell_type": "code",
   "execution_count": 43,
   "metadata": {},
   "outputs": [
    {
     "name": "stdout",
     "output_type": "stream",
     "text": [
      "\n",
      "\u001b[1mTEST CASE #0\u001b[0m\n",
      "\n",
      "Input:\n",
      "{'nums': [1, 1, 2, 3, 3, 4, 4, 8, 8]}\n",
      "\n",
      "Expected Output:\n",
      "2\n",
      "\n",
      "\n",
      "Actual Output:\n",
      "2\n",
      "\n",
      "Execution Time:\n",
      "0.005 ms\n",
      "\n",
      "Test Result:\n",
      "\u001b[92mPASSED\u001b[0m\n",
      "\n",
      "\n",
      "\u001b[1mTEST CASE #1\u001b[0m\n",
      "\n",
      "Input:\n",
      "{'nums': [2, 3, 3, 4, 4, 8, 8]}\n",
      "\n",
      "Expected Output:\n",
      "2\n",
      "\n",
      "\n",
      "Actual Output:\n",
      "2\n",
      "\n",
      "Execution Time:\n",
      "0.008 ms\n",
      "\n",
      "Test Result:\n",
      "\u001b[92mPASSED\u001b[0m\n",
      "\n",
      "\n",
      "\u001b[1mTEST CASE #2\u001b[0m\n",
      "\n",
      "Input:\n",
      "{'nums': [3, 3, 4, 4, 8, 8, 9]}\n",
      "\n",
      "Expected Output:\n",
      "9\n",
      "\n",
      "\n",
      "Actual Output:\n",
      "9\n",
      "\n",
      "Execution Time:\n",
      "0.003 ms\n",
      "\n",
      "Test Result:\n",
      "\u001b[92mPASSED\u001b[0m\n",
      "\n",
      "\n",
      "\u001b[1mSUMMARY\u001b[0m\n",
      "\n",
      "TOTAL: 3, \u001b[92mPASSED\u001b[0m: 3, \u001b[91mFAILED\u001b[0m: 0\n"
     ]
    },
    {
     "data": {
      "text/plain": [
       "[(2, True, 0.005), (2, True, 0.008), (9, True, 0.003)]"
      ]
     },
     "execution_count": 43,
     "metadata": {},
     "output_type": "execute_result"
    }
   ],
   "source": [
    "evaluate_test_cases(singleElementSortedArray, test_cases)"
   ]
  },
  {
   "cell_type": "code",
   "execution_count": null,
   "metadata": {},
   "outputs": [],
   "source": []
  },
  {
   "cell_type": "code",
   "execution_count": null,
   "metadata": {},
   "outputs": [],
   "source": []
  }
 ],
 "metadata": {
  "kernelspec": {
   "display_name": "Python 3",
   "language": "python",
   "name": "python3"
  },
  "language_info": {
   "codemirror_mode": {
    "name": "ipython",
    "version": 3
   },
   "file_extension": ".py",
   "mimetype": "text/x-python",
   "name": "python",
   "nbconvert_exporter": "python",
   "pygments_lexer": "ipython3",
   "version": "3.6.3"
  }
 },
 "nbformat": 4,
 "nbformat_minor": 2
}
