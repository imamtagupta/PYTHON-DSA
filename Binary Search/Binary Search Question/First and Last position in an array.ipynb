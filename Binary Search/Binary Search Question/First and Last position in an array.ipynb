{
 "cells": [
  {
   "cell_type": "code",
   "execution_count": 1,
   "metadata": {},
   "outputs": [],
   "source": [
    "def binarySearch(lo, hi, condition):\n",
    "    while lo <= hi:\n",
    "        mid = (lo + hi)//2\n",
    "        result = condition(mid)\n",
    "        if result == 'found':\n",
    "            return mid\n",
    "        elif result == 'left':\n",
    "            hi = mid - 1\n",
    "        else:\n",
    "            lo = mid + 1\n",
    "    return -1"
   ]
  },
  {
   "cell_type": "code",
   "execution_count": 2,
   "metadata": {},
   "outputs": [],
   "source": [
    "def firstPosition(num_list, query):\n",
    "    def condition(mid):\n",
    "        if query == num_list[mid]:\n",
    "            if mid > 0 and num_list[mid-1] == query:\n",
    "                return 'left'\n",
    "            return 'found'\n",
    "        elif query < num_list[mid]:\n",
    "            return 'left'\n",
    "        else:\n",
    "            return 'right'\n",
    "    return binarySearch(0, len(num_list)-1, condition)\n",
    "        "
   ]
  },
  {
   "cell_type": "code",
   "execution_count": 3,
   "metadata": {},
   "outputs": [],
   "source": [
    "def lastPosition(num_list, query):\n",
    "    def condition(mid):\n",
    "        if query == num_list[mid]:\n",
    "            if mid < len(num_list)-1 and num_list[mid+1] == query:\n",
    "                return 'right'\n",
    "            return 'found'\n",
    "        elif query > num_list[mid]:\n",
    "            return 'right'\n",
    "        else:\n",
    "            return 'left'\n",
    "    return binarySearch(0, len(num_list)-1, condition)"
   ]
  },
  {
   "cell_type": "code",
   "execution_count": 4,
   "metadata": {},
   "outputs": [],
   "source": [
    "large_test = {\n",
    "    'input': {\n",
    "        'num_list': [1,9,12,13,34,34,34,34,34,56,109,344],\n",
    "        'query': 34\n",
    "    },\n",
    "    'output': [4,8]\n",
    "}"
   ]
  },
  {
   "cell_type": "code",
   "execution_count": 5,
   "metadata": {},
   "outputs": [],
   "source": [
    "def first_and_last_position(num_list, query):\n",
    "    if len(num_list) > 0:\n",
    "        return [firstPosition(num_list, query), lastPosition(num_list, query)]\n",
    "    else:\n",
    "        return [-1, -1]"
   ]
  },
  {
   "cell_type": "code",
   "execution_count": 6,
   "metadata": {},
   "outputs": [
    {
     "data": {
      "application/javascript": [
       "if (window.IPython && IPython.notebook.kernel) IPython.notebook.kernel.execute('jovian.utils.jupyter.get_notebook_name_saved = lambda: \"' + IPython.notebook.notebook_name + '\"')"
      ],
      "text/plain": [
       "<IPython.core.display.Javascript object>"
      ]
     },
     "metadata": {},
     "output_type": "display_data"
    },
    {
     "name": "stderr",
     "output_type": "stream",
     "text": [
      "c:\\users\\mamta\\appdata\\local\\programs\\python\\python36-32\\lib\\site-packages\\cryptography\\hazmat\\backends\\openssl\\x509.py:17: CryptographyDeprecationWarning: This version of cryptography contains a temporary pyOpenSSL fallback path. Upgrade pyOpenSSL now.\n",
      "  utils.DeprecatedIn35,\n"
     ]
    }
   ],
   "source": [
    "from jovian.pythondsa import evaluate_test_case"
   ]
  },
  {
   "cell_type": "code",
   "execution_count": 7,
   "metadata": {},
   "outputs": [
    {
     "name": "stdout",
     "output_type": "stream",
     "text": [
      "\n",
      "Input:\n",
      "{'num_list': [1, 9, 12, 13, 34, 34, 34, 34, 34, 56, 109, 344], 'query': 34}\n",
      "\n",
      "Expected Output:\n",
      "[4, 8]\n",
      "\n",
      "\n",
      "Actual Output:\n",
      "[4, 8]\n",
      "\n",
      "Execution Time:\n",
      "0.045 ms\n",
      "\n",
      "Test Result:\n",
      "\u001b[92mPASSED\u001b[0m\n",
      "\n"
     ]
    },
    {
     "data": {
      "text/plain": [
       "([4, 8], True, 0.045)"
      ]
     },
     "execution_count": 7,
     "metadata": {},
     "output_type": "execute_result"
    }
   ],
   "source": [
    "evaluate_test_case(first_and_last_position, large_test)"
   ]
  },
  {
   "cell_type": "code",
   "execution_count": 8,
   "metadata": {},
   "outputs": [],
   "source": [
    "# While searching also there are multiple test cased which we should write it down so that we can find the solution of all possible problems\n",
    "sorted_tests = []\n",
    "\n",
    "# 1) query can occur in middle\n",
    "\n",
    "sorted_tests.append({\n",
    "    'input': { \n",
    "        'num_list': [5,7,7,8,8,10], \n",
    "        'query': 8\n",
    "    },\n",
    "    'output': [3,4]\n",
    "})\n",
    "\n",
    "# 2) query can occur in the beginning\n",
    "\n",
    "sorted_tests.append({\n",
    "    'input':{\n",
    "        'num_list' : [5,7,7,8,8,10],\n",
    "        'query' : 6\n",
    "    },\n",
    "    'output' : [-1,-1]\n",
    "})\n",
    "\n",
    "# 3) query can occur in the last\n",
    "\n",
    "sorted_tests.append({\n",
    "    'input':{\n",
    "        'num_list' : [],\n",
    "        'query' : 34\n",
    "    },\n",
    "    'output' : [-1,-1]\n",
    "})\n",
    "\n",
    "# 4) query may not occur in the list of num_list\n",
    "\n",
    "sorted_tests.append({\n",
    "    'input':{\n",
    "        'num_list' : [1,1],\n",
    "        'query' : 1\n",
    "    },\n",
    "    'output' : [0,1]\n",
    "})\n",
    "\n",
    "# 5) items in the list of num_list can occur multiple times\n",
    "\n",
    "sorted_tests.append({\n",
    "    'input':{\n",
    "        'num_list' : [1],\n",
    "        'query' : 1\n",
    "    },\n",
    "    'output' : [0,0]\n",
    "})\n",
    "\n",
    "# 6) query in the list of num_list can occur multiple times\n",
    "\n",
    "sorted_tests.append({\n",
    "    'input':{\n",
    "        'num_list' : [0],\n",
    "        'query' : 1\n",
    "    },\n",
    "    'output' : [-1,-1]\n",
    "})"
   ]
  },
  {
   "cell_type": "code",
   "execution_count": 9,
   "metadata": {},
   "outputs": [
    {
     "data": {
      "text/plain": [
       "[{'input': {'num_list': [5, 7, 7, 8, 8, 10], 'query': 8}, 'output': [3, 4]},\n",
       " {'input': {'num_list': [5, 7, 7, 8, 8, 10], 'query': 6}, 'output': [-1, -1]},\n",
       " {'input': {'num_list': [], 'query': 34}, 'output': [-1, -1]},\n",
       " {'input': {'num_list': [1, 1], 'query': 1}, 'output': [0, 1]},\n",
       " {'input': {'num_list': [1], 'query': 1}, 'output': [0, 0]},\n",
       " {'input': {'num_list': [0], 'query': 1}, 'output': [-1, -1]}]"
      ]
     },
     "execution_count": 9,
     "metadata": {},
     "output_type": "execute_result"
    }
   ],
   "source": [
    "sorted_tests"
   ]
  },
  {
   "cell_type": "code",
   "execution_count": 10,
   "metadata": {},
   "outputs": [
    {
     "name": "stdout",
     "output_type": "stream",
     "text": [
      "\n",
      "\u001b[1mTEST CASE #0\u001b[0m\n",
      "\n",
      "Input:\n",
      "{'num_list': [5, 7, 7, 8, 8, 10], 'query': 8}\n",
      "\n",
      "Expected Output:\n",
      "[3, 4]\n",
      "\n",
      "\n",
      "Actual Output:\n",
      "[3, 4]\n",
      "\n",
      "Execution Time:\n",
      "0.017 ms\n",
      "\n",
      "Test Result:\n",
      "\u001b[92mPASSED\u001b[0m\n",
      "\n",
      "\n",
      "\u001b[1mTEST CASE #1\u001b[0m\n",
      "\n",
      "Input:\n",
      "{'num_list': [5, 7, 7, 8, 8, 10], 'query': 6}\n",
      "\n",
      "Expected Output:\n",
      "[-1, -1]\n",
      "\n",
      "\n",
      "Actual Output:\n",
      "[-1, -1]\n",
      "\n",
      "Execution Time:\n",
      "0.013 ms\n",
      "\n",
      "Test Result:\n",
      "\u001b[92mPASSED\u001b[0m\n",
      "\n",
      "\n",
      "\u001b[1mTEST CASE #2\u001b[0m\n",
      "\n",
      "Input:\n",
      "{'num_list': [], 'query': 34}\n",
      "\n",
      "Expected Output:\n",
      "[-1, -1]\n",
      "\n",
      "\n",
      "Actual Output:\n",
      "[-1, -1]\n",
      "\n",
      "Execution Time:\n",
      "0.002 ms\n",
      "\n",
      "Test Result:\n",
      "\u001b[92mPASSED\u001b[0m\n",
      "\n",
      "\n",
      "\u001b[1mTEST CASE #3\u001b[0m\n",
      "\n",
      "Input:\n",
      "{'num_list': [1, 1], 'query': 1}\n",
      "\n",
      "Expected Output:\n",
      "[0, 1]\n",
      "\n",
      "\n",
      "Actual Output:\n",
      "[0, 1]\n",
      "\n",
      "Execution Time:\n",
      "0.007 ms\n",
      "\n",
      "Test Result:\n",
      "\u001b[92mPASSED\u001b[0m\n",
      "\n",
      "\n",
      "\u001b[1mTEST CASE #4\u001b[0m\n",
      "\n",
      "Input:\n",
      "{'num_list': [1], 'query': 1}\n",
      "\n",
      "Expected Output:\n",
      "[0, 0]\n",
      "\n",
      "\n",
      "Actual Output:\n",
      "[0, 0]\n",
      "\n",
      "Execution Time:\n",
      "0.005 ms\n",
      "\n",
      "Test Result:\n",
      "\u001b[92mPASSED\u001b[0m\n",
      "\n",
      "\n",
      "\u001b[1mTEST CASE #5\u001b[0m\n",
      "\n",
      "Input:\n",
      "{'num_list': [0], 'query': 1}\n",
      "\n",
      "Expected Output:\n",
      "[-1, -1]\n",
      "\n",
      "\n",
      "Actual Output:\n",
      "[-1, -1]\n",
      "\n",
      "Execution Time:\n",
      "0.008 ms\n",
      "\n",
      "Test Result:\n",
      "\u001b[92mPASSED\u001b[0m\n",
      "\n",
      "\n",
      "\u001b[1mSUMMARY\u001b[0m\n",
      "\n",
      "TOTAL: 6, \u001b[92mPASSED\u001b[0m: 6, \u001b[91mFAILED\u001b[0m: 0\n"
     ]
    },
    {
     "data": {
      "text/plain": [
       "[([3, 4], True, 0.017),\n",
       " ([-1, -1], True, 0.013),\n",
       " ([-1, -1], True, 0.002),\n",
       " ([0, 1], True, 0.007),\n",
       " ([0, 0], True, 0.005),\n",
       " ([-1, -1], True, 0.008)]"
      ]
     },
     "execution_count": 10,
     "metadata": {},
     "output_type": "execute_result"
    }
   ],
   "source": [
    "from jovian.pythondsa import evaluate_test_cases, evaluate_test_case\n",
    "\n",
    "evaluate_test_cases(first_and_last_position, sorted_tests)"
   ]
  }
 ],
 "metadata": {
  "kernelspec": {
   "display_name": "Python 3",
   "language": "python",
   "name": "python3"
  },
  "language_info": {
   "codemirror_mode": {
    "name": "ipython",
    "version": 3
   },
   "file_extension": ".py",
   "mimetype": "text/x-python",
   "name": "python",
   "nbconvert_exporter": "python",
   "pygments_lexer": "ipython3",
   "version": "3.6.3"
  }
 },
 "nbformat": 4,
 "nbformat_minor": 2
}
