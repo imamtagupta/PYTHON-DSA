{
 "cells": [
  {
   "cell_type": "code",
   "execution_count": 1,
   "metadata": {},
   "outputs": [],
   "source": [
    "def peakIndexMountainArray(nums):\n",
    "    n = len(nums)\n",
    "    low = 0\n",
    "    high = n-1\n",
    "    if n < 3:\n",
    "        return -1\n",
    "    \n",
    "    while high-low > 1:\n",
    "        mid = low+((high-low)//2)\n",
    "        prev = (n + (mid - 1)) % n \n",
    "        next = (mid + 1) % n\n",
    "        if nums[prev] < nums[mid] > nums[next]:\n",
    "            return mid\n",
    "        elif nums[prev] > nums[mid]:\n",
    "            high = mid - 1\n",
    "        else:\n",
    "            low = mid + 1\n",
    "    return low if nums[low]>nums[high] else high\n",
    "    "
   ]
  },
  {
   "cell_type": "code",
   "execution_count": 2,
   "metadata": {},
   "outputs": [],
   "source": [
    "test_cases = [\n",
    "    # 0) largest one in the middle\n",
    "    {\n",
    "        'input':{\n",
    "            'nums':[0,1,0]\n",
    "        },\n",
    "        'output':1\n",
    "    },\n",
    "    # 1) largest one in the middle-1\n",
    "    {\n",
    "        'input':{\n",
    "            'nums':[0,2,1,0]\n",
    "        },\n",
    "        'output':1\n",
    "    },\n",
    "    # 2) largest one in the middle\n",
    "    {\n",
    "        'input':{\n",
    "            'nums':[3,9,8,6,4]\n",
    "        },\n",
    "        'output':1\n",
    "    },\n",
    "     # 3) largest one in the middle\n",
    "    {\n",
    "        'input':{\n",
    "            'nums':[3,4,5,1]\n",
    "        },\n",
    "        'output':2\n",
    "    },\n",
    "    {\n",
    "        'input':{\n",
    "            'nums':[7,8,1,2,3,4,5,6]\n",
    "        },\n",
    "        'output':1\n",
    "    },\n",
    "    \n",
    "]"
   ]
  },
  {
   "cell_type": "code",
   "execution_count": 3,
   "metadata": {},
   "outputs": [
    {
     "data": {
      "application/javascript": [
       "if (window.IPython && IPython.notebook.kernel) IPython.notebook.kernel.execute('jovian.utils.jupyter.get_notebook_name_saved = lambda: \"' + IPython.notebook.notebook_name + '\"')"
      ],
      "text/plain": [
       "<IPython.core.display.Javascript object>"
      ]
     },
     "metadata": {},
     "output_type": "display_data"
    },
    {
     "name": "stderr",
     "output_type": "stream",
     "text": [
      "c:\\users\\mamta\\appdata\\local\\programs\\python\\python36-32\\lib\\site-packages\\cryptography\\hazmat\\backends\\openssl\\x509.py:17: CryptographyDeprecationWarning: This version of cryptography contains a temporary pyOpenSSL fallback path. Upgrade pyOpenSSL now.\n",
      "  utils.DeprecatedIn35,\n"
     ]
    }
   ],
   "source": [
    "from jovian.pythondsa import evaluate_test_cases\n"
   ]
  },
  {
   "cell_type": "code",
   "execution_count": 4,
   "metadata": {},
   "outputs": [
    {
     "name": "stdout",
     "output_type": "stream",
     "text": [
      "\n",
      "\u001b[1mTEST CASE #0\u001b[0m\n",
      "\n",
      "Input:\n",
      "{'nums': [0, 1, 0]}\n",
      "\n",
      "Expected Output:\n",
      "1\n",
      "\n",
      "\n",
      "Actual Output:\n",
      "1\n",
      "\n",
      "Execution Time:\n",
      "0.005 ms\n",
      "\n",
      "Test Result:\n",
      "\u001b[92mPASSED\u001b[0m\n",
      "\n",
      "\n",
      "\u001b[1mTEST CASE #1\u001b[0m\n",
      "\n",
      "Input:\n",
      "{'nums': [0, 2, 1, 0]}\n",
      "\n",
      "Expected Output:\n",
      "1\n",
      "\n",
      "\n",
      "Actual Output:\n",
      "1\n",
      "\n",
      "Execution Time:\n",
      "0.02 ms\n",
      "\n",
      "Test Result:\n",
      "\u001b[92mPASSED\u001b[0m\n",
      "\n",
      "\n",
      "\u001b[1mTEST CASE #2\u001b[0m\n",
      "\n",
      "Input:\n",
      "{'nums': [3, 9, 8, 6, 4]}\n",
      "\n",
      "Expected Output:\n",
      "1\n",
      "\n",
      "\n",
      "Actual Output:\n",
      "1\n",
      "\n",
      "Execution Time:\n",
      "0.007 ms\n",
      "\n",
      "Test Result:\n",
      "\u001b[92mPASSED\u001b[0m\n",
      "\n",
      "\n",
      "\u001b[1mTEST CASE #3\u001b[0m\n",
      "\n",
      "Input:\n",
      "{'nums': [3, 4, 5, 1]}\n",
      "\n",
      "Expected Output:\n",
      "2\n",
      "\n",
      "\n",
      "Actual Output:\n",
      "2\n",
      "\n",
      "Execution Time:\n",
      "0.004 ms\n",
      "\n",
      "Test Result:\n",
      "\u001b[92mPASSED\u001b[0m\n",
      "\n",
      "\n",
      "\u001b[1mTEST CASE #4\u001b[0m\n",
      "\n",
      "Input:\n",
      "{'nums': [7, 8, 1, 2, 3, 4, 5, 6]}\n",
      "\n",
      "Expected Output:\n",
      "1\n",
      "\n",
      "\n",
      "Actual Output:\n",
      "7\n",
      "\n",
      "Execution Time:\n",
      "0.004 ms\n",
      "\n",
      "Test Result:\n",
      "\u001b[91mFAILED\u001b[0m\n",
      "\n",
      "\n",
      "\u001b[1mSUMMARY\u001b[0m\n",
      "\n",
      "TOTAL: 5, \u001b[92mPASSED\u001b[0m: 4, \u001b[91mFAILED\u001b[0m: 1\n"
     ]
    },
    {
     "data": {
      "text/plain": [
       "[(1, True, 0.005),\n",
       " (1, True, 0.02),\n",
       " (1, True, 0.007),\n",
       " (2, True, 0.004),\n",
       " (7, False, 0.004)]"
      ]
     },
     "execution_count": 4,
     "metadata": {},
     "output_type": "execute_result"
    }
   ],
   "source": [
    "evaluate_test_cases(peakIndexMountainArray, test_cases)"
   ]
  },
  {
   "cell_type": "code",
   "execution_count": null,
   "metadata": {},
   "outputs": [],
   "source": []
  }
 ],
 "metadata": {
  "kernelspec": {
   "display_name": "Python 3",
   "language": "python",
   "name": "python3"
  },
  "language_info": {
   "codemirror_mode": {
    "name": "ipython",
    "version": 3
   },
   "file_extension": ".py",
   "mimetype": "text/x-python",
   "name": "python",
   "nbconvert_exporter": "python",
   "pygments_lexer": "ipython3",
   "version": "3.6.3"
  }
 },
 "nbformat": 4,
 "nbformat_minor": 2
}
