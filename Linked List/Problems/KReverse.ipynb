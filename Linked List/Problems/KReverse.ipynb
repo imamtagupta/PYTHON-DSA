{
 "cells": [
  {
   "cell_type": "markdown",
   "metadata": {},
   "source": [
    "Given a singly linked list of integers, reverse the nodes of the linked list 'k' at a time and return its modified list.\n",
    " 'k' is a positive integer and is less than or equal to the length of the linked list. If the number of nodes is not a multiple of 'k,' then left-out nodes, in the end, should be reversed as well."
   ]
  },
  {
   "cell_type": "markdown",
   "metadata": {},
   "source": [
    "Example :\n",
    "Given this linked list: 1 -> 2 -> 3 -> 4 -> 5\n",
    "\n",
    "For k = 2, you should return: 2 -> 1 -> 4 -> 3 -> 5\n",
    "\n",
    "For k = 3, you should return: 3 -> 2 -> 1 -> 5 -> 4"
   ]
  },
  {
   "cell_type": "code",
   "execution_count": 2,
   "metadata": {},
   "outputs": [],
   "source": [
    "import sys\n",
    " \n",
    "# setting path\n",
    "sys.path.append('../../Linked List')\n",
    "\n",
    "from LinkedList import Node, LinkedList as LL"
   ]
  },
  {
   "cell_type": "markdown",
   "metadata": {},
   "source": [
    "### Since we have already understood the merging and find mid element of linked list lets do merge sort!"
   ]
  },
  {
   "cell_type": "code",
   "execution_count": 69,
   "metadata": {},
   "outputs": [],
   "source": [
    "def reverse(head):\n",
    "    prev, curr = None, head\n",
    "    nxt = curr.next\n",
    "    while curr is not None:\n",
    "        curr.next = prev\n",
    "        prev = curr\n",
    "        curr = nxt\n",
    "        nxt = nxt.next if nxt is not None else nxt\n",
    "    return prev\n",
    "\n",
    "def kreverse(head, k):\n",
    "    prev , curr = None, head\n",
    "    start , nextEnd = prev, curr\n",
    "    prev, curr = curr, curr.next\n",
    "    nxt = curr.next\n",
    "    while curr is not None:\n",
    "        for i in range(k):\n",
    "            curr.next = prev\n",
    "            prev = curr\n",
    "            curr = nxt\n",
    "            nxt = nxt.next if nxt is not None else nxt\n",
    "        if start is not None:\n",
    "            start.next = prev\n",
    "        else:\n",
    "            head = prev\n",
    "        nextEnd.next = curr\n",
    "    return head"
   ]
  },
  {
   "cell_type": "code",
   "execution_count": 70,
   "metadata": {},
   "outputs": [],
   "source": [
    "ls1 = LL()\n",
    "ls1.appendLast(2)\n",
    "ls1.appendLast(3)\n",
    "ls1.appendLast(4)\n",
    "ls1.appendFirst(1)\n",
    "ls1.appendLast(5)"
   ]
  },
  {
   "cell_type": "code",
   "execution_count": 71,
   "metadata": {},
   "outputs": [
    {
     "name": "stdout",
     "output_type": "stream",
     "text": [
      "1 -> 2 -> 3 -> 4 -> 5 -> None\n"
     ]
    }
   ],
   "source": [
    "ls1.show()"
   ]
  },
  {
   "cell_type": "code",
   "execution_count": 72,
   "metadata": {},
   "outputs": [],
   "source": [
    "node = kreverse(ls1.head, 2)"
   ]
  },
  {
   "cell_type": "code",
   "execution_count": 73,
   "metadata": {},
   "outputs": [
    {
     "name": "stdout",
     "output_type": "stream",
     "text": [
      "5 -> 4 -> 3 -> 2 -> 1 -> end\n"
     ]
    }
   ],
   "source": [
    "while node is not None:\n",
    "    print(node.data,'-> ',end=\"\")\n",
    "    node = node.next\n",
    "print('end')"
   ]
  },
  {
   "cell_type": "code",
   "execution_count": null,
   "metadata": {},
   "outputs": [],
   "source": []
  },
  {
   "cell_type": "code",
   "execution_count": null,
   "metadata": {},
   "outputs": [],
   "source": []
  },
  {
   "cell_type": "code",
   "execution_count": 19,
   "metadata": {},
   "outputs": [],
   "source": [
    "def specificReverse(head, left, right):\n",
    "    if left == right:\n",
    "        return head\n",
    "    \n",
    "    i = 1\n",
    "    curr = head\n",
    "    while i < left:\n",
    "        prev = curr\n",
    "        curr = curr.next\n",
    "        i += 1\n",
    "    start , nextEnd = prev, curr\n",
    "    prev, curr = curr, curr.next\n",
    "    nxt = curr.next\n",
    "    i += 1\n",
    "    while i <= right is not None:\n",
    "        curr.next = prev\n",
    "        prev = curr\n",
    "        curr = nxt\n",
    "        nxt = nxt.next if nxt is not None else nxt\n",
    "        i += 1\n",
    "    if start is not None:\n",
    "        start.next = prev\n",
    "    else:\n",
    "        head = prev\n",
    "    nextEnd.next = curr\n",
    "    return head"
   ]
  },
  {
   "cell_type": "code",
   "execution_count": 20,
   "metadata": {},
   "outputs": [
    {
     "name": "stdout",
     "output_type": "stream",
     "text": [
      "1 -> 2 -> 3 -> 4 -> 5 -> None\n"
     ]
    }
   ],
   "source": [
    "ls2 = LL()\n",
    "ls2.appendLast(2)\n",
    "ls2.appendLast(3)\n",
    "ls2.appendLast(4)\n",
    "ls2.appendLast(5)\n",
    "ls2.appendFirst(1)\n",
    "ls2.show()"
   ]
  },
  {
   "cell_type": "code",
   "execution_count": 21,
   "metadata": {},
   "outputs": [
    {
     "data": {
      "text/plain": [
       "<LinkedList.Node at 0x62fa150>"
      ]
     },
     "execution_count": 21,
     "metadata": {},
     "output_type": "execute_result"
    }
   ],
   "source": [
    "specificReverse(ls2.head, 2, 4)"
   ]
  },
  {
   "cell_type": "code",
   "execution_count": 22,
   "metadata": {},
   "outputs": [
    {
     "name": "stdout",
     "output_type": "stream",
     "text": [
      "1 -> 4 -> 3 -> 2 -> 5 -> None\n"
     ]
    }
   ],
   "source": [
    "ls2.show()"
   ]
  },
  {
   "cell_type": "code",
   "execution_count": null,
   "metadata": {},
   "outputs": [],
   "source": []
  }
 ],
 "metadata": {
  "kernelspec": {
   "display_name": "Python 3",
   "language": "python",
   "name": "python3"
  },
  "language_info": {
   "codemirror_mode": {
    "name": "ipython",
    "version": 3
   },
   "file_extension": ".py",
   "mimetype": "text/x-python",
   "name": "python",
   "nbconvert_exporter": "python",
   "pygments_lexer": "ipython3",
   "version": "3.6.3"
  }
 },
 "nbformat": 4,
 "nbformat_minor": 2
}
