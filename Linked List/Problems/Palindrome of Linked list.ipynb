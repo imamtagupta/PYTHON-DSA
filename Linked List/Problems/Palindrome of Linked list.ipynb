{
 "cells": [
  {
   "cell_type": "code",
   "execution_count": 1,
   "metadata": {},
   "outputs": [],
   "source": [
    "import sys\n",
    " \n",
    "# setting path\n",
    "sys.path.append('../../Linked List')\n",
    "\n",
    "from LinkedList import Node, LinkedList as LL"
   ]
  },
  {
   "cell_type": "code",
   "execution_count": 74,
   "metadata": {},
   "outputs": [],
   "source": [
    "def length(head):\n",
    "    ln = 0\n",
    "\n",
    "    while head is not None and head.next is not None:\n",
    "        head = head.next\n",
    "        ln += 1\n",
    "    return ln\n",
    "\n",
    "def reverse(head):\n",
    "    prev, curr = None, head\n",
    "    nxt = curr.next if curr is not None else None\n",
    "    while curr is not None:\n",
    "        curr.next = prev\n",
    "        prev = curr\n",
    "        curr = nxt\n",
    "        nxt = nxt.next if nxt is not None else nxt\n",
    "    head = prev\n",
    "    return head\n",
    "\n",
    "def palindrome(head):\n",
    "    mid = length(head) // 2\n",
    "    i = 0\n",
    "    curr = head\n",
    "    while i < mid and curr.next is not None:\n",
    "        curr = curr.next\n",
    "        i += 1\n",
    "    headSecond = reverse(curr)\n",
    "    reverseHead = headSecond\n",
    "\n",
    "    # Compoare both halves 🙌\n",
    "\n",
    "    while head is not None and headSecond is not None:\n",
    "        if head.data != headSecond.data:\n",
    "            break\n",
    "        head = head.next\n",
    "        headSecond = headSecond.next\n",
    "\n",
    "\n",
    "    # undo the half reversed list :)\n",
    "    reverse(reverseHead)\n",
    "    if head == None or headSecond == None:\n",
    "        return True\n",
    "    return False\n",
    "return palindrome(head)\n"
   ]
  },
  {
   "cell_type": "code",
   "execution_count": 75,
   "metadata": {},
   "outputs": [
    {
     "name": "stdout",
     "output_type": "stream",
     "text": [
      "5 -> 2 -> 3 -> 4 -> 1 -> None\n",
      "None\n"
     ]
    },
    {
     "data": {
      "text/plain": [
       "False"
      ]
     },
     "execution_count": 75,
     "metadata": {},
     "output_type": "execute_result"
    }
   ],
   "source": [
    "ls1 = LL()\n",
    "ls1.appendLast(2)\n",
    "ls1.appendLast(3)\n",
    "ls1.appendLast(4)\n",
    "ls1.appendFirst(5)\n",
    "ls1.appendLast(1)\n",
    "\n",
    "print(ls1.show())\n",
    "\n",
    "ls1.length()\n",
    "\n",
    "\n",
    "\n",
    "palindrome(ls1.head)"
   ]
  },
  {
   "cell_type": "code",
   "execution_count": 77,
   "metadata": {},
   "outputs": [
    {
     "name": "stdout",
     "output_type": "stream",
     "text": [
      "1 -> 2 -> 2 -> 1 -> None\n",
      "5\n"
     ]
    },
    {
     "data": {
      "text/plain": [
       "True"
      ]
     },
     "execution_count": 77,
     "metadata": {},
     "output_type": "execute_result"
    }
   ],
   "source": [
    "ls2 = LL()\n",
    "ls2.appendLast(1)\n",
    "ls2.appendLast(2)\n",
    "ls2.appendLast(2)\n",
    "ls2.appendLast(1)\n",
    "\n",
    "ls2.show()\n",
    "      \n",
    "print(ls1.length())\n",
    "\n",
    "\n",
    "palindrome(ls2.head)"
   ]
  },
  {
   "cell_type": "code",
   "execution_count": null,
   "metadata": {},
   "outputs": [],
   "source": []
  },
  {
   "cell_type": "code",
   "execution_count": null,
   "metadata": {},
   "outputs": [],
   "source": []
  },
  {
   "cell_type": "code",
   "execution_count": null,
   "metadata": {},
   "outputs": [],
   "source": []
  }
 ],
 "metadata": {
  "kernelspec": {
   "display_name": "Python 3",
   "language": "python",
   "name": "python3"
  },
  "language_info": {
   "codemirror_mode": {
    "name": "ipython",
    "version": 3
   },
   "file_extension": ".py",
   "mimetype": "text/x-python",
   "name": "python",
   "nbconvert_exporter": "python",
   "pygments_lexer": "ipython3",
   "version": "3.6.3"
  }
 },
 "nbformat": 4,
 "nbformat_minor": 2
}
