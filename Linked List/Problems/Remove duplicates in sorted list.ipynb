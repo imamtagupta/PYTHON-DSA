{
 "cells": [
  {
   "cell_type": "code",
   "execution_count": 22,
   "metadata": {},
   "outputs": [],
   "source": [
    "import sys\n",
    " \n",
    "# setting path\n",
    "sys.path.append('../../Linked List')"
   ]
  },
  {
   "cell_type": "code",
   "execution_count": 23,
   "metadata": {},
   "outputs": [],
   "source": [
    "from LinkedList import Node, LinkedList as LL"
   ]
  },
  {
   "cell_type": "code",
   "execution_count": 1,
   "metadata": {},
   "outputs": [],
   "source": [
    "class Node:\n",
    "    def __init__(self, value):\n",
    "        self.data = value\n",
    "        self.next = None\n",
    "        \n",
    "\n",
    "class LinkedList:\n",
    "    def __init__(self):\n",
    "        self.head = None\n",
    "    def appendLast(self, value):\n",
    "        if self.head is None:\n",
    "            self.head = Node(value)\n",
    "        else:\n",
    "            currentNode = self.head\n",
    "            while currentNode.next is not None:\n",
    "                currentNode = currentNode.next\n",
    "            currentNode.next = Node(value)\n",
    "            \n",
    "    def appendFirst(self, value):\n",
    "        if self.head is None:\n",
    "            self.head = Node(value)\n",
    "        else:\n",
    "            temp = Node(value)\n",
    "            temp.next = self.head\n",
    "            self.head = temp\n",
    "            \n",
    "    def append(self, value, index):\n",
    "        if self.head is None:\n",
    "            self.appendFirst(value)\n",
    "        else:\n",
    "            temp = self.head\n",
    "            for i in range(index):\n",
    "                temp = temp.next\n",
    "            newNode = Node(value)\n",
    "            newNode.next = temp.next\n",
    "            temp.next = newNode\n",
    "                \n",
    "            \n",
    "    def removeFirst(self):\n",
    "        if self.head is None:\n",
    "            return\n",
    "        self.head = self.head.next\n",
    "        \n",
    "    def removeLast(self):\n",
    "        if self.head is None:\n",
    "            return\n",
    "        if self.length() < 2:\n",
    "            return self.removeFirst()\n",
    "        current = self.head\n",
    "        while current.next.next is not None:\n",
    "            current = current.next\n",
    "        current.next = None\n",
    "        \n",
    "    def remove(self,index):\n",
    "        if self.head is None:\n",
    "            return\n",
    "        if index == 0:\n",
    "            return self.removeFirst()\n",
    "            \n",
    "        current = self.head\n",
    "        for i in range(index-1):\n",
    "            current = current.next\n",
    "        current.next = current.next.next\n",
    "        \n",
    "    def show(self):\n",
    "        currentNode = self.head\n",
    "        while currentNode is not None:\n",
    "            print(f'{currentNode.data} -> ', end=\"\")\n",
    "            currentNode = currentNode.next\n",
    "        print('None')\n",
    "        \n",
    "    def length(self):\n",
    "        count = 0\n",
    "        currentNode = self.head\n",
    "        while currentNode is not None:\n",
    "            currentNode = currentNode.next\n",
    "            count += 1\n",
    "        return count\n",
    "    \n",
    "    def get(self, index):\n",
    "        i = 0\n",
    "        currentNode = self.head\n",
    "        while currentNode is not None:\n",
    "            if i == index:\n",
    "                return currentNode.data\n",
    "            currentNode = currentNode.next\n",
    "            i += 1\n",
    "        return None\n",
    "    def insertRecursive(self, value, index, curr=None):\n",
    "        if self.head is None:\n",
    "            return\n",
    "        curr = self.head if curr is None else curr\n",
    "        newNode = Node(value)\n",
    "        if index == 0:\n",
    "            newNode.next = self.head\n",
    "            self.head = newNode\n",
    "            return\n",
    "        if index > 1:\n",
    "            return self.insertRecursive(value, index - 1, curr.next)\n",
    "        newNode.next = curr.next\n",
    "        curr.next = newNode\n",
    "\n",
    "    def uniqueSortedList(self):\n",
    "        curr = self.head\n",
    "        if self.head is not None:\n",
    "            while curr.next is not None:\n",
    "                if curr.data == curr.next.data:\n",
    "                    curr.next = curr.next.next\n",
    "                else:\n",
    "                    curr = curr.next"
   ]
  },
  {
   "cell_type": "code",
   "execution_count": 16,
   "metadata": {},
   "outputs": [],
   "source": [
    "llist = LinkedList()\n",
    "llist.appendLast(1)\n",
    "llist.appendLast(2)\n",
    "llist.appendLast(3)\n",
    "llist.appendLast(4)"
   ]
  },
  {
   "cell_type": "code",
   "execution_count": 22,
   "metadata": {},
   "outputs": [
    {
     "name": "stdout",
     "output_type": "stream",
     "text": [
      "1 -> 2 -> 3 -> 4 -> 5 -> 5 -> 5 -> 5 -> None\n"
     ]
    }
   ],
   "source": [
    "llist.show()"
   ]
  },
  {
   "cell_type": "code",
   "execution_count": 21,
   "metadata": {},
   "outputs": [],
   "source": [
    "llist.insertRecursive(5,4)"
   ]
  },
  {
   "cell_type": "code",
   "execution_count": 23,
   "metadata": {},
   "outputs": [],
   "source": [
    "llist.uniqueSortedList()"
   ]
  },
  {
   "cell_type": "code",
   "execution_count": 24,
   "metadata": {},
   "outputs": [
    {
     "name": "stdout",
     "output_type": "stream",
     "text": [
      "1 -> 2 -> 3 -> 4 -> 5 -> None\n"
     ]
    }
   ],
   "source": [
    "llist.show()"
   ]
  },
  {
   "cell_type": "code",
   "execution_count": null,
   "metadata": {},
   "outputs": [],
   "source": []
  }
 ],
 "metadata": {
  "kernelspec": {
   "display_name": "Python 3",
   "language": "python",
   "name": "python3"
  },
  "language_info": {
   "codemirror_mode": {
    "name": "ipython",
    "version": 3
   },
   "file_extension": ".py",
   "mimetype": "text/x-python",
   "name": "python",
   "nbconvert_exporter": "python",
   "pygments_lexer": "ipython3",
   "version": "3.6.3"
  }
 },
 "nbformat": 4,
 "nbformat_minor": 2
}
