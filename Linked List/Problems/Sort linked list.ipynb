{
 "cells": [
  {
   "cell_type": "code",
   "execution_count": 1,
   "metadata": {},
   "outputs": [],
   "source": [
    "import sys\n",
    " \n",
    "# setting path\n",
    "sys.path.append('../../Linked List')\n",
    "\n",
    "from LinkedList import Node, LinkedList as LL"
   ]
  },
  {
   "cell_type": "markdown",
   "metadata": {},
   "source": [
    "### Since we have already understood the merging and find mid element of linked list lets do merge sort!"
   ]
  },
  {
   "cell_type": "code",
   "execution_count": 72,
   "metadata": {},
   "outputs": [],
   "source": [
    "def findMiddle(head):\n",
    "    if (head == None):\n",
    "        return head\n",
    "\n",
    "    slow = head\n",
    "    fast = head\n",
    "\n",
    "    while (fast.next != None and \n",
    "           fast.next.next != None):\n",
    "        slow = slow.next\n",
    "        fast = fast.next.next\n",
    "\n",
    "    return slow\n",
    "\n",
    "\n",
    "def merge(a, b):\n",
    "    result = None\n",
    "\n",
    "    # Base cases\n",
    "    if a == None:\n",
    "        return b\n",
    "    if b == None:\n",
    "        return a\n",
    "\n",
    "    # pick either a or b and recur..\n",
    "    if a.data <= b.data:\n",
    "        result = a\n",
    "        result.next = merge(a.next, b)\n",
    "    else:\n",
    "        result = b\n",
    "        result.next = merge(a, b.next)\n",
    "    return result\n",
    "\n",
    "\n",
    "def sortList(head):\n",
    "    h = head\n",
    "    if h == None or h.next == None:\n",
    "        return h\n",
    "\n",
    "    # get the middle of the list \n",
    "    middle = findMiddle(h)\n",
    "    nexttomiddle = middle.next\n",
    "\n",
    "    # set the next of middle node to None\n",
    "    middle.next = None\n",
    "\n",
    "    # Apply mergeSort on left list \n",
    "    left = sortList(h)\n",
    "\n",
    "    # Apply mergeSort on right list\n",
    "    right = sortList(nexttomiddle)\n",
    "\n",
    "    # Merge the left and right lists \n",
    "    sortedlist = merge(left, right)\n",
    "    return sortedlist\n"
   ]
  },
  {
   "cell_type": "code",
   "execution_count": 73,
   "metadata": {},
   "outputs": [],
   "source": [
    "ls1 = LL()\n",
    "ls1.appendLast(2)\n",
    "ls1.appendLast(3)\n",
    "ls1.appendLast(4)\n",
    "ls1.appendFirst(5)\n",
    "ls1.appendLast(1)"
   ]
  },
  {
   "cell_type": "code",
   "execution_count": 74,
   "metadata": {},
   "outputs": [
    {
     "name": "stdout",
     "output_type": "stream",
     "text": [
      "5 -> 2 -> 3 -> 4 -> 1 -> None\n"
     ]
    }
   ],
   "source": [
    "ls1.show()"
   ]
  },
  {
   "cell_type": "code",
   "execution_count": 75,
   "metadata": {},
   "outputs": [
    {
     "data": {
      "text/plain": [
       "<LinkedList.Node at 0x97cdf0>"
      ]
     },
     "execution_count": 75,
     "metadata": {},
     "output_type": "execute_result"
    }
   ],
   "source": [
    "sortList(ls1.head)"
   ]
  },
  {
   "cell_type": "code",
   "execution_count": 76,
   "metadata": {},
   "outputs": [
    {
     "name": "stdout",
     "output_type": "stream",
     "text": [
      "5 -> None\n"
     ]
    }
   ],
   "source": [
    "ls1.show()"
   ]
  },
  {
   "cell_type": "code",
   "execution_count": null,
   "metadata": {},
   "outputs": [],
   "source": []
  },
  {
   "cell_type": "code",
   "execution_count": null,
   "metadata": {},
   "outputs": [],
   "source": []
  },
  {
   "cell_type": "code",
   "execution_count": null,
   "metadata": {},
   "outputs": [],
   "source": []
  }
 ],
 "metadata": {
  "kernelspec": {
   "display_name": "Python 3",
   "language": "python",
   "name": "python3"
  },
  "language_info": {
   "codemirror_mode": {
    "name": "ipython",
    "version": 3
   },
   "file_extension": ".py",
   "mimetype": "text/x-python",
   "name": "python",
   "nbconvert_exporter": "python",
   "pygments_lexer": "ipython3",
   "version": "3.6.3"
  }
 },
 "nbformat": 4,
 "nbformat_minor": 2
}
