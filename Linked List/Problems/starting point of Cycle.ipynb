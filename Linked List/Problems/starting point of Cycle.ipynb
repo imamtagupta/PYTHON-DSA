{
 "cells": [
  {
   "cell_type": "code",
   "execution_count": 1,
   "metadata": {},
   "outputs": [],
   "source": [
    "import sys\n",
    " \n",
    "# setting path\n",
    "sys.path.append('../../Linked List')"
   ]
  },
  {
   "cell_type": "code",
   "execution_count": 2,
   "metadata": {},
   "outputs": [],
   "source": [
    "from LinkedList import Node, LinkedList as LL"
   ]
  },
  {
   "cell_type": "code",
   "execution_count": 3,
   "metadata": {},
   "outputs": [],
   "source": [
    "def lengthOfCycle(self, head):\n",
    "    fast = slow = head\n",
    "    while fast is not None and fast.next is not None:\n",
    "        fast = fast.next.next\n",
    "        slow = slow.next\n",
    "        if fast == slow:\n",
    "            length = 1\n",
    "            temp = slow.next\n",
    "            while temp != slow:\n",
    "                temp = temp.next\n",
    "                length += 1\n",
    "            return length\n",
    "\n",
    "    return 0        \n",
    "\n",
    "def detectCycle(self, head: Optional[ListNode]) -> Optional[ListNode]:\n",
    "    fast = slow = head\n",
    "    length = 0\n",
    "    while fast is not None and fast.next is not None:\n",
    "        fast = fast.next.next\n",
    "        slow = slow.next\n",
    "        if fast == slow:\n",
    "            length = self.lengthOfCycle(slow)\n",
    "            break\n",
    "        ListNode(-1)\n",
    "    if length == 0:\n",
    "        return None\n",
    "\n",
    "    # Find start node now!\n",
    "    f = s = head\n",
    "    while length > 0:\n",
    "        s = s.next\n",
    "        length -= 1\n",
    "\n",
    "\n",
    "\n",
    "    # keep moving they'll meet\n",
    "    while s != f:\n",
    "        f = f.next\n",
    "        s = s.next\n",
    "\n",
    "    # if length == 0:\n",
    "    #     return -1\n",
    "    return s"
   ]
  },
  {
   "cell_type": "code",
   "execution_count": 5,
   "metadata": {},
   "outputs": [],
   "source": [
    "llist = LL()\n",
    "llist.appendLast(1)\n",
    "llist.appendLast(2)\n",
    "llist.appendLast(3)\n",
    "llist.appendLast(4)\n",
    "llist.appendLast(6)\n",
    "llist.appendLast(8)\n",
    "llist.appendLast(9)\n",
    "\n"
   ]
  },
  {
   "cell_type": "code",
   "execution_count": 6,
   "metadata": {},
   "outputs": [
    {
     "name": "stdout",
     "output_type": "stream",
     "text": [
      "1 -> 2 -> 3 -> 4 -> 6 -> 8 -> 9 -> None\n"
     ]
    }
   ],
   "source": [
    "llist.show()"
   ]
  },
  {
   "cell_type": "code",
   "execution_count": 7,
   "metadata": {},
   "outputs": [
    {
     "data": {
      "text/plain": [
       "-1"
      ]
     },
     "execution_count": 7,
     "metadata": {},
     "output_type": "execute_result"
    }
   ],
   "source": [
    "startOfCycle(llist)"
   ]
  },
  {
   "cell_type": "code",
   "execution_count": null,
   "metadata": {},
   "outputs": [],
   "source": []
  },
  {
   "cell_type": "code",
   "execution_count": null,
   "metadata": {},
   "outputs": [],
   "source": []
  },
  {
   "cell_type": "code",
   "execution_count": null,
   "metadata": {},
   "outputs": [],
   "source": []
  },
  {
   "cell_type": "code",
   "execution_count": null,
   "metadata": {},
   "outputs": [],
   "source": []
  }
 ],
 "metadata": {
  "kernelspec": {
   "display_name": "Python 3",
   "language": "python",
   "name": "python3"
  },
  "language_info": {
   "codemirror_mode": {
    "name": "ipython",
    "version": 3
   },
   "file_extension": ".py",
   "mimetype": "text/x-python",
   "name": "python",
   "nbconvert_exporter": "python",
   "pygments_lexer": "ipython3",
   "version": "3.6.3"
  }
 },
 "nbformat": 4,
 "nbformat_minor": 2
}
