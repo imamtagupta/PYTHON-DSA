{
 "cells": [
  {
   "cell_type": "code",
   "execution_count": 1,
   "metadata": {},
   "outputs": [],
   "source": [
    "import sys\n",
    " \n",
    "# setting path\n",
    "sys.path.append('../../Linked List')\n",
    "\n",
    "from LinkedList import Node, LinkedList as LL"
   ]
  },
  {
   "cell_type": "markdown",
   "metadata": {},
   "source": [
    "### Swapping start with end:\n",
    "- Input : 1,2,3,4,5\n",
    "- Output : 5,4,3,2,1\n",
    "\n"
   ]
  },
  {
   "cell_type": "code",
   "execution_count": 4,
   "metadata": {},
   "outputs": [],
   "source": [
    "def length(head):\n",
    "    ln = 0\n",
    "    while head is not None and head.next is not None:\n",
    "        head = head.next\n",
    "        ln += 1\n",
    "    return ln\n",
    "\n",
    "def reverse(head):\n",
    "    prev, curr = None, head\n",
    "    nxt = curr.next if curr is not None else None\n",
    "    while curr is not None:\n",
    "        curr.next = prev\n",
    "        prev = curr\n",
    "        curr = nxt\n",
    "        nxt = nxt.next if nxt is not None else nxt\n",
    "    head = prev\n",
    "    return head\n",
    "\n",
    "def reorder(head):\n",
    "    mid = length(head) // 2\n",
    "    i = 0\n",
    "    curr = head\n",
    "    while i < mid and curr.next is not None:\n",
    "        curr = curr.next\n",
    "        i += 1\n",
    "    hs = reverse(curr)\n",
    "    hf = head\n",
    "    \n",
    "    \n",
    "    ## rearrange\n",
    "    while hf is not None and hs is not None:\n",
    "        temp = hf.next\n",
    "        hf.next = hs\n",
    "        hf = temp\n",
    "        \n",
    "        temp = hs.next\n",
    "        hs.next = hf\n",
    "        hs = temp\n",
    "        \n",
    "    if hf is not None:\n",
    "        hf.next = None\n"
   ]
  },
  {
   "cell_type": "code",
   "execution_count": 5,
   "metadata": {},
   "outputs": [
    {
     "name": "stdout",
     "output_type": "stream",
     "text": [
      "1 -> 2 -> 3 -> 4 -> 5 -> None\n",
      "1 -> 5 -> 2 -> 4 -> 3 -> None\n"
     ]
    }
   ],
   "source": [
    "ls1 = LL()\n",
    "ls1.appendLast(2)\n",
    "ls1.appendLast(3)\n",
    "ls1.appendLast(4)\n",
    "ls1.appendLast(5)\n",
    "ls1.appendFirst(1)\n",
    "\n",
    "ls1.show()\n",
    "\n",
    "ls1.length()\n",
    "\n",
    "reorder(ls1.head)\n",
    "\n",
    "ls1.show()"
   ]
  },
  {
   "cell_type": "code",
   "execution_count": 6,
   "metadata": {},
   "outputs": [
    {
     "name": "stdout",
     "output_type": "stream",
     "text": [
      "1 -> 2 -> 2 -> 1 -> None\n",
      "5\n",
      "1 -> 1 -> 2 -> 2 -> None\n"
     ]
    }
   ],
   "source": [
    "ls2 = LL()\n",
    "ls2.appendLast(1)\n",
    "ls2.appendLast(2)\n",
    "ls2.appendLast(2)\n",
    "ls2.appendLast(1)\n",
    "\n",
    "ls2.show()\n",
    "      \n",
    "print(ls1.length())\n",
    "\n",
    "\n",
    "reorder(ls2.head)\n",
    "ls2.show()"
   ]
  },
  {
   "cell_type": "code",
   "execution_count": null,
   "metadata": {},
   "outputs": [],
   "source": []
  },
  {
   "cell_type": "code",
   "execution_count": null,
   "metadata": {},
   "outputs": [],
   "source": []
  },
  {
   "cell_type": "code",
   "execution_count": null,
   "metadata": {},
   "outputs": [],
   "source": []
  }
 ],
 "metadata": {
  "kernelspec": {
   "display_name": "Python 3",
   "language": "python",
   "name": "python3"
  },
  "language_info": {
   "codemirror_mode": {
    "name": "ipython",
    "version": 3
   },
   "file_extension": ".py",
   "mimetype": "text/x-python",
   "name": "python",
   "nbconvert_exporter": "python",
   "pygments_lexer": "ipython3",
   "version": "3.6.3"
  }
 },
 "nbformat": 4,
 "nbformat_minor": 2
}
