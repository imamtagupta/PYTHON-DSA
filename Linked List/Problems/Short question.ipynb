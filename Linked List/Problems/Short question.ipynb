{
 "cells": [
  {
   "cell_type": "markdown",
   "metadata": {},
   "source": [
    "## 1"
   ]
  },
  {
   "cell_type": "code",
   "execution_count": 1,
   "metadata": {},
   "outputs": [
    {
     "name": "stdout",
     "output_type": "stream",
     "text": [
      "20 30 40 "
     ]
    }
   ],
   "source": [
    "class Node:\n",
    "    def __init__(self, data):\n",
    "        self.data = data\n",
    "        self.next = None\n",
    "def printLL(head):\n",
    "    while head is not None:\n",
    "        print(head.data,end=\" \")\n",
    "        head = head.next\n",
    "\n",
    "\n",
    "\n",
    "node1 = Node(10)\n",
    "node2 = Node(20)\n",
    "node3 = Node(30)\n",
    "node4 = Node(40)\n",
    "node1.next = node2\n",
    "node2.next = node3\n",
    "node3.next = node4\n",
    "printLL(node2)"
   ]
  },
  {
   "cell_type": "markdown",
   "metadata": {},
   "source": [
    "\n",
    "## 2 taking input"
   ]
  },
  {
   "cell_type": "code",
   "execution_count": 2,
   "metadata": {},
   "outputs": [],
   "source": [
    "def takeInput():\n",
    "    integerList = [int(i) for i in input().split()]\n",
    "    head = curr = None\n",
    "    for ele in integerList:\n",
    "        if ele == -1:\n",
    "            break\n",
    "        node = Node(ele)\n",
    "        if head is None:\n",
    "            head = node\n",
    "            curr = head\n",
    "        else:\n",
    "            while curr.next is not None:\n",
    "                curr = curr.next\n",
    "            curr.next = node\n",
    "    return head"
   ]
  },
  {
   "cell_type": "code",
   "execution_count": 3,
   "metadata": {},
   "outputs": [],
   "source": [
    "def printLL(head):\n",
    "    while head is not None:\n",
    "        print(head.data, '-> ', end=\"\")\n",
    "        head = head.next\n",
    "    print('end')"
   ]
  },
  {
   "cell_type": "code",
   "execution_count": null,
   "metadata": {},
   "outputs": [],
   "source": [
    "head = takeInput()\n",
    "printLL(head)\n"
   ]
  },
  {
   "cell_type": "code",
   "execution_count": null,
   "metadata": {},
   "outputs": [],
   "source": []
  },
  {
   "cell_type": "markdown",
   "metadata": {},
   "source": [
    "## 3 Optimising taking input"
   ]
  },
  {
   "cell_type": "code",
   "execution_count": 4,
   "metadata": {},
   "outputs": [],
   "source": [
    "def takeInputOptimised():\n",
    "    integerList = [int(i) for i in input().split()]\n",
    "    head = curr = None\n",
    "    for ele in integerList:\n",
    "        if ele == -1:\n",
    "            break\n",
    "        node = Node(ele)\n",
    "        if head is None:\n",
    "            head = node\n",
    "            curr = head\n",
    "        else:\n",
    "            curr.next = node\n",
    "            curr = curr.next\n",
    "    return head"
   ]
  },
  {
   "cell_type": "code",
   "execution_count": null,
   "metadata": {},
   "outputs": [],
   "source": [
    "head = takeInputOptimised()\n",
    "printLL(head)"
   ]
  },
  {
   "cell_type": "code",
   "execution_count": null,
   "metadata": {},
   "outputs": [],
   "source": []
  },
  {
   "cell_type": "code",
   "execution_count": null,
   "metadata": {},
   "outputs": [],
   "source": []
  },
  {
   "cell_type": "markdown",
   "metadata": {},
   "source": [
    "\n",
    "## 4 Predict O/P"
   ]
  },
  {
   "cell_type": "code",
   "execution_count": null,
   "metadata": {},
   "outputs": [],
   "source": [
    "class Node:\n",
    "    def __init__(self, data):\n",
    "        self.data = data\n",
    "        self.next = None\n",
    "\n",
    "def printLL(head):\n",
    "    while head is not None:\n",
    "        print(head.data,end=\" \")\n",
    "        head = head.next\n",
    "\n",
    "def increment(head):\n",
    "    temp = head\n",
    "    while temp is not None:\n",
    "        temp.data +=1\n",
    "        temp = temp.next\n",
    "\n",
    "\n",
    "\n",
    "node1 = Node(10)\n",
    "node2 = Node(20)\n",
    "node1.next = node2\n",
    "increment(node1)\n",
    "printLL(node1)"
   ]
  },
  {
   "cell_type": "code",
   "execution_count": null,
   "metadata": {},
   "outputs": [],
   "source": []
  },
  {
   "cell_type": "code",
   "execution_count": null,
   "metadata": {},
   "outputs": [],
   "source": []
  },
  {
   "cell_type": "markdown",
   "metadata": {},
   "source": [
    "## 5 -Recursive insert\n"
   ]
  },
  {
   "cell_type": "code",
   "execution_count": 5,
   "metadata": {},
   "outputs": [],
   "source": [
    "def recursiveInsert(head, index, node):\n",
    "    \n",
    "    if index == 0:\n",
    "        newNode = Node(node)\n",
    "        newNode.next = head\n",
    "        return newNode\n",
    "    \n",
    "    if head == None:\n",
    "        return None\n",
    "    \n",
    "    node = recursiveInsert(head.next, index-1, node)\n",
    "    head.next = node\n",
    "    return head"
   ]
  },
  {
   "cell_type": "code",
   "execution_count": 6,
   "metadata": {},
   "outputs": [
    {
     "name": "stdout",
     "output_type": "stream",
     "text": [
      "1 2 3 4\n",
      "1 -> 2 -> 3 -> 4 -> end\n"
     ]
    }
   ],
   "source": [
    "head = takeInputOptimised()\n",
    "printLL(head)"
   ]
  },
  {
   "cell_type": "code",
   "execution_count": 7,
   "metadata": {},
   "outputs": [
    {
     "name": "stdout",
     "output_type": "stream",
     "text": [
      "2\n",
      "1\n",
      "1 -> 2 -> 15 -> 3 -> 4 -> end\n"
     ]
    }
   ],
   "source": [
    "head = recursiveInsert(head, 2, 15)\n",
    "printLL(head)"
   ]
  },
  {
   "cell_type": "code",
   "execution_count": null,
   "metadata": {},
   "outputs": [],
   "source": [
    "head = recursiveInsert(head, 6, 6)\n",
    "printLL(head)"
   ]
  },
  {
   "cell_type": "code",
   "execution_count": null,
   "metadata": {},
   "outputs": [],
   "source": []
  },
  {
   "cell_type": "markdown",
   "metadata": {},
   "source": [
    "## 6 -Recursive Delete\n"
   ]
  },
  {
   "cell_type": "code",
   "execution_count": null,
   "metadata": {},
   "outputs": [],
   "source": [
    "def deleteNodeRec(head, pos) :\n",
    "    \n",
    "    if pos == 0 and head is not None:\n",
    "        head = head.next\n",
    "        return head\n",
    "        \n",
    "    if head == None:\n",
    "        return None\n",
    "    \n",
    "    node = deleteNodeRec(head.next, pos-1)\n",
    "    head.next = node\n",
    "    return head\n"
   ]
  },
  {
   "cell_type": "code",
   "execution_count": null,
   "metadata": {},
   "outputs": [],
   "source": []
  },
  {
   "cell_type": "code",
   "execution_count": null,
   "metadata": {},
   "outputs": [],
   "source": []
  },
  {
   "cell_type": "code",
   "execution_count": null,
   "metadata": {},
   "outputs": [],
   "source": []
  },
  {
   "cell_type": "code",
   "execution_count": null,
   "metadata": {},
   "outputs": [],
   "source": []
  },
  {
   "cell_type": "code",
   "execution_count": null,
   "metadata": {},
   "outputs": [],
   "source": []
  },
  {
   "cell_type": "code",
   "execution_count": null,
   "metadata": {},
   "outputs": [],
   "source": []
  },
  {
   "cell_type": "code",
   "execution_count": null,
   "metadata": {},
   "outputs": [],
   "source": []
  },
  {
   "cell_type": "code",
   "execution_count": null,
   "metadata": {},
   "outputs": [],
   "source": []
  },
  {
   "cell_type": "code",
   "execution_count": null,
   "metadata": {},
   "outputs": [],
   "source": []
  },
  {
   "cell_type": "code",
   "execution_count": null,
   "metadata": {},
   "outputs": [],
   "source": []
  },
  {
   "cell_type": "code",
   "execution_count": null,
   "metadata": {},
   "outputs": [],
   "source": []
  },
  {
   "cell_type": "code",
   "execution_count": null,
   "metadata": {},
   "outputs": [],
   "source": []
  }
 ],
 "metadata": {
  "kernelspec": {
   "display_name": "Python 3",
   "language": "python",
   "name": "python3"
  },
  "language_info": {
   "codemirror_mode": {
    "name": "ipython",
    "version": 3
   },
   "file_extension": ".py",
   "mimetype": "text/x-python",
   "name": "python",
   "nbconvert_exporter": "python",
   "pygments_lexer": "ipython3",
   "version": "3.6.3"
  }
 },
 "nbformat": 4,
 "nbformat_minor": 2
}
