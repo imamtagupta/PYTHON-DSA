{
 "cells": [
  {
   "cell_type": "markdown",
   "metadata": {},
   "source": [
    "### A Quick Primer on Classes in Python\n",
    "\n",
    "Let's create a class for it. A class is a blueprint for creating objects. "
   ]
  },
  {
   "cell_type": "code",
   "execution_count": 52,
   "metadata": {},
   "outputs": [],
   "source": [
    "class Node:\n",
    "    def __init__(self, value):\n",
    "        self.data = value\n",
    "        self.next = None\n",
    "        self.prev = None"
   ]
  },
  {
   "cell_type": "code",
   "execution_count": 53,
   "metadata": {},
   "outputs": [],
   "source": [
    "node = Node(2)\n",
    "node1 = Node(4)\n",
    "node2 = Node(8)"
   ]
  },
  {
   "cell_type": "code",
   "execution_count": 54,
   "metadata": {},
   "outputs": [
    {
     "data": {
      "text/plain": [
       "(2, 4, 8)"
      ]
     },
     "execution_count": 54,
     "metadata": {},
     "output_type": "execute_result"
    }
   ],
   "source": [
    "node.data, node1.data, node2.data"
   ]
  },
  {
   "cell_type": "markdown",
   "metadata": {},
   "source": [
    "### Now we are ready to define a class for our Linked list."
   ]
  },
  {
   "cell_type": "code",
   "execution_count": 55,
   "metadata": {},
   "outputs": [],
   "source": [
    "class DoublyLinkedList:\n",
    "    def __init__(self):\n",
    "        self.head = None"
   ]
  },
  {
   "cell_type": "code",
   "execution_count": 56,
   "metadata": {},
   "outputs": [],
   "source": [
    "list1 = DoublyLinkedList()"
   ]
  },
  {
   "cell_type": "code",
   "execution_count": 57,
   "metadata": {},
   "outputs": [],
   "source": [
    "node = Node(1)\n",
    "node1 = Node(2)\n",
    "node2 = Node(3)\n",
    "list1.head = node\n",
    "node.next = node1\n",
    "node1.prev = node\n",
    "node1.next = node2\n",
    "node2.prev = node1\n"
   ]
  },
  {
   "cell_type": "code",
   "execution_count": 58,
   "metadata": {},
   "outputs": [],
   "source": [
    "list1.head.next = Node(3)"
   ]
  },
  {
   "cell_type": "code",
   "execution_count": 59,
   "metadata": {},
   "outputs": [],
   "source": [
    "list1.head.next.prev = list1.head"
   ]
  },
  {
   "cell_type": "code",
   "execution_count": 60,
   "metadata": {},
   "outputs": [],
   "source": [
    "list1.head.next.next = Node(4)"
   ]
  },
  {
   "cell_type": "code",
   "execution_count": 61,
   "metadata": {},
   "outputs": [
    {
     "data": {
      "text/plain": [
       "(1, 3, None, 4, 1)"
      ]
     },
     "execution_count": 61,
     "metadata": {},
     "output_type": "execute_result"
    }
   ],
   "source": [
    "list1.head.data, list1.head.next.data, list1.head.prev, list1.head.next.next.data, list1.head.next.prev.data, "
   ]
  },
  {
   "cell_type": "code",
   "execution_count": 62,
   "metadata": {},
   "outputs": [
    {
     "data": {
      "text/plain": [
       "(<__main__.Node at 0x61134b0>,\n",
       " <__main__.Node at 0x6113cd0>,\n",
       " <__main__.Node at 0x6113590>,\n",
       " None)"
      ]
     },
     "execution_count": 62,
     "metadata": {},
     "output_type": "execute_result"
    }
   ],
   "source": [
    "list1.head, list1.head.next, list1.head.next.next, list1.head.next.next.next"
   ]
  },
  {
   "cell_type": "code",
   "execution_count": null,
   "metadata": {},
   "outputs": [],
   "source": []
  },
  {
   "cell_type": "code",
   "execution_count": 20,
   "metadata": {},
   "outputs": [],
   "source": [
    "# Leaninig towards implementing function to get lenght and get value at given index"
   ]
  },
  {
   "cell_type": "code",
   "execution_count": 73,
   "metadata": {},
   "outputs": [],
   "source": [
    "class DoublyLinkedList:\n",
    "    def __init__(self):\n",
    "        self.head = None\n",
    "    \n",
    "    def appendFirst(self, value):\n",
    "        if self.head is None:\n",
    "            self.head = Node(value)\n",
    "        else:\n",
    "            temp = Node(value)\n",
    "            temp.next = self.head\n",
    "            temp.prev = None\n",
    "            self.head = temp\n",
    "        self.head.prev = None\n",
    "        \n",
    "    def appendLast(self, value):\n",
    "        if self.head is None:\n",
    "            self.head = Node(value)\n",
    "        else:\n",
    "            currentNode = self.head\n",
    "            while currentNode.next is not None:\n",
    "                currentNode = currentNode.next\n",
    "            currentNode.next = Node(value)\n",
    "            currentNode.next.prev = currentNode\n",
    "            \n",
    "#     def append(self, value, index):\n",
    "#         if self.head is None:\n",
    "#             self.appendFirst(value)\n",
    "#         else:\n",
    "#             temp = self.head\n",
    "#             for i in range(index):\n",
    "#                 temp = temp.next\n",
    "#             newNode = Node(value)\n",
    "#             newNode.next = temp.next\n",
    "#             temp.next = newNode\n",
    "                \n",
    "    def show(self):\n",
    "        currentNode = self.head\n",
    "        while currentNode is not None:\n",
    "            print(f'{currentNode.data} ↔️ ', end=\"\")\n",
    "            currentNode = currentNode.next\n",
    "        print('None')\n",
    "        \n",
    "    def length(self):\n",
    "        count = 0\n",
    "        currentNode = self.head\n",
    "        while currentNode is not None:\n",
    "            currentNode = currentNode.next\n",
    "            count += 1\n",
    "        return count\n",
    "    \n",
    "    def get(self, index):\n",
    "        i = 0\n",
    "        currentNode = self.head\n",
    "        while currentNode is not None:\n",
    "            if i == index:\n",
    "                return currentNode.data\n",
    "            currentNode = currentNode.next\n",
    "            i += 1\n",
    "        return None\n",
    "        \n",
    "        "
   ]
  },
  {
   "cell_type": "code",
   "execution_count": 74,
   "metadata": {},
   "outputs": [
    {
     "data": {
      "text/plain": [
       "(1, 2, 3)"
      ]
     },
     "execution_count": 74,
     "metadata": {},
     "output_type": "execute_result"
    }
   ],
   "source": [
    "list2 = DoublyLinkedList()\n",
    "list2.appendLast(2)\n",
    "list2.appendLast(3)\n",
    "list2.appendLast(4)\n",
    "list2.appendFirst(1)\n",
    "\n",
    "list2.head.data, list2.head.next.data, list2.head.next.next.data"
   ]
  },
  {
   "cell_type": "code",
   "execution_count": 75,
   "metadata": {},
   "outputs": [
    {
     "name": "stdout",
     "output_type": "stream",
     "text": [
      "1 ↔️ 2 ↔️ 3 ↔️ 4 ↔️ None\n"
     ]
    }
   ],
   "source": [
    "list2.show()"
   ]
  },
  {
   "cell_type": "code",
   "execution_count": 76,
   "metadata": {},
   "outputs": [
    {
     "data": {
      "text/plain": [
       "4"
      ]
     },
     "execution_count": 76,
     "metadata": {},
     "output_type": "execute_result"
    }
   ],
   "source": [
    "list2.length()"
   ]
  },
  {
   "cell_type": "code",
   "execution_count": 72,
   "metadata": {},
   "outputs": [
    {
     "data": {
      "text/plain": [
       "(1, 2, 3, 4)"
      ]
     },
     "execution_count": 72,
     "metadata": {},
     "output_type": "execute_result"
    }
   ],
   "source": [
    "list2.get(0), list2.get(1), list2.get(2), list2.get(3)"
   ]
  },
  {
   "cell_type": "markdown",
   "metadata": {},
   "source": [
    "### Remove functions"
   ]
  },
  {
   "cell_type": "code",
   "execution_count": 128,
   "metadata": {},
   "outputs": [],
   "source": [
    "class LinkedList:\n",
    "    def __init__(self):\n",
    "        self.head = None\n",
    "    def appendLast(self, value):\n",
    "        if self.head is None:\n",
    "            self.head = Node(value)\n",
    "        else:\n",
    "            currentNode = self.head\n",
    "            while currentNode.next is not None:\n",
    "                currentNode = currentNode.next\n",
    "            currentNode.next = Node(value)\n",
    "            \n",
    "    def appendFirst(self, value):\n",
    "        if self.head is None:\n",
    "            self.head = Node(value)\n",
    "        else:\n",
    "            temp = Node(value)\n",
    "            temp.next = self.head\n",
    "            self.head = temp\n",
    "            \n",
    "    def append(self, value, index):\n",
    "        if self.head is None:\n",
    "            self.appendFirst(value)\n",
    "        else:\n",
    "            temp = self.head\n",
    "            for i in range(index):\n",
    "                temp = temp.next\n",
    "            newNode = Node(value)\n",
    "            newNode.next = temp.next\n",
    "            temp.next = newNode\n",
    "                \n",
    "            \n",
    "    def removeFirst(self):\n",
    "        if self.head is None:\n",
    "            return\n",
    "        self.head = self.head.next\n",
    "        \n",
    "    def removeLast(self):\n",
    "        if self.head is None:\n",
    "            return\n",
    "        if self.length() < 2:\n",
    "            return self.removeFirst()\n",
    "        current = self.head\n",
    "        while current.next.next is not None:\n",
    "            current = current.next\n",
    "        current.next = None\n",
    "        \n",
    "    def remove(self,index):\n",
    "        if self.head is None:\n",
    "            return\n",
    "        if index == 0:\n",
    "            return self.removeFirst()\n",
    "            \n",
    "        current = self.head\n",
    "        for i in range(index-1):\n",
    "            current = current.next\n",
    "        current.next = current.next.next\n",
    "        \n",
    "    def show(self):\n",
    "        currentNode = self.head\n",
    "        while currentNode is not None:\n",
    "            print(f'{currentNode.data} -> ', end=\"\")\n",
    "            currentNode = currentNode.next\n",
    "        print('None')\n",
    "        \n",
    "    def length(self):\n",
    "        count = 0\n",
    "        currentNode = self.head\n",
    "        while currentNode is not None:\n",
    "            currentNode = currentNode.next\n",
    "            count += 1\n",
    "        return count\n",
    "    \n",
    "    def get(self, index):\n",
    "        i = 0\n",
    "        currentNode = self.head\n",
    "        while currentNode is not None:\n",
    "            if i == index:\n",
    "                return currentNode.data\n",
    "            currentNode = currentNode.next\n",
    "            i += 1\n",
    "        return None\n",
    "        \n",
    "        "
   ]
  },
  {
   "cell_type": "code",
   "execution_count": 129,
   "metadata": {},
   "outputs": [],
   "source": [
    "list5 = LinkedList()\n",
    "list5.appendLast(2)\n",
    "list5.appendLast(3)\n",
    "list5.appendLast(4)\n",
    "list5.appendFirst(1)"
   ]
  },
  {
   "cell_type": "code",
   "execution_count": 130,
   "metadata": {},
   "outputs": [
    {
     "name": "stdout",
     "output_type": "stream",
     "text": [
      "1 -> 2 -> 3 -> 4 -> None\n"
     ]
    }
   ],
   "source": [
    "list5.show()"
   ]
  },
  {
   "cell_type": "code",
   "execution_count": 131,
   "metadata": {},
   "outputs": [],
   "source": [
    "list5.remove(0)"
   ]
  },
  {
   "cell_type": "code",
   "execution_count": 132,
   "metadata": {},
   "outputs": [
    {
     "name": "stdout",
     "output_type": "stream",
     "text": [
      "2 -> 3 -> 4 -> None\n"
     ]
    }
   ],
   "source": [
    "list5.show()"
   ]
  },
  {
   "cell_type": "code",
   "execution_count": 137,
   "metadata": {},
   "outputs": [],
   "source": [
    "list5.removeLast()"
   ]
  },
  {
   "cell_type": "code",
   "execution_count": 138,
   "metadata": {},
   "outputs": [
    {
     "name": "stdout",
     "output_type": "stream",
     "text": [
      "None\n"
     ]
    }
   ],
   "source": [
    "list5.show()"
   ]
  },
  {
   "cell_type": "code",
   "execution_count": null,
   "metadata": {},
   "outputs": [],
   "source": []
  },
  {
   "cell_type": "code",
   "execution_count": null,
   "metadata": {},
   "outputs": [],
   "source": []
  },
  {
   "cell_type": "markdown",
   "metadata": {},
   "source": [
    "Given a list of size `N`, the the number of statements executed for each of the steps:\n",
    "\n",
    "- `append`: N steps\n",
    "- `length`: N steps\n",
    "- `get_element`: N steps\n",
    "- `show_element`: N steps\n"
   ]
  },
  {
   "cell_type": "code",
   "execution_count": 26,
   "metadata": {},
   "outputs": [],
   "source": [
    "def reverse(l):\n",
    "    if l.head is None:\n",
    "        return\n",
    "    \n",
    "    current_node = l.head\n",
    "    prev_node = None\n",
    "    \n",
    "    while current_node is not None:\n",
    "        # Track the next node\n",
    "        next_node = current_node.next\n",
    "        \n",
    "        # Modify the current node\n",
    "        current_node.next = prev_node\n",
    "        \n",
    "        # Update prev and current\n",
    "        prev_node = current_node\n",
    "        current_node = next_node\n",
    "        \n",
    "    l.head = prev_node"
   ]
  },
  {
   "cell_type": "code",
   "execution_count": 27,
   "metadata": {},
   "outputs": [
    {
     "name": "stdout",
     "output_type": "stream",
     "text": [
      "2 -> 3 -> 5 -> 9 -> None\n"
     ]
    }
   ],
   "source": [
    "list5 = LinkedList()\n",
    "list5.append(2)\n",
    "list5.append(3)\n",
    "list5.append(5)\n",
    "list5.append(9)\n",
    "list5.show()"
   ]
  },
  {
   "cell_type": "code",
   "execution_count": 28,
   "metadata": {},
   "outputs": [],
   "source": [
    "reverse(list5)"
   ]
  },
  {
   "cell_type": "code",
   "execution_count": 29,
   "metadata": {},
   "outputs": [
    {
     "name": "stdout",
     "output_type": "stream",
     "text": [
      "9 -> 5 -> 3 -> 2 -> None\n"
     ]
    }
   ],
   "source": [
    "list5.show()"
   ]
  },
  {
   "cell_type": "code",
   "execution_count": null,
   "metadata": {},
   "outputs": [],
   "source": []
  },
  {
   "cell_type": "code",
   "execution_count": null,
   "metadata": {},
   "outputs": [],
   "source": []
  },
  {
   "cell_type": "code",
   "execution_count": null,
   "metadata": {},
   "outputs": [],
   "source": []
  }
 ],
 "metadata": {
  "kernelspec": {
   "display_name": "Python 3",
   "language": "python",
   "name": "python3"
  },
  "language_info": {
   "codemirror_mode": {
    "name": "ipython",
    "version": 3
   },
   "file_extension": ".py",
   "mimetype": "text/x-python",
   "name": "python",
   "nbconvert_exporter": "python",
   "pygments_lexer": "ipython3",
   "version": "3.6.3"
  }
 },
 "nbformat": 4,
 "nbformat_minor": 2
}
