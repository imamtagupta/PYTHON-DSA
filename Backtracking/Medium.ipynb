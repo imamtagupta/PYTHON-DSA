{
 "cells": [
  {
   "cell_type": "markdown",
   "source": [
    "## N-Queen problem"
   ],
   "metadata": {
    "collapsed": false
   }
  },
  {
   "cell_type": "code",
   "execution_count": 2,
   "metadata": {
    "collapsed": true
   },
   "outputs": [
    {
     "name": "stdout",
     "output_type": "stream",
     "text": [
      "X Q X X \n",
      "X X X Q \n",
      "Q X X X \n",
      "X X Q X \n",
      "\n",
      "X X Q X \n",
      "Q X X X \n",
      "X X X Q \n",
      "X Q X X \n",
      "\n"
     ]
    }
   ],
   "source": [
    "def nqueens(board, count):\n",
    "    def printBoard():\n",
    "        for bd in board:\n",
    "            for b in bd:\n",
    "                if b:\n",
    "                    print(\"Q\", end=\" \")\n",
    "                else:\n",
    "                    print(\"X\", end=\" \")\n",
    "            print()\n",
    "\n",
    "    def isSafe(row,col):\n",
    "        # Verticle row\n",
    "        for i in range(0, row):\n",
    "            if board[i][col]:\n",
    "                return False\n",
    "\n",
    "        # Diagonal left\n",
    "        minleft = min(row, col)\n",
    "        for j in range(1,minleft+1):\n",
    "            if board[row-j][col-j]:\n",
    "                return False\n",
    "\n",
    "        # Diagonal right\n",
    "        maxRight = min(len(board)-col-1, row)\n",
    "        for k in range(1, maxRight+1):\n",
    "            if board[row-k][col+k]:\n",
    "                return False\n",
    "\n",
    "        # if not queen already exist then\n",
    "        return True\n",
    "\n",
    "    if count == len(board):\n",
    "        printBoard()\n",
    "        print()\n",
    "        return\n",
    "\n",
    "    for i in range(len(board[count])):\n",
    "        if isSafe(count, i):\n",
    "            board[count][i] = True\n",
    "            nqueens(board, count+1)\n",
    "            board[count][i] = False\n",
    "\n",
    "n = 4\n",
    "board = [[False]*n for x in range(n)]\n",
    "nqueens(board, 0)\n",
    "\n",
    "\n"
   ]
  },
  {
   "cell_type": "code",
   "execution_count": null,
   "outputs": [],
   "source": [],
   "metadata": {
    "collapsed": false
   }
  }
 ],
 "metadata": {
  "kernelspec": {
   "display_name": "Python 3",
   "language": "python",
   "name": "python3"
  },
  "language_info": {
   "codemirror_mode": {
    "name": "ipython",
    "version": 2
   },
   "file_extension": ".py",
   "mimetype": "text/x-python",
   "name": "python",
   "nbconvert_exporter": "python",
   "pygments_lexer": "ipython2",
   "version": "2.7.6"
  }
 },
 "nbformat": 4,
 "nbformat_minor": 0
}
