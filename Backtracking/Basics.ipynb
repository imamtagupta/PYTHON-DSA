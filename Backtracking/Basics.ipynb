{
 "cells": [
  {
   "cell_type": "markdown",
   "source": [],
   "metadata": {
    "collapsed": false
   }
  },
  {
   "cell_type": "markdown",
   "source": [
    "## MAZE PROBLEMS"
   ],
   "metadata": {
    "collapsed": false
   }
  },
  {
   "cell_type": "markdown",
   "source": [
    "## Counting path (move up and down)"
   ],
   "metadata": {
    "collapsed": false
   }
  },
  {
   "cell_type": "code",
   "execution_count": 15,
   "outputs": [
    {
     "data": {
      "text/plain": "6"
     },
     "execution_count": 15,
     "metadata": {},
     "output_type": "execute_result"
    }
   ],
   "source": [
    "def countPath(rows, cols, i=0, j=0):\n",
    "    if i == rows-1 or j == cols-1:\n",
    "        return 1\n",
    "    return countPath(rows, cols, i+1, j) + countPath(rows, cols, i, j+1)\n",
    "\n",
    "\n",
    "countPath(3,3)"
   ],
   "metadata": {
    "collapsed": false
   }
  },
  {
   "cell_type": "markdown",
   "source": [
    "## Printing path(move up and down)"
   ],
   "metadata": {
    "collapsed": false
   }
  },
  {
   "cell_type": "code",
   "execution_count": 14,
   "outputs": [
    {
     "name": "stdout",
     "output_type": "stream",
     "text": [
      "RRDD\n",
      "RDRD\n",
      "RDDR\n",
      "DRRD\n",
      "DRDR\n",
      "DDRR\n"
     ]
    }
   ],
   "source": [
    "def printingPath(rows, cols, path=\"\", i=0, j=0):\n",
    "    if i == rows-1 and j == cols-1:\n",
    "        print(path)\n",
    "        return\n",
    "    if j < cols-1:\n",
    "        printingPath(rows, cols, path+\"R\", i, j+1)\n",
    "    if i < rows-1:\n",
    "        printingPath(rows, cols, path+\"D\",  i+1, j)\n",
    "\n",
    "\n",
    "\n",
    "printingPath(3,3)"
   ],
   "metadata": {
    "collapsed": false
   }
  },
  {
   "cell_type": "markdown",
   "source": [
    "## Printing path(move up and down + diagonals)"
   ],
   "metadata": {
    "collapsed": false
   }
  },
  {
   "cell_type": "code",
   "execution_count": 20,
   "outputs": [
    {
     "name": "stdout",
     "output_type": "stream",
     "text": [
      "RRDD\n",
      "RDRD\n",
      "RDDR\n",
      "RDM\n",
      "RMD\n",
      "DRRD\n",
      "DRDR\n",
      "DRM\n",
      "DDRR\n",
      "DMR\n",
      "MRD\n",
      "MDR\n",
      "MM\n"
     ]
    }
   ],
   "source": [
    "def printingPath(rows, cols, path=\"\", i=0, j=0):\n",
    "    if i == rows-1 and j == cols-1:\n",
    "        print(path)\n",
    "        return\n",
    "    if j < cols-1:\n",
    "        printingPath(rows, cols, path+\"R\", i, j+1)\n",
    "    if i < rows-1:\n",
    "        printingPath(rows, cols, path+\"D\",  i+1, j)\n",
    "    if j < cols-1 and i< rows-1:\n",
    "        printingPath(rows, cols, path+\"M\",  i+1, j+1)\n",
    "\n",
    "\n",
    "\n",
    "\n",
    "printingPath(3,3)"
   ],
   "metadata": {
    "collapsed": false
   }
  },
  {
   "cell_type": "markdown",
   "source": [
    "## Maze with obstacles"
   ],
   "metadata": {
    "collapsed": false
   }
  },
  {
   "cell_type": "code",
   "execution_count": 1,
   "outputs": [
    {
     "name": "stdout",
     "output_type": "stream",
     "text": [
      "RRDD\n",
      "RMD\n",
      "DDRR\n",
      "DMR\n"
     ]
    }
   ],
   "source": [
    "def printingPathWithObstacle(maze, rows, cols, path=\"\", i=0, j=0):\n",
    "    if not maze[i][j]:\n",
    "        return\n",
    "    if i == rows-1 and j == cols-1:\n",
    "        print(path)\n",
    "        return\n",
    "    if j < cols-1:\n",
    "        printingPathWithObstacle(maze, rows, cols, path+\"R\", i, j+1)\n",
    "    if i < rows-1:\n",
    "        printingPathWithObstacle(maze, rows, cols, path+\"D\",  i+1, j)\n",
    "    if j < cols-1 and i< rows-1:\n",
    "        printingPathWithObstacle(maze, rows, cols, path+\"M\",  i+1, j+1)\n",
    "\n",
    "\n",
    "\n",
    "maze = [[True, True, True],\n",
    "        [True, False, True],\n",
    "        [True, True, True]]\n",
    "\n",
    "printingPathWithObstacle(maze, 3,3)"
   ],
   "metadata": {
    "collapsed": false
   }
  },
  {
   "cell_type": "code",
   "execution_count": 22,
   "outputs": [
    {
     "name": "stdout",
     "output_type": "stream",
     "text": [
      "RRDD\n",
      "RRDLDR\n",
      "RRDLLDRR\n",
      "RDRD\n",
      "RDDR\n",
      "RDLDRR\n",
      "DRRD\n",
      "DRDR\n",
      "DRURDD\n",
      "DDRR\n",
      "DDRURD\n",
      "DDRUURDD\n"
     ]
    }
   ],
   "source": [
    "def printAllPaths(maze, rows, cols, path=\"\", i=0, j=0):\n",
    "    if not maze[i][j]:\n",
    "        return\n",
    "    if i == rows-1 and j == cols-1:\n",
    "        print(path)\n",
    "        return\n",
    "    # this is what cell I'm on it so don't traverse back\n",
    "    # make changes while in function process\n",
    "    maze[i][j] = False\n",
    "    if j < cols-1:\n",
    "        printAllPaths(maze, rows, cols, path+\"R\", i, j+1)\n",
    "    if i < rows-1:\n",
    "        printAllPaths(maze, rows, cols, path+\"D\",  i+1, j)\n",
    "    if j > 0:\n",
    "        printAllPaths(maze, rows, cols, path+\"L\",  i, j-1)\n",
    "    if i > 0:\n",
    "        printAllPaths(maze, rows, cols, path+\"U\",  i-1, j)\n",
    "\n",
    "    # line wheere function will be over so before function get's reomved\n",
    "    # remove the changes made by that function\n",
    "    maze[i][j] = True\n",
    "\n",
    "maze = [[True, True, True],\n",
    "        [True, True, True],\n",
    "        [True, True, True]]\n",
    "\n",
    "printAllPaths(maze, 3,3)"
   ],
   "metadata": {
    "collapsed": false
   }
  },
  {
   "cell_type": "code",
   "execution_count": 35,
   "outputs": [
    {
     "name": "stdout",
     "output_type": "stream",
     "text": [
      "RRDD\n",
      "[1, 2, 3]\n",
      "[0, 0, 4]\n",
      "[0, 0, 5]\n",
      "\n",
      "RRDLDR\n",
      "[1, 2, 3]\n",
      "[0, 5, 4]\n",
      "[0, 6, 7]\n",
      "\n",
      "RRDLLDRR\n",
      "[1, 2, 3]\n",
      "[6, 5, 4]\n",
      "[7, 8, 9]\n",
      "\n",
      "RDRD\n",
      "[1, 2, 0]\n",
      "[0, 3, 4]\n",
      "[0, 0, 5]\n",
      "\n",
      "RDDR\n",
      "[1, 2, 0]\n",
      "[0, 3, 0]\n",
      "[0, 4, 5]\n",
      "\n",
      "RDLDRR\n",
      "[1, 2, 0]\n",
      "[4, 3, 0]\n",
      "[5, 6, 7]\n",
      "\n",
      "DRRD\n",
      "[1, 0, 0]\n",
      "[2, 3, 4]\n",
      "[0, 0, 5]\n",
      "\n",
      "DRDR\n",
      "[1, 0, 0]\n",
      "[2, 3, 0]\n",
      "[0, 4, 5]\n",
      "\n",
      "DRURDD\n",
      "[1, 4, 5]\n",
      "[2, 3, 6]\n",
      "[0, 0, 7]\n",
      "\n",
      "DDRR\n",
      "[1, 0, 0]\n",
      "[2, 0, 0]\n",
      "[3, 4, 5]\n",
      "\n",
      "DDRURD\n",
      "[1, 0, 0]\n",
      "[2, 5, 6]\n",
      "[3, 4, 7]\n",
      "\n",
      "DDRUURDD\n",
      "[1, 6, 7]\n",
      "[2, 5, 8]\n",
      "[3, 4, 9]\n",
      "\n"
     ]
    }
   ],
   "source": [
    "def printMatrix(arr, rows, cols,path='', count=1, i=0, j=0):\n",
    "    if arr[i][j] != 0:\n",
    "        return\n",
    "    if i == rows-1 and j == cols-1:\n",
    "        arr[i][j] = count\n",
    "        print(path)\n",
    "        for ele in arr:\n",
    "            print(ele)\n",
    "        print()\n",
    "        arr[i][j] = 0\n",
    "        return\n",
    "\n",
    "    # this is what cell I'm on it so don't traverse back\n",
    "    # make changes while in function process\n",
    "    arr[i][j] = count\n",
    "    if j < cols-1:\n",
    "        printMatrix(arr, rows, cols, path+\"R\", count + 1, i, j + 1)\n",
    "    if i < rows-1:\n",
    "        printMatrix(arr, rows, cols, path+\"D\", count + 1, i + 1, j)\n",
    "    if j > 0:\n",
    "        printMatrix(arr, rows, cols, path+\"L\", count + 1, i, j - 1)\n",
    "    if i > 0:\n",
    "        printMatrix(arr, rows, cols, path+\"U\", count + 1, i - 1, j)\n",
    "\n",
    "    # line wheere function will be over so before function get's reomved\n",
    "    # remove the changes made by that function\n",
    "    arr[i][j] = 0\n",
    "\n",
    "maze = [[0, 0, 0],\n",
    "        [0, 0, 0],\n",
    "        [0, 0, 0]]\n",
    "\n",
    "printMatrix(maze, 3,3)"
   ],
   "metadata": {
    "collapsed": false
   }
  },
  {
   "cell_type": "code",
   "execution_count": null,
   "outputs": [],
   "source": [],
   "metadata": {
    "collapsed": false
   }
  }
 ],
 "metadata": {
  "kernelspec": {
   "display_name": "Python 3",
   "language": "python",
   "name": "python3"
  },
  "language_info": {
   "codemirror_mode": {
    "name": "ipython",
    "version": 2
   },
   "file_extension": ".py",
   "mimetype": "text/x-python",
   "name": "python",
   "nbconvert_exporter": "python",
   "pygments_lexer": "ipython2",
   "version": "2.7.6"
  }
 },
 "nbformat": 4,
 "nbformat_minor": 0
}
