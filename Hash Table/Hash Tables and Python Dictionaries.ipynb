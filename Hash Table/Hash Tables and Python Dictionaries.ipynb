{
 "cells": [
  {
   "cell_type": "markdown",
   "metadata": {},
   "source": [
    "## Python Dictionaries and Hash Tables"
   ]
  },
  {
   "cell_type": "markdown",
   "metadata": {},
   "source": [
    "Dictionaries in Python are used to store key-value pairs. Keys are used to store and retrieve values. For example, here's a dictionary for storing and retrieving phone numbers using people's names. "
   ]
  },
  {
   "cell_type": "code",
   "execution_count": 1,
   "metadata": {},
   "outputs": [],
   "source": [
    "phone_numbers = {\n",
    "  'Aakash' : '9489484949',\n",
    "  'Hemanth' : '9595949494',\n",
    "  'Siddhant' : '9231325312'\n",
    "}\n",
    "phone_numbers"
   ]
  },
  {
   "cell_type": "markdown",
   "metadata": {},
   "source": [
    "You can access a person's phone number using their name as follows:"
   ]
  },
  {
   "cell_type": "code",
   "execution_count": 2,
   "metadata": {},
   "outputs": [],
   "source": [
    "phone_numbers['Aakash']"
   ]
  },
  {
   "cell_type": "markdown",
   "metadata": {},
   "source": [
    "You can store new phone numbers, or update existing ones as follows:\n",
    "    "
   ]
  },
  {
   "cell_type": "code",
   "execution_count": 3,
   "metadata": {},
   "outputs": [
    {
     "data": {
      "text/plain": [
       "{'Aakash': '7878787878',\n",
       " 'Hemanth': '9595949494',\n",
       " 'Siddhant': '9231325312',\n",
       " 'Vishal': '8787878787'}"
      ]
     },
     "execution_count": 3,
     "metadata": {},
     "output_type": "execute_result"
    }
   ],
   "source": [
    "# Add a new value\n",
    "phone_numbers['Vishal'] = '8787878787'\n",
    "# Update existing value\n",
    "phone_numbers['Aakash'] = '7878787878'\n",
    "# View the updated dictionary\n",
    "phone_numbers"
   ]
  },
  {
   "cell_type": "markdown",
   "metadata": {},
   "source": [
    "You can also view all the names and phone numbers stored in `phone_numbers` using a `for` loop."
   ]
  },
  {
   "cell_type": "code",
   "execution_count": 4,
   "metadata": {},
   "outputs": [
    {
     "name": "stdout",
     "output_type": "stream",
     "text": [
      "Name: Aakash , Phone Number: 7878787878\n",
      "Name: Hemanth , Phone Number: 9595949494\n",
      "Name: Siddhant , Phone Number: 9231325312\n",
      "Name: Vishal , Phone Number: 8787878787\n"
     ]
    }
   ],
   "source": [
    "for name in phone_numbers:\n",
    "    print('Name:', name, ', Phone Number:', phone_numbers[name])"
   ]
  },
  {
   "cell_type": "markdown",
   "metadata": {},
   "source": [
    "Dictionaries in Python are implemented using a data structure called **hash table**. A hash table uses a list/array to store the key-value pairs, and uses a _hashing function_ to determine the index for storing or retrieving the data associated with a given key. \n",
    "\n",
    "Here's a visual representation of a hash table ([source](https://en.wikipedia.org/wiki/Hash_table)):\n",
    "\n",
    "<img src=\"https://i.imgur.com/5dPEmuY.png\" width=\"480\">\n",
    "\n",
    "Your objective in this assignment is to implement a `HashTable` class which supports the following operations:\n",
    "\n",
    "1. **Insert**: Insert a new key-value pair\n",
    "2. **Find**: Find the value associated with a key\n",
    "3. **Update**: Update the value associated with a key\n",
    "5. **List**: List all the keys stored in the hash table\n",
    "\n",
    "The `HashTable` class will have the following structure (note the function signatures):"
   ]
  },
  {
   "cell_type": "code",
   "execution_count": 19,
   "metadata": {},
   "outputs": [],
   "source": [
    "class HashTable:\n",
    "    def __init__(self):\n",
    "        self.hash = {}\n",
    "    def insert(self, key, value):\n",
    "        self.hash[key] = value\n",
    "    \n",
    "    def find(self, key):\n",
    "        return self.hash[key]\n",
    "    \n",
    "    def update(self, key, value):\n",
    "        self.hash[key] = value\n",
    "    \n",
    "    def list_all(self):\n",
    "        for key in self.hash:\n",
    "            print('key:', key, ', value:', self.hash[key])"
   ]
  },
  {
   "cell_type": "code",
   "execution_count": 20,
   "metadata": {},
   "outputs": [],
   "source": [
    "hashTable = HashTable()"
   ]
  },
  {
   "cell_type": "code",
   "execution_count": 21,
   "metadata": {},
   "outputs": [
    {
     "data": {
      "text/plain": [
       "<__main__.HashTable at 0x5bb9a70>"
      ]
     },
     "execution_count": 21,
     "metadata": {},
     "output_type": "execute_result"
    }
   ],
   "source": [
    "hashTable"
   ]
  },
  {
   "cell_type": "code",
   "execution_count": 22,
   "metadata": {},
   "outputs": [],
   "source": [
    "hashTable.insert(1,'Aakhash')"
   ]
  },
  {
   "cell_type": "code",
   "execution_count": 23,
   "metadata": {},
   "outputs": [],
   "source": [
    "hashTable.insert(2,'Jim')\n",
    "hashTable.insert(3,'Mindy')\n",
    "hashTable.insert(4,'Traversy')\n",
    "hashTable.insert(5,'Raquel')"
   ]
  },
  {
   "cell_type": "code",
   "execution_count": 24,
   "metadata": {},
   "outputs": [
    {
     "data": {
      "text/plain": [
       "'Mindy'"
      ]
     },
     "execution_count": 24,
     "metadata": {},
     "output_type": "execute_result"
    }
   ],
   "source": [
    "hashTable.find(3)"
   ]
  },
  {
   "cell_type": "code",
   "execution_count": 25,
   "metadata": {},
   "outputs": [],
   "source": [
    "hashTable.update(5, 'Rachel')"
   ]
  },
  {
   "cell_type": "code",
   "execution_count": 26,
   "metadata": {},
   "outputs": [
    {
     "name": "stdout",
     "output_type": "stream",
     "text": [
      "key: 1 , value: Aakhash\n",
      "key: 2 , value: Jim\n",
      "key: 3 , value: Mindy\n",
      "key: 4 , value: Traversy\n",
      "key: 5 , value: Rachel\n"
     ]
    }
   ],
   "source": [
    "hashTable.list_all()"
   ]
  },
  {
   "cell_type": "code",
   "execution_count": null,
   "metadata": {},
   "outputs": [],
   "source": []
  }
 ],
 "metadata": {
  "kernelspec": {
   "display_name": "Python 3",
   "language": "python",
   "name": "python3"
  },
  "language_info": {
   "codemirror_mode": {
    "name": "ipython",
    "version": 3
   },
   "file_extension": ".py",
   "mimetype": "text/x-python",
   "name": "python",
   "nbconvert_exporter": "python",
   "pygments_lexer": "ipython3",
   "version": "3.6.3"
  }
 },
 "nbformat": 4,
 "nbformat_minor": 2
}
