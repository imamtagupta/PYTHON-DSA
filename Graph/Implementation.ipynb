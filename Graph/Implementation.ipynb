{
 "cells": [
  {
   "cell_type": "code",
   "execution_count": 14,
   "outputs": [
    {
     "name": "stdout",
     "output_type": "stream",
     "text": [
      "0 1 3 2 4 \n",
      "DFS Path [3, 1, 0]\n",
      "BFS Path [3, 1, 0]\n",
      "0 1 3 Is graph connected False\n"
     ]
    }
   ],
   "source": [
    "import queue\n",
    "from sys import setrecursionlimit\n",
    "setrecursionlimit(10**6)\n",
    "\n",
    "class Graph:\n",
    "    def __init__(self, n):\n",
    "        self.nVertices = n\n",
    "        self.adjMatrix = [[0]*n for ele in range(n)]\n",
    "\n",
    "    def __str__(self):\n",
    "        for ele in self.adjMatrix:\n",
    "            print(ele)\n",
    "        return str()\n",
    "\n",
    "    def __repr__(self):\n",
    "        return str(self.__str__())\n",
    "\n",
    "    def addEdge(self, v1, v2):\n",
    "        \"\"\"\n",
    "        Mark 1 to all v1 and v2 index in matrix\n",
    "        \"\"\"\n",
    "        self.adjMatrix[v1][v2] = 1\n",
    "        self.adjMatrix[v2][v1] = 1\n",
    "\n",
    "    def removeEdge(self, v1, v2):\n",
    "        \"\"\"\n",
    "        First check if that edge exists then mark 0 to indices\n",
    "        \"\"\"\n",
    "        if self.adjMatrix.containsEdge(v1, v2):\n",
    "            self.adjMatrix[v1][v2] = 0\n",
    "            self.adjMatrix[v2][v1] = 0\n",
    "\n",
    "    def containsEdge(self, v1, v2):\n",
    "        \"\"\"\n",
    "        we have marked the edge indication as 1\n",
    "        \"\"\"\n",
    "        return self.adjMatrix[v1][v2] > 0\n",
    "\n",
    "    def dfs(self):\n",
    "        visited = [False] * self.nVertices\n",
    "\n",
    "        # this traverse helps in disconnected graph\n",
    "        for i in range(self.nVertices):\n",
    "            if not visited[i]:\n",
    "                self._dfsHelper(i, visited)\n",
    "\n",
    "    def _dfsHelper(self, sv, visited):\n",
    "        print(sv, end=\" \")\n",
    "        visited[sv] = True\n",
    "\n",
    "        # Let's move to another vertex which is not visited yet.Graph\n",
    "        for i in range(self.nVertices):\n",
    "            if self.adjMatrix[sv][i] > 0 and not visited[i]:\n",
    "                self._dfsHelper(i, visited)\n",
    "\n",
    "    def bfs(self):\n",
    "        visited = [False] * self.nVertices\n",
    "        for i in range(self.nVertices):\n",
    "            if not visited[i]:\n",
    "                self._bfsHelper(i, visited)\n",
    "\n",
    "    def _bfsHelper(self, sv, visited):\n",
    "        q = queue.Queue()\n",
    "        q.put(sv)\n",
    "        visited[sv] = True\n",
    "        while not q.empty():\n",
    "            data = q.get()\n",
    "            print(data, end=\" \")\n",
    "            \"\"\"\n",
    "            ✨ Make sure you mark visited the moment you put element inside queue\n",
    "            Otherwise, is some other element will have edge with that element which you\n",
    "            already put inside the queue then there will be multiples of element inside queue\n",
    "            \"\"\"\n",
    "            for i in range(self.nVertices):\n",
    "                if self.adjMatrix[data][i] > 0 and not visited[i]:\n",
    "                    q.put(i)\n",
    "                    visited[i] = True\n",
    "\n",
    "\n",
    "    def hasPath(self, v1, v2):\n",
    "        \"\"\"\n",
    "        Check condition:\n",
    "        1) if same element as v1 and v2 then => true\n",
    "        2) if v1 and v2 are adjacents then => true\n",
    "        3) if v1 has path with p1 and p1 has path v2 => true\n",
    "        \"\"\"\n",
    "        visited = [False] * self.nVertices\n",
    "        return self._hasPathHelperBFS(v1, v2, visited)\n",
    "\n",
    "    def _hasPathHelperDFS(self, v1, v2, visited):\n",
    "        if v1 == v2:\n",
    "            return True\n",
    "        if self.adjMatrix[v1][v2] == 1:\n",
    "            return True\n",
    "        visited[v1] = True\n",
    "        for i in range(self.nVertices):\n",
    "            if self.adjMatrix[v1][i] == 0 and not visited[i]:\n",
    "                return self._hasPathHelperDFS(i, v2, visited)\n",
    "        return False\n",
    "\n",
    "    def _hasPathHelperBFS(self, v1, v2, visited):\n",
    "        q = queue.Queue()\n",
    "        q.put(v1)\n",
    "        visited[v1] = True\n",
    "        if v1 < self.nVertices and v2 < self.nVertices:\n",
    "            while not q.empty():\n",
    "                data = q.get()\n",
    "                if self.adjMatrix[data][v2] > 0:\n",
    "                    return True\n",
    "                for i in range(self.nVertices):\n",
    "                    if self.adjMatrix[data][i] > 0 and not visited[i]:\n",
    "                        q.put(i)\n",
    "                        visited[i] = True\n",
    "\n",
    "    def _getPathHelperDFS(self, v1, v2, visited):\n",
    "        if v1 == v2:\n",
    "            return [v1]\n",
    "        visited[v1] = True\n",
    "        for i in range(self.nVertices):\n",
    "            if self.adjMatrix[v1][i] == 1 and not visited[i]:\n",
    "                li = self._getPathHelperDFS(i, v2, visited)\n",
    "                if li:\n",
    "                    li.append(v1)\n",
    "                    return li\n",
    "        return None\n",
    "\n",
    "    def getPathDFS(self, v1, v2):\n",
    "        visited = [False] * self.nVertices\n",
    "        return self._getPathHelperDFS(v1, v2, visited)\n",
    "\n",
    "\n",
    "    def _getPathHelperBFS(self, sv, ev, visited) :\n",
    "        mapp = {}\n",
    "        q = queue.Queue()\n",
    "\n",
    "        if self.adjMatrix[sv][ev] == 1 and sv == ev :\n",
    "            ans = []\n",
    "            ans.append(sv)\n",
    "            return ans\n",
    "\n",
    "        q.put(sv)\n",
    "        visited[sv] = True\n",
    "\n",
    "        while q.empty() is False :\n",
    "            front = q.get()\n",
    "\n",
    "            for i in range(self.nVertices) :\n",
    "                if self.adjMatrix[front][i] == 1 and visited[i] is False :\n",
    "                    mapp[i] = front\n",
    "                    q.put(i)\n",
    "\n",
    "                    visited[i] = True\n",
    "\n",
    "                    if i == ev :\n",
    "                        ans = []\n",
    "                        ans.append(ev)\n",
    "                        value = mapp[ev]\n",
    "\n",
    "                        while value != sv :\n",
    "                            ans.append(value)\n",
    "                            value = mapp[value]\n",
    "\n",
    "                        ans.append(value)\n",
    "                        return ans\n",
    "\n",
    "        return []\n",
    "\n",
    "    def getPathBFS(self, v1, v2):\n",
    "        visited = [False] * self.nVertices\n",
    "        return self._getPathHelperBFS(v1, v2, visited)\n",
    "\n",
    "    def isConnected(self):\n",
    "        visitedArr = [False]*self.nVertices\n",
    "        self._dfsHelper(0, visitedArr)\n",
    "        for ele in visitedArr:\n",
    "            if not ele:\n",
    "                return False\n",
    "        return True\n",
    "\n",
    "\n",
    "g = Graph(5)\n",
    "g.addEdge(0,1)\n",
    "g.addEdge(1,3)\n",
    "g.addEdge(2,4)\n",
    "g.dfs()\n",
    "g.hasPath(0,3)\n",
    "print(f\"\\nDFS Path {g.getPathDFS(0,3)}\")\n",
    "\n",
    "print(f\"BFS Path {g.getPathBFS(0,3)}\")\n",
    "\n",
    "print(f\"Is graph connected {g.isConnected()}\")"
   ],
   "metadata": {
    "collapsed": false
   }
  },
  {
   "cell_type": "markdown",
   "source": [
    "Time Complexity: O(V+E), where V is the number of nodes and E is the number of edges.\n",
    "Auxiliary Space: O(V)"
   ],
   "metadata": {
    "collapsed": false
   }
  },
  {
   "cell_type": "markdown",
   "source": [],
   "metadata": {
    "collapsed": false
   }
  },
  {
   "cell_type": "code",
   "execution_count": 20,
   "outputs": [
    {
     "name": "stdout",
     "output_type": "stream",
     "text": [
      "[0, 1, 1, 0, 0]\n",
      "[1, 0, 0, 1, 0]\n",
      "[1, 0, 0, 1, 1]\n",
      "[0, 1, 1, 0, 0]\n",
      "[0, 0, 1, 0, 0]\n",
      "\n",
      "DFS : 0 1 3 2 4 \n",
      "BFS : 0 1 3 "
     ]
    },
    {
     "data": {
      "text/plain": "False"
     },
     "execution_count": 20,
     "metadata": {},
     "output_type": "execute_result"
    }
   ],
   "source": [
    "# PRINT DFS TRAVERSAL FOR\n",
    "#  0\n",
    "# / \\\n",
    "# 1  2\n",
    "# \\ / \\\n",
    "#  3  4\n",
    "\n",
    "g1 = Graph(5)\n",
    "g1.addEdge(0,1)\n",
    "g1.addEdge(0,2)\n",
    "g1.addEdge(1,3)\n",
    "g1.addEdge(2,3)\n",
    "g1.addEdge(2,4)\n",
    "print(g1)\n",
    "print(\"DFS\", end=\" : \")\n",
    "g1.dfs()\n",
    "print(\"\\nBFS\", end=\" : \")\n",
    "# g1.bfs()\n",
    "g.isConnected()"
   ],
   "metadata": {
    "collapsed": false
   }
  },
  {
   "cell_type": "code",
   "execution_count": 13,
   "outputs": [
    {
     "name": "stdout",
     "output_type": "stream",
     "text": [
      "0 1 2 3 4 "
     ]
    }
   ],
   "source": [
    "g2 = Graph(5)\n",
    "g2.bfs()"
   ],
   "metadata": {
    "collapsed": false
   }
  },
  {
   "cell_type": "code",
   "execution_count": 7,
   "outputs": [
    {
     "data": {
      "text/plain": "True"
     },
     "execution_count": 7,
     "metadata": {},
     "output_type": "execute_result"
    }
   ],
   "source": [
    "g.hasPath(0,3)"
   ],
   "metadata": {
    "collapsed": false
   }
  },
  {
   "cell_type": "code",
   "execution_count": 16,
   "outputs": [
    {
     "name": "stdout",
     "output_type": "stream",
     "text": [
      "[0, 1, 1, 0, 0]\n",
      "[1, 0, 0, 1, 0]\n",
      "[1, 0, 0, 1, 1]\n",
      "[0, 1, 1, 0, 0]\n",
      "[0, 0, 1, 0, 0]\n",
      "\n",
      "DFS : 0 1 3 2 4 \n",
      "BFS : 0 1 2 3 4 "
     ]
    }
   ],
   "source": [
    "# PRINT DFS TRAVERSAL FOR\n",
    "#  0\n",
    "# / \\\n",
    "# 1  2\n",
    "# \\ / \\\n",
    "#  3  4\n",
    "\n",
    "g1 = Graph(5)\n",
    "g1.addEdge(0,1)\n",
    "g1.addEdge(0,2)\n",
    "g1.addEdge(1,3)\n",
    "g1.addEdge(2,3)\n",
    "g1.addEdge(2,4)\n",
    "print(g1)\n",
    "print(\"DFS\", end=\" : \")\n",
    "g1.dfs()\n",
    "print(\"\\nBFS\", end=\" : \")\n",
    "g1.bfs()\n"
   ],
   "metadata": {
    "collapsed": false
   }
  },
  {
   "cell_type": "code",
   "execution_count": null,
   "outputs": [],
   "source": [],
   "metadata": {
    "collapsed": false
   }
  }
 ],
 "metadata": {
  "kernelspec": {
   "display_name": "Python 3",
   "language": "python",
   "name": "python3"
  },
  "language_info": {
   "codemirror_mode": {
    "name": "ipython",
    "version": 2
   },
   "file_extension": ".py",
   "mimetype": "text/x-python",
   "name": "python",
   "nbconvert_exporter": "python",
   "pygments_lexer": "ipython2",
   "version": "2.7.6"
  }
 },
 "nbformat": 4,
 "nbformat_minor": 0
}
