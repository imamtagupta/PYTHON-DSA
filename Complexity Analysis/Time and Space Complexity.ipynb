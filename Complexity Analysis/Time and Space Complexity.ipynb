{
 "cells": [
  {
   "cell_type": "markdown",
   "metadata": {},
   "source": [
    "<div class=\"alert alert-box alert-info\">\n",
    "<strong>T(A,n) = </strong> Time required to complete Algorithm 'A' with input size of 'n' \n",
    "\n",
    "    \n",
    "Similarly, <br><br>\n",
    "<strong>S(A,n) = </strong> Space required to complete Algorithm 'A' with input size of 'n' \n",
    "    \n",
    "    "
   ]
  },
  {
   "cell_type": "markdown",
   "metadata": {},
   "source": [
    "## Let's compare most efficient sorting according to our practice!"
   ]
  },
  {
   "cell_type": "code",
   "execution_count": 26,
   "metadata": {},
   "outputs": [],
   "source": [
    "def selection_sort(arr, n):\n",
    "    for i in range(n-1):\n",
    "        largest = arr.index(max(arr[:(n-i)]))\n",
    "        arr[n-i-1], arr[largest] = arr[largest], arr[n-i-1]\n",
    "        "
   ]
  },
  {
   "cell_type": "code",
   "execution_count": 96,
   "metadata": {},
   "outputs": [],
   "source": [
    "def merge_sort(arr):\n",
    "    def merge(arr1,arr2):\n",
    "        m = len(arr1)\n",
    "        n = len(arr2)\n",
    "        i = j = k = 0\n",
    "        while i < m and j < n:\n",
    "            if arr1[i] < arr2[j]:\n",
    "                arr[k] = arr1[i]\n",
    "                i += 1\n",
    "            else:\n",
    "                arr[k] = arr2[j]\n",
    "                j += 1\n",
    "            k += 1\n",
    "        while i < m:\n",
    "            arr[k] = arr1[i]\n",
    "            k += 1\n",
    "            i += 1\n",
    "        while j< n:\n",
    "            arr[k] = arr2[j]\n",
    "            j+= 1\n",
    "            k+= 1\n",
    "        \n",
    "    \n",
    "    if len(arr) > 1:\n",
    "        m = len(arr) // 2\n",
    "        s1 = arr[:m]\n",
    "        s2 = arr[m:]\n",
    "        merge_sort(s1)\n",
    "        merge_sort(s2)\n",
    "        merge(s1, s2)\n",
    "    \n",
    "        "
   ]
  },
  {
   "cell_type": "code",
   "execution_count": 97,
   "metadata": {},
   "outputs": [],
   "source": [
    "def create_arr(n):\n",
    "    return [x for x in range(n, 0, -1)]"
   ]
  },
  {
   "cell_type": "code",
   "execution_count": 100,
   "metadata": {},
   "outputs": [],
   "source": [
    "import time"
   ]
  },
  {
   "cell_type": "code",
   "execution_count": 102,
   "metadata": {},
   "outputs": [
    {
     "name": "stdout",
     "output_type": "stream",
     "text": [
      "selection sort :: For input size of 10 : 0.0\n",
      "merge sort :: For input size of 10 : 0.0\n",
      "selection sort :: For input size of 100 : 0.0\n",
      "merge sort :: For input size of 100 : 0.0\n",
      "selection sort :: For input size of 1000 : 0.012993812561035156\n",
      "merge sort :: For input size of 1000 : 0.0\n",
      "selection sort :: For input size of 1000 : 0.014021158218383789\n",
      "merge sort :: For input size of 1000 : 0.0\n",
      "selection sort :: For input size of 10000 : 1.2227637767791748\n",
      "merge sort :: For input size of 10000 : 0.0\n",
      "selection sort :: For input size of 100000 : 130.0682191848755\n",
      "merge sort :: For input size of 100000 : 0.0\n"
     ]
    }
   ],
   "source": [
    "#size = 10\n",
    "for n in [10,100,1000,1000,10000, 100000]:\n",
    "    arr = create_arr(n)\n",
    "    start = time.time()\n",
    "    selection_sort(arr, n)\n",
    "    end = time.time()\n",
    "    print(f'selection sort :: For input size of {n} : {end-start}')\n",
    "\n",
    "    arr = create_arr(10)\n",
    "    start = time.time()\n",
    "    merge_sort(arr)\n",
    "    end = time.time()\n",
    "    print(f'merge sort :: For input size of {n} : {end-start}')\n"
   ]
  },
  {
   "cell_type": "code",
   "execution_count": null,
   "metadata": {},
   "outputs": [],
   "source": []
  },
  {
   "cell_type": "code",
   "execution_count": null,
   "metadata": {},
   "outputs": [],
   "source": []
  },
  {
   "cell_type": "code",
   "execution_count": null,
   "metadata": {},
   "outputs": [],
   "source": []
  },
  {
   "cell_type": "code",
   "execution_count": null,
   "metadata": {},
   "outputs": [],
   "source": []
  },
  {
   "cell_type": "code",
   "execution_count": null,
   "metadata": {},
   "outputs": [],
   "source": []
  },
  {
   "cell_type": "code",
   "execution_count": null,
   "metadata": {},
   "outputs": [],
   "source": []
  },
  {
   "cell_type": "code",
   "execution_count": null,
   "metadata": {},
   "outputs": [],
   "source": []
  },
  {
   "cell_type": "code",
   "execution_count": null,
   "metadata": {},
   "outputs": [],
   "source": []
  },
  {
   "cell_type": "code",
   "execution_count": null,
   "metadata": {},
   "outputs": [],
   "source": []
  },
  {
   "cell_type": "code",
   "execution_count": null,
   "metadata": {},
   "outputs": [],
   "source": []
  },
  {
   "cell_type": "code",
   "execution_count": null,
   "metadata": {},
   "outputs": [],
   "source": []
  },
  {
   "cell_type": "code",
   "execution_count": null,
   "metadata": {},
   "outputs": [],
   "source": []
  },
  {
   "cell_type": "code",
   "execution_count": null,
   "metadata": {},
   "outputs": [],
   "source": []
  }
 ],
 "metadata": {
  "kernelspec": {
   "display_name": "Python 3",
   "language": "python",
   "name": "python3"
  },
  "language_info": {
   "codemirror_mode": {
    "name": "ipython",
    "version": 3
   },
   "file_extension": ".py",
   "mimetype": "text/x-python",
   "name": "python",
   "nbconvert_exporter": "python",
   "pygments_lexer": "ipython3",
   "version": "3.6.3"
  }
 },
 "nbformat": 4,
 "nbformat_minor": 2
}
