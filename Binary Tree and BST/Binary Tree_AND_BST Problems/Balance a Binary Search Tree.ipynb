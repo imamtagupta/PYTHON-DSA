{
 "cells": [
  {
   "cell_type": "markdown",
   "metadata": {},
   "source": [
    "### Balance a Binary Search Tree"
   ]
  },
  {
   "cell_type": "code",
   "execution_count": 48,
   "metadata": {},
   "outputs": [],
   "source": [
    "class TreeNode:\n",
    "    def __init__(self, val):\n",
    "        self.val = val\n",
    "        self.left = None\n",
    "        self.right = None\n",
    "    \n",
    "    @staticmethod\n",
    "    def parse_tuple(tup):\n",
    "        if tup is None:\n",
    "            node = None\n",
    "        elif (isinstance(tup, tuple)) and (len(tup) == 3):\n",
    "            node = TreeNode(tup[1])\n",
    "            node.left = TreeNode.parse_tuple(tup[0])\n",
    "            node.right = TreeNode.parse_tuple(tup[2])\n",
    "        else:\n",
    "            node = TreeNode(tup)\n",
    "        return node\n",
    "        \n",
    "    def to_tuple(self):\n",
    "        if self is None:\n",
    "            return None\n",
    "        elif self.left is None and self.right is None:\n",
    "            return self.val\n",
    "        else:\n",
    "            return TreeNode.to_tuple(self.left), self.val, TreeNode.to_tuple(self.right)\n",
    "        \n",
    "\n",
    "    def __str__(self):\n",
    "        return \"BinaryTree <{}>\".format(self.to_tuple())\n",
    "    \n",
    "    def __repr__(self):\n",
    "        return \"BinaryTree <{}>\".format(self.to_tuple())\n",
    "    \n",
    "    def display(self, space='\\t', level=0):\n",
    "        if self is None:\n",
    "            print((space*level)+'∅')\n",
    "            return\n",
    "        if self.left is None and self.right is None:\n",
    "            print((space*level)+str(self.val))\n",
    "            return\n",
    "        \n",
    "        TreeNode.display(self.right, space, level+1)\n",
    "        print((space*level)+str(self.val))\n",
    "        TreeNode.display(self.left, space, level+1)\n",
    "        \n",
    "        \n",
    "    def height(self):\n",
    "        return 0 if not self else 1+max(TreeNode.height(self.left), TreeNode.height(self.right))\n",
    "    \n",
    "    def size(self):\n",
    "        return 0 if not self else 1+TreeNode.size(self.left) + TreeNode.size(self.right)\n",
    "    \n",
    "    def traverse_in_order(self):\n",
    "        if self is None:\n",
    "            return []\n",
    "        return (TreeNode.traverse_in_order(self.left) + [self.val] + TreeNode.traverse_in_order(self.right))\n",
    "    \n",
    "    def traverse_pre_order(self):\n",
    "        if self is None:\n",
    "            return []\n",
    "        return ([self.val] + TreeNode.traverse_in_order(self.left) + TreeNode.traverse_in_order(self.right))\n",
    "    \n",
    "    def traverse_post_order(self):\n",
    "        if self is None:\n",
    "            return []\n",
    "        return (TreeNode.traverse_in_order(self.left) + TreeNode.traverse_in_order(self.right) + [self.val])\n",
    "    \n"
   ]
  },
  {
   "cell_type": "code",
   "execution_count": null,
   "metadata": {},
   "outputs": [],
   "source": []
  },
  {
   "cell_type": "markdown",
   "metadata": {},
   "source": [
    "#### Theoretically first we need to check that if left and right subtree are balanced or not. If not then we suppose shuffle the positions. In this case of imbalanced tree we need re-position and one of the way of doing that is by getting it in ascending order and make the middle element as the root and then keep adding things"
   ]
  },
  {
   "cell_type": "markdown",
   "metadata": {},
   "source": [
    " "
   ]
  },
  {
   "cell_type": "code",
   "execution_count": 104,
   "metadata": {},
   "outputs": [],
   "source": [
    "def balancedBST(node):\n",
    "    \n",
    "    def isBalanced(root):\n",
    "        if root is None:\n",
    "            return True, 0\n",
    "        isBalancedLeft, heightLeft = isBalanced(root.left)\n",
    "        isBalancedRight, heightRight = isBalanced(root.right)\n",
    "\n",
    "        Balanced = isBalancedLeft and isBalancedRight and (abs(heightLeft - heightRight) <= 1)\n",
    "        height = 1 + max(heightLeft, heightRight)\n",
    "        return Balanced, height\n",
    "    \n",
    "    def inorder_traversal(node):\n",
    "        if node is None:\n",
    "            return []\n",
    "        return inorder_traversal(node.left) + [node.val] + inorder_traversal(node.right)\n",
    "    \n",
    "    def make_balance_bst(data, lo = 0, hi=None):\n",
    "        if hi is None:\n",
    "            hi = len(data)-1\n",
    "        if lo>hi:\n",
    "            return None\n",
    "        mid = (lo + hi) // 2\n",
    "        root = TreeNode(data[mid])\n",
    "        root.left = make_balance_bst(data, lo, mid-1)\n",
    "        root.right = make_balance_bst(data, mid+1, hi)\n",
    "\n",
    "        return root\n",
    "       \n",
    "        \n",
    "        \n",
    "    if node is None:\n",
    "        return\n",
    "    if not isBalanced(node)[0]:\n",
    "        # Action need to be taken to balance the BST\n",
    "        inordered = inorder_traversal(node)\n",
    "        return make_balance_bst(inordered)\n",
    "    return node"
   ]
  },
  {
   "cell_type": "code",
   "execution_count": 105,
   "metadata": {},
   "outputs": [
    {
     "name": "stdout",
     "output_type": "stream",
     "text": [
      "\t\t5\n",
      "\t3\n",
      "\t\t∅\n",
      "1\n",
      "\t∅\n",
      "\n",
      " Balanced BST \n",
      "\n",
      "\t5\n",
      "3\n",
      "\t1\n"
     ]
    }
   ],
   "source": [
    "data = (None, 1,(None, 3, (None, 5, None)))\n",
    "data = TreeNode.parse_tuple(data)\n",
    "data.display()\n",
    "print('\\n Balanced BST \\n')\n",
    "balancedBST(data).display()"
   ]
  },
  {
   "cell_type": "code",
   "execution_count": 106,
   "metadata": {},
   "outputs": [
    {
     "name": "stdout",
     "output_type": "stream",
     "text": [
      "\t\t\t8\n",
      "\t\t7\n",
      "\t\t\t∅\n",
      "\t6\n",
      "\t\t5\n",
      "4\n",
      "\t\t\t3\n",
      "\t\t2\n",
      "\t\t\t∅\n",
      "\t1\n",
      "\t\t0\n",
      "\n",
      " Balanced BST \n",
      "\n",
      "\t\t\t8\n",
      "\t\t7\n",
      "\t\t\t∅\n",
      "\t6\n",
      "\t\t5\n",
      "4\n",
      "\t\t\t3\n",
      "\t\t2\n",
      "\t\t\t∅\n",
      "\t1\n",
      "\t\t0\n"
     ]
    }
   ],
   "source": [
    "data = (((None, 0, None), 1, (None, 2, 3)), 4, (5, 6, (None, 7, 8)))\n",
    "\n",
    "data = TreeNode.parse_tuple(data)\n",
    "\n",
    "data.display()\n",
    "\n",
    "print('\\n Balanced BST \\n')\n",
    "result = balancedBST(data)\n",
    "result.display()"
   ]
  },
  {
   "cell_type": "code",
   "execution_count": null,
   "metadata": {},
   "outputs": [],
   "source": [
    "[1,null,15,14,17,7,null,null,null,2,12,null,3,9,null,null,null,null,11]"
   ]
  },
  {
   "cell_type": "code",
   "execution_count": 12,
   "metadata": {},
   "outputs": [],
   "source": [
    "# To check if it is balanced or not?\n",
    "\n",
    "def isBalanced(root):\n",
    "    if root is None:\n",
    "        return True, 0\n",
    "    isBalancedLeft, heightLeft = isBalanced(root.left)\n",
    "    isBalancedRight, heightRight = isBalanced(root.right)\n",
    "    \n",
    "    Balanced = isBalancedLeft and isBalancedRight and (abs(heightLeft - heightRight) <= 1)\n",
    "    height = 1 + max(heightLeft, heightRight)\n",
    "    return Balanced, height"
   ]
  },
  {
   "cell_type": "code",
   "execution_count": 13,
   "metadata": {},
   "outputs": [
    {
     "data": {
      "text/plain": [
       "(True, 4)"
      ]
     },
     "execution_count": 13,
     "metadata": {},
     "output_type": "execute_result"
    }
   ],
   "source": [
    "isBalanced(data)"
   ]
  },
  {
   "cell_type": "code",
   "execution_count": 96,
   "metadata": {},
   "outputs": [],
   "source": [
    "def make_balance(data, lo = 0, hi=None):\n",
    "    if hi is None:\n",
    "        hi = len(data)-1\n",
    "    if lo>hi:\n",
    "        return None\n",
    "    mid = (lo + hi) //2\n",
    "    root = TreeNode(data[mid])\n",
    "    root.left = make_balance(data, lo, mid-1)\n",
    "    root.right = make_balance(data, mid+1, hi)\n",
    "    \n",
    "    return root"
   ]
  },
  {
   "cell_type": "code",
   "execution_count": 97,
   "metadata": {},
   "outputs": [],
   "source": [
    "def make_balanced_bst(data, lo=0, hi=None):\n",
    "    if hi is None:\n",
    "        hi = len(data) - 1\n",
    "    if lo > hi:\n",
    "        return None\n",
    "    \n",
    "    mid = (lo + hi) // 2\n",
    "\n",
    "    root = TreeNode(data[mid])\n",
    "    root.left = make_balanced_bst(data, lo, mid-1)\n",
    "    root.right = make_balanced_bst(data, mid+1, hi)\n",
    "    \n",
    "    return root"
   ]
  },
  {
   "cell_type": "code",
   "execution_count": 98,
   "metadata": {},
   "outputs": [
    {
     "name": "stdout",
     "output_type": "stream",
     "text": [
      "\t\t\t8\n",
      "\t\t7\n",
      "\t\t\t∅\n",
      "\t6\n",
      "\t\t5\n",
      "4\n",
      "\t\t\t3\n",
      "\t\t2\n",
      "\t\t\t∅\n",
      "\t1\n",
      "\t\t0\n"
     ]
    }
   ],
   "source": [
    "data = (((None, 0, None), 1, (None, 2, 3)), 4, (5, 6, (None, 7, 8)))\n",
    "\n",
    "data = TreeNode.parse_tuple(data)\n",
    "\n",
    "data.display()"
   ]
  },
  {
   "cell_type": "code",
   "execution_count": 99,
   "metadata": {},
   "outputs": [],
   "source": [
    "def inorder_traversal(node):\n",
    "    if node is None:\n",
    "        return []\n",
    "    return inorder_traversal(node.left) + [node.val] + inorder_traversal(node.right)\n"
   ]
  },
  {
   "cell_type": "code",
   "execution_count": 100,
   "metadata": {},
   "outputs": [],
   "source": [
    "data = inorder_traversal(data)"
   ]
  },
  {
   "cell_type": "code",
   "execution_count": 101,
   "metadata": {},
   "outputs": [
    {
     "data": {
      "text/plain": [
       "[0, 1, 2, 3, 4, 5, 6, 7, 8]"
      ]
     },
     "execution_count": 101,
     "metadata": {},
     "output_type": "execute_result"
    }
   ],
   "source": [
    "data"
   ]
  },
  {
   "cell_type": "code",
   "execution_count": 102,
   "metadata": {},
   "outputs": [
    {
     "data": {
      "text/plain": [
       "BinaryTree <((0, 1, (None, 2, 3)), 4, (5, 6, (None, 7, 8)))>"
      ]
     },
     "execution_count": 102,
     "metadata": {},
     "output_type": "execute_result"
    }
   ],
   "source": [
    "make_balanced_bst(data)"
   ]
  },
  {
   "cell_type": "code",
   "execution_count": 103,
   "metadata": {},
   "outputs": [
    {
     "data": {
      "text/plain": [
       "BinaryTree <((0, 1, (None, 2, 3)), 4, (5, 6, (None, 7, 8)))>"
      ]
     },
     "execution_count": 103,
     "metadata": {},
     "output_type": "execute_result"
    }
   ],
   "source": [
    "make_balance(data)"
   ]
  },
  {
   "cell_type": "code",
   "execution_count": null,
   "metadata": {},
   "outputs": [],
   "source": []
  }
 ],
 "metadata": {
  "kernelspec": {
   "display_name": "Python 3",
   "language": "python",
   "name": "python3"
  },
  "language_info": {
   "codemirror_mode": {
    "name": "ipython",
    "version": 3
   },
   "file_extension": ".py",
   "mimetype": "text/x-python",
   "name": "python",
   "nbconvert_exporter": "python",
   "pygments_lexer": "ipython3",
   "version": "3.6.3"
  }
 },
 "nbformat": 4,
 "nbformat_minor": 2
}
