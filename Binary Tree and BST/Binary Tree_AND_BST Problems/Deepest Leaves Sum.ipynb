{
 "cells": [
  {
   "cell_type": "markdown",
   "metadata": {},
   "source": [
    "### Deepest Leaves Sum"
   ]
  },
  {
   "cell_type": "code",
   "execution_count": 1,
   "metadata": {},
   "outputs": [],
   "source": [
    "class TreeNode:\n",
    "    def __init__(self, val):\n",
    "        self.val = val\n",
    "        self.left = None\n",
    "        self.right = None\n",
    "\n",
    "def to_binarytree(tree):\n",
    "    if (isinstance(tree, tuple) and len(tree)==3):\n",
    "        node = TreeNode(tree[1])\n",
    "        node.left = to_binarytree(tree[0])\n",
    "        node.right = to_binarytree(tree[2])\n",
    "    elif tree is None:\n",
    "        return None\n",
    "    else:\n",
    "        node = TreeNode(tree)\n",
    "    return node"
   ]
  },
  {
   "cell_type": "code",
   "execution_count": 2,
   "metadata": {},
   "outputs": [],
   "source": [
    "data = (((7,4,2),2,5),1,(None, 3, (None, 6, 8)))"
   ]
  },
  {
   "cell_type": "code",
   "execution_count": 3,
   "metadata": {},
   "outputs": [],
   "source": [
    "data = to_binarytree(data)"
   ]
  },
  {
   "cell_type": "code",
   "execution_count": 38,
   "metadata": {},
   "outputs": [],
   "source": [
    "def deepestLeavesSum(root):\n",
    "    def height(root):\n",
    "        if root is None:\n",
    "            return 0\n",
    "        return 1+max(height(root.left), height(root.right))\n",
    "\n",
    "    level = height(root)\n",
    "    def traverse_bfs(root, level):\n",
    "        if root is None:\n",
    "            return []\n",
    "        if level == 1:\n",
    "            return [root.val]\n",
    "        return traverse_bfs(root.left, level-1)+ traverse_bfs(root.right, level-1)\n",
    "\n",
    "    return sum(traverse_bfs(root, level))"
   ]
  },
  {
   "cell_type": "code",
   "execution_count": 39,
   "metadata": {},
   "outputs": [
    {
     "name": "stdout",
     "output_type": "stream",
     "text": [
      "4\n"
     ]
    },
    {
     "data": {
      "text/plain": [
       "17"
      ]
     },
     "execution_count": 39,
     "metadata": {},
     "output_type": "execute_result"
    }
   ],
   "source": [
    "deepestLeavesSum(data)"
   ]
  },
  {
   "cell_type": "code",
   "execution_count": 40,
   "metadata": {},
   "outputs": [
    {
     "name": "stdout",
     "output_type": "stream",
     "text": [
      "4\n"
     ]
    },
    {
     "data": {
      "text/plain": [
       "15"
      ]
     },
     "execution_count": 40,
     "metadata": {},
     "output_type": "execute_result"
    }
   ],
   "source": [
    "\n",
    "data1 = (((7,4, None),2,5),1,(None, 3, (None, 6, 8)))\n",
    "data1 = to_binarytree(data1)\n",
    "deepestLeavesSum(data1)"
   ]
  },
  {
   "cell_type": "code",
   "execution_count": null,
   "metadata": {},
   "outputs": [],
   "source": []
  }
 ],
 "metadata": {
  "kernelspec": {
   "display_name": "Python 3",
   "language": "python",
   "name": "python3"
  },
  "language_info": {
   "codemirror_mode": {
    "name": "ipython",
    "version": 3
   },
   "file_extension": ".py",
   "mimetype": "text/x-python",
   "name": "python",
   "nbconvert_exporter": "python",
   "pygments_lexer": "ipython3",
   "version": "3.6.3"
  }
 },
 "nbformat": 4,
 "nbformat_minor": 2
}
