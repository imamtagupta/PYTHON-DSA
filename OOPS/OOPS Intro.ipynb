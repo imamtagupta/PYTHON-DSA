{
 "cells": [
  {
   "cell_type": "markdown",
   "metadata": {},
   "source": [
    "### Class and instance based variable💃"
   ]
  },
  {
   "cell_type": "markdown",
   "metadata": {},
   "source": [
    "Class attributes: attributes will remain same for entire class \n",
    "\n",
    "Instance attributes: attributes will change based on the different methods called"
   ]
  },
  {
   "cell_type": "code",
   "execution_count": null,
   "metadata": {},
   "outputs": [],
   "source": []
  },
  {
   "cell_type": "code",
   "execution_count": 3,
   "metadata": {},
   "outputs": [
    {
     "name": "stdout",
     "output_type": "stream",
     "text": [
      "Parikh 60\n"
     ]
    }
   ],
   "source": [
    "class Student:\n",
    "    name = \"Parikh\"\n",
    "    def store_details(self):\n",
    "        self.age = 60\n",
    "    def print_details(self):\n",
    "        print(self.name, end=\" \")\n",
    "        print(self.age)\n",
    "s = Student()\n",
    "s.store_details()\n",
    "s.print_details()"
   ]
  },
  {
   "cell_type": "code",
   "execution_count": 5,
   "metadata": {},
   "outputs": [
    {
     "ename": "AttributeError",
     "evalue": "'Student' object has no attribute 'age'",
     "output_type": "error",
     "traceback": [
      "\u001b[1;31m---------------------------------------------------------------------------\u001b[0m",
      "\u001b[1;31mAttributeError\u001b[0m                            Traceback (most recent call last)",
      "\u001b[1;32m<ipython-input-5-0fb0de15826d>\u001b[0m in \u001b[0;36m<module>\u001b[1;34m()\u001b[0m\n\u001b[0;32m      8\u001b[0m \u001b[0ms\u001b[0m\u001b[1;33m.\u001b[0m\u001b[0mstore_details\u001b[0m\u001b[1;33m(\u001b[0m\u001b[1;33m)\u001b[0m\u001b[1;33m\u001b[0m\u001b[0m\n\u001b[0;32m      9\u001b[0m \u001b[0ms1\u001b[0m \u001b[1;33m=\u001b[0m \u001b[0mStudent\u001b[0m\u001b[1;33m(\u001b[0m\u001b[1;33m)\u001b[0m\u001b[1;33m\u001b[0m\u001b[0m\n\u001b[1;32m---> 10\u001b[1;33m \u001b[0ms1\u001b[0m\u001b[1;33m.\u001b[0m\u001b[0mprint_age\u001b[0m\u001b[1;33m(\u001b[0m\u001b[1;33m)\u001b[0m\u001b[1;33m\u001b[0m\u001b[0m\n\u001b[0m",
      "\u001b[1;32m<ipython-input-5-0fb0de15826d>\u001b[0m in \u001b[0;36mprint_age\u001b[1;34m(self)\u001b[0m\n\u001b[0;32m      4\u001b[0m         \u001b[0mself\u001b[0m\u001b[1;33m.\u001b[0m\u001b[0mage\u001b[0m \u001b[1;33m=\u001b[0m \u001b[1;36m60\u001b[0m\u001b[1;33m\u001b[0m\u001b[0m\n\u001b[0;32m      5\u001b[0m     \u001b[1;32mdef\u001b[0m \u001b[0mprint_age\u001b[0m\u001b[1;33m(\u001b[0m\u001b[0mself\u001b[0m\u001b[1;33m)\u001b[0m\u001b[1;33m:\u001b[0m\u001b[1;33m\u001b[0m\u001b[0m\n\u001b[1;32m----> 6\u001b[1;33m         \u001b[0mprint\u001b[0m\u001b[1;33m(\u001b[0m\u001b[0mself\u001b[0m\u001b[1;33m.\u001b[0m\u001b[0mage\u001b[0m\u001b[1;33m)\u001b[0m\u001b[1;33m\u001b[0m\u001b[0m\n\u001b[0m\u001b[0;32m      7\u001b[0m \u001b[0ms\u001b[0m \u001b[1;33m=\u001b[0m \u001b[0mStudent\u001b[0m\u001b[1;33m(\u001b[0m\u001b[1;33m)\u001b[0m\u001b[1;33m\u001b[0m\u001b[0m\n\u001b[0;32m      8\u001b[0m \u001b[0ms\u001b[0m\u001b[1;33m.\u001b[0m\u001b[0mstore_details\u001b[0m\u001b[1;33m(\u001b[0m\u001b[1;33m)\u001b[0m\u001b[1;33m\u001b[0m\u001b[0m\n",
      "\u001b[1;31mAttributeError\u001b[0m: 'Student' object has no attribute 'age'"
     ]
    }
   ],
   "source": [
    "class Student:\n",
    "    name = \"Parikh\"\n",
    "    def store_details(self):\n",
    "        self.age = 60\n",
    "    def print_age(self):\n",
    "        print(self.age)\n",
    "s = Student()\n",
    "s.store_details()\n",
    "s1 = Student()\n",
    "s1.print_age()"
   ]
  },
  {
   "cell_type": "code",
   "execution_count": null,
   "metadata": {},
   "outputs": [],
   "source": []
  },
  {
   "cell_type": "code",
   "execution_count": null,
   "metadata": {},
   "outputs": [],
   "source": []
  },
  {
   "cell_type": "markdown",
   "metadata": {},
   "source": [
    "3 Types of methods:\n",
    "\n",
    "    1) Class method \n",
    "    \n",
    "    2) Static method\n",
    "    \n",
    "    3) Instance methoda \n",
    "    "
   ]
  },
  {
   "cell_type": "markdown",
   "metadata": {},
   "source": [
    "\n",
    "### Instance and static methods"
   ]
  },
  {
   "cell_type": "code",
   "execution_count": 8,
   "metadata": {},
   "outputs": [],
   "source": [
    "class ExpenseTracker:\n",
    "    \"\"\"This is expense tracker automation\"\"\"\n",
    "    expense_tracker_version = 0.1\n",
    "    def __init__(self, track_category, original_balance, budget):\n",
    "        self.tracking_category = track_category\n",
    "        self.original_balance = original_balance\n",
    "        self.tracker_budget = budget\n",
    "    \n",
    "    #instance method\n",
    "    def get_original_balance(self):\n",
    "        return self.original_balance\n",
    "    \n",
    "    @staticmethod\n",
    "    def convert_amount(amount):\n",
    "        \"\"\" \n",
    "        This method flags with staticmethod decorator, \n",
    "        helps in explicitly metioning functionality and type of method\n",
    "        \"\"\"\n",
    "        return float(amount)"
   ]
  },
  {
   "cell_type": "markdown",
   "metadata": {},
   "source": [
    "\n",
    "### Examples 1:\n"
   ]
  },
  {
   "cell_type": "code",
   "execution_count": 5,
   "metadata": {},
   "outputs": [
    {
     "ename": "TypeError",
     "evalue": "__init__() missing 2 required positional arguments: 'name' and 'age'",
     "output_type": "error",
     "traceback": [
      "\u001b[1;31m---------------------------------------------------------------------------\u001b[0m",
      "\u001b[1;31mTypeError\u001b[0m                                 Traceback (most recent call last)",
      "\u001b[1;32m<ipython-input-5-5dd9f72a4902>\u001b[0m in \u001b[0;36m<module>\u001b[1;34m()\u001b[0m\n\u001b[0;32m     10\u001b[0m \u001b[1;33m\u001b[0m\u001b[0m\n\u001b[0;32m     11\u001b[0m \u001b[1;33m\u001b[0m\u001b[0m\n\u001b[1;32m---> 12\u001b[1;33m \u001b[0ms\u001b[0m \u001b[1;33m=\u001b[0m \u001b[0mStudent\u001b[0m\u001b[1;33m(\u001b[0m\u001b[1;33m)\u001b[0m\u001b[1;33m\u001b[0m\u001b[0m\n\u001b[0m\u001b[0;32m     13\u001b[0m \u001b[1;31m#here constructor called but constructor expects 2argument! (which lead this into an error)\u001b[0m\u001b[1;33m\u001b[0m\u001b[1;33m\u001b[0m\u001b[0m\n\u001b[0;32m     14\u001b[0m \u001b[0ms\u001b[0m\u001b[1;33m.\u001b[0m\u001b[0mprint_student_details\u001b[0m\u001b[1;33m(\u001b[0m\u001b[1;33m)\u001b[0m\u001b[1;33m\u001b[0m\u001b[0m\n",
      "\u001b[1;31mTypeError\u001b[0m: __init__() missing 2 required positional arguments: 'name' and 'age'"
     ]
    }
   ],
   "source": [
    "class Student:\n",
    "\n",
    "    def __init__(self,name,age):\n",
    "        self.name = \"Rohan\"\n",
    "        self.age = 20\n",
    "\n",
    "    def print_student_details():\n",
    "        print(self.name, end= \" \")\n",
    "        print(self.age)\n",
    "\n",
    "\n",
    "s = Student()\n",
    "#here constructor called but constructor expects 2argument! (which lead this into an error)\n",
    "s.print_student_details()"
   ]
  },
  {
   "cell_type": "code",
   "execution_count": null,
   "metadata": {},
   "outputs": [],
   "source": []
  },
  {
   "cell_type": "code",
   "execution_count": null,
   "metadata": {},
   "outputs": [],
   "source": []
  },
  {
   "cell_type": "markdown",
   "metadata": {},
   "source": [
    "\n",
    "### Example 2:\n",
    "\n"
   ]
  },
  {
   "cell_type": "code",
   "execution_count": 7,
   "metadata": {},
   "outputs": [
    {
     "ename": "TypeError",
     "evalue": "print_student_details() takes 0 positional arguments but 1 was given",
     "output_type": "error",
     "traceback": [
      "\u001b[1;31m---------------------------------------------------------------------------\u001b[0m",
      "\u001b[1;31mTypeError\u001b[0m                                 Traceback (most recent call last)",
      "\u001b[1;32m<ipython-input-7-108c31278bd3>\u001b[0m in \u001b[0;36m<module>\u001b[1;34m()\u001b[0m\n\u001b[0;32m     11\u001b[0m \u001b[1;33m\u001b[0m\u001b[0m\n\u001b[0;32m     12\u001b[0m \u001b[0ms\u001b[0m \u001b[1;33m=\u001b[0m \u001b[0mStudent\u001b[0m\u001b[1;33m(\u001b[0m\u001b[1;34m'Parikh'\u001b[0m\u001b[1;33m,\u001b[0m\u001b[1;36m25\u001b[0m\u001b[1;33m)\u001b[0m\u001b[1;33m\u001b[0m\u001b[0m\n\u001b[1;32m---> 13\u001b[1;33m \u001b[0ms\u001b[0m\u001b[1;33m.\u001b[0m\u001b[0mprint_student_details\u001b[0m\u001b[1;33m(\u001b[0m\u001b[1;33m)\u001b[0m\u001b[1;33m\u001b[0m\u001b[0m\n\u001b[0m",
      "\u001b[1;31mTypeError\u001b[0m: print_student_details() takes 0 positional arguments but 1 was given"
     ]
    }
   ],
   "source": [
    "class Student:\n",
    "    def __init__(self,name,age):\n",
    "        self.name = \"Rohan\"\n",
    "        self.age = 20\n",
    "\n",
    "    # instance methoda should start with self argument\n",
    "    # This will lead into an error!\n",
    "    def print_student_details():\n",
    "        print(self.name, end= \" \")\n",
    "        print(self.age)\n",
    "        \n",
    "s = Student('Parikh',25)\n",
    "s.print_student_details()"
   ]
  },
  {
   "cell_type": "code",
   "execution_count": null,
   "metadata": {},
   "outputs": [],
   "source": []
  },
  {
   "cell_type": "markdown",
   "metadata": {},
   "source": [
    "\n",
    "\n",
    "### Example 3:"
   ]
  },
  {
   "cell_type": "code",
   "execution_count": 10,
   "metadata": {},
   "outputs": [
    {
     "name": "stdout",
     "output_type": "stream",
     "text": [
      "Rohan 60\n"
     ]
    }
   ],
   "source": [
    "class Student:\n",
    "    def __init__(self,name,age):\n",
    "        self.name = name\n",
    "        self.age = age\n",
    "    def print_student_details(self):\n",
    "        print(self.name, end= \" \")\n",
    "        print(self.age)\n",
    "\n",
    "s = Student(\"Rohan\",60)\n",
    "s.print_student_details()"
   ]
  },
  {
   "cell_type": "code",
   "execution_count": null,
   "metadata": {},
   "outputs": [],
   "source": []
  },
  {
   "cell_type": "markdown",
   "metadata": {},
   "source": [
    "### Class method"
   ]
  },
  {
   "cell_type": "code",
   "execution_count": 37,
   "metadata": {},
   "outputs": [],
   "source": [
    "class ExpenseTracker:\n",
    "    \"\"\"This is expense tracker automation\"\"\"\n",
    "    expense_tracker_version = 0.1\n",
    "    def __init__(self, track_category, original_balance, budget):\n",
    "        self.tracking_category = track_category\n",
    "        self.original_balance = original_balance\n",
    "        self.tracker_budget = budget\n",
    "    \n",
    "    #instance method\n",
    "    def get_original_balance(self):\n",
    "        return self.original_balance\n",
    "    \n",
    "    @staticmethod\n",
    "    def convert_amount(amount):\n",
    "        \"\"\" \n",
    "        This method flags with staticmethod decorator, \n",
    "        helps in explicitly metioning functionality and type of method\n",
    "        \"\"\"\n",
    "        return float(amount)\n",
    "    \n",
    "    # @classmethod also knows as Factory method as they are capable of creating instances\n",
    "    @classmethod\n",
    "    def formatAttributes(cls, diary_entry:str):\n",
    "        tracking_cat, org_balance, tracker_budget = diary_entry.split()\n",
    "        return ExpenseTracker(tracking_cat.upper(),\n",
    "                    # static method can be called through class object only and \n",
    "                    # classmethod starts with class object as argument\n",
    "                    # So argument is used to calls static method\n",
    "                    cls.convert_amount(org_balance),\n",
    "                    cls.convert_amount(tracker_budget))\n",
    "        "
   ]
  },
  {
   "cell_type": "code",
   "execution_count": 38,
   "metadata": {},
   "outputs": [],
   "source": [
    "classOb = ExpenseTracker.formatAttributes(\"Needs_Tracker 500 3000\")"
   ]
  },
  {
   "cell_type": "code",
   "execution_count": 39,
   "metadata": {},
   "outputs": [
    {
     "data": {
      "text/plain": [
       "{'original_balance': 500.0,\n",
       " 'tracker_budget': 3000.0,\n",
       " 'tracking_category': 'NEEDS_TRACKER'}"
      ]
     },
     "execution_count": 39,
     "metadata": {},
     "output_type": "execute_result"
    }
   ],
   "source": [
    "# To get all instance attributes\n",
    "classOb.__dict__"
   ]
  },
  {
   "cell_type": "code",
   "execution_count": 40,
   "metadata": {},
   "outputs": [
    {
     "data": {
      "text/plain": [
       "0.1"
      ]
     },
     "execution_count": 40,
     "metadata": {},
     "output_type": "execute_result"
    }
   ],
   "source": [
    "# class scoped attributes\n",
    "classOb.expense_tracker_version"
   ]
  },
  {
   "cell_type": "code",
   "execution_count": 41,
   "metadata": {},
   "outputs": [
    {
     "data": {
      "text/plain": [
       "500.0"
      ]
     },
     "execution_count": 41,
     "metadata": {},
     "output_type": "execute_result"
    }
   ],
   "source": [
    "classOb.get_original_balance()"
   ]
  },
  {
   "cell_type": "code",
   "execution_count": 42,
   "metadata": {},
   "outputs": [
    {
     "data": {
      "text/plain": [
       "2342.0"
      ]
     },
     "execution_count": 42,
     "metadata": {},
     "output_type": "execute_result"
    }
   ],
   "source": [
    "classOb.convert_amount(2342)"
   ]
  },
  {
   "cell_type": "code",
   "execution_count": 36,
   "metadata": {},
   "outputs": [],
   "source": [
    "## Makes sure use classmethod wisely because anychanges in this will lead to change in all objects(instanceMethod)"
   ]
  },
  {
   "cell_type": "code",
   "execution_count": null,
   "metadata": {},
   "outputs": [],
   "source": []
  },
  {
   "cell_type": "markdown",
   "metadata": {},
   "source": [
    "\n",
    "### Example 4:"
   ]
  },
  {
   "cell_type": "code",
   "execution_count": 44,
   "metadata": {},
   "outputs": [
    {
     "name": "stdout",
     "output_type": "stream",
     "text": [
      "True\n"
     ]
    }
   ],
   "source": [
    "  class Student:\n",
    "      def __init__(self,name,age):\n",
    "          self.name = name\n",
    "          self.age = age\n",
    "      def print_student_details():\n",
    "          print(self.name, end=\" \")\n",
    "          print(self.age)\n",
    "\n",
    "      @staticmethod\n",
    "      def isTeen(age):\n",
    "          return age>16\n",
    "\n",
    "  a = Student.isTeen(18)\n",
    "  print(a)"
   ]
  },
  {
   "cell_type": "code",
   "execution_count": 46,
   "metadata": {},
   "outputs": [],
   "source": [
    "# As you can see static method is called directly which has no real relationship \n",
    "# with what actually is going on inside class"
   ]
  },
  {
   "cell_type": "code",
   "execution_count": null,
   "metadata": {},
   "outputs": [],
   "source": []
  },
  {
   "cell_type": "markdown",
   "metadata": {},
   "source": [
    " "
   ]
  },
  {
   "cell_type": "markdown",
   "metadata": {},
   "source": [
    "### Access Modifiers\n",
    ">1) Private  \n",
    ">2) Public  \n",
    ">3) Protected"
   ]
  },
  {
   "cell_type": "code",
   "execution_count": 49,
   "metadata": {},
   "outputs": [],
   "source": [
    "class ExpenseTracker:\n",
    "    \"\"\"This is expense tracker automation\"\"\"\n",
    "    expense_tracker_version = 0.1\n",
    "    def __init__(self, track_category, original_balance, budget):\n",
    "        #public attribute\n",
    "        self.tracking_category = track_category\n",
    "        \n",
    "        #private attribute\n",
    "        self.__original_balance = original_balance\n",
    "        self.__tracker_budget = budget\n",
    "    \n",
    "    #instance method\n",
    "    #private method\n",
    "    def __get_original_balance(self):\n",
    "        return self.__original_balance\n",
    "    \n",
    "    @staticmethod\n",
    "    def convert_amount(amount):\n",
    "        \"\"\" \n",
    "        This method flags with staticmethod decorator, \n",
    "        helps in explicitly metioning functionality and type of method\n",
    "        \"\"\"\n",
    "        return float(amount)\n",
    "    \n",
    "    # @classmethod also knows as Factory method as they are capable of creating instances\n",
    "    @classmethod\n",
    "    def formatAttributes(cls, diary_entry:str):\n",
    "        tracking_cat, org_balance, tracker_budget = diary_entry.split()\n",
    "        return ExpenseTracker(tracking_cat.upper(),\n",
    "                    # static method can be called through class object only and \n",
    "                    # classmethod starts with class object as argument\n",
    "                    # So argument is used to calls static method\n",
    "                    cls.convert_amount(org_balance),\n",
    "                    cls.convert_amount(tracker_budget))\n",
    "        "
   ]
  },
  {
   "cell_type": "code",
   "execution_count": 53,
   "metadata": {},
   "outputs": [],
   "source": [
    "classOb = ExpenseTracker.formatAttributes(\"travel_expense_Tracker 500 3000\")"
   ]
  },
  {
   "cell_type": "code",
   "execution_count": 55,
   "metadata": {},
   "outputs": [
    {
     "ename": "AttributeError",
     "evalue": "'ExpenseTracker' object has no attribute '__original_balance'",
     "output_type": "error",
     "traceback": [
      "\u001b[1;31m---------------------------------------------------------------------------\u001b[0m",
      "\u001b[1;31mAttributeError\u001b[0m                            Traceback (most recent call last)",
      "\u001b[1;32m<ipython-input-55-0d591649e092>\u001b[0m in \u001b[0;36m<module>\u001b[1;34m()\u001b[0m\n\u001b[1;32m----> 1\u001b[1;33m \u001b[0mclassOb\u001b[0m\u001b[1;33m.\u001b[0m\u001b[0m__original_balance\u001b[0m\u001b[1;33m\u001b[0m\u001b[0m\n\u001b[0m",
      "\u001b[1;31mAttributeError\u001b[0m: 'ExpenseTracker' object has no attribute '__original_balance'"
     ]
    }
   ],
   "source": [
    "classOb.__original_balance"
   ]
  },
  {
   "cell_type": "code",
   "execution_count": 56,
   "metadata": {},
   "outputs": [
    {
     "ename": "AttributeError",
     "evalue": "'ExpenseTracker' object has no attribute '__tracker_budget'",
     "output_type": "error",
     "traceback": [
      "\u001b[1;31m---------------------------------------------------------------------------\u001b[0m",
      "\u001b[1;31mAttributeError\u001b[0m                            Traceback (most recent call last)",
      "\u001b[1;32m<ipython-input-56-95a480ca9538>\u001b[0m in \u001b[0;36m<module>\u001b[1;34m()\u001b[0m\n\u001b[1;32m----> 1\u001b[1;33m \u001b[0mclassOb\u001b[0m\u001b[1;33m.\u001b[0m\u001b[0m__tracker_budget\u001b[0m\u001b[1;33m\u001b[0m\u001b[0m\n\u001b[0m",
      "\u001b[1;31mAttributeError\u001b[0m: 'ExpenseTracker' object has no attribute '__tracker_budget'"
     ]
    }
   ],
   "source": [
    "classOb.__tracker_budget"
   ]
  },
  {
   "cell_type": "markdown",
   "metadata": {},
   "source": [
    "Now we are not able to access those private vars thorugh object"
   ]
  },
  {
   "cell_type": "code",
   "execution_count": 57,
   "metadata": {},
   "outputs": [
    {
     "data": {
      "text/plain": [
       "{'_ExpenseTracker__original_balance': 500.0,\n",
       " '_ExpenseTracker__tracker_budget': 3000.0,\n",
       " 'tracking_category': 'TRAVEL_EXPENSE_TRACKER'}"
      ]
     },
     "execution_count": 57,
     "metadata": {},
     "output_type": "execute_result"
    }
   ],
   "source": [
    "classOb.__dict__"
   ]
  },
  {
   "cell_type": "markdown",
   "metadata": {},
   "source": [
    "but classOb does comes with all the hints to track or we can say access those private attr.  \n",
    "Python doesnot have purely definition to include those private, protected and public as access modifier  \n",
    "but we try to do anyways thus it called as **pseudo-private**"
   ]
  },
  {
   "cell_type": "code",
   "execution_count": 58,
   "metadata": {},
   "outputs": [
    {
     "data": {
      "text/plain": [
       "500.0"
      ]
     },
     "execution_count": 58,
     "metadata": {},
     "output_type": "execute_result"
    }
   ],
   "source": [
    "classOb._ExpenseTracker__original_balance"
   ]
  },
  {
   "cell_type": "code",
   "execution_count": 59,
   "metadata": {},
   "outputs": [
    {
     "data": {
      "text/plain": [
       "3000.0"
      ]
     },
     "execution_count": 59,
     "metadata": {},
     "output_type": "execute_result"
    }
   ],
   "source": [
    "classOb._ExpenseTracker__tracker_budget"
   ]
  },
  {
   "cell_type": "code",
   "execution_count": null,
   "metadata": {},
   "outputs": [],
   "source": []
  },
  {
   "cell_type": "markdown",
   "metadata": {},
   "source": [
    "\n",
    "### Example 5:"
   ]
  },
  {
   "cell_type": "code",
   "execution_count": 62,
   "metadata": {},
   "outputs": [
    {
     "name": "stdout",
     "output_type": "stream",
     "text": [
      "Rohan 20\n"
     ]
    }
   ],
   "source": [
    "class Student:\n",
    "     def __init__(self,name,age):\n",
    "        self.__name = name\n",
    "        self.age = age\n",
    "     def print_student_details(self):\n",
    "        print(self.__name, end= \" \")\n",
    "        print(self.age)\n",
    "s = Student(\"Rohan\",20)\n",
    "s.print_student_details()"
   ]
  },
  {
   "cell_type": "code",
   "execution_count": null,
   "metadata": {},
   "outputs": [],
   "source": []
  },
  {
   "cell_type": "code",
   "execution_count": null,
   "metadata": {},
   "outputs": [],
   "source": []
  },
  {
   "cell_type": "code",
   "execution_count": null,
   "metadata": {},
   "outputs": [],
   "source": []
  },
  {
   "cell_type": "markdown",
   "metadata": {},
   "source": [
    "## Access Modifiers in depth\n",
    "\n",
    "> ### Public\n",
    ">>The members of a class that are declared public are easily accessible from any part of the program. All data members and member functions of a class are public by default.\n",
    "\n",
    ">>``` python\n",
    ">>\n",
    ">># program to illustrate public access modifier in a class\n",
    ">> \n",
    ">>class Geek:\n",
    ">>      \n",
    ">>     # constructor\n",
    ">>     def __init__(self, name, age):\n",
    ">>           \n",
    ">>           # public data members\n",
    ">>           self.geekName = name\n",
    ">>           self.geekAge = age\n",
    ">> \n",
    ">>     # public member function     \n",
    ">>     def displayAge(self):\n",
    ">>           \n",
    ">>           # accessing public data member\n",
    ">>           print(\"Age: \", self.geekAge)\n",
    ">> \n",
    ">># creating object of the class\n",
    ">>obj = Geek(\"R2J\", 20)\n",
    ">> \n",
    ">># accessing public data member\n",
    ">>print(\"Name: \", obj.geekName)\n",
    ">> \n",
    ">># calling public member function of the class\n",
    ">>obj.displayAge()\n",
    ">>\n",
    ">>```\n",
    "\n",
    ">>In the above program, geekName and geekAge are public data members and displayAge() method is a public member function of the class Geek. These data members of the class Geek can be accessed from anywhere in the program  \n",
    "  \n",
    "  \n",
    "\n",
    "> ### Protected\n",
    ">>The members of a class that are declared protected are only accessible to a class derived from it. Data members of a class are declared protected by adding a single underscore ‘_’ symbol before the data member of that class. \n",
    ">>``` python\n",
    ">># program to illustrate protected access modifier in a class\n",
    ">>\n",
    ">># super class\n",
    ">>class Student:\n",
    ">>\t\n",
    ">>\t# protected data members\n",
    ">>\t_name = None\n",
    ">>\t_roll = None\n",
    ">>\t_branch = None\n",
    ">>\t\n",
    ">>\t# constructor\n",
    ">>\tdef __init__(self, name, roll, branch):\n",
    ">>\t\tself._name = name\n",
    ">>\t\tself._roll = roll\n",
    ">>\t\tself._branch = branch\n",
    ">>\t\n",
    ">>\t# protected member function\n",
    ">>\tdef _displayRollAndBranch(self):\n",
    ">>\n",
    ">>\t\t# accessing protected data members\n",
    ">>\t\tprint(\"Roll: \", self._roll)\n",
    ">>\t\tprint(\"Branch: \", self._branch)\n",
    ">>\n",
    ">>\n",
    ">># derived class\n",
    ">>class Geek(Student):\n",
    ">>\n",
    ">>\t# constructor\n",
    ">>\tdef __init__(self, name, roll, branch):\n",
    ">>\t\t\t\tStudent.__init__(self, name, roll, branch)\n",
    ">>\t\t\n",
    ">>\t# public member function\n",
    ">>\tdef displayDetails(self):\n",
    ">>\t\t\t\t\n",
    ">>\t\t\t\t# accessing protected data members of super class\n",
    ">>\t\t\t\tprint(\"Name: \", self._name)\n",
    ">>\t\t\t\t\n",
    ">>\t\t\t\t# accessing protected member functions of super class\n",
    ">>\t\t\t\tself._displayRollAndBranch()\n",
    ">>\n",
    ">># creating objects of the derived class\t\n",
    ">>obj = Geek(\"R2J\", 1706256, \"Information Technology\")\n",
    ">>\n",
    ">># calling public member functions of the class\n",
    ">>obj.displayDetails()\n",
    ">>\n",
    ">>```\n",
    "\n",
    "\n",
    "\n",
    "> ### Private\n",
    ">>The members of a class that are declared private are accessible within the class only, private access modifier is the most secure access modifier. Data members of a class are declared private by adding a double underscore ‘__’ symbol before the data member of that class.  \n",
    ">>``` python\n",
    ">># program to illustrate private access modifier in a class\n",
    ">>\n",
    ">>class Geek:\n",
    ">>\t\n",
    ">>\t# private members\n",
    ">>\t__name = None\n",
    ">>\t__roll = None\n",
    ">>\t__branch = None\n",
    ">>\n",
    ">>\t# constructor\n",
    ">>\tdef __init__(self, name, roll, branch):\n",
    ">>\t\tself.__name = name\n",
    ">>\t\tself.__roll = roll\n",
    ">>\t\tself.__branch = branch\n",
    ">>\n",
    ">>\t# private member function\n",
    ">>\tdef __displayDetails(self):\n",
    ">>\t\t\n",
    ">>\t\t# accessing private data members\n",
    ">>\t\tprint(\"Name: \", self.__name)\n",
    ">>\t\tprint(\"Roll: \", self.__roll)\n",
    ">>\t\tprint(\"Branch: \", self.__branch)\n",
    ">>\t\n",
    ">>\t# public member function\n",
    ">>\tdef accessPrivateFunction(self):\n",
    ">>\t\t\t\n",
    ">>\t\t# accessing private member function\n",
    ">>\t\tself.__displayDetails()\n",
    ">>\n",
    ">># creating object\n",
    ">>obj = Geek(\"R2J\", 1706256, \"Information Technology\")\n",
    ">>\n",
    ">># calling public member function of the class\n",
    ">>obj.accessPrivateFunction()\n",
    ">>\n",
    ">>```"
   ]
  },
  {
   "cell_type": "markdown",
   "metadata": {},
   "source": []
  },
  {
   "cell_type": "code",
   "execution_count": null,
   "metadata": {},
   "outputs": [],
   "source": []
  },
  {
   "cell_type": "code",
   "execution_count": null,
   "metadata": {},
   "outputs": [],
   "source": []
  },
  {
   "cell_type": "code",
   "execution_count": null,
   "metadata": {},
   "outputs": [],
   "source": []
  },
  {
   "cell_type": "code",
   "execution_count": null,
   "metadata": {},
   "outputs": [],
   "source": []
  },
  {
   "cell_type": "code",
   "execution_count": null,
   "metadata": {},
   "outputs": [],
   "source": []
  },
  {
   "cell_type": "code",
   "execution_count": null,
   "metadata": {},
   "outputs": [],
   "source": []
  },
  {
   "cell_type": "code",
   "execution_count": null,
   "metadata": {},
   "outputs": [],
   "source": []
  }
 ],
 "metadata": {
  "kernelspec": {
   "display_name": "Python 3",
   "language": "python",
   "name": "python3"
  },
  "language_info": {
   "codemirror_mode": {
    "name": "ipython",
    "version": 3
   },
   "file_extension": ".py",
   "mimetype": "text/x-python",
   "name": "python",
   "nbconvert_exporter": "python",
   "pygments_lexer": "ipython3",
   "version": "3.6.3"
  }
 },
 "nbformat": 4,
 "nbformat_minor": 2
}
