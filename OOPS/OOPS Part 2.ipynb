{
 "cells": [
  {
   "cell_type": "markdown",
   "metadata": {},
   "source": [
    "## Inheritence"
   ]
  },
  {
   "cell_type": "code",
   "execution_count": 1,
   "metadata": {},
   "outputs": [],
   "source": [
    "class Vehicle:\n",
    "    def __init__(self, make, model, fuel):\n",
    "        self.make = make\n",
    "        self.model = model\n",
    "        self.fuel = fuel\n",
    "        "
   ]
  },
  {
   "cell_type": "code",
   "execution_count": 10,
   "metadata": {},
   "outputs": [],
   "source": [
    "class Car(Vehicle):\n",
    "    def __init__(self, make, model, fuel, air_conditioning, sunroof):\n",
    "        #parent attributes\n",
    "        Vehicle.make = make\n",
    "        Vehicle.model = model\n",
    "        Vehicle.fuel = fuel\n",
    "        \n",
    "        \n",
    "        self.air_conditioning = air_conditioning\n",
    "        self.sunroof = sunroof\n",
    "        \n",
    "    def getAllAttribute(self):\n",
    "        print(Vehicle.make, Vehicle.model, Vehicle.fuel)"
   ]
  },
  {
   "cell_type": "code",
   "execution_count": 11,
   "metadata": {},
   "outputs": [],
   "source": [
    "c = Car('Tesla',2019,\"Electric\",True,True)"
   ]
  },
  {
   "cell_type": "code",
   "execution_count": 12,
   "metadata": {},
   "outputs": [
    {
     "data": {
      "text/plain": [
       "{'air_conditioning': True, 'sunroof': True}"
      ]
     },
     "execution_count": 12,
     "metadata": {},
     "output_type": "execute_result"
    }
   ],
   "source": [
    "c.__dict__"
   ]
  },
  {
   "cell_type": "markdown",
   "metadata": {},
   "source": [
    "Since the car have only two attributes and other three are parent class attributes it's not visible in dictm"
   ]
  },
  {
   "cell_type": "code",
   "execution_count": 13,
   "metadata": {},
   "outputs": [
    {
     "name": "stdout",
     "output_type": "stream",
     "text": [
      "Tesla 2019 Electric\n"
     ]
    }
   ],
   "source": [
    "c.getAllAttribute()\n"
   ]
  },
  {
   "cell_type": "code",
   "execution_count": 14,
   "metadata": {},
   "outputs": [
    {
     "data": {
      "text/plain": [
       "2019"
      ]
     },
     "execution_count": 14,
     "metadata": {},
     "output_type": "execute_result"
    }
   ],
   "source": [
    "c.model"
   ]
  },
  {
   "cell_type": "code",
   "execution_count": 18,
   "metadata": {},
   "outputs": [
    {
     "name": "stdout",
     "output_type": "stream",
     "text": [
      "black\n"
     ]
    }
   ],
   "source": [
    "class Vehicle:\n",
    "    def __init__(self,color):\n",
    "        self.color = color\n",
    "class Car(Vehicle):\n",
    "    def __init__(self,color,numGears):\n",
    "        super().__init__(color)\n",
    "        self.numGears = numGears\n",
    "c= Car('black',5)\n",
    "print(c.color)"
   ]
  },
  {
   "cell_type": "code",
   "execution_count": null,
   "metadata": {},
   "outputs": [],
   "source": []
  },
  {
   "cell_type": "code",
   "execution_count": null,
   "metadata": {},
   "outputs": [],
   "source": []
  },
  {
   "cell_type": "markdown",
   "metadata": {},
   "source": [
    "<div class=\"alert alert-box alert-info\">\n",
    "    <b>✨Inheritence with Private members : </b>\n",
    "    Everything same just trying different stuff to get familiar\n",
    "</div>\n",
    "\n",
    "\n"
   ]
  },
  {
   "cell_type": "code",
   "execution_count": 30,
   "metadata": {},
   "outputs": [],
   "source": [
    "class Vehicle:\n",
    "    def __init__(self, make, model, fuel):\n",
    "        # keeping one as public\n",
    "        self.make = make\n",
    "        \n",
    "        # Other two as private attributes\n",
    "        self.__model = model\n",
    "        self.__fuel = fuel\n",
    "        \n",
    "\n",
    "class Car(Vehicle):\n",
    "    def __init__(self, make, model, fuel, air_conditioning, sunroof):\n",
    "        #parent attributes\n",
    "        Vehicle.make = make\n",
    "        Vehicle.__model = model\n",
    "        Vehicle.__fuel = fuel\n",
    "        \n",
    "        \n",
    "        self.air_conditioning = air_conditioning\n",
    "        self.sunroof = sunroof\n",
    "        \n",
    "    def getAllAttribute(self):\n",
    "        print(Vehicle.make, Vehicle.__model, Vehicle.__fuel)\n",
    "        "
   ]
  },
  {
   "cell_type": "code",
   "execution_count": 31,
   "metadata": {},
   "outputs": [],
   "source": [
    "      \n",
    "obj = Car('Tesla',2019,\"Electric\",True,True)"
   ]
  },
  {
   "cell_type": "code",
   "execution_count": 32,
   "metadata": {},
   "outputs": [
    {
     "data": {
      "text/plain": [
       "{'air_conditioning': True, 'sunroof': True}"
      ]
     },
     "execution_count": 32,
     "metadata": {},
     "output_type": "execute_result"
    }
   ],
   "source": [
    "obj.__dict__"
   ]
  },
  {
   "cell_type": "code",
   "execution_count": 33,
   "metadata": {},
   "outputs": [
    {
     "data": {
      "text/plain": [
       "'Tesla'"
      ]
     },
     "execution_count": 33,
     "metadata": {},
     "output_type": "execute_result"
    }
   ],
   "source": [
    "obj.make"
   ]
  },
  {
   "cell_type": "code",
   "execution_count": 34,
   "metadata": {},
   "outputs": [
    {
     "ename": "AttributeError",
     "evalue": "'Car' object has no attribute '__model'",
     "output_type": "error",
     "traceback": [
      "\u001b[1;31m---------------------------------------------------------------------------\u001b[0m",
      "\u001b[1;31mAttributeError\u001b[0m                            Traceback (most recent call last)",
      "\u001b[1;32m<ipython-input-34-2f610e3b1d8f>\u001b[0m in \u001b[0;36m<module>\u001b[1;34m()\u001b[0m\n\u001b[1;32m----> 1\u001b[1;33m \u001b[0mobj\u001b[0m\u001b[1;33m.\u001b[0m\u001b[0m__model\u001b[0m\u001b[1;33m\u001b[0m\u001b[0m\n\u001b[0m",
      "\u001b[1;31mAttributeError\u001b[0m: 'Car' object has no attribute '__model'"
     ]
    }
   ],
   "source": [
    "obj.__model"
   ]
  },
  {
   "cell_type": "markdown",
   "metadata": {},
   "source": [
    "<div class=\"alert alert-box alert-warning\">\n",
    "Based on our understanding '__' should have called the private one through obj which anyways have its parent attr.\n",
    "But we are not able to do so it's basically new security layer added. Also the trick i.e. using the class name to _Vehicle.private_member also not working \n",
    "<br>\n",
    "<br>\n",
    "To make it work we need to create the some more methods which can return the same in child class and then creating object of child class would help\n",
    "</div>"
   ]
  },
  {
   "cell_type": "code",
   "execution_count": 35,
   "metadata": {},
   "outputs": [
    {
     "ename": "AttributeError",
     "evalue": "'Car' object has no attribute '_Vehicle'",
     "output_type": "error",
     "traceback": [
      "\u001b[1;31m---------------------------------------------------------------------------\u001b[0m",
      "\u001b[1;31mAttributeError\u001b[0m                            Traceback (most recent call last)",
      "\u001b[1;32m<ipython-input-35-0342acda055a>\u001b[0m in \u001b[0;36m<module>\u001b[1;34m()\u001b[0m\n\u001b[1;32m----> 1\u001b[1;33m \u001b[0mobj\u001b[0m\u001b[1;33m.\u001b[0m\u001b[0m_Vehicle\u001b[0m\u001b[1;33m.\u001b[0m\u001b[0m__model\u001b[0m\u001b[1;33m\u001b[0m\u001b[0m\n\u001b[0m",
      "\u001b[1;31mAttributeError\u001b[0m: 'Car' object has no attribute '_Vehicle'"
     ]
    }
   ],
   "source": [
    "obj._Vehicle.__model"
   ]
  },
  {
   "cell_type": "code",
   "execution_count": 36,
   "metadata": {},
   "outputs": [
    {
     "name": "stdout",
     "output_type": "stream",
     "text": [
      "Tesla 2019 Electric\n"
     ]
    }
   ],
   "source": [
    "obj.getAllAttribute()"
   ]
  },
  {
   "cell_type": "code",
   "execution_count": null,
   "metadata": {},
   "outputs": [],
   "source": []
  },
  {
   "cell_type": "code",
   "execution_count": 66,
   "metadata": {},
   "outputs": [],
   "source": [
    "class Vehicle:\n",
    "    def __init__(self, make, model, fuel):\n",
    "        # keeping one as public\n",
    "        self.make = make\n",
    "        \n",
    "        # Other two as private attributes\n",
    "        self.__model = model\n",
    "        self.__fuel = fuel\n",
    "        \n",
    "    def __private_buisness_logic(self, fuel):\n",
    "        return str(fuel*10)+'kmph'\n",
    "\n",
    "class Car(Vehicle):\n",
    "    def __init__(self, make, model, fuel, air_conditioning, sunroof):\n",
    "        #parent attributes\n",
    "        Vehicle.make = make\n",
    "        Vehicle.__model = model\n",
    "        Vehicle.__fuel = fuel\n",
    "        \n",
    "        \n",
    "        self.air_conditioning = air_conditioning\n",
    "        self.sunroof = sunroof\n",
    "        \n",
    "    def getAllAttribute(self):\n",
    "        print(Vehicle.make, Vehicle.__model, Vehicle.__fuel)\n",
    "        \n",
    "    def getParentsPrivateMethod(self, x):\n",
    "        print(self._Vehicle__private_buisness_logic(x))\n",
    "        \n",
    "        "
   ]
  },
  {
   "cell_type": "code",
   "execution_count": 67,
   "metadata": {},
   "outputs": [],
   "source": [
    "obj2 = Car('BMW',2021,\"Petrol\",True,True)"
   ]
  },
  {
   "cell_type": "code",
   "execution_count": 68,
   "metadata": {},
   "outputs": [
    {
     "data": {
      "text/plain": [
       "{'air_conditioning': True, 'sunroof': True}"
      ]
     },
     "execution_count": 68,
     "metadata": {},
     "output_type": "execute_result"
    }
   ],
   "source": [
    "obj2.__dict__"
   ]
  },
  {
   "cell_type": "code",
   "execution_count": 69,
   "metadata": {},
   "outputs": [
    {
     "data": {
      "text/plain": [
       "'BMW'"
      ]
     },
     "execution_count": 69,
     "metadata": {},
     "output_type": "execute_result"
    }
   ],
   "source": [
    "obj2.make"
   ]
  },
  {
   "cell_type": "code",
   "execution_count": 70,
   "metadata": {},
   "outputs": [
    {
     "name": "stdout",
     "output_type": "stream",
     "text": [
      "BMW 2021 Petrol\n"
     ]
    }
   ],
   "source": [
    "obj2.getAllAttribute()"
   ]
  },
  {
   "cell_type": "code",
   "execution_count": 71,
   "metadata": {},
   "outputs": [
    {
     "ename": "AttributeError",
     "evalue": "'Car' object has no attribute '__private_buisness_logic'",
     "output_type": "error",
     "traceback": [
      "\u001b[1;31m---------------------------------------------------------------------------\u001b[0m",
      "\u001b[1;31mAttributeError\u001b[0m                            Traceback (most recent call last)",
      "\u001b[1;32m<ipython-input-71-f65c98ed4aab>\u001b[0m in \u001b[0;36m<module>\u001b[1;34m()\u001b[0m\n\u001b[1;32m----> 1\u001b[1;33m \u001b[0mobj2\u001b[0m\u001b[1;33m.\u001b[0m\u001b[0m__private_buisness_logic\u001b[0m\u001b[1;33m(\u001b[0m\u001b[1;36m3\u001b[0m\u001b[1;33m)\u001b[0m\u001b[1;33m\u001b[0m\u001b[0m\n\u001b[0m",
      "\u001b[1;31mAttributeError\u001b[0m: 'Car' object has no attribute '__private_buisness_logic'"
     ]
    }
   ],
   "source": [
    "obj2.__private_buisness_logic(3)"
   ]
  },
  {
   "cell_type": "markdown",
   "metadata": {},
   "source": [
    "<div class=\"alert alert-box alert-info\">\n",
    "We cannot access it directly but twisting would help in getting private method by calling the same in child class!\n",
    "<div>"
   ]
  },
  {
   "cell_type": "code",
   "execution_count": 72,
   "metadata": {},
   "outputs": [
    {
     "name": "stdout",
     "output_type": "stream",
     "text": [
      "30kmph\n"
     ]
    }
   ],
   "source": [
    "obj2.getParentsPrivateMethod(3)"
   ]
  },
  {
   "cell_type": "code",
   "execution_count": null,
   "metadata": {},
   "outputs": [],
   "source": []
  },
  {
   "cell_type": "code",
   "execution_count": null,
   "metadata": {},
   "outputs": [],
   "source": []
  },
  {
   "cell_type": "markdown",
   "metadata": {},
   "source": [
    "## Optiomization:\n",
    "\n",
    "\n",
    "<div class=\"alert alert-box alert-info\">\n",
    "Just by adding superclass constructor optiomized the code + it created the instance of private member of parent class<br>\n",
    "AMAZING! right...<br>\n",
    "\n",
    "<div>"
   ]
  },
  {
   "cell_type": "code",
   "execution_count": 114,
   "metadata": {},
   "outputs": [],
   "source": [
    "class Vehicle:\n",
    "    def __init__(self, make, model, fuel):\n",
    "        # keeping one as public\n",
    "        self.make = make\n",
    "        \n",
    "        # Other two as private attributes\n",
    "        self.__model = model\n",
    "        self.__fuel = fuel\n",
    "        \n",
    "    def __private_buisness_logic(self, fuel):\n",
    "        return str(fuel*10)+'kmph'\n",
    "\n",
    "class Car(Vehicle):\n",
    "    def __init__(self, make, model, fuel, air_conditioning, sunroof):\n",
    "        #parent attributes\n",
    "        super().__init__(make, model, fuel)\n",
    "                \n",
    "        self.air_conditioning = air_conditioning\n",
    "        self.sunroof = sunroof\n",
    "        \n",
    "    def getAllAttribute(self):\n",
    "        # all has to refer with self becasue instance was created of all!!!\n",
    "        print(self.make, self._Vehicle__model, self._Vehicle__fuel)\n",
    "        \n",
    "    def getParentsPrivateMethod(self, x):\n",
    "        print(self._Vehicle__private_buisness_logic(x))\n",
    "        \n",
    "        "
   ]
  },
  {
   "cell_type": "code",
   "execution_count": 115,
   "metadata": {},
   "outputs": [],
   "source": [
    "obj3 = Car('BMW',2021,\"Petrol\",True,True)"
   ]
  },
  {
   "cell_type": "code",
   "execution_count": 116,
   "metadata": {},
   "outputs": [
    {
     "data": {
      "text/plain": [
       "{'_Vehicle__fuel': 'Petrol',\n",
       " '_Vehicle__model': 2021,\n",
       " 'air_conditioning': True,\n",
       " 'make': 'BMW',\n",
       " 'sunroof': True}"
      ]
     },
     "execution_count": 116,
     "metadata": {},
     "output_type": "execute_result"
    }
   ],
   "source": [
    "obj3.__dict__"
   ]
  },
  {
   "cell_type": "code",
   "execution_count": 117,
   "metadata": {},
   "outputs": [
    {
     "data": {
      "text/plain": [
       "('BMW', 2021, 'Petrol')"
      ]
     },
     "execution_count": 117,
     "metadata": {},
     "output_type": "execute_result"
    }
   ],
   "source": [
    "obj3.make, obj3._Vehicle__model, obj3._Vehicle__fuel"
   ]
  },
  {
   "cell_type": "code",
   "execution_count": 118,
   "metadata": {},
   "outputs": [
    {
     "name": "stdout",
     "output_type": "stream",
     "text": [
      "BMW 2021 Petrol\n"
     ]
    }
   ],
   "source": [
    "obj3.getAllAttribute()"
   ]
  },
  {
   "cell_type": "code",
   "execution_count": 123,
   "metadata": {},
   "outputs": [
    {
     "name": "stdout",
     "output_type": "stream",
     "text": [
      "30kmph\n"
     ]
    }
   ],
   "source": [
    "obj3.getParentsPrivateMethod(3)"
   ]
  },
  {
   "cell_type": "code",
   "execution_count": null,
   "metadata": {},
   "outputs": [],
   "source": [
    "\n",
    "\n"
   ]
  },
  {
   "cell_type": "code",
   "execution_count": null,
   "metadata": {},
   "outputs": [],
   "source": []
  },
  {
   "cell_type": "code",
   "execution_count": null,
   "metadata": {},
   "outputs": [],
   "source": []
  },
  {
   "cell_type": "code",
   "execution_count": null,
   "metadata": {},
   "outputs": [],
   "source": []
  },
  {
   "cell_type": "markdown",
   "metadata": {},
   "source": [
    "## Examples of Multiple and Multilevel Inheritence:"
   ]
  },
  {
   "cell_type": "code",
   "execution_count": 132,
   "metadata": {},
   "outputs": [
    {
     "name": "stdout",
     "output_type": "stream",
     "text": [
      "black5\n"
     ]
    }
   ],
   "source": [
    "class Vehicle:\n",
    "    def __init__(self,color):\n",
    "        self.color = color\n",
    "    def print(self):\n",
    "        print(self.color,end=\"\")\n",
    "class Car(Vehicle):\n",
    "    def __init__(self,color,numGears):\n",
    "        super().__init__(color)\n",
    "        self.numGears = numGears\n",
    "    def print(self):\n",
    "       print(self.color,end=\"\")\n",
    "       print(self.numGears)\n",
    "c = Car('black',5)\n",
    "c.print()"
   ]
  },
  {
   "cell_type": "code",
   "execution_count": null,
   "metadata": {},
   "outputs": [],
   "source": []
  },
  {
   "cell_type": "code",
   "execution_count": 127,
   "metadata": {},
   "outputs": [
    {
     "name": "stdout",
     "output_type": "stream",
     "text": [
      "This is a Circle Class\n"
     ]
    }
   ],
   "source": [
    "class Circle(object):\n",
    "    def __str__(self):\n",
    "        return \"This is a Circle Class\"\n",
    "c = Circle()\n",
    "print(c)"
   ]
  },
  {
   "cell_type": "code",
   "execution_count": null,
   "metadata": {},
   "outputs": [],
   "source": []
  },
  {
   "cell_type": "code",
   "execution_count": 131,
   "metadata": {},
   "outputs": [
    {
     "name": "stdout",
     "output_type": "stream",
     "text": [
      "init of A called\n"
     ]
    }
   ],
   "source": [
    "class A:\n",
    "\n",
    "    def __init__(self):\n",
    "        print(\"init of A called\")\n",
    "class B:\n",
    "    def __init__(self):\n",
    "        print(\"init of B called\")\n",
    "\n",
    "class C(A,B):\n",
    "    def __init__(self):\n",
    "        super().__init__()\n",
    "\n",
    "c = C()"
   ]
  },
  {
   "cell_type": "code",
   "execution_count": null,
   "metadata": {},
   "outputs": [],
   "source": []
  },
  {
   "cell_type": "code",
   "execution_count": null,
   "metadata": {},
   "outputs": [],
   "source": [
    "# Lets see MRO => Method Resolution Order"
   ]
  },
  {
   "cell_type": "code",
   "execution_count": 141,
   "metadata": {},
   "outputs": [],
   "source": [
    "class X: \n",
    "    def __init__(self):\n",
    "        print(\"init of X called\")\n",
    "class Y:\n",
    "    def __init__(self):\n",
    "        print(\"init of Y called\")\n",
    "class Z:\n",
    "    def __init__(self):\n",
    "        print(\"init of Z called\")\n",
    "class A(X,Y):\n",
    "    def __init__(self):\n",
    "        print(\"init of A called\")\n",
    "        super().__init__()\n",
    "class B(Y,Z):\n",
    "    def __init__(self):\n",
    "        print(\"init of B called\")\n",
    "        super().__init__()\n",
    "class C(B,A,Y):\n",
    "    def __init__(self):\n",
    "        print(\"init of C called\")\n",
    "        super().__init__()\n"
   ]
  },
  {
   "cell_type": "code",
   "execution_count": 142,
   "metadata": {},
   "outputs": [
    {
     "name": "stdout",
     "output_type": "stream",
     "text": [
      "init of C called\n",
      "init of B called\n",
      "init of A called\n",
      "init of X called\n"
     ]
    },
    {
     "data": {
      "text/plain": [
       "<__main__.C at 0x15755f0>"
      ]
     },
     "execution_count": 142,
     "metadata": {},
     "output_type": "execute_result"
    }
   ],
   "source": [
    "C()"
   ]
  },
  {
   "cell_type": "code",
   "execution_count": null,
   "metadata": {},
   "outputs": [],
   "source": []
  }
 ],
 "metadata": {
  "kernelspec": {
   "display_name": "Python 3",
   "language": "python",
   "name": "python3"
  },
  "language_info": {
   "codemirror_mode": {
    "name": "ipython",
    "version": 3
   },
   "file_extension": ".py",
   "mimetype": "text/x-python",
   "name": "python",
   "nbconvert_exporter": "python",
   "pygments_lexer": "ipython3",
   "version": "3.6.3"
  }
 },
 "nbformat": 4,
 "nbformat_minor": 2
}
