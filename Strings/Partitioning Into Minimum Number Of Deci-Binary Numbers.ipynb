{
 "cells": [
  {
   "cell_type": "markdown",
   "metadata": {},
   "source": [
    "<p style=\"color: grey;font-size:17px; line-height:25px\">\n",
    "    A decimal number is called deci-binary if each of its digits is either 0 or 1 without any leading zeros. For example, 101 and 1100 are deci-binary, while 112 and 3001 are not.\n",
    "\n",
    "</p>\n",
    "<p style=\"color: grey;font-size:17px; line-height:25px\">\n",
    "    Given a string n that represents a positive decimal integer, return the minimum number of positive deci-binary numbers needed so that they sum up to n.\n",
    "</p>"
   ]
  },
  {
   "cell_type": "markdown",
   "metadata": {},
   "source": [
    "**Example 1:**\n",
    "\n",
    "Input: n = \"32\"\n",
    "\n",
    "Output: 3\n",
    "\n",
    "*Explanation: 10 + 11 + 11 = 32*\n",
    "\n",
    "**Example 2:**\n",
    "\n",
    "Input: n = \"82734\"\n",
    "\n",
    "Output: 8\n",
    "\n",
    "**Example 3:**\n",
    "\n",
    "Input: n = \"27346209830709182346\"\n",
    "\n",
    "Output: 9"
   ]
  },
  {
   "cell_type": "code",
   "execution_count": 2,
   "metadata": {},
   "outputs": [],
   "source": [
    "def minPartitions(self, n: str) -> int:\n",
    "    pass\n"
   ]
  },
  {
   "cell_type": "code",
   "execution_count": null,
   "metadata": {},
   "outputs": [],
   "source": []
  }
 ],
 "metadata": {
  "kernelspec": {
   "display_name": "Python 3",
   "language": "python",
   "name": "python3"
  },
  "language_info": {
   "codemirror_mode": {
    "name": "ipython",
    "version": 3
   },
   "file_extension": ".py",
   "mimetype": "text/x-python",
   "name": "python",
   "nbconvert_exporter": "python",
   "pygments_lexer": "ipython3",
   "version": "3.6.3"
  }
 },
 "nbformat": 4,
 "nbformat_minor": 2
}
