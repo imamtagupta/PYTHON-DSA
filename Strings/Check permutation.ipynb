{
 "cells": [
  {
   "cell_type": "code",
   "execution_count": 2,
   "metadata": {},
   "outputs": [],
   "source": [
    "def isPermutation(string1, string2) :\n",
    "\n",
    "    NO_OF_CHARS = 256\n",
    "    count1 = [0] * NO_OF_CHARS\n",
    "    count2 = [0] * NO_OF_CHARS\n",
    "    for i in string1:\n",
    "        count1[ord(i)]+=1\n",
    "    for i in string2:\n",
    "        count2[ord(i)]+=1\n",
    "\n",
    "    if len(string1) != len(string2):\n",
    "        return False\n",
    "\n",
    "        # Compare count arrays\n",
    "    for i in range(NO_OF_CHARS):\n",
    "        if count1[i] != count2[i]:\n",
    "            return False\n",
    "    return True\n",
    "\n"
   ]
  },
  {
   "cell_type": "code",
   "execution_count": 3,
   "metadata": {},
   "outputs": [
    {
     "data": {
      "text/plain": [
       "True"
      ]
     },
     "execution_count": 3,
     "metadata": {},
     "output_type": "execute_result"
    }
   ],
   "source": [
    "isPermutation('abcs','csab')"
   ]
  },
  {
   "cell_type": "code",
   "execution_count": null,
   "metadata": {},
   "outputs": [],
   "source": []
  }
 ],
 "metadata": {
  "kernelspec": {
   "display_name": "Python 3",
   "language": "python",
   "name": "python3"
  },
  "language_info": {
   "codemirror_mode": {
    "name": "ipython",
    "version": 3
   },
   "file_extension": ".py",
   "mimetype": "text/x-python",
   "name": "python",
   "nbconvert_exporter": "python",
   "pygments_lexer": "ipython3",
   "version": "3.6.3"
  }
 },
 "nbformat": 4,
 "nbformat_minor": 2
}
