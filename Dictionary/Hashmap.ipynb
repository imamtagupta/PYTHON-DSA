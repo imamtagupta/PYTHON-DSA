{
 "cells": [
  {
   "cell_type": "code",
   "execution_count": 115,
   "outputs": [],
   "source": [
    "class MapNode:\n",
    "    def __init__(self, key, value):\n",
    "        self.key = key\n",
    "        self.value = value\n",
    "        self.next = None\n",
    "\n",
    "\n",
    "class Map:\n",
    "    def __init__(self):\n",
    "        self.bucketSize = 5\n",
    "        self.bucket = [None for ele in range(self.bucketSize)]\n",
    "        self.count = 0\n",
    "\n",
    "    def __getBucketIndex(self, key):\n",
    "        return abs(hash(key)) % self.bucketSize\n",
    "\n",
    "    def getSize(self):\n",
    "        return self.count\n",
    "\n",
    "    def show(self):\n",
    "        for ele in range(self.bucketSize):\n",
    "            if self.bucket[ele]:\n",
    "                print(\"At\",ele, \"⤵\")\n",
    "                head = self.bucket[ele]\n",
    "                while head is not None:\n",
    "                    print(\"\\t\", head.key, \":\", head.value)\n",
    "                    # print(self.bucket[ele].key, \":\", self.bucket[ele].value)\n",
    "                    head = head.next\n",
    "\n",
    "    def insert(self, key, value):\n",
    "        index = self.__getBucketIndex(key)\n",
    "        curr = head = self.bucket[index]\n",
    "        while curr is not None:\n",
    "            if curr.key == key:\n",
    "                curr.value = value\n",
    "                return\n",
    "            curr = curr.next\n",
    "        # if key already doesn't exist then append to start\n",
    "        newNode = MapNode(key, value)\n",
    "        newNode.next = head\n",
    "        # once pointer added insert into array\n",
    "        self.bucket[index] = newNode\n",
    "        # increment the size\n",
    "        self.count += 1\n",
    "        loadFactor = self.count / self.bucketSize\n",
    "        if loadFactor >= 0.7:\n",
    "            self.rehash()\n",
    "\n",
    "    def remove(self, key):\n",
    "        index = self.__getBucketIndex(key)\n",
    "        curr = self.bucket[index]\n",
    "        prev = None\n",
    "        while curr is not None:\n",
    "            if curr.key == key:\n",
    "                if not prev:\n",
    "                    self.bucket[index] = curr.next\n",
    "                else:\n",
    "                    prev.next = curr.next\n",
    "                    return curr.value\n",
    "                self.count -= 1\n",
    "            prev = curr\n",
    "            curr = curr.next\n",
    "        return None\n",
    "\n",
    "    def search(self, key):\n",
    "        index = self.__getBucketIndex(key)\n",
    "        curr = self.bucket[index]\n",
    "        while curr is not None:\n",
    "            if curr.key == key:\n",
    "                return curr.value\n",
    "            curr = curr.next\n",
    "        return -1\n",
    "\n",
    "    def rehash(self):\n",
    "        temp = self.bucket\n",
    "        self.bucketSize *= 2\n",
    "        self.bucket = [None for ele in range(self.bucketSize)]\n",
    "        self.count = 0\n",
    "        for head in temp:\n",
    "            while head:\n",
    "                self.insert(head.key, head.value)\n",
    "                head = head.next\n",
    "\n",
    "    def getLoadFactor(self) -> float:\n",
    "        return self.count / self.bucketSize\n"
   ],
   "metadata": {
    "collapsed": false
   }
  },
  {
   "cell_type": "code",
   "execution_count": 116,
   "outputs": [
    {
     "name": "stdout",
     "output_type": "stream",
     "text": [
      "0\n",
      "2\n",
      "5\n"
     ]
    }
   ],
   "source": [
    "hm = Map()\n",
    "print(hm.getSize())\n",
    "hm.insert(1, \"abc\")\n",
    "hm.insert(2, \"abe\")\n",
    "print(hm.getSize())\n",
    "hm.insert(11, \"def\")\n",
    "hm.insert(3, \"ttt\")\n",
    "hm.insert(133, \"qqq\")\n",
    "hm.insert(3, \"rrr\")\n",
    "print(hm.getSize())\n"
   ],
   "metadata": {
    "collapsed": false
   }
  },
  {
   "cell_type": "code",
   "execution_count": 117,
   "outputs": [
    {
     "data": {
      "text/plain": "('qqq', 'abc', 'rrr')"
     },
     "execution_count": 117,
     "metadata": {},
     "output_type": "execute_result"
    }
   ],
   "source": [
    "hm.search(133), hm.search(1), hm.search(3)"
   ],
   "metadata": {
    "collapsed": false
   }
  },
  {
   "cell_type": "code",
   "execution_count": 118,
   "outputs": [
    {
     "name": "stdout",
     "output_type": "stream",
     "text": [
      "At 1 ⤵\n",
      "\t 1 : abc\n",
      "\t 11 : def\n",
      "At 2 ⤵\n",
      "\t 2 : abe\n",
      "At 3 ⤵\n",
      "\t 133 : qqq\n",
      "\t 3 : rrr\n"
     ]
    }
   ],
   "source": [
    "hm.show()"
   ],
   "metadata": {
    "collapsed": false
   }
  },
  {
   "cell_type": "code",
   "execution_count": 119,
   "outputs": [],
   "source": [
    "hm.remove(1)\n",
    "hm.remove(133)"
   ],
   "metadata": {
    "collapsed": false
   }
  },
  {
   "cell_type": "code",
   "execution_count": 120,
   "outputs": [
    {
     "name": "stdout",
     "output_type": "stream",
     "text": [
      "At 1 ⤵\n",
      "\t 11 : def\n",
      "At 2 ⤵\n",
      "\t 2 : abe\n",
      "At 3 ⤵\n",
      "\t 3 : rrr\n"
     ]
    }
   ],
   "source": [
    "hm.show()"
   ],
   "metadata": {
    "collapsed": false
   }
  },
  {
   "cell_type": "code",
   "execution_count": 120,
   "outputs": [],
   "source": [],
   "metadata": {
    "collapsed": false
   }
  },
  {
   "cell_type": "markdown",
   "source": [
    "## Lets test rehashing"
   ],
   "metadata": {
    "collapsed": false
   }
  },
  {
   "cell_type": "code",
   "execution_count": 121,
   "outputs": [
    {
     "name": "stdout",
     "output_type": "stream",
     "text": [
      "0.2\n",
      "0.4\n",
      "0.6\n",
      "0.4\n",
      "0.5\n",
      "0.6\n",
      "0.35\n",
      "0.4\n",
      "0.45\n",
      "0.5\n"
     ]
    }
   ],
   "source": [
    "hm1 = Map()\n",
    "for i in range(10):\n",
    "    hm1.insert(\"abc\"+str(i), i)\n",
    "    print(hm1.getLoadFactor())\n"
   ],
   "metadata": {
    "collapsed": false
   }
  },
  {
   "cell_type": "code",
   "execution_count": 122,
   "outputs": [
    {
     "name": "stdout",
     "output_type": "stream",
     "text": [
      "abc0 : 0\n",
      "abc1 : 1\n",
      "abc2 : 2\n",
      "abc3 : 3\n",
      "abc4 : 4\n",
      "abc5 : 5\n",
      "abc6 : 6\n",
      "abc7 : 7\n",
      "abc8 : 8\n",
      "abc9 : 9\n"
     ]
    }
   ],
   "source": [
    "for i in range(10):\n",
    "    key = \"abc\"+str(i)\n",
    "\n",
    "    print(key, \":\", hm1.search(key))"
   ],
   "metadata": {
    "collapsed": false
   }
  },
  {
   "cell_type": "code",
   "execution_count": null,
   "outputs": [],
   "source": [],
   "metadata": {
    "collapsed": false
   }
  }
 ],
 "metadata": {
  "kernelspec": {
   "display_name": "Python 3",
   "language": "python",
   "name": "python3"
  },
  "language_info": {
   "codemirror_mode": {
    "name": "ipython",
    "version": 2
   },
   "file_extension": ".py",
   "mimetype": "text/x-python",
   "name": "python",
   "nbconvert_exporter": "python",
   "pygments_lexer": "ipython2",
   "version": "2.7.6"
  }
 },
 "nbformat": 4,
 "nbformat_minor": 0
}
