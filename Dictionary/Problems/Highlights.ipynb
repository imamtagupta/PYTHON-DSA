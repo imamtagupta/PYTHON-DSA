{
 "cells": [
  {
   "cell_type": "markdown",
   "source": [
    "## Extract Unique characters"
   ],
   "metadata": {
    "collapsed": false
   }
  },
  {
   "cell_type": "code",
   "execution_count": 97,
   "outputs": [
    {
     "data": {
      "text/plain": "'adbsf'"
     },
     "execution_count": 97,
     "metadata": {},
     "output_type": "execute_result"
    }
   ],
   "source": [
    "def uniqueChar(s):\n",
    "    s1 = \"\"\n",
    "    for x in s:\n",
    "        if x not in s1:\n",
    "            s1 += x\n",
    "    return s1\n",
    "\n",
    "uniqueChar(\"aadbsdfsdsddd\")"
   ],
   "metadata": {
    "collapsed": false
   }
  },
  {
   "cell_type": "markdown",
   "source": [
    "## longest consecutive sequence:\n",
    "[1,2,3,6,7,8] => (1,2,3), (6,7,8) => these two are consecutive sequence and thus we have to identify that then have get the largest one\n",
    "\n",
    "But in current scenario since 1 has occurred before 6 thus (1,2,3) is been considered."
   ],
   "metadata": {
    "collapsed": false
   }
  },
  {
   "cell_type": "code",
   "execution_count": 98,
   "outputs": [],
   "source": [
    "def longestConsecutiveSubsequence(arr,n):\n",
    "    visitedElements = {}\n",
    "    elementToIndexMapping = {}\n",
    "    for i in range(n):\n",
    "        elementToIndexMapping[arr[i]] = i\n",
    "        if arr[i] not in visitedElements:\n",
    "            visitedElements[arr[i]]=True\n",
    "\n",
    "    longestSequence=[]\n",
    "    maxSequenceLength = 1\n",
    "    minStartIndex = 0\n",
    "\n",
    "    for i in range(n):\n",
    "        num = arr[i]\n",
    "        currentMinStartIndex = i\n",
    "        count = 0\n",
    "        tempNum = num\n",
    "\n",
    "        while tempNum in visitedElements and visitedElements[tempNum]==True:\n",
    "            visitedElements[tempNum] = False\n",
    "            count+=1\n",
    "            tempNum+=1\n",
    "\n",
    "        tempNum = num - 1\n",
    "        while tempNum in visitedElements and visitedElements[tempNum]==True:\n",
    "            visitedElements[tempNum] = False\n",
    "            count+=1\n",
    "            currentMinStartIndex = elementToIndexMapping[tempNum]\n",
    "            tempNum-=1\n",
    "\n",
    "        if (count > maxSequenceLength):\n",
    "            maxSequenceLength = count\n",
    "            minStartIndex = currentMinStartIndex\n",
    "        elif (count == maxSequenceLength):\n",
    "            if (currentMinStartIndex < minStartIndex):\n",
    "                minStartIndex = currentMinStartIndex\n",
    "\n",
    "    startNum = arr[minStartIndex]\n",
    "\n",
    "    longestSequence.append(startNum)\n",
    "    if (maxSequenceLength > 1):\n",
    "        longestSequence.append(startNum + maxSequenceLength - 1)\n",
    "\n",
    "\n",
    "    return longestSequence"
   ],
   "metadata": {
    "collapsed": false
   }
  },
  {
   "cell_type": "markdown",
   "source": [
    "## Pairs with sum K"
   ],
   "metadata": {
    "collapsed": false
   }
  },
  {
   "cell_type": "code",
   "execution_count": 99,
   "outputs": [
    {
     "name": "stdout",
     "output_type": "stream",
     "text": [
      "{5: 1, 2: 1} 1\n",
      "{5: 1, 2: 1, 4: 1} 2\n",
      "2\n"
     ]
    }
   ],
   "source": [
    "def getPairsCount(arr, n, sum):\n",
    "    unordered_map = {}\n",
    "    count = 0\n",
    "    for i in range(n):\n",
    "        if sum - arr[i] in unordered_map:\n",
    "            count += unordered_map[sum - arr[i]]\n",
    "            print(unordered_map, count)\n",
    "        if arr[i] in unordered_map:\n",
    "            unordered_map[arr[i]] += 1\n",
    "        else:\n",
    "            unordered_map[arr[i]] = 1\n",
    "    return count\n",
    "\n",
    "a1 = [5,2,4,1]\n",
    "print(getPairsCount(a1, 4, 6))"
   ],
   "metadata": {
    "collapsed": false
   }
  },
  {
   "cell_type": "markdown",
   "source": [
    "## Pairs with difference K"
   ],
   "metadata": {
    "collapsed": false
   }
  },
  {
   "cell_type": "code",
   "execution_count": 100,
   "outputs": [
    {
     "name": "stdout",
     "output_type": "stream",
     "text": [
      "2\n"
     ]
    }
   ],
   "source": [
    "def printPairDiffK(l, k):\n",
    "    unordered_map = {}\n",
    "    count = 0\n",
    "    for i in range(len(l)):\n",
    "        if (k + l[i]) in unordered_map:\n",
    "            count += unordered_map[k + l[i]]\n",
    "        if k!=0 and l[i]-k in unordered_map:\n",
    "            count += unordered_map[l[i]-k ]\n",
    "        if l[i] in unordered_map:\n",
    "            unordered_map[l[i]] += 1\n",
    "        else:\n",
    "            unordered_map[l[i]] = 1\n",
    "    return count\n",
    "\n",
    "a1 = [5,1,2,4]\n",
    "print(printPairDiffK(a1,3))"
   ],
   "metadata": {
    "collapsed": false
   }
  },
  {
   "cell_type": "markdown",
   "source": [
    "## Longest subset zero sum"
   ],
   "metadata": {
    "collapsed": false
   }
  },
  {
   "cell_type": "code",
   "execution_count": 96,
   "outputs": [
    {
     "data": {
      "text/plain": "5"
     },
     "execution_count": 96,
     "metadata": {},
     "output_type": "execute_result"
    }
   ],
   "source": [
    "def subsetSum(l):\n",
    "    n = len(l)\n",
    "    maxLen = currSum = 0\n",
    "    unordered_map = {}\n",
    "    for i in range(n):\n",
    "        currSum += l[i]\n",
    "        if currSum == 0:\n",
    "            maxLen = i+1\n",
    "\n",
    "        if currSum in unordered_map:\n",
    "            maxLen = max(maxLen, i-unordered_map[currSum])\n",
    "        else:\n",
    "            unordered_map[currSum] = i\n",
    "\n",
    "    return maxLen\n",
    "\n",
    "subsetSum([95, -97, -387, -435, -5, -70, 897, 127, 23, 284])"
   ],
   "metadata": {
    "collapsed": false
   }
  },
  {
   "cell_type": "code",
   "execution_count": null,
   "outputs": [],
   "source": [],
   "metadata": {
    "collapsed": false
   }
  }
 ],
 "metadata": {
  "kernelspec": {
   "display_name": "Python 3",
   "language": "python",
   "name": "python3"
  },
  "language_info": {
   "codemirror_mode": {
    "name": "ipython",
    "version": 2
   },
   "file_extension": ".py",
   "mimetype": "text/x-python",
   "name": "python",
   "nbconvert_exporter": "python",
   "pygments_lexer": "ipython2",
   "version": "2.7.6"
  }
 },
 "nbformat": 4,
 "nbformat_minor": 0
}
