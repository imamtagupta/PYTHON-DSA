{
 "cells": [
  {
   "cell_type": "code",
   "execution_count": 1,
   "metadata": {},
   "outputs": [],
   "source": [
    "class TreeNode:\n",
    "    def __init__(self, val):\n",
    "        self.val = val\n",
    "        self.left = None\n",
    "        self.right = None\n",
    "    \n",
    "    @staticmethod\n",
    "    def parse_tuple(tup):\n",
    "        if tup is None:\n",
    "            node = None\n",
    "        elif (isinstance(tup, tuple)) and (len(tup) == 3):\n",
    "            node = TreeNode(tup[1])\n",
    "            node.left = TreeNode.parse_tuple(tup[0])\n",
    "            node.right = TreeNode.parse_tuple(tup[2])\n",
    "        else:\n",
    "            node = TreeNode(tup)\n",
    "        return node\n",
    "        \n",
    "    def to_tuple(self):\n",
    "        if self is None:\n",
    "            return None\n",
    "        elif self.left is None and self.right is None:\n",
    "            return self.val\n",
    "        else:\n",
    "            return TreeNode.to_tuple(self.left), self.val, TreeNode.to_tuple(self.right)\n",
    "        \n",
    "\n",
    "    def __str__(self):\n",
    "        return \"BinaryTree <{}>\".format(self.to_tuple())\n",
    "    \n",
    "    def __repr__(self):\n",
    "        return \"BinaryTree <{}>\".format(self.to_tuple())\n",
    "    \n",
    "    def display(self, space='\\t', level=0):\n",
    "        if self is None:\n",
    "            print((space*level)+'∅')\n",
    "            return\n",
    "        if self.left is None and self.right is None:\n",
    "            print((space*level)+str(self.val))\n",
    "            return\n",
    "        \n",
    "        TreeNode.display(self.right, space, level+1)\n",
    "        print((space*level)+str(self.val))\n",
    "        TreeNode.display(self.left, space, level+1)\n",
    "        \n",
    "        \n",
    "    def height(self):\n",
    "        return 0 if not self else 1+max(TreeNode.height(self.left), TreeNode.height(self.right))\n",
    "    \n",
    "    def size(self):\n",
    "        return 0 if not self else 1+TreeNode.size(self.left) + TreeNode.size(self.right)\n",
    "    \n",
    "    def traverse_in_order(self):\n",
    "        if self is None:\n",
    "            return []\n",
    "        return (TreeNode.traverse_in_order(self.left) + [self.val] + TreeNode.traverse_in_order(self.right))\n",
    "    \n",
    "    def traverse_pre_order(self):\n",
    "        if self is None:\n",
    "            return []\n",
    "        return ([self.val] + TreeNode.traverse_in_order(self.left) + TreeNode.traverse_in_order(self.right))\n",
    "    \n",
    "    def traverse_post_order(self):\n",
    "        if self is None:\n",
    "            return []\n",
    "        return (TreeNode.traverse_in_order(self.left) + TreeNode.traverse_in_order(self.right) + [self.val])\n",
    "    \n"
   ]
  },
  {
   "cell_type": "code",
   "execution_count": null,
   "metadata": {},
   "outputs": [],
   "source": []
  },
  {
   "cell_type": "code",
   "execution_count": 5,
   "metadata": {},
   "outputs": [
    {
     "name": "stdout",
     "output_type": "stream",
     "text": [
      "\t\t5\n",
      "\t3\n",
      "\t\t∅\n",
      "1\n",
      "\t∅\n",
      "\n",
      " Balanced BST \n",
      "\n",
      "inordered: [1, 3, 5]\n",
      "\t5\n",
      "3\n",
      "\t1\n"
     ]
    }
   ],
   "source": [
    "data = (None, 1,(None, 3, (None, 5, None)))\n",
    "data = TreeNode.parse_tuple(data)\n",
    "data.display()\n",
    "print('\\n Balanced BST \\n')\n",
    "balancedBST(data).display()"
   ]
  },
  {
   "cell_type": "code",
   "execution_count": 3,
   "metadata": {},
   "outputs": [],
   "source": [
    "# To check if it is balanced or not?\n",
    "\n",
    "def isBalanced(root):\n",
    "    if root is None:\n",
    "        return True, 0\n",
    "    isBalancedLeft, heightLeft = isBalanced(root.left)\n",
    "    isBalancedRight, heightRight = isBalanced(root.right)\n",
    "    \n",
    "    Balanced = isBalancedLeft and isBalancedRight and (abs(heightLeft - heightRight) <= 1)\n",
    "    height = 1 + max(heightLeft, heightRight)\n",
    "    return Balanced, height"
   ]
  },
  {
   "cell_type": "code",
   "execution_count": 4,
   "metadata": {},
   "outputs": [
    {
     "name": "stdout",
     "output_type": "stream",
     "text": [
      "\t\t\t8\n",
      "\t\t7\n",
      "\t\t\t∅\n",
      "\t6\n",
      "\t\t5\n",
      "4\n",
      "\t\t\t3\n",
      "\t\t2\n",
      "\t\t\t∅\n",
      "\t1\n",
      "\t\t0\n",
      "\n",
      " Balanced BST \n",
      "\n"
     ]
    },
    {
     "data": {
      "text/plain": [
       "(True, 4)"
      ]
     },
     "execution_count": 4,
     "metadata": {},
     "output_type": "execute_result"
    }
   ],
   "source": [
    "data = (((None, 0, None), 1, (None, 2, 3)), 4, (5, 6, (None, 7, 8)))\n",
    "\n",
    "data = TreeNode.parse_tuple(data)\n",
    "\n",
    "data.display()\n",
    "\n",
    "print('\\n Balanced BST \\n')\n",
    "isBalanced(data)\n"
   ]
  },
  {
   "cell_type": "code",
   "execution_count": 42,
   "metadata": {},
   "outputs": [],
   "source": [
    "# To check if it is balanced or not?\n",
    "\n",
    "def isComplete(root):\n",
    "    if root is None:\n",
    "        return True, 0\n",
    "    isBalancedLeft, heightLeft = isComplete(root.left)\n",
    "    isBalancedRight, heightRight = isComplete(root.right)\n",
    "    Balanced = isBalancedLeft and isBalancedRight and ((heightLeft - heightRight) == 0)\n",
    "    height = 1 + max(heightLeft, heightRight)\n",
    "    return Balanced, height"
   ]
  },
  {
   "cell_type": "code",
   "execution_count": 43,
   "metadata": {},
   "outputs": [
    {
     "name": "stdout",
     "output_type": "stream",
     "text": [
      "\t\t6\n",
      "\t3\n",
      "\t\t∅\n",
      "1\n",
      "\t\t5\n",
      "\t2\n",
      "\t\t4\n",
      "\n",
      " Balanced BST \n",
      "\n"
     ]
    },
    {
     "data": {
      "text/plain": [
       "(False, 3)"
      ]
     },
     "execution_count": 43,
     "metadata": {},
     "output_type": "execute_result"
    }
   ],
   "source": [
    "data = (((None, 4, None), 2, (None, 5, None)), 1, (None, 3, (None, 6, None)))\n",
    "\n",
    "data = TreeNode.parse_tuple(data)\n",
    "\n",
    "data.display()\n",
    "\n",
    "print('\\n Balanced BST \\n')\n",
    "isComplete(data)\n"
   ]
  },
  {
   "cell_type": "code",
   "execution_count": 44,
   "metadata": {},
   "outputs": [
    {
     "name": "stdout",
     "output_type": "stream",
     "text": [
      "\t\t∅\n",
      "\t3\n",
      "\t\t6\n",
      "1\n",
      "\t\t5\n",
      "\t2\n",
      "\t\t4\n",
      "\n",
      " Balanced BST \n",
      "\n"
     ]
    },
    {
     "data": {
      "text/plain": [
       "(False, 3)"
      ]
     },
     "execution_count": 44,
     "metadata": {},
     "output_type": "execute_result"
    }
   ],
   "source": [
    "data = (((None, 4, None), 2, (None, 5, None)), 1, ((None, 6, None), 3, None))\n",
    "\n",
    "data = TreeNode.parse_tuple(data)\n",
    "\n",
    "data.display()\n",
    "\n",
    "print('\\n Balanced BST \\n')\n",
    "isComplete(data)\n"
   ]
  },
  {
   "cell_type": "code",
   "execution_count": 45,
   "metadata": {},
   "outputs": [
    {
     "name": "stdout",
     "output_type": "stream",
     "text": [
      "\t\t8\n",
      "\t3\n",
      "\t\t7\n",
      "1\n",
      "\t\t∅\n",
      "\t2\n",
      "\t\t5\n",
      "\n",
      " Balanced BST \n",
      "\n"
     ]
    },
    {
     "data": {
      "text/plain": [
       "(False, 3)"
      ]
     },
     "execution_count": 45,
     "metadata": {},
     "output_type": "execute_result"
    }
   ],
   "source": [
    "data = (((None, 5, None), 2, None), 1, ((None,7, None), 3, (None, 8, None)))\n",
    "\n",
    "data = TreeNode.parse_tuple(data)\n",
    "\n",
    "data.display()\n",
    "\n",
    "print('\\n Balanced BST \\n')\n",
    "isComplete(data)\n"
   ]
  },
  {
   "cell_type": "code",
   "execution_count": null,
   "metadata": {},
   "outputs": [],
   "source": []
  },
  {
   "cell_type": "code",
   "execution_count": null,
   "metadata": {},
   "outputs": [],
   "source": []
  }
 ],
 "metadata": {
  "kernelspec": {
   "display_name": "Python 3",
   "language": "python",
   "name": "python3"
  },
  "language_info": {
   "codemirror_mode": {
    "name": "ipython",
    "version": 3
   },
   "file_extension": ".py",
   "mimetype": "text/x-python",
   "name": "python",
   "nbconvert_exporter": "python",
   "pygments_lexer": "ipython3",
   "version": "3.6.3"
  }
 },
 "nbformat": 4,
 "nbformat_minor": 2
}
