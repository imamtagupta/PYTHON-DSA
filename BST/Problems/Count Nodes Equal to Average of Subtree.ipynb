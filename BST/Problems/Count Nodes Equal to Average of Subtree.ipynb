{
 "cells": [
  {
   "cell_type": "code",
   "execution_count": 5,
   "metadata": {},
   "outputs": [],
   "source": [
    "class TreeNode:\n",
    "    def __init__(self, val):\n",
    "        self.val = val\n",
    "        self.left = None\n",
    "        self.right = None\n",
    "    \n",
    "    @staticmethod\n",
    "    def parse_tuple(tup):\n",
    "        if tup is None:\n",
    "            node = None\n",
    "        elif (isinstance(tup, tuple)) and (len(tup) == 3):\n",
    "            node = TreeNode(tup[1])\n",
    "            node.left = TreeNode.parse_tuple(tup[0])\n",
    "            node.right = TreeNode.parse_tuple(tup[2])\n",
    "        else:\n",
    "            node = TreeNode(tup)\n",
    "        return node\n",
    "        \n",
    "    def to_tuple(self):\n",
    "        if self is None:\n",
    "            return None\n",
    "        elif self.left is None and self.right is None:\n",
    "            return self.val\n",
    "        else:\n",
    "            return TreeNode.to_tuple(self.left), self.val, TreeNode.to_tuple(self.right)\n",
    "        \n",
    "\n",
    "    def __str__(self):\n",
    "        return \"BinaryTree <{}>\".format(self.to_tuple())\n",
    "    \n",
    "    def __repr__(self):\n",
    "        return \"BinaryTree <{}>\".format(self.to_tuple())\n",
    "    \n",
    "    def display(self, space='\\t', level=0):\n",
    "        if self is None:\n",
    "            print((space*level)+'∅')\n",
    "            return\n",
    "        if self.left is None and self.right is None:\n",
    "            print((space*level)+str(self.val))\n",
    "            return\n",
    "        \n",
    "        TreeNode.display(self.right, space, level+1)\n",
    "        print((space*level)+str(self.val))\n",
    "        TreeNode.display(self.left, space, level+1)\n",
    "        \n",
    "        \n",
    "    def height(self):\n",
    "        return 0 if not self else 1+max(TreeNode.height(self.left), TreeNode.height(self.right))\n",
    "    \n",
    "    def size(self):\n",
    "        return 0 if not self else 1+TreeNode.size(self.left) + TreeNode.size(self.right)\n",
    "    \n",
    "    def traverse_in_order(self):\n",
    "        if self is None:\n",
    "            return []\n",
    "        return (TreeNode.traverse_in_order(self.left) + [self.val] + TreeNode.traverse_in_order(self.right))\n",
    "    \n",
    "    def traverse_pre_order(self):\n",
    "        if self is None:\n",
    "            return []\n",
    "        return ([self.val] + TreeNode.traverse_in_order(self.left) + TreeNode.traverse_in_order(self.right))\n",
    "    \n",
    "    def traverse_post_order(self):\n",
    "        if self is None:\n",
    "            return []\n",
    "        return (TreeNode.traverse_in_order(self.left) + TreeNode.traverse_in_order(self.right) + [self.val])\n",
    "    \n"
   ]
  },
  {
   "cell_type": "code",
   "execution_count": 6,
   "metadata": {},
   "outputs": [],
   "source": [
    "data = ((0,8,1), 4, (None, 5, 6))"
   ]
  },
  {
   "cell_type": "code",
   "execution_count": 7,
   "metadata": {},
   "outputs": [],
   "source": [
    "data = TreeNode.parse_tuple(data)"
   ]
  },
  {
   "cell_type": "code",
   "execution_count": 8,
   "metadata": {
    "scrolled": false
   },
   "outputs": [
    {
     "name": "stdout",
     "output_type": "stream",
     "text": [
      "\t\t6\n",
      "\t5\n",
      "\t\t∅\n",
      "4\n",
      "\t\t1\n",
      "\t8\n",
      "\t\t0\n"
     ]
    }
   ],
   "source": [
    "data.display()"
   ]
  },
  {
   "cell_type": "code",
   "execution_count": 185,
   "metadata": {},
   "outputs": [],
   "source": [
    "def averageOfSubtree(node):\n",
    "    def getSubtreeSum(root, total):\n",
    "        if root is None:\n",
    "            return 0\n",
    "        total += root.val + getSubtreeSum(root.left, total) + getSubtreeSum(root.right, total)\n",
    "        return total\n",
    "    def getSubtreeCount(root, count):\n",
    "        if root is None:\n",
    "            return 0\n",
    "        count += 1 + getSubtreeCount(root.left, count) + getSubtreeCount(root.right, count)\n",
    "        return count\n",
    "    def getallsubtree(node, no_of_subtree):\n",
    "        no_of_leaves = 0\n",
    "        if node is None:\n",
    "            return 0\n",
    "        elif node.left is None and node.right is None:\n",
    "            return no_of_subtree+1\n",
    "        elif node.val == getSubtreeSum(node, 0)//getSubtreeCount(node, 0):\n",
    "            return 1 + getallsubtree(node.left, no_of_subtree) + getallsubtree(node.right, no_of_subtree)\n",
    "        else:\n",
    "            return getallsubtree(node.left, no_of_subtree) + getallsubtree(node.right, no_of_subtree)\n",
    "        return no_of_subtree\n",
    "    return getallsubtree(node, 0)\n",
    "            "
   ]
  },
  {
   "cell_type": "code",
   "execution_count": 186,
   "metadata": {},
   "outputs": [
    {
     "data": {
      "text/plain": [
       "5"
      ]
     },
     "execution_count": 186,
     "metadata": {},
     "output_type": "execute_result"
    }
   ],
   "source": [
    "averageOfSubtree(data)"
   ]
  },
  {
   "cell_type": "code",
   "execution_count": null,
   "metadata": {},
   "outputs": [],
   "source": []
  }
 ],
 "metadata": {
  "kernelspec": {
   "display_name": "Python 3",
   "language": "python",
   "name": "python3"
  },
  "language_info": {
   "codemirror_mode": {
    "name": "ipython",
    "version": 3
   },
   "file_extension": ".py",
   "mimetype": "text/x-python",
   "name": "python",
   "nbconvert_exporter": "python",
   "pygments_lexer": "ipython3",
   "version": "3.6.3"
  }
 },
 "nbformat": 4,
 "nbformat_minor": 2
}
