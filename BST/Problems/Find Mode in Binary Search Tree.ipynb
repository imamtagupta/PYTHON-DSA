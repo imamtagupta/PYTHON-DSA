{
 "cells": [
  {
   "cell_type": "code",
   "execution_count": 1,
   "metadata": {},
   "outputs": [],
   "source": [
    "class TreeNode:\n",
    "    def __init__(self, val):\n",
    "        self.val = val\n",
    "        self.left = None\n",
    "        self.right = None\n",
    "    \n",
    "    @staticmethod\n",
    "    def parse_tuple(tup):\n",
    "        if tup is None:\n",
    "            node = None\n",
    "        elif (isinstance(tup, tuple)) and (len(tup) == 3):\n",
    "            node = TreeNode(tup[1])\n",
    "            node.left = TreeNode.parse_tuple(tup[0])\n",
    "            node.right = TreeNode.parse_tuple(tup[2])\n",
    "        else:\n",
    "            node = TreeNode(tup)\n",
    "        return node\n",
    "        \n",
    "    def to_tuple(self):\n",
    "        if self is None:\n",
    "            return None\n",
    "        elif self.left is None and self.right is None:\n",
    "            return self.val\n",
    "        else:\n",
    "            return TreeNode.to_tuple(self.left), self.val, TreeNode.to_tuple(self.right)\n",
    "        \n",
    "\n",
    "    def __str__(self):\n",
    "        return \"BinaryTree <{}>\".format(self.to_tuple())\n",
    "    \n",
    "    def __repr__(self):\n",
    "        return \"BinaryTree <{}>\".format(self.to_tuple())\n",
    "    \n",
    "    def display(self, space='\\t', level=0):\n",
    "        if self is None:\n",
    "            print((space*level)+'∅')\n",
    "            return\n",
    "        if self.left is None and self.right is None:\n",
    "            print((space*level)+str(self.val))\n",
    "            return\n",
    "        \n",
    "        TreeNode.display(self.right, space, level+1)\n",
    "        print((space*level)+str(self.val))\n",
    "        TreeNode.display(self.left, space, level+1)\n",
    "        \n",
    "        \n",
    "    def height(self):\n",
    "        return 0 if not self else 1+max(TreeNode.height(self.left), TreeNode.height(self.right))\n",
    "    \n",
    "    def size(self):\n",
    "        return 0 if not self else 1+TreeNode.size(self.left) + TreeNode.size(self.right)\n",
    "    \n",
    "    def traverse_in_order(self):\n",
    "        if self is None:\n",
    "            return []\n",
    "        return (TreeNode.traverse_in_order(self.left) + [self.val] + TreeNode.traverse_in_order(self.right))\n",
    "    \n",
    "    def traverse_pre_order(self):\n",
    "        if self is None:\n",
    "            return []\n",
    "        return ([self.val] + TreeNode.traverse_in_order(self.left) + TreeNode.traverse_in_order(self.right))\n",
    "    \n",
    "    def traverse_post_order(self):\n",
    "        if self is None:\n",
    "            return []\n",
    "        return (TreeNode.traverse_in_order(self.left) + TreeNode.traverse_in_order(self.right) + [self.val])\n",
    "    "
   ]
  },
  {
   "cell_type": "code",
   "execution_count": 2,
   "metadata": {},
   "outputs": [
    {
     "name": "stdout",
     "output_type": "stream",
     "text": [
      "\t\t\t8\n",
      "\t\t7\n",
      "\t\t\t∅\n",
      "\t6\n",
      "\t\t5\n",
      "4\n",
      "\t\t\t3\n",
      "\t\t2\n",
      "\t\t\t∅\n",
      "\t1\n",
      "\t\t1\n"
     ]
    }
   ],
   "source": [
    "data = (((None, 1, None), 1, (None, 2, 3)), 4, (5, 6, (None, 7, 8)))\n",
    "\n",
    "data = TreeNode.parse_tuple(data)\n",
    "\n",
    "data.display()"
   ]
  },
  {
   "cell_type": "code",
   "execution_count": 64,
   "metadata": {},
   "outputs": [],
   "source": [
    "ls = {}"
   ]
  },
  {
   "cell_type": "code",
   "execution_count": 65,
   "metadata": {},
   "outputs": [
    {
     "data": {
      "text/plain": [
       "{1: 2}"
      ]
     },
     "execution_count": 65,
     "metadata": {},
     "output_type": "execute_result"
    }
   ],
   "source": [
    "ls[1]=2\n",
    "ls"
   ]
  },
  {
   "cell_type": "code",
   "execution_count": 77,
   "metadata": {},
   "outputs": [],
   "source": [
    "if ls.get(3):\n",
    "    print(ls.get(3))\n",
    "ls[1] = ls.get(1)+1"
   ]
  },
  {
   "cell_type": "code",
   "execution_count": 87,
   "metadata": {},
   "outputs": [
    {
     "data": {
      "text/plain": [
       "5"
      ]
     },
     "execution_count": 87,
     "metadata": {},
     "output_type": "execute_result"
    }
   ],
   "source": [
    "ls[1]"
   ]
  },
  {
   "cell_type": "code",
   "execution_count": 41,
   "metadata": {},
   "outputs": [
    {
     "data": {
      "text/plain": [
       "4"
      ]
     },
     "execution_count": 41,
     "metadata": {},
     "output_type": "execute_result"
    }
   ],
   "source": [
    "ls.get('a')+1"
   ]
  },
  {
   "cell_type": "code",
   "execution_count": 182,
   "metadata": {},
   "outputs": [],
   "source": [
    "def findMode(node):\n",
    "    mode_list = {}\n",
    "    \n",
    "\n",
    "    def findOccurence(node, count=1):\n",
    "        if node is None:\n",
    "            return\n",
    "        elif mode_list.get(node.val) is not None:\n",
    "            mode_list[node.val] = mode_list[node.val]+1\n",
    "        else:\n",
    "            mode_list[node.val] = count\n",
    "        findOccurence(node.left)\n",
    "        findOccurence(node.right)\n",
    "        \n",
    "    findOccurence(node)\n",
    "    sortdict = dict(sorted(mode_list.items(), key=lambda x: x[1], reverse=True))\n",
    "    maxVal = list(sortdict.values())[0]\n",
    "    final = [x for x in sortdict.keys() if sortdict[x]  == maxVal]\n",
    "    return final"
   ]
  },
  {
   "cell_type": "code",
   "execution_count": 183,
   "metadata": {},
   "outputs": [
    {
     "data": {
      "text/plain": [
       "[1]"
      ]
     },
     "execution_count": 183,
     "metadata": {},
     "output_type": "execute_result"
    }
   ],
   "source": [
    "findMode(data)"
   ]
  },
  {
   "cell_type": "code",
   "execution_count": null,
   "metadata": {},
   "outputs": [],
   "source": []
  }
 ],
 "metadata": {
  "kernelspec": {
   "display_name": "Python 3",
   "language": "python",
   "name": "python3"
  },
  "language_info": {
   "codemirror_mode": {
    "name": "ipython",
    "version": 3
   },
   "file_extension": ".py",
   "mimetype": "text/x-python",
   "name": "python",
   "nbconvert_exporter": "python",
   "pygments_lexer": "ipython3",
   "version": "3.6.3"
  }
 },
 "nbformat": 4,
 "nbformat_minor": 2
}
