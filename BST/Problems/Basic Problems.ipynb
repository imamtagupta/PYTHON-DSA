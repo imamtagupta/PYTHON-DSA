{
 "cells": [
  {
   "cell_type": "markdown",
   "source": [
    "## Search In BST"
   ],
   "metadata": {
    "collapsed": false
   }
  },
  {
   "cell_type": "code",
   "execution_count": 1,
   "metadata": {
    "collapsed": true
   },
   "outputs": [],
   "source": [
    "def searchInBST(root, k):\n",
    "    if not root:\n",
    "        return False\n",
    "    if root.data == k:\n",
    "        return True\n",
    "    if k < root.data:\n",
    "        return searchInBST(root.left, k)\n",
    "    return searchInBST(root.right, k)"
   ]
  },
  {
   "cell_type": "markdown",
   "source": [
    "## Elements Between K1 and K2"
   ],
   "metadata": {
    "collapsed": false
   }
  },
  {
   "cell_type": "code",
   "execution_count": null,
   "outputs": [],
   "source": [
    "def elementsInRangeK1K2(root, k1, k2, lst=[]):\n",
    "    if not root:\n",
    "        return\n",
    "    if root.data > k2:\n",
    "        elementsInRangeK1K2(root.left, k1, k2, lst)\n",
    "    elif root.data < k1:\n",
    "        elementsInRangeK1K2(root.right, k1, k2, lst)\n",
    "    else:\n",
    "        elementsInRangeK1K2(root.left, k1, k2, lst)\n",
    "        print(root.data, end=\" \")\n",
    "        elementsInRangeK1K2(root.right, k1, k2, lst)"
   ],
   "metadata": {
    "collapsed": false
   }
  },
  {
   "cell_type": "markdown",
   "source": [
    "## Construct BST using Sorted array"
   ],
   "metadata": {
    "collapsed": false
   }
  },
  {
   "cell_type": "code",
   "execution_count": 2,
   "outputs": [],
   "source": [
    "def constructBST(lst):\n",
    "    n = len(lst)\n",
    "    if not lst:\n",
    "        return\n",
    "    mid = (n-1) // 2\n",
    "    root = BinaryTreeNode(lst[mid])\n",
    "    root.left = constructBST(lst[:mid])\n",
    "    root.right = constructBST(lst[mid+1:])\n",
    "    return root"
   ],
   "metadata": {
    "collapsed": false
   }
  },
  {
   "cell_type": "markdown",
   "source": [
    "## BST or not?"
   ],
   "metadata": {
    "collapsed": false
   }
  },
  {
   "cell_type": "code",
   "execution_count": 6,
   "outputs": [],
   "source": [
    "def minTree(root):\n",
    "    if not root:\n",
    "        return 100000\n",
    "    return max(root.data, minTree(root.left), minTree(root.right))\n",
    "\n",
    "def maxTree(root):\n",
    "    if not root:\n",
    "        return -100000\n",
    "    return min(root.data, maxTree(root.left), maxTree(root.right))\n",
    "def isBST(root):\n",
    "    if not root:\n",
    "        return True\n",
    "    if minTree(root) < root.data < maxTree(root):\n",
    "        return True\n",
    "    return isBST(root.left) and isBST(root.right)"
   ],
   "metadata": {
    "collapsed": false
   }
  },
  {
   "cell_type": "markdown",
   "source": [
    "TC : O(n^2) =>\n",
    "find maxima and minima - n/2 ,\n",
    "traversing and checking at every node - n"
   ],
   "metadata": {
    "collapsed": false
   }
  },
  {
   "cell_type": "code",
   "execution_count": 7,
   "outputs": [],
   "source": [
    "## Optimised isBST"
   ],
   "metadata": {
    "collapsed": false
   }
  },
  {
   "cell_type": "code",
   "execution_count": 8,
   "outputs": [],
   "source": [
    "def isBST2(root):\n",
    "    if not root:\n",
    "        return 100000, -100000, True\n",
    "\n",
    "    leftMin, leftMax, isLeftBST = isBST2(root.left)\n",
    "    rightMin, rightMax, isRightBST = isBST2(root.right)\n",
    "\n",
    "    isTreeBST = True\n",
    "    minimum = min(root.data, leftMin, rightMin)\n",
    "    maximum = max(root.data, leftMax, rightMax)\n",
    "\n",
    "    if root.data <= leftMax and root.data > rightMax:\n",
    "        isTreeBST = False\n",
    "    if not(isLeftBST) or not(isRightBST):\n",
    "        isTreeBST = False\n",
    "\n",
    "    return minimum, maximum, isTreeBST"
   ],
   "metadata": {
    "collapsed": false
   }
  },
  {
   "cell_type": "markdown",
   "source": [
    "Best Case = O(logn)\n",
    "Worst Case = O(n)"
   ],
   "metadata": {
    "collapsed": false
   }
  },
  {
   "cell_type": "markdown",
   "source": [
    "## different way of finding isBST"
   ],
   "metadata": {
    "collapsed": false
   }
  },
  {
   "cell_type": "code",
   "execution_count": 10,
   "outputs": [],
   "source": [
    "def isBST3(root, minRange, maxRange):\n",
    "    if not root:\n",
    "        return\n",
    "    if minRange > root.data or root.data > maxRange:\n",
    "        return False\n",
    "\n",
    "    isLeftConstraints = isBST3(root.left, minRange, root.data-1)\n",
    "    isRightConstraints = isBST3(root.right, root.data, maxRange)\n",
    "\n",
    "    return isLeftConstraints and isRightConstraints\n"
   ],
   "metadata": {
    "collapsed": false
   }
  },
  {
   "cell_type": "code",
   "execution_count": null,
   "outputs": [],
   "source": [],
   "metadata": {
    "collapsed": false
   }
  }
 ],
 "metadata": {
  "kernelspec": {
   "display_name": "Python 3",
   "language": "python",
   "name": "python3"
  },
  "language_info": {
   "codemirror_mode": {
    "name": "ipython",
    "version": 2
   },
   "file_extension": ".py",
   "mimetype": "text/x-python",
   "name": "python",
   "nbconvert_exporter": "python",
   "pygments_lexer": "ipython2",
   "version": "2.7.6"
  }
 },
 "nbformat": 4,
 "nbformat_minor": 0
}
