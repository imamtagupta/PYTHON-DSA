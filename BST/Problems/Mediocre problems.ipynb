{
 "cells": [
  {
   "cell_type": "code",
   "execution_count": 2,
   "outputs": [
    {
     "name": "stdout",
     "output_type": "stream",
     "text": [
      "1 L :  2 R :  5 \n",
      "2 L :  3 R :  4 \n",
      "3 \n",
      "4 \n",
      "5 L :  6 \n",
      "6 \n"
     ]
    }
   ],
   "source": [
    "class Node:\n",
    "    def __init__(self, data):\n",
    "        self.data = data\n",
    "        self.left = None\n",
    "        self.right = None\n",
    "\n",
    "\n",
    "def BTthroughInput():\n",
    "    data = int(input())\n",
    "    if data == -1:\n",
    "        return None\n",
    "    root = Node(data)\n",
    "    leftTree = BTthroughInput()\n",
    "    rightTree = BTthroughInput()\n",
    "    root.left = leftTree\n",
    "    root.right = rightTree\n",
    "    return root\n",
    "\n",
    "\n",
    "def displayBT(root):\n",
    "    if not root:\n",
    "        return None\n",
    "    print(root.data, end=\" \")\n",
    "    if root.left:\n",
    "        print(\"L : \", root.left.data, end=\" \")\n",
    "\n",
    "    if root.right:\n",
    "        print(\"R : \", root.right.data, end=\" \")\n",
    "    print()\n",
    "    displayBT(root.left)\n",
    "    displayBT(root.right)\n",
    "\n",
    "\n",
    "bt = BTthroughInput()\n",
    "displayBT(bt)"
   ],
   "metadata": {
    "collapsed": false
   }
  },
  {
   "cell_type": "markdown",
   "source": [
    "## Root to Leaf Path"
   ],
   "metadata": {
    "collapsed": false
   }
  },
  {
   "cell_type": "code",
   "execution_count": 19,
   "outputs": [
    {
     "name": "stdout",
     "output_type": "stream",
     "text": [
      "[6, 5, 1]\n"
     ]
    }
   ],
   "source": [
    "# Find give element first and then return path to reach from root.\n",
    "def rootToLeafPath(root, k):\n",
    "    if not root:\n",
    "        return\n",
    "    if root.data == k:\n",
    "        return [root.data]\n",
    "    leftSearch = rootToLeafPath(root.left, k)\n",
    "    if leftSearch:\n",
    "        leftSearch.append(root.data)\n",
    "        return leftSearch\n",
    "    rightSearch = rootToLeafPath(root.right, k)\n",
    "    if rightSearch:\n",
    "        rightSearch.append(root.data)\n",
    "        return rightSearch\n",
    "    return\n",
    "print(rootToLeafPath(bt, 6))"
   ],
   "metadata": {
    "collapsed": false
   }
  }
 ],
 "metadata": {
  "kernelspec": {
   "display_name": "Python 3",
   "language": "python",
   "name": "python3"
  },
  "language_info": {
   "codemirror_mode": {
    "name": "ipython",
    "version": 2
   },
   "file_extension": ".py",
   "mimetype": "text/x-python",
   "name": "python",
   "nbconvert_exporter": "python",
   "pygments_lexer": "ipython2",
   "version": "2.7.6"
  }
 },
 "nbformat": 4,
 "nbformat_minor": 0
}
