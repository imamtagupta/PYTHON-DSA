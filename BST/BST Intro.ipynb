{
 "cells": [
  {
   "cell_type": "code",
   "execution_count": 1,
   "metadata": {},
   "outputs": [],
   "source": [
    "class TreeNode:\n",
    "    def __init__(self, val):\n",
    "        self.val = val\n",
    "        self.left = None\n",
    "        self.right = None\n",
    "    \n",
    "    def add_element(self, element):\n",
    "        if self.val  == element:\n",
    "            return\n",
    "        elif self.val > element:\n",
    "            # insert into left subtree\n",
    "            if self.left:\n",
    "                return self.left.add_element(element)\n",
    "            self.left = TreeNode(element)\n",
    "            \n",
    "        elif self.val < element:\n",
    "            # insert into right subtree\n",
    "            if self.right:\n",
    "                return self.right.add_element(element)\n",
    "            self.right = TreeNode(element)\n",
    "            \n",
    "    def search_element(self, element):\n",
    "        if not self.val:\n",
    "            return False\n",
    "        if self.val == element:\n",
    "            return True\n",
    "        if self.val < element:\n",
    "            # element is in left subtree\n",
    "            return self.left.search_element(element)\n",
    "        return self.right.search_element(element)\n",
    "    \n",
    "    def delete_element(self, element):\n",
    "        if element < self.val:\n",
    "            if self.left:\n",
    "                self.left = self.left.delete_element(element)\n",
    "        elif element > self.val:\n",
    "            if self.right:\n",
    "                self.right = self.right.delete_element(element)\n",
    "        else:\n",
    "            # found matching node with 0 children\n",
    "            if self.left is None and self.right is None:\n",
    "                return None\n",
    "            if self.left is None:\n",
    "                return self.right \n",
    "\n",
    "            if self.right is None:\n",
    "                return self.left \n",
    "            \n",
    "            minVal = self.right.findMin()\n",
    "            print(minVal)\n",
    "            self.val = minVal\n",
    "            self.right = self.right.delete_element(minVal)\n",
    "        return self\n",
    "    \n",
    "                \n",
    "        \n",
    "        \n",
    "    def traverse_in_order(self):\n",
    "        if self is None:\n",
    "            return []\n",
    "        return TreeNode.traverse_in_order(self.left)+[self.val]+ TreeNode.traverse_in_order(self.right)\n",
    "    \n",
    "    def traverse_pre_order(self):\n",
    "        if self is None:\n",
    "            return []\n",
    "        return [self.val] + TreeNode.traverse_in_order(self.left) + TreeNode.traverse_in_order(self.right)\n",
    "    \n",
    "    def traverse_post_order(self):\n",
    "        if self is None:\n",
    "            return []\n",
    "        return TreeNode.traverse_in_order(self.left) + TreeNode.traverse_in_order(self.right) + [self.val]\n",
    "    \n",
    "    def findMin(self):\n",
    "        if self.left is None:\n",
    "            return self.val\n",
    "        return self.left.findMin()\n",
    "    \n",
    "    def findMax(self):\n",
    "        if self.right is None:\n",
    "            return self.val\n",
    "        return self.right.findMax()\n",
    "    "
   ]
  },
  {
   "cell_type": "code",
   "execution_count": 2,
   "metadata": {},
   "outputs": [],
   "source": [
    "def buildTree(listOfElements):\n",
    "    elements = TreeNode(listOfElements[0])\n",
    "    for i in listOfElements:\n",
    "         elements.add_element(i)\n",
    "    return elements"
   ]
  },
  {
   "cell_type": "code",
   "execution_count": 3,
   "metadata": {},
   "outputs": [],
   "source": [
    "elmentsList = [2,5,8,0]\n",
    "elmentsList = [17,4,1,20,9,23,18,34]\n"
   ]
  },
  {
   "cell_type": "code",
   "execution_count": 4,
   "metadata": {},
   "outputs": [
    {
     "data": {
      "text/plain": [
       "[1, 4, 9, 17, 18, 20, 23, 34]"
      ]
     },
     "execution_count": 4,
     "metadata": {},
     "output_type": "execute_result"
    }
   ],
   "source": [
    "data = buildTree(elmentsList)\n",
    "data.traverse_in_order()"
   ]
  },
  {
   "cell_type": "code",
   "execution_count": 5,
   "metadata": {},
   "outputs": [
    {
     "data": {
      "text/plain": [
       "False"
      ]
     },
     "execution_count": 5,
     "metadata": {},
     "output_type": "execute_result"
    }
   ],
   "source": [
    "data.search_element(10)"
   ]
  },
  {
   "cell_type": "code",
   "execution_count": 6,
   "metadata": {},
   "outputs": [
    {
     "data": {
      "text/plain": [
       "1"
      ]
     },
     "execution_count": 6,
     "metadata": {},
     "output_type": "execute_result"
    }
   ],
   "source": [
    "data.findMin()"
   ]
  },
  {
   "cell_type": "code",
   "execution_count": 7,
   "metadata": {},
   "outputs": [
    {
     "data": {
      "text/plain": [
       "34"
      ]
     },
     "execution_count": 7,
     "metadata": {},
     "output_type": "execute_result"
    }
   ],
   "source": [
    "data.findMax()"
   ]
  },
  {
   "cell_type": "code",
   "execution_count": 8,
   "metadata": {},
   "outputs": [
    {
     "name": "stdout",
     "output_type": "stream",
     "text": [
      "23\n"
     ]
    },
    {
     "data": {
      "text/plain": [
       "<__main__.TreeNode at 0x5ba2470>"
      ]
     },
     "execution_count": 8,
     "metadata": {},
     "output_type": "execute_result"
    }
   ],
   "source": [
    "data.delete_element(20)"
   ]
  },
  {
   "cell_type": "code",
   "execution_count": 9,
   "metadata": {},
   "outputs": [
    {
     "data": {
      "text/plain": [
       "[1, 4, 9, 17, 18, 23, 34]"
      ]
     },
     "execution_count": 9,
     "metadata": {},
     "output_type": "execute_result"
    }
   ],
   "source": [
    "data.traverse_in_order()"
   ]
  },
  {
   "cell_type": "code",
   "execution_count": null,
   "metadata": {},
   "outputs": [],
   "source": []
  },
  {
   "cell_type": "code",
   "execution_count": null,
   "metadata": {},
   "outputs": [],
   "source": []
  }
 ],
 "metadata": {
  "kernelspec": {
   "display_name": "Python 3",
   "language": "python",
   "name": "python3"
  },
  "language_info": {
   "codemirror_mode": {
    "name": "ipython",
    "version": 3
   },
   "file_extension": ".py",
   "mimetype": "text/x-python",
   "name": "python",
   "nbconvert_exporter": "python",
   "pygments_lexer": "ipython3",
   "version": "3.6.3"
  }
 },
 "nbformat": 4,
 "nbformat_minor": 2
}
